{
 "cells": [
  {
   "cell_type": "code",
   "execution_count": 1,
   "metadata": {},
   "outputs": [],
   "source": [
    "import pandas as pd\n",
    "import numpy as np\n",
    "import os\n",
    "\n",
    "import sys\n",
    "sys.path.insert(0, '../Modules/')\n",
    "\n",
    "import pose_estimation as pe"
   ]
  },
  {
   "cell_type": "code",
   "execution_count": 2,
   "metadata": {},
   "outputs": [],
   "source": [
    "directory = '../../../MEGA/Data/Kinect Zeno/Kinect processed'\n",
    "file_name = '2014-12-22_P007_Pre_004'\n",
    "\n",
    "load_path = os.path.join(directory, file_name)\n",
    "df = pd.read_pickle(load_path)"
   ]
  },
  {
   "cell_type": "code",
   "execution_count": 3,
   "metadata": {},
   "outputs": [],
   "source": [
    "part_types = ['HEAD', 'HIP', 'UPPER_LEG', 'KNEE', 'LOWER_LEG', 'FOOT']\n",
    "lengths = [63.9626,   19.3718,   12.8402,   22.0421,   20.5768]\n",
    "radii = [i for i in range(0, 30, 5)]\n",
    "\n",
    "edges = np.matrix('0 1;  \\\n",
    "                   1 2;  \\\n",
    "                   2 3;  \\\n",
    "                   3 4;  \\\n",
    "                   4 5;  \\\n",
    "                   3 5;  \\\n",
    "                   1 3')\n"
   ]
  },
  {
   "cell_type": "code",
   "execution_count": 19,
   "metadata": {},
   "outputs": [
    {
     "name": "stderr",
     "output_type": "stream",
     "text": [
      "../Modules/pose_estimation.py:201: RuntimeWarning: divide by zero encountered in double_scalars\n",
      "  ratio_func  = lambda a, b: 1.0 / gen.norm_ratio(a, b)\n"
     ]
    }
   ],
   "source": [
    "func = lambda x: pe.process_frame(x.to_dict(), part_types, edges, lengths, radii)\n",
    "best_pos_series = df.apply(func, axis=1)"
   ]
  },
  {
   "cell_type": "code",
   "execution_count": 50,
   "metadata": {},
   "outputs": [],
   "source": [
    "# Each row i is a tuple containing the best positions for frame i\n",
    "# Split each tuple into columns of a dataframe\n",
    "df_best_pos = pd.DataFrame(best_pos_series.values.tolist(), columns=['Side A', 'Side B'])"
   ]
  },
  {
   "cell_type": "code",
   "execution_count": 53,
   "metadata": {},
   "outputs": [
    {
     "data": {
      "text/plain": [
       "array([[ -45.0949 ,   66.0524 ,  238.755  ],\n",
       "       [ -41.7954 ,    3.83081,  229.941  ],\n",
       "       [ -43.2013 ,  -14.1134 ,  238.422  ],\n",
       "       [ -51.6022 ,  -22.7422 ,  245.998  ],\n",
       "       [ -62.4901 ,  -40.8276 ,  257.072  ],\n",
       "       [ -74.5273 ,  -58.4675 ,  260.805  ]])"
      ]
     },
     "execution_count": 53,
     "metadata": {},
     "output_type": "execute_result"
    }
   ],
   "source": [
    "df_best_pos.loc[624, 'Side A']"
   ]
  },
  {
   "cell_type": "code",
   "execution_count": 61,
   "metadata": {},
   "outputs": [],
   "source": [
    "# Extract the head and feet positions\n",
    "head_pos = df_best_pos['Side A'].apply(lambda row: row[0, :])\n",
    "L_foot_pos = df_best_pos['Side A'].apply(lambda row: row[-1, :])\n",
    "R_foot_pos = df_best_pos['Side B'].apply(lambda row: row[-1, :])\n",
    "\n",
    "# Combine into new dataframe\n",
    "df_head_feet = pd.concat([head_pos, L_foot_pos, R_foot_pos], axis=1) \n",
    "df_head_feet.columns = ['HEAD', 'L_FOOT', 'R_FOOT']\n",
    "df_head_feet.index.name = 'Frame'"
   ]
  },
  {
   "cell_type": "code",
   "execution_count": 63,
   "metadata": {},
   "outputs": [],
   "source": [
    "foot_dist = df_head_feet.apply(lambda row: np.linalg.norm(row['L_FOOT'] - row['R_FOOT']), axis=1)"
   ]
  },
  {
   "cell_type": "code",
   "execution_count": 68,
   "metadata": {},
   "outputs": [
    {
     "data": {
      "image/png": "[encoded data removed]",
      "text/plain": [
       "<matplotlib.figure.Figure at 0x6166aa9e8>"
      ]
     },
     "metadata": {},
     "output_type": "display_data"
    }
   ],
   "source": [
    "import matplotlib.pyplot as plt\n",
    "plt.plot(foot_dist)\n",
    "plt.show()"
   ]
  },
  {
   "cell_type": "code",
   "execution_count": null,
   "metadata": {},
   "outputs": [],
   "source": []
  }
 ],
 "metadata": {
  "kernelspec": {
   "display_name": "Python 3",
   "language": "python",
   "name": "python3"
  },
  "language_info": {
   "codemirror_mode": {
    "name": "ipython",
    "version": 3
   },
   "file_extension": ".py",
   "mimetype": "text/x-python",
   "name": "python",
   "nbconvert_exporter": "python",
   "pygments_lexer": "ipython3",
   "version": "3.6.4"
  }
 },
 "nbformat": 4,
 "nbformat_minor": 2
}
