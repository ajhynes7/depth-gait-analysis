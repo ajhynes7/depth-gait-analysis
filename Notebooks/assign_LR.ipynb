{
 "cells": [
  {
   "cell_type": "code",
   "execution_count": 1,
   "metadata": {},
   "outputs": [],
   "source": [
    "import pandas as pd\n",
    "import numpy as np\n",
    "import matplotlib.pyplot as plt\n",
    "import os\n",
    "from sklearn.cluster import KMeans\n",
    "\n",
    "import sys\n",
    "sys.path.insert(0, '../Modules/')\n",
    "sys.path.insert(0, '../Shared code/')\n",
    "/\n",
    "import pose_estimation as pe  # noqa (ignore PEP 8 style)\n",
    "from gait_metrics import gait_dataframe  # noqa\n",
    "from peakdet import peakdet  # noqa\n",
    "from general import mad_outliers\n",
    "\n",
    "# %% Read DataFrame\n",
    "\n",
    "directory = '../../../MEGA/Data/Kinect Zeno/Kinect processed'\n",
    "file_name = '2014-12-22_P007_Pre_004.pkl'\n",
    "\n",
    "load_path = os.path.join(directory, file_name)\n",
    "df = pd.read_pickle(load_path)\n",
    "\n",
    "\n",
    "# %% Parameters\n",
    "\n",
    "lower_part_types = ['HEAD', 'HIP', 'UPPER_LEG', 'KNEE', 'LOWER_LEG', 'FOOT']\n",
    "\n",
    "\n",
    "lengths = [62.1080, 20.1733, 14.1756, 19.4509, 20.4996]\n",
    "\n",
    "radii = [i for i in range(0, 30, 5)]\n",
    "\n",
    "edges = np.matrix('0 1; 1 2; 2 3; 3 4; 4 5; 3 5; 1 3')\n",
    "\n",
    "\n",
    "# %% Select positions\n",
    "\n",
    "# Find the best positions for each image frame\n",
    "best_pos_series = df.apply(lambda x: pe.process_frame(x.to_dict(),\n",
    "                           lower_part_types, edges, lengths, radii), axis=1)\n",
    "\n",
    "n_frames = len(df)\n",
    "for f in range(n_frames):\n",
    "    row = df.loc[f]\n",
    "\n",
    "    pe.process_frame(row.to_dict(), lower_part_types, edges, lengths, radii)\n",
    "\n",
    "\n",
    "# %% Extract head and foot positions\n",
    "\n",
    "# Each row i is a tuple containing the best positions for frame i\n",
    "# Split each tuple into columns of a DataFrame\n",
    "df_best_pos = pd.DataFrame(best_pos_series.values.tolist(),\n",
    "                           columns=['Side A', 'Side B'])\n",
    "\n",
    "df_best_pos = df_best_pos.dropna()\n",
    "\n",
    "# Extract the head and feet positions\n",
    "head_pos = df_best_pos['Side A'].apply(lambda row: row[0, :])\n",
    "L_foot_pos = df_best_pos['Side A'].apply(lambda row: row[-1, :])\n",
    "R_foot_pos = df_best_pos['Side B'].apply(lambda row: row[-1, :])\n",
    "\n",
    "# Combine into new DataFrame\n",
    "df_head_feet = pd.concat([head_pos, L_foot_pos, R_foot_pos], axis=1)\n",
    "df_head_feet.columns = ['HEAD', 'L_FOOT', 'R_FOOT']\n",
    "df_head_feet.index.name = 'Frame'\n",
    "\n",
    "\n",
    "# %% Remove outlier frames\n",
    "\n",
    "y_foot_L = df_head_feet.apply(lambda row: row['L_FOOT'][1], axis=1).values\n",
    "y_foot_R = df_head_feet.apply(lambda row: row['R_FOOT'][1], axis=1).values\n",
    "\n",
    "y_foot_L_filtered = mad_outliers(y_foot_L, 2)\n",
    "y_foot_R_filtered = mad_outliers(y_foot_R, 2)\n",
    "\n",
    "good_frame_L = ~np.isnan(y_foot_L_filtered)\n",
    "good_frame_R = ~np.isnan(y_foot_R_filtered)\n",
    "\n",
    "df_head_feet = df_head_feet[good_frame_L & good_frame_R]\n",
    "\n",
    "\n",
    "# %% Gait metrics\n",
    "\n",
    "\n",
    "foot_dist = df_head_feet.apply(lambda row: np.linalg.norm(\n",
    "                               row['L_FOOT'] - row['R_FOOT']), axis=1)\n"
   ]
  },
  {
   "cell_type": "code",
   "execution_count": 86,
   "metadata": {},
   "outputs": [],
   "source": [
    "colors = ['b', 'r']\n",
    "\n",
    "for frame in range(600, 610):\n",
    "\n",
    "    points_A = df_best_pos.loc[frame].iloc[0]\n",
    "    points_B = df_best_pos.loc[frame].iloc[1]\n",
    "    \n",
    "    fig = plt.figure()\n",
    "    scatter_pos(fig, [points_A, points_B], colors)\n",
    "    plt.title('Frame {}'.format(frame))\n",
    "    "
   ]
  },
  {
   "cell_type": "code",
   "execution_count": 154,
   "metadata": {},
   "outputs": [],
   "source": [
    "# Cluster frames with k means to locate the 4 walking passes\n",
    "\n",
    "frames = foot_dist.index.values.reshape(-1, 1)\n",
    "k_means = KMeans(n_clusters=4, random_state=0).fit(frames)"
   ]
  },
  {
   "cell_type": "code",
   "execution_count": 156,
   "metadata": {},
   "outputs": [],
   "source": [
    "frame_labels = k_means.labels_\n"
   ]
  },
  {
   "cell_type": "code",
   "execution_count": 158,
   "metadata": {},
   "outputs": [],
   "source": [
    "group_0 = frame_labels==0"
   ]
  },
  {
   "cell_type": "code",
   "execution_count": 250,
   "metadata": {},
   "outputs": [],
   "source": [
    "# All positions on one walking pass\n",
    "head_points = np.stack(tuple(df_head_feet['HEAD'][group_0]))\n",
    "L_foot_points = np.stack(tuple(df_head_feet['L_FOOT'][group_0]))\n",
    "R_foot_points = np.stack(tuple(df_head_feet['R_FOOT'][group_0]))\n",
    "\n",
    "mean_foot_points = (L_foot_points + R_foot_points) / 2"
   ]
  },
  {
   "cell_type": "code",
   "execution_count": 293,
   "metadata": {},
   "outputs": [],
   "source": [
    "centroid, direction = best_fit_line(head_points)"
   ]
  },
  {
   "cell_type": "code",
   "execution_count": 311,
   "metadata": {},
   "outputs": [],
   "source": [
    "from linear_algebra import proj_point_plane\n",
    "\n",
    "# Project all head points onto the XZ plane\n",
    "plane_point = np.array([0, 0, 0])\n",
    "normal = np.array([0, 1, 0])\n",
    "\n",
    "head_points_proj = np.apply_along_axis(proj_point_plane, 1, head_points, plane_point, normal)\n",
    "\n",
    "L_foot_points_proj = np.apply_along_axis(proj_point_plane, 1, L_foot_points,\n",
    "                                         plane_point, normal)\n",
    "R_foot_points_proj = np.apply_along_axis(proj_point_plane, 1, R_foot_points,\n",
    "                                         plane_point, normal)\n"
   ]
  },
  {
   "cell_type": "code",
   "execution_count": 330,
   "metadata": {},
   "outputs": [],
   "source": [
    "from linear_algebra import angle_direction, dist_point_line\n",
    "\n",
    "def assign_LR(foot_A, foot_B, line_vector):\n",
    "    \n",
    "    # Up direction defined as positive y\n",
    "    up = np.array([0, 1, 0])  \n",
    "    \n",
    "    # Points on line\n",
    "    line_point_A = (foot_A + foot_B) / 2\n",
    "    line_point_B = line_point_A + line_vector\n",
    "    \n",
    "    cost_matrix  = np.zeros((2, 2))\n",
    "    \n",
    "    for i, foot in enumerate([foot_A, foot_B]):\n",
    "        \n",
    "        # Vector from mean foot position to current foot\n",
    "        target_direction = foot - line_point_A\n",
    "        \n",
    "        # Check if point is left or right of the line\n",
    "        x = angle_direction(target_direction, line_vector, up)\n",
    "        \n",
    "        if x != 0:\n",
    "            # The foot is on the left or right side\n",
    "            # (A value of 0 indicates that foot is neither left nor right)\n",
    "            \n",
    "            # Distance from foot to the line of best fit\n",
    "            distance = dist_point_line(foot, line_point_A, line_point_B)\n",
    "            \n",
    "            column = 0 if x == -1 else 0\n",
    "            cost_matrix[i, column] = cost_matrix[i, column] + distance\n",
    "    \n",
    "\n",
    "    return cost_matrix\n",
    "        \n",
    "        "
   ]
  },
  {
   "cell_type": "code",
   "execution_count": 331,
   "metadata": {},
   "outputs": [],
   "source": [
    "L_foot = L_foot_points_proj[0, :]\n",
    "R_foot = R_foot_points_proj[0, :]"
   ]
  },
  {
   "cell_type": "code",
   "execution_count": 332,
   "metadata": {},
   "outputs": [
    {
     "data": {
      "text/plain": [
       "array([[0.03838846, 0.        ],\n",
       "       [0.03838846, 0.        ]])"
      ]
     },
     "execution_count": 332,
     "metadata": {},
     "output_type": "execute_result"
    }
   ],
   "source": [
    "assign_LR(L_foot, R_foot, direction) "
   ]
  }
 ],
 "metadata": {
  "kernelspec": {
   "display_name": "Python 3",
   "language": "python",
   "name": "python3"
  },
  "language_info": {
   "codemirror_mode": {
    "name": "ipython",
    "version": 3
   },
   "file_extension": ".py",
   "mimetype": "text/x-python",
   "name": "python",
   "nbconvert_exporter": "python",
   "pygments_lexer": "ipython3",
   "version": "3.6.4"
  }
 },
 "nbformat": 4,
 "nbformat_minor": 2
}
