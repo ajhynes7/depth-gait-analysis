{
 "cells": [
  {
   "cell_type": "code",
   "execution_count": 51,
   "metadata": {},
   "outputs": [],
   "source": [
    "import os\n",
    "import pandas as pd\n",
    "import numpy as np\n",
    "\n",
    "# Number of columns for the position coordinates\n",
    "# Number should be sufficiently large and divisible by 3\n",
    "n_coord_cols = 90\n",
    "\n",
    "directory = '../../../MEGA/Data/Kinect Zeno/Kinect trials'\n",
    "file_name = '2014-12-22_P007_Pre_004.txt'\n",
    "\n",
    "path = os.path.join(directory, file_name)\n",
    "\n",
    "df = pd.read_csv(path, skiprows=range(22),\\\n",
    "                header=None, names = [i for i in range(-2, n_coord_cols)], sep='\\t', engine='python')\n",
    "\n",
    "# Change some column names\n",
    "df.rename(columns={-2: 'Frame', -1: 'Part'}, inplace=True)"
   ]
  },
  {
   "cell_type": "code",
   "execution_count": 52,
   "metadata": {},
   "outputs": [],
   "source": [
    "# Replace any non-number strings with nan in the Frame column\n",
    "df['Frame'] = df['Frame'].replace(r'[^0-9]', np.nan, regex=True)\n",
    "\n",
    "# Convert the strings in the frame column to numbers\n",
    "df['Frame'] = pd.to_numeric(df['Frame'])\n",
    "\n",
    "max_frame = max(df['Frame'])\n",
    "n_frames = int(max_frame) + 1"
   ]
  },
  {
   "cell_type": "code",
   "execution_count": 53,
   "metadata": {},
   "outputs": [],
   "source": [
    "# Crop the dataframe at the max frame number\n",
    "last_index = df[df.Frame == max_frame].index[-1]\n",
    "df = df.loc[:last_index, :]\n",
    "\n",
    "df.set_index('Frame', inplace=True)"
   ]
  },
  {
   "cell_type": "code",
   "execution_count": 54,
   "metadata": {},
   "outputs": [],
   "source": [
    "# Part names\n",
    "parts = df.groupby('Part').groups.keys()"
   ]
  },
  {
   "cell_type": "code",
   "execution_count": 55,
   "metadata": {},
   "outputs": [],
   "source": [
    "population_list = []\n",
    "\n",
    "for frame in range(n_frames):\n",
    "\n",
    "    population_dict = {'Frame': frame}\n",
    "    df_frame = df.loc[frame, :]\n",
    "\n",
    "    for i, part in enumerate(parts):\n",
    "\n",
    "        # Convert the dataframe into an array of coordinates\n",
    "        # Begin at 1 to skip the part name\n",
    "        part_vector = df_frame.iloc[0, 1:].as_matrix()\n",
    "\n",
    "        # Reshape array into an n x 3 matrix. Each row is an x, y, z position\n",
    "        # The -1 means the row dimension is inferred\n",
    "        population = np.reshape(part_vector, (-1, 3))\n",
    "\n",
    "        population_dict[part] = population\n",
    "\n",
    "    population_list.append(population_dict)"
   ]
  },
  {
   "cell_type": "code",
   "execution_count": 56,
   "metadata": {},
   "outputs": [],
   "source": [
    "df_final = pd.DataFrame(population_list)\n",
    "df_final.set_index('Frame', inplace=True)"
   ]
  },
  {
   "cell_type": "code",
   "execution_count": 63,
   "metadata": {},
   "outputs": [],
   "source": [
    "save_name = file_name.replace(\".txt\", \"\")\n",
    "df_final.to_pickle(save_name)"
   ]
  },
  {
   "cell_type": "code",
   "execution_count": 64,
   "metadata": {},
   "outputs": [],
   "source": [
    "df_new = pd.read_pickle(save_name)"
   ]
  },
  {
   "cell_type": "code",
   "execution_count": null,
   "metadata": {},
   "outputs": [],
   "source": []
  }
 ],
 "metadata": {
  "kernelspec": {
   "display_name": "Python 3",
   "language": "python",
   "name": "python3"
  },
  "language_info": {
   "codemirror_mode": {
    "name": "ipython",
    "version": 3
   },
   "file_extension": ".py",
   "mimetype": "text/x-python",
   "name": "python",
   "nbconvert_exporter": "python",
   "pygments_lexer": "ipython3",
   "version": "3.6.4"
  }
 },
 "nbformat": 4,
 "nbformat_minor": 2
}
