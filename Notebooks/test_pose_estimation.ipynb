{
 "cells": [
  {
   "cell_type": "code",
   "execution_count": 1,
   "metadata": {},
   "outputs": [
    {
     "data": {
      "text/plain": [
       "<matplotlib.figure.Figure at 0x10a5b15f8>"
      ]
     },
     "metadata": {},
     "output_type": "display_data"
    }
   ],
   "source": [
    "import pandas as pd\n",
    "import numpy as np\n",
    "import matplotlib.pyplot as plt\n",
    "import os\n",
    "from sklearn.cluster import KMeans\n",
    "\n",
    "import sys\n",
    "sys.path.insert(0, '../Modules/')\n",
    "sys.path.insert(0, '../Shared code/')\n",
    "\n",
    "import pose_estimation as pe  # noqa (ignore PEP 8 style)\n",
    "from gait_metrics import gait_dataframe  # noqa\n",
    "from peakdet import peakdet  # noqa\n",
    "\n",
    "\n",
    "# %% Read dataframe\n",
    "\n",
    "directory = '../../../MEGA/Data/Kinect Zeno/Kinect processed'\n",
    "file_name = '2014-12-22_P007_Pre_004.pkl'\n",
    "\n",
    "load_path = os.path.join(directory, file_name)\n",
    "df = pd.read_pickle(load_path)\n",
    "\n",
    "# %% Parameters\n",
    "\n",
    "lower_part_types = ['HEAD', 'HIP', 'UPPER_LEG', 'KNEE', 'LOWER_LEG', 'FOOT']\n",
    "lengths = [63.9626,   19.3718,   12.8402,   22.0421,   20.5768]\n",
    "radii = [i for i in range(0, 30, 5)]\n",
    "\n",
    "edges = np.matrix('0 1; 1 2; 2 3; 3 4; 4 5; 3 5; 1 3')\n",
    "\n",
    "# %%\n",
    "\n",
    "\n",
    "best_pos_series = df.apply(lambda x: pe.process_frame(x.to_dict(),\n",
    "                           lower_part_types, edges, lengths, radii), axis=1)\n",
    "\n",
    "# Each row i is a tuple containing the best positions for frame i\n",
    "# Split each tuple into columns of a dataframe\n",
    "df_best_pos = pd.DataFrame(best_pos_series.values.tolist(),\n",
    "                           columns=['Side A', 'Side B'])\n",
    "\n",
    "df_best_pos = df_best_pos.dropna()\n",
    "\n",
    "# Extract the head and feet positions\n",
    "head_pos = df_best_pos['Side A'].apply(lambda row: row[0, :])\n",
    "L_foot_pos = df_best_pos['Side A'].apply(lambda row: row[-1, :])\n",
    "R_foot_pos = df_best_pos['Side B'].apply(lambda row: row[-1, :])\n",
    "\n",
    "# Combine into new dataframe\n",
    "df_head_feet = pd.concat([head_pos, L_foot_pos, R_foot_pos], axis=1)\n",
    "df_head_feet.columns = ['HEAD', 'L_FOOT', 'R_FOOT']\n",
    "df_head_feet.index.name = 'Frame'\n",
    "\n",
    "\n",
    "foot_dist = df_head_feet.apply(lambda row: np.linalg.norm(\n",
    "                               row['L_FOOT'] - row['R_FOOT']), axis=1)\n",
    "\n",
    "\n",
    "# %% Gait metrics\n",
    "\n",
    "\n",
    "# Detect peaks in the foot distance data\n",
    "# Pass in the foot distance index so the peak x-values align with the frames\n",
    "dist_peaks, _ = peakdet(foot_dist, 20, foot_dist.index)\n",
    "\n",
    "peak_frames, peak_values = dist_peaks[:, 0], dist_peaks[:, 1]\n",
    "peak_frames = peak_frames.astype(int)\n",
    "\n",
    "# Cluster the peak frame numbers, to assign frame to passes\n",
    "k_means = KMeans(n_clusters=4, random_state=0).fit(peak_frames.reshape(-1, 1))\n",
    "\n",
    "\n",
    "gait_df = gait_dataframe(df_head_feet, peak_frames, k_means.labels_)\n",
    "\n",
    "\n",
    "# %% Visual results\n",
    "\n",
    "plt.figure()\n",
    "plt.plot(foot_dist, color='k', linewidth=0.7)\n",
    "plt.scatter(peak_frames, peak_values, cmap='Set1', c=k_means.labels_)\n",
    "plt.xlabel('Frame number')\n",
    "plt.ylabel('Distance between feet [cm]')\n",
    "plt.show()\n"
   ]
  },
  {
   "cell_type": "code",
   "execution_count": 25,
   "metadata": {},
   "outputs": [
    {
     "name": "stdout",
     "output_type": "stream",
     "text": [
      "Using matplotlib backend: MacOSX\n"
     ]
    },
    {
     "data": {
      "text/plain": [
       "Text(0,0.5,'Distance between feet [cm]')"
      ]
     },
     "execution_count": 25,
     "metadata": {},
     "output_type": "execute_result"
    }
   ],
   "source": [
    "%matplotlib auto\n",
    "plt.figure()\n",
    "plt.plot(foot_dist, color='k', linewidth=0.7)\n",
    "plt.scatter(peak_frames, peak_values, cmap='Set1', c=k_means.labels_)\n",
    "plt.xlabel('Frame number')\n",
    "plt.ylabel('Distance between feet [cm]')"
   ]
  },
  {
   "cell_type": "code",
   "execution_count": 33,
   "metadata": {},
   "outputs": [
    {
     "data": {
      "text/plain": [
       "(-100, 100)"
      ]
     },
     "execution_count": 33,
     "metadata": {},
     "output_type": "execute_result"
    }
   ],
   "source": [
    "frame = 596\n",
    "pts_A = df_best_pos.loc[frame, 'Side A']\n",
    "pts_B = df_best_pos.loc[frame, 'Side B']\n",
    "\n",
    "plt.scatter(pts_A[:, 0], pts_A[:, 1])\n",
    "plt.scatter(pts_B[:, 0], pts_B[:, 1])\n",
    "plt.xlim(-200, 200)\n",
    "plt.ylim(-100, 100)\n"
   ]
  },
  {
   "cell_type": "code",
   "execution_count": 57,
   "metadata": {},
   "outputs": [
    {
     "data": {
      "text/plain": [
       "(-100, 100)"
      ]
     },
     "execution_count": 57,
     "metadata": {},
     "output_type": "execute_result"
    }
   ],
   "source": [
    "population, labels = pe.get_population(df.loc[frame].to_dict(), ['HEAD', 'FOOT'])\n",
    "\n",
    "plt.scatter(population[:, 0], population[:, 1], c=labels, cmap='tab10')\n",
    "plt.xlim(-200, 200)\n",
    "plt.ylim(-100, 100)"
   ]
  },
  {
   "cell_type": "code",
   "execution_count": 60,
   "metadata": {},
   "outputs": [],
   "source": [
    "n_frames = len(df)"
   ]
  },
  {
   "cell_type": "code",
   "execution_count": 70,
   "metadata": {},
   "outputs": [
    {
     "name": "stdout",
     "output_type": "stream",
     "text": [
      "> \u001b[0;32m/Users/andrewhynes/anaconda3/lib/python3.6/site-packages/IPython/core/compilerop.py\u001b[0m(99)\u001b[0;36mast_parse\u001b[0;34m()\u001b[0m\n",
      "\u001b[0;32m     97 \u001b[0;31m        \u001b[0mArguments\u001b[0m \u001b[0mare\u001b[0m \u001b[0mexactly\u001b[0m \u001b[0mthe\u001b[0m \u001b[0msame\u001b[0m \u001b[0;32mas\u001b[0m \u001b[0mast\u001b[0m\u001b[0;34m.\u001b[0m\u001b[0mparse\u001b[0m \u001b[0;34m(\u001b[0m\u001b[0;32min\u001b[0m \u001b[0mthe\u001b[0m \u001b[0mstandard\u001b[0m \u001b[0mlibrary\u001b[0m\u001b[0;34m)\u001b[0m\u001b[0;34m,\u001b[0m\u001b[0;34m\u001b[0m\u001b[0m\n",
      "\u001b[0m\u001b[0;32m     98 \u001b[0;31m        and are passed to the built-in compile function.\"\"\"\n",
      "\u001b[0m\u001b[0;32m---> 99 \u001b[0;31m        \u001b[0;32mreturn\u001b[0m \u001b[0mcompile\u001b[0m\u001b[0;34m(\u001b[0m\u001b[0msource\u001b[0m\u001b[0;34m,\u001b[0m \u001b[0mfilename\u001b[0m\u001b[0;34m,\u001b[0m \u001b[0msymbol\u001b[0m\u001b[0;34m,\u001b[0m \u001b[0mself\u001b[0m\u001b[0;34m.\u001b[0m\u001b[0mflags\u001b[0m \u001b[0;34m|\u001b[0m \u001b[0mPyCF_ONLY_AST\u001b[0m\u001b[0;34m,\u001b[0m \u001b[0;36m1\u001b[0m\u001b[0;34m)\u001b[0m\u001b[0;34m\u001b[0m\u001b[0m\n",
      "\u001b[0m\u001b[0;32m    100 \u001b[0;31m\u001b[0;34m\u001b[0m\u001b[0m\n",
      "\u001b[0m\u001b[0;32m    101 \u001b[0;31m    \u001b[0;32mdef\u001b[0m \u001b[0mreset_compiler_flags\u001b[0m\u001b[0;34m(\u001b[0m\u001b[0mself\u001b[0m\u001b[0;34m)\u001b[0m\u001b[0;34m:\u001b[0m\u001b[0;34m\u001b[0m\u001b[0m\n",
      "\u001b[0m\n"
     ]
    }
   ],
   "source": [
    "%debug\n",
    "for f in range(n_frames):\n",
    "    row = df.loc[f]\n",
    "    pe.process_frame(row.to_dict(), lower_part_types, edges, lengths, radii)\n",
    "#     best_pos_series = df.apply(lambda x: pe.process_frame(x.to_dict(),\n",
    "#                            lower_part_types, edges, lengths, radii), axis=1)\n"
   ]
  },
  {
   "cell_type": "code",
   "execution_count": null,
   "metadata": {},
   "outputs": [],
   "source": []
  }
 ],
 "metadata": {
  "kernelspec": {
   "display_name": "Python 3",
   "language": "python",
   "name": "python3"
  },
  "language_info": {
   "codemirror_mode": {
    "name": "ipython",
    "version": 3
   },
   "file_extension": ".py",
   "mimetype": "text/x-python",
   "name": "python",
   "nbconvert_exporter": "python",
   "pygments_lexer": "ipython3",
   "version": "3.6.4"
  }
 },
 "nbformat": 4,
 "nbformat_minor": 2
}
