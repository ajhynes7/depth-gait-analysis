{
 "cells": [
  {
   "cell_type": "code",
   "execution_count": 1,
   "metadata": {},
   "outputs": [],
   "source": [
    "import os\n",
    "\n",
    "os.chdir('../..')"
   ]
  },
  {
   "cell_type": "code",
   "execution_count": 2,
   "metadata": {},
   "outputs": [],
   "source": [
    "import numpy as np\n",
    "\n",
    "import matplotlib.pyplot as plt\n",
    "from mpl_toolkits.mplot3d import Axes3D\n",
    "from numpy.linalg import norm\n",
    "\n",
    "import analysis.plotting as pl\n",
    "import modules.linear_algebra as lin\n",
    "import modules.assign_sides as asi"
   ]
  },
  {
   "cell_type": "code",
   "execution_count": 3,
   "metadata": {},
   "outputs": [
    {
     "name": "stdout",
     "output_type": "stream",
     "text": [
      "Using matplotlib backend: Qt5Agg\n"
     ]
    }
   ],
   "source": [
    "%matplotlib auto"
   ]
  },
  {
   "cell_type": "code",
   "execution_count": 4,
   "metadata": {},
   "outputs": [],
   "source": [
    "from os.path import join\n",
    "\n",
    "import pandas as pd\n",
    "\n",
    "import modules.gait_parameters as gp\n",
    "\n",
    "kinect_dir = join('data', 'kinect')\n",
    "\n",
    "df_match = pd.read_csv(join('data', 'matching', 'match_kinect_zeno.csv'))\n",
    "\n",
    "for trial_name in df_match[df_match.trial_id == 23].kinect:\n",
    "\n",
    "    df_assigned = pd.read_pickle(\n",
    "        join(kinect_dir, 'assigned', trial_name + '.pkl'))\n",
    "    direction_series = pd.read_pickle(\n",
    "        join(kinect_dir, 'direction', trial_name + '.pkl'))"
   ]
  },
  {
   "cell_type": "code",
   "execution_count": 17,
   "metadata": {},
   "outputs": [],
   "source": [
    "pass_num = 1\n",
    "df_pass = df_assigned.loc[pass_num]\n",
    "direction_pass = direction_series.loc[pass_num]"
   ]
  },
  {
   "cell_type": "code",
   "execution_count": 18,
   "metadata": {},
   "outputs": [],
   "source": [
    "points_l = np.stack(df_pass.L_FOOT)\n",
    "points_r = np.stack(df_pass.R_FOOT)"
   ]
  },
  {
   "cell_type": "code",
   "execution_count": 19,
   "metadata": {},
   "outputs": [],
   "source": [
    "widths = []\n",
    "\n",
    "for point_l, point_r in zip(points_l, points_r):\n",
    "    \n",
    "    line_point_a = point_l\n",
    "    line_point_b = point_l + direction_pass\n",
    "    \n",
    "    point_proj = lin.project_point_line(point_r, line_point_a, line_point_b)\n",
    "    \n",
    "    widths.append(norm(point_proj - point_r))"
   ]
  },
  {
   "cell_type": "code",
   "execution_count": 20,
   "metadata": {},
   "outputs": [],
   "source": [
    "frames = df_pass.index.values"
   ]
  },
  {
   "cell_type": "code",
   "execution_count": 21,
   "metadata": {},
   "outputs": [],
   "source": [
    "# fig, ax = plt.subplots()\n",
    "# ax = Axes3D(fig)\n",
    "\n",
    "# points_3d_l = np.column_stack((points_l[:, 0], points_l[:, 1], frames))\n",
    "# points_3d_r = np.column_stack((points_r[:, 0], points_r[:, 1], frames))\n",
    "\n",
    "# pl.scatter3(ax, points_3d_l, c='b')\n",
    "# pl.scatter3(ax, points_3d_r, c='r')\n",
    "\n",
    "# ax.set_xlabel('X')\n",
    "# ax.set_ylabel('Y')\n",
    "# ax.set_zlabel('Z')\n",
    "\n"
   ]
  },
  {
   "cell_type": "code",
   "execution_count": 22,
   "metadata": {},
   "outputs": [
    {
     "data": {
      "text/plain": [
       "(200, 350)"
      ]
     },
     "execution_count": 22,
     "metadata": {},
     "output_type": "execute_result"
    }
   ],
   "source": [
    "plt.figure()\n",
    "\n",
    "pl.scatter2(points_l, c=frames, cmap='Blues')\n",
    "pl.scatter2(points_r, c=frames, cmap='Reds')\n",
    "\n",
    "plt.xlim((200, 350))"
   ]
  },
  {
   "cell_type": "code",
   "execution_count": 23,
   "metadata": {},
   "outputs": [],
   "source": [
    "# plt.figure()\n",
    "# plt.scatter(frames, points_l[:, 1], c='b')\n",
    "# plt.scatter(frames, points_r[:, 1], c='r')"
   ]
  },
  {
   "cell_type": "code",
   "execution_count": null,
   "metadata": {},
   "outputs": [],
   "source": []
  }
 ],
 "metadata": {
  "kernelspec": {
   "display_name": "Python [conda env:depth_gait_env]",
   "language": "python",
   "name": "conda-env-depth_gait_env-py"
  },
  "language_info": {
   "codemirror_mode": {
    "name": "ipython",
    "version": 3
   },
   "file_extension": ".py",
   "mimetype": "text/x-python",
   "name": "python",
   "nbconvert_exporter": "python",
   "pygments_lexer": "ipython3",
   "version": "3.7.0"
  }
 },
 "nbformat": 4,
 "nbformat_minor": 2
}
