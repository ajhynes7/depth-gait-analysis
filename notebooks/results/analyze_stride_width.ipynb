{
 "cells": [
  {
   "cell_type": "code",
   "execution_count": 1,
   "metadata": {},
   "outputs": [],
   "source": [
    "import os\n",
    "\n",
    "os.chdir('../..')"
   ]
  },
  {
   "cell_type": "code",
   "execution_count": 4,
   "metadata": {},
   "outputs": [],
   "source": [
    "from os.path import join\n",
    "\n",
    "import numpy as np\n",
    "import pandas as pd\n",
    "\n",
    "import analysis.stats as st\n",
    "\n",
    "\n",
    "dataframe_dir = join('results', 'dataframes')\n",
    "\n",
    "# Load all results\n",
    "df_total_k = pd.read_pickle(join(dataframe_dir, 'df_total_k.pkl'))\n",
    "df_total_z = pd.read_pickle(join(dataframe_dir, 'df_total_z.pkl'))\n",
    "\n",
    "gait_params = df_total_k.select_dtypes(float).columns\n",
    "\n",
    "df_trials_k = df_total_k.groupby('trial_id').median()\n",
    "df_trials_z = df_total_z.groupby('trial_id').median()\n"
   ]
  },
  {
   "cell_type": "code",
   "execution_count": 47,
   "metadata": {},
   "outputs": [
    {
     "data": {
      "text/plain": [
       "-0.021350861226321047"
      ]
     },
     "execution_count": 47,
     "metadata": {},
     "output_type": "execute_result"
    }
   ],
   "source": [
    "st.icc_two(df_trials_k.stride_width, df_trials_z.stride_width, type=(2, 1))"
   ]
  },
  {
   "cell_type": "code",
   "execution_count": 55,
   "metadata": {},
   "outputs": [
    {
     "data": {
      "text/plain": [
       "-0.009016532617634488"
      ]
     },
     "execution_count": 55,
     "metadata": {},
     "output_type": "execute_result"
    }
   ],
   "source": [
    "st.icc_two(df_total_k.groupby('trial_id').mean().stride_width,\n",
    "           df_total_z.groupby('trial_id').mean().stride_width,\n",
    "           type=(2, 1))"
   ]
  },
  {
   "cell_type": "code",
   "execution_count": 58,
   "metadata": {},
   "outputs": [
    {
     "data": {
      "text/plain": [
       "23"
      ]
     },
     "execution_count": 58,
     "metadata": {},
     "output_type": "execute_result"
    }
   ],
   "source": [
    "abs(df_trials_k.stride_width - df_trials_z.stride_width).idxmax()"
   ]
  },
  {
   "cell_type": "code",
   "execution_count": 60,
   "metadata": {},
   "outputs": [],
   "source": [
    "df_width = pd.concat((df_trials_k.stride_width, df_trials_z.stride_width), axis=1)"
   ]
  },
  {
   "cell_type": "code",
   "execution_count": 62,
   "metadata": {},
   "outputs": [
    {
     "data": {
      "text/plain": [
       "stride_width    7.546849\n",
       "stride_width    1.639000\n",
       "Name: 23, dtype: float64"
      ]
     },
     "execution_count": 62,
     "metadata": {},
     "output_type": "execute_result"
    }
   ],
   "source": [
    "df_width.loc[23]"
   ]
  },
  {
   "cell_type": "code",
   "execution_count": null,
   "metadata": {},
   "outputs": [],
   "source": []
  }
 ],
 "metadata": {
  "kernelspec": {
   "display_name": "Python [conda env:depth_gait_env]",
   "language": "python",
   "name": "conda-env-depth_gait_env-py"
  },
  "language_info": {
   "codemirror_mode": {
    "name": "ipython",
    "version": 3
   },
   "file_extension": ".py",
   "mimetype": "text/x-python",
   "name": "python",
   "nbconvert_exporter": "python",
   "pygments_lexer": "ipython3",
   "version": "3.7.0"
  }
 },
 "nbformat": 4,
 "nbformat_minor": 2
}
