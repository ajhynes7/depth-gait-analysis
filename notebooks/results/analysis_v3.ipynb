{
 "cells": [
  {
   "cell_type": "code",
   "execution_count": 1,
   "metadata": {},
   "outputs": [],
   "source": [
    "import os\n",
    "\n",
    "os.chdir('../..')"
   ]
  },
  {
   "cell_type": "code",
   "execution_count": 2,
   "metadata": {},
   "outputs": [],
   "source": [
    "import numpy as np\n",
    "import matplotlib.pyplot as plt\n",
    "import pandas as pd\n",
    "\n",
    "import analysis.stats as st\n",
    "\n",
    "load_dir = os.path.join('results', 'dataframes')\n",
    "save_dir = os.path.join('results', 'figures')\n",
    "\n",
    "df_total_k = pd.read_pickle(os.path.join(load_dir, 'df_total_k.pkl'))\n",
    "df_total_z = pd.read_pickle(os.path.join(load_dir, 'df_total_z.pkl'))\n",
    "\n",
    "# Columns that represent gait parameters\n",
    "gait_params = df_total_k.select_dtypes(float).columns\n",
    "\n",
    "df_trials_k = df_total_k.groupby('trial_id').median()[gait_params]\n",
    "df_trials_z = df_total_z.groupby('trial_id').median()[gait_params]\n",
    "\n",
    "df_sides_k = df_total_k.groupby(['trial_id', 'side']).median()[gait_params]\n",
    "df_sides_z = df_total_z.groupby(['trial_id', 'side']).median()[gait_params]\n",
    "\n"
   ]
  },
  {
   "cell_type": "code",
   "execution_count": 3,
   "metadata": {},
   "outputs": [],
   "source": [
    "df_key_k = df_total_k[['trial_id', 'file_name']].drop_duplicates()"
   ]
  },
  {
   "cell_type": "code",
   "execution_count": 4,
   "metadata": {},
   "outputs": [
    {
     "name": "stderr",
     "output_type": "stream",
     "text": [
      "/home/andrew/anaconda3/envs/depth_gait_env/lib/python3.7/site-packages/numpy/core/fromnumeric.py:51: FutureWarning: 'argmax' is deprecated, use 'idxmax' instead. The behavior of 'argmax'\n",
      "will be corrected to return the positional maximum in the future.\n",
      "Use 'series.values.argmax' to get the position of the maximum now.\n",
      "  return getattr(obj, method)(*args, **kwds)\n"
     ]
    }
   ],
   "source": [
    "worst_error_index = np.argmax(st.relative_difference(df_trials_k.stride_length, df_trials_z.stride_length, absolute=True))"
   ]
  },
  {
   "cell_type": "code",
   "execution_count": 5,
   "metadata": {},
   "outputs": [
    {
     "data": {
      "text/html": [
       "<div>\n",
       "<style scoped>\n",
       "    .dataframe tbody tr th:only-of-type {\n",
       "        vertical-align: middle;\n",
       "    }\n",
       "\n",
       "    .dataframe tbody tr th {\n",
       "        vertical-align: top;\n",
       "    }\n",
       "\n",
       "    .dataframe thead th {\n",
       "        text-align: right;\n",
       "    }\n",
       "</style>\n",
       "<table border=\"1\" class=\"dataframe\">\n",
       "  <thead>\n",
       "    <tr style=\"text-align: right;\">\n",
       "      <th></th>\n",
       "      <th>trial_id</th>\n",
       "      <th>file_name</th>\n",
       "    </tr>\n",
       "  </thead>\n",
       "  <tbody>\n",
       "    <tr>\n",
       "      <th>701</th>\n",
       "      <td>40</td>\n",
       "      <td>2014-12-22_P006_Post_002</td>\n",
       "    </tr>\n",
       "  </tbody>\n",
       "</table>\n",
       "</div>"
      ],
      "text/plain": [
       "     trial_id                 file_name\n",
       "701        40  2014-12-22_P006_Post_002"
      ]
     },
     "execution_count": 5,
     "metadata": {},
     "output_type": "execute_result"
    }
   ],
   "source": [
    "df_key_k[df_key_k.trial_id==worst_error_index]"
   ]
  },
  {
   "cell_type": "code",
   "execution_count": 7,
   "metadata": {},
   "outputs": [
    {
     "data": {
      "text/plain": [
       "stance_percentage            69.247159\n",
       "stance_percentage_double     37.878788\n",
       "step_length                  63.440075\n",
       "stride_length                89.047434\n",
       "stride_time                   0.625000\n",
       "stride_velocity             138.288444\n",
       "stride_width                 12.805295\n",
       "Name: 40, dtype: float64"
      ]
     },
     "execution_count": 7,
     "metadata": {},
     "output_type": "execute_result"
    }
   ],
   "source": [
    "df_trials_k.loc[worst_error_index]"
   ]
  },
  {
   "cell_type": "code",
   "execution_count": 8,
   "metadata": {},
   "outputs": [
    {
     "data": {
      "text/plain": [
       "stance_percentage            64.234\n",
       "stance_percentage_double     28.571\n",
       "step_length                  64.295\n",
       "stride_length               127.643\n",
       "stride_time                   1.092\n",
       "stride_velocity             116.925\n",
       "stride_width                  8.986\n",
       "Name: 40, dtype: float64"
      ]
     },
     "execution_count": 8,
     "metadata": {},
     "output_type": "execute_result"
    }
   ],
   "source": [
    "df_trials_z.loc[worst_error_index]"
   ]
  },
  {
   "cell_type": "code",
   "execution_count": null,
   "metadata": {},
   "outputs": [],
   "source": []
  }
 ],
 "metadata": {
  "kernelspec": {
   "display_name": "Python [conda env:depth_gait_env]",
   "language": "python",
   "name": "conda-env-depth_gait_env-py"
  },
  "language_info": {
   "codemirror_mode": {
    "name": "ipython",
    "version": 3
   },
   "file_extension": ".py",
   "mimetype": "text/x-python",
   "name": "python",
   "nbconvert_exporter": "python",
   "pygments_lexer": "ipython3",
   "version": "3.7.0"
  }
 },
 "nbformat": 4,
 "nbformat_minor": 2
}
