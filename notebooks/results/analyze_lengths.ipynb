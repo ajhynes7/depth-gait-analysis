{
 "cells": [
  {
   "cell_type": "code",
   "execution_count": 1,
   "metadata": {},
   "outputs": [],
   "source": [
    "import os\n",
    "\n",
    "os.chdir('../..')"
   ]
  },
  {
   "cell_type": "code",
   "execution_count": 2,
   "metadata": {},
   "outputs": [],
   "source": [
    "import numpy as np\n",
    "import pandas as pd"
   ]
  },
  {
   "cell_type": "code",
   "execution_count": 3,
   "metadata": {},
   "outputs": [],
   "source": [
    "load_path = os.path.join('data', 'kinect', 'lengths', 'kinect_lengths.csv')\n",
    "\n",
    "df_lengths = pd.read_csv(load_path, index_col=0)"
   ]
  },
  {
   "cell_type": "code",
   "execution_count": 4,
   "metadata": {},
   "outputs": [],
   "source": [
    "match_dir = os.path.join('data', 'matching')\n",
    "df_match = pd.read_csv(os.path.join(match_dir, 'match_kinect_zeno.csv'))"
   ]
  },
  {
   "cell_type": "code",
   "execution_count": 5,
   "metadata": {},
   "outputs": [],
   "source": [
    "# Body lengths of trials that have matching Zeno data\n",
    "df_lengths_matched = df_lengths.loc[df_match.kinect].reset_index()"
   ]
  },
  {
   "cell_type": "code",
   "execution_count": 6,
   "metadata": {},
   "outputs": [],
   "source": [
    "# Extract date and participant from file name\n",
    "df_regex = df_lengths_matched.file_name.str.extract('(?P<date>\\d{4}-\\d{2}-\\d{2})_P(?P<participant>\\d{3})')\n",
    "df_expanded = pd.concat((df_lengths_matched, df_regex), axis=1, sort=False)"
   ]
  },
  {
   "cell_type": "code",
   "execution_count": 19,
   "metadata": {},
   "outputs": [],
   "source": [
    "df_grouped = df_expanded.groupby('participant').agg(['mean', 'std'])\n",
    "df_grouped_round = np.round(df_grouped, 2)"
   ]
  },
  {
   "cell_type": "code",
   "execution_count": 20,
   "metadata": {},
   "outputs": [
    {
     "name": "stdout",
     "output_type": "stream",
     "text": [
      "\\begin{tabular}{lrrrrrrrrrr}\n",
      "\\toprule\n",
      "{} & \\multicolumn{2}{l}{0} & \\multicolumn{2}{l}{1} & \\multicolumn{2}{l}{2} & \\multicolumn{2}{l}{3} & \\multicolumn{2}{l}{4} \\\\\n",
      "{} &   mean &   std &   mean &   std &   mean &   std &   mean &   std &   mean &   std \\\\\n",
      "participant &        &       &        &       &        &       &        &       &        &       \\\\\n",
      "\\midrule\n",
      "004         &  65.15 &  0.59 &  15.12 &  0.49 &  14.69 &  0.38 &  22.23 &  0.76 &  23.61 &  0.18 \\\\\n",
      "005         &  65.71 &  0.95 &  18.22 &  0.45 &  17.35 &  0.42 &  25.91 &  0.40 &  24.68 &  0.36 \\\\\n",
      "006         &  66.74 &  0.87 &  16.12 &  0.56 &  16.87 &  0.87 &  28.01 &  0.64 &  25.13 &  0.53 \\\\\n",
      "007         &  67.81 &  0.77 &  15.50 &  0.55 &  14.88 &  0.44 &  24.57 &  0.40 &  23.09 &  0.20 \\\\\n",
      "\\bottomrule\n",
      "\\end{tabular}\n",
      "\n"
     ]
    }
   ],
   "source": [
    "print(df_grouped_round.to_latex())"
   ]
  },
  {
   "cell_type": "code",
   "execution_count": 23,
   "metadata": {},
   "outputs": [
    {
     "data": {
      "text/html": [
       "<div>\n",
       "<style scoped>\n",
       "    .dataframe tbody tr th:only-of-type {\n",
       "        vertical-align: middle;\n",
       "    }\n",
       "\n",
       "    .dataframe tbody tr th {\n",
       "        vertical-align: top;\n",
       "    }\n",
       "\n",
       "    .dataframe thead tr th {\n",
       "        text-align: left;\n",
       "    }\n",
       "\n",
       "    .dataframe thead tr:last-of-type th {\n",
       "        text-align: right;\n",
       "    }\n",
       "</style>\n",
       "<table border=\"1\" class=\"dataframe\">\n",
       "  <thead>\n",
       "    <tr>\n",
       "      <th></th>\n",
       "      <th colspan=\"2\" halign=\"left\">0</th>\n",
       "      <th colspan=\"2\" halign=\"left\">1</th>\n",
       "      <th colspan=\"2\" halign=\"left\">2</th>\n",
       "      <th colspan=\"2\" halign=\"left\">3</th>\n",
       "      <th colspan=\"2\" halign=\"left\">4</th>\n",
       "    </tr>\n",
       "    <tr>\n",
       "      <th></th>\n",
       "      <th>mean</th>\n",
       "      <th>std</th>\n",
       "      <th>mean</th>\n",
       "      <th>std</th>\n",
       "      <th>mean</th>\n",
       "      <th>std</th>\n",
       "      <th>mean</th>\n",
       "      <th>std</th>\n",
       "      <th>mean</th>\n",
       "      <th>std</th>\n",
       "    </tr>\n",
       "    <tr>\n",
       "      <th>participant</th>\n",
       "      <th></th>\n",
       "      <th></th>\n",
       "      <th></th>\n",
       "      <th></th>\n",
       "      <th></th>\n",
       "      <th></th>\n",
       "      <th></th>\n",
       "      <th></th>\n",
       "      <th></th>\n",
       "      <th></th>\n",
       "    </tr>\n",
       "  </thead>\n",
       "  <tbody>\n",
       "    <tr>\n",
       "      <th>004</th>\n",
       "      <td>65.15</td>\n",
       "      <td>0.59</td>\n",
       "      <td>15.12</td>\n",
       "      <td>0.49</td>\n",
       "      <td>14.69</td>\n",
       "      <td>0.38</td>\n",
       "      <td>22.23</td>\n",
       "      <td>0.76</td>\n",
       "      <td>23.61</td>\n",
       "      <td>0.18</td>\n",
       "    </tr>\n",
       "    <tr>\n",
       "      <th>005</th>\n",
       "      <td>65.71</td>\n",
       "      <td>0.95</td>\n",
       "      <td>18.22</td>\n",
       "      <td>0.45</td>\n",
       "      <td>17.35</td>\n",
       "      <td>0.42</td>\n",
       "      <td>25.91</td>\n",
       "      <td>0.40</td>\n",
       "      <td>24.68</td>\n",
       "      <td>0.36</td>\n",
       "    </tr>\n",
       "    <tr>\n",
       "      <th>006</th>\n",
       "      <td>66.74</td>\n",
       "      <td>0.87</td>\n",
       "      <td>16.12</td>\n",
       "      <td>0.56</td>\n",
       "      <td>16.87</td>\n",
       "      <td>0.87</td>\n",
       "      <td>28.01</td>\n",
       "      <td>0.64</td>\n",
       "      <td>25.13</td>\n",
       "      <td>0.53</td>\n",
       "    </tr>\n",
       "    <tr>\n",
       "      <th>007</th>\n",
       "      <td>67.81</td>\n",
       "      <td>0.77</td>\n",
       "      <td>15.50</td>\n",
       "      <td>0.55</td>\n",
       "      <td>14.88</td>\n",
       "      <td>0.44</td>\n",
       "      <td>24.57</td>\n",
       "      <td>0.40</td>\n",
       "      <td>23.09</td>\n",
       "      <td>0.20</td>\n",
       "    </tr>\n",
       "  </tbody>\n",
       "</table>\n",
       "</div>"
      ],
      "text/plain": [
       "                 0            1            2            3            4      \n",
       "              mean   std   mean   std   mean   std   mean   std   mean   std\n",
       "participant                                                                 \n",
       "004          65.15  0.59  15.12  0.49  14.69  0.38  22.23  0.76  23.61  0.18\n",
       "005          65.71  0.95  18.22  0.45  17.35  0.42  25.91  0.40  24.68  0.36\n",
       "006          66.74  0.87  16.12  0.56  16.87  0.87  28.01  0.64  25.13  0.53\n",
       "007          67.81  0.77  15.50  0.55  14.88  0.44  24.57  0.40  23.09  0.20"
      ]
     },
     "execution_count": 23,
     "metadata": {},
     "output_type": "execute_result"
    }
   ],
   "source": [
    "df_grouped_round"
   ]
  },
  {
   "cell_type": "code",
   "execution_count": null,
   "metadata": {},
   "outputs": [],
   "source": []
  }
 ],
 "metadata": {
  "kernelspec": {
   "display_name": "Python [conda env:depth_gait_env]",
   "language": "python",
   "name": "conda-env-depth_gait_env-py"
  },
  "language_info": {
   "codemirror_mode": {
    "name": "ipython",
    "version": 3
   },
   "file_extension": ".py",
   "mimetype": "text/x-python",
   "name": "python",
   "nbconvert_exporter": "python",
   "pygments_lexer": "ipython3",
   "version": "3.7.0"
  }
 },
 "nbformat": 4,
 "nbformat_minor": 2
}
