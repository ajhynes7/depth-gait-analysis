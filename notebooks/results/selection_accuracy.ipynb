{
 "cells": [
  {
   "cell_type": "code",
   "execution_count": 1,
   "metadata": {},
   "outputs": [],
   "source": [
    "import os\n",
    "\n",
    "os.chdir('../..')"
   ]
  },
  {
   "cell_type": "code",
   "execution_count": 2,
   "metadata": {},
   "outputs": [],
   "source": [
    "from os.path import join\n",
    "\n",
    "import numpy as np\n",
    "import pandas as pd\n",
    "\n",
    "import modules.point_processing as pp"
   ]
  },
  {
   "cell_type": "code",
   "execution_count": 3,
   "metadata": {},
   "outputs": [],
   "source": [
    "trial_name = '2014-12-03_P007_Post_000'"
   ]
  },
  {
   "cell_type": "code",
   "execution_count": 4,
   "metadata": {},
   "outputs": [],
   "source": [
    "df_hypo = pd.read_pickle('data/kinect/processed/hypothesis/' + trial_name + '.pkl')\n",
    "df_selected = pd.read_pickle('data/kinect/best_pos/' + trial_name + '.pkl')\n",
    "\n",
    "df_truth = pd.read_pickle('results/dataframes/df_truth.pkl').loc[trial_name]"
   ]
  },
  {
   "cell_type": "code",
   "execution_count": 5,
   "metadata": {},
   "outputs": [],
   "source": [
    "foot_parts = ['L_FOOT', 'R_FOOT']"
   ]
  },
  {
   "cell_type": "code",
   "execution_count": 6,
   "metadata": {},
   "outputs": [],
   "source": [
    "# Drop frames where head or feet are null\n",
    "df_truth = df_truth.dropna(subset=['HEAD'] + foot_parts)"
   ]
  },
  {
   "cell_type": "code",
   "execution_count": 7,
   "metadata": {},
   "outputs": [],
   "source": [
    "# Frames with ground truth for head and foot\n",
    "frames = df_truth.index.values"
   ]
  },
  {
   "cell_type": "code",
   "execution_count": 8,
   "metadata": {},
   "outputs": [],
   "source": [
    "df_hypo = df_hypo.loc[frames]\n",
    "df_selected = df_selected.loc[frames]"
   ]
  },
  {
   "cell_type": "code",
   "execution_count": 9,
   "metadata": {},
   "outputs": [],
   "source": [
    "df_truth_modified = pd.DataFrame(index=frames, columns=foot_parts)"
   ]
  },
  {
   "cell_type": "code",
   "execution_count": 10,
   "metadata": {},
   "outputs": [],
   "source": [
    "for frame in frames:\n",
    "    \n",
    "    foot_proposals = df_hypo.loc[frame, 'FOOT']\n",
    "    true_foot_l, true_foot_r = df_truth.loc[frame, foot_parts]\n",
    "        \n",
    "    proposal_closest_l, _ = pp.closest_point(foot_proposals, true_foot_l.reshape(1, -1))\n",
    "    proposal_closest_r, _ = pp.closest_point(foot_proposals, true_foot_r.reshape(1, -1))\n",
    "    \n",
    "    df_truth_modified.loc[frame, foot_parts[0]] = proposal_closest_l\n",
    "    df_truth_modified.loc[frame, foot_parts[1]] = proposal_closest_r"
   ]
  },
  {
   "cell_type": "code",
   "execution_count": 11,
   "metadata": {},
   "outputs": [
    {
     "data": {
      "text/plain": [
       "0.808955223880597"
      ]
     },
     "execution_count": 11,
     "metadata": {},
     "output_type": "execute_result"
    }
   ],
   "source": [
    "pp.position_accuracy(np.stack(df_truth_modified.L_FOOT), np.stack(df_truth.L_FOOT))"
   ]
  },
  {
   "cell_type": "code",
   "execution_count": 12,
   "metadata": {},
   "outputs": [
    {
     "data": {
      "text/plain": [
       "0.7761194029850746"
      ]
     },
     "execution_count": 12,
     "metadata": {},
     "output_type": "execute_result"
    }
   ],
   "source": [
    "pp.position_accuracy(np.stack(df_truth_modified.R_FOOT), np.stack(df_truth.R_FOOT))"
   ]
  },
  {
   "cell_type": "code",
   "execution_count": 13,
   "metadata": {},
   "outputs": [],
   "source": [
    "df_selected_assigned = pd.DataFrame(index=frames, columns=foot_parts)\n",
    "\n",
    "for frame in frames:\n",
    "    points_selected = np.stack(df_selected.loc[frame][foot_parts])\n",
    "    points_truth =  np.stack(df_truth_modified.loc[frame][foot_parts])\n",
    "    \n",
    "    assigned_l, assigned_r = pp.correspond_points(points_truth, points_selected)\n",
    "    \n",
    "    df_selected_assigned.loc[frame, foot_parts[0]] = assigned_l\n",
    "    df_selected_assigned.loc[frame, foot_parts[1]] = assigned_r"
   ]
  },
  {
   "cell_type": "code",
   "execution_count": 14,
   "metadata": {},
   "outputs": [
    {
     "data": {
      "text/plain": [
       "0.9880597014925373"
      ]
     },
     "execution_count": 14,
     "metadata": {},
     "output_type": "execute_result"
    }
   ],
   "source": [
    "pp.position_accuracy(np.stack(df_selected_assigned.L_FOOT), np.stack(df_truth_modified.L_FOOT))"
   ]
  },
  {
   "cell_type": "code",
   "execution_count": 15,
   "metadata": {},
   "outputs": [
    {
     "data": {
      "text/plain": [
       "0.982089552238806"
      ]
     },
     "execution_count": 15,
     "metadata": {},
     "output_type": "execute_result"
    }
   ],
   "source": [
    "pp.position_accuracy(np.stack(df_selected_assigned.R_FOOT), np.stack(df_truth_modified.R_FOOT))"
   ]
  },
  {
   "cell_type": "code",
   "execution_count": null,
   "metadata": {},
   "outputs": [],
   "source": []
  },
  {
   "cell_type": "code",
   "execution_count": null,
   "metadata": {},
   "outputs": [],
   "source": []
  },
  {
   "cell_type": "code",
   "execution_count": null,
   "metadata": {},
   "outputs": [],
   "source": []
  },
  {
   "cell_type": "code",
   "execution_count": null,
   "metadata": {},
   "outputs": [],
   "source": []
  }
 ],
 "metadata": {
  "kernelspec": {
   "display_name": "Python [conda env:depth_gait_env]",
   "language": "python",
   "name": "conda-env-depth_gait_env-py"
  },
  "language_info": {
   "codemirror_mode": {
    "name": "ipython",
    "version": 3
   },
   "file_extension": ".py",
   "mimetype": "text/x-python",
   "name": "python",
   "nbconvert_exporter": "python",
   "pygments_lexer": "ipython3",
   "version": "3.7.0"
  }
 },
 "nbformat": 4,
 "nbformat_minor": 2
}
