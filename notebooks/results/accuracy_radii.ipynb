{
 "cells": [
  {
   "cell_type": "code",
   "execution_count": 1,
   "metadata": {},
   "outputs": [],
   "source": [
    "import os\n",
    "\n",
    "os.chdir('../..')"
   ]
  },
  {
   "cell_type": "code",
   "execution_count": 2,
   "metadata": {},
   "outputs": [],
   "source": [
    "import glob\n",
    "from os.path import basename, join, splitext\n",
    "\n",
    "import numpy as np\n",
    "import pandas as pd\n",
    "\n",
    "import modules.point_processing as pp\n"
   ]
  },
  {
   "cell_type": "code",
   "execution_count": 3,
   "metadata": {},
   "outputs": [],
   "source": [
    "def combine_dataframes(load_dir, trial_names):\n",
    "    \"\"\"Combine dataframes from different walking trials.\"\"\"\n",
    "    dataframe_dict = {}\n",
    "\n",
    "    for trial_name in trial_names:\n",
    "        dataframe_dict[trial_name] = pd.read_pickle(\n",
    "            join(load_dir, trial_name) + '.pkl')\n",
    "\n",
    "    return pd.concat(dataframe_dict)\n"
   ]
  },
  {
   "cell_type": "code",
   "execution_count": 4,
   "metadata": {},
   "outputs": [],
   "source": [
    "kinect_dir = join('data', 'kinect')\n",
    "\n",
    "df_truth = pd.read_pickle('results/dataframes/df_truth.pkl')\n",
    "trial_names = df_truth.index.get_level_values(0).unique().values\n",
    "\n",
    "df_hypo = combine_dataframes(\n",
    "    join(kinect_dir, 'processed', 'hypothesis'), trial_names)\n",
    "df_selected = combine_dataframes(join(kinect_dir, 'best_pos'), trial_names)\n",
    "df_assigned = combine_dataframes(join(kinect_dir, 'assigned'), trial_names)\n",
    "\n",
    "foot_parts = ['L_FOOT', 'R_FOOT']\n",
    "\n",
    "# Truth positions on frames with head and both feet\n",
    "df_truth = df_truth.loc[:, ['HEAD'] + foot_parts].dropna()\n",
    "\n",
    "# Drop index level for walking pass\n",
    "# This gives it the same index as the other dataframes\n",
    "df_assigned.index = df_assigned.index.droplevel(1)\n",
    "\n",
    "# %% Take frames with truth and selected positions\n",
    "\n",
    "index_intersect = df_truth.index.intersection(df_selected.index)\n",
    "\n",
    "df_truth = df_truth.loc[index_intersect]\n",
    "df_hypo = df_hypo.loc[index_intersect]\n",
    "df_selected = df_selected.loc[index_intersect]\n",
    "df_assigned = df_assigned.loc[index_intersect]"
   ]
  },
  {
   "cell_type": "code",
   "execution_count": 5,
   "metadata": {},
   "outputs": [],
   "source": [
    "file_paths = sorted(glob.glob(join(kinect_dir, 'best_pos_radii', '*.pkl')))\n",
    "\n",
    "dataframe_dict = {}\n",
    "\n",
    "for file_path in file_paths:\n",
    "    file_name = splitext(basename(file_path))[0]\n",
    "    trial_name, radius = file_name.split('_radius_')\n",
    "    \n",
    "    dataframe_dict[(int(radius), trial_name)] = pd.read_pickle(file_path)\n",
    "   \n",
    "\n",
    "df_radii = pd.concat(dataframe_dict)\n",
    "df_radii.index.names = ['radius', 'trial_name', 'frame']\n",
    "\n",
    "radii = df_radii.index.get_level_values(0).unique().values"
   ]
  },
  {
   "cell_type": "code",
   "execution_count": 6,
   "metadata": {},
   "outputs": [
    {
     "name": "stdout",
     "output_type": "stream",
     "text": [
      "0.41480206540447506 0.5869191049913941\n",
      "0.7986230636833046 0.9621342512908778\n",
      "0.7865748709122203 0.9604130808950087\n",
      "0.8055077452667814 0.9672977624784854\n",
      "0.7951807228915663 0.9672977624784854\n",
      "0.8089500860585198 0.9741824440619621\n",
      "0.7934595524956971 0.9655765920826161\n",
      "0.810671256454389 0.9724612736660929\n",
      "0.8003442340791739 0.9690189328743546\n",
      "0.810671256454389 0.9724612736660929\n",
      "0.8003442340791739 0.9690189328743546\n",
      "0.8003442340791739 0.9690189328743546\n",
      "0.8003442340791739 0.9690189328743546\n",
      "0.8003442340791739 0.9690189328743546\n",
      "0.8003442340791739 0.9690189328743546\n"
     ]
    }
   ],
   "source": [
    "proposals = df_hypo.FOOT.values\n",
    "\n",
    "truth_l = np.stack(df_truth.L_FOOT)\n",
    "truth_r = np.stack(df_truth.R_FOOT)\n",
    "\n",
    "# Create modified truth\n",
    "truth_mod_l = pp.closest_proposals(proposals, np.stack(df_truth.L_FOOT))\n",
    "truth_mod_r = pp.closest_proposals(proposals, np.stack(df_truth.R_FOOT))\n",
    "\n",
    "for radius in radii:\n",
    "\n",
    "    df_selected = df_radii.loc[radius].loc[index_intersect]\n",
    "    \n",
    "    selected_l = np.stack(df_selected.L_FOOT)\n",
    "    selected_r = np.stack(df_selected.R_FOOT)\n",
    "    \n",
    "    # Match selected positions with truth\n",
    "    matched_l, matched_r = pp.match_pairs(selected_l, selected_r, truth_l,\n",
    "                                          truth_r)\n",
    "    \n",
    "    acc_matched = pp.double_position_accuracy(\n",
    "        matched_l, matched_r, truth_l, truth_r, max_dist=15)\n",
    "    \n",
    "    acc_matched_mod = pp.double_position_accuracy(\n",
    "        matched_l, matched_r, truth_mod_l, truth_mod_r, max_dist=15)\n",
    "    \n",
    "    print(acc_matched, acc_matched_mod)"
   ]
  },
  {
   "cell_type": "code",
   "execution_count": null,
   "metadata": {},
   "outputs": [],
   "source": []
  }
 ],
 "metadata": {
  "kernelspec": {
   "display_name": "Python [conda env:depth_gait_env]",
   "language": "python",
   "name": "conda-env-depth_gait_env-py"
  },
  "language_info": {
   "codemirror_mode": {
    "name": "ipython",
    "version": 3
   },
   "file_extension": ".py",
   "mimetype": "text/x-python",
   "name": "python",
   "nbconvert_exporter": "python",
   "pygments_lexer": "ipython3",
   "version": "3.7.0"
  }
 },
 "nbformat": 4,
 "nbformat_minor": 2
}
