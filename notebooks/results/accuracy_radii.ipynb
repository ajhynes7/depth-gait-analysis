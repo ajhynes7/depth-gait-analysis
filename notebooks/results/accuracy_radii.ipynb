{
 "cells": [
  {
   "cell_type": "code",
   "execution_count": 1,
   "metadata": {},
   "outputs": [],
   "source": [
    "import os\n",
    "\n",
    "os.chdir('../..')"
   ]
  },
  {
   "cell_type": "code",
   "execution_count": 2,
   "metadata": {},
   "outputs": [],
   "source": [
    "import glob\n",
    "from os.path import basename, join, splitext\n",
    "\n",
    "import numpy as np\n",
    "from numpy.linalg import norm\n",
    "import pandas as pd\n",
    "\n",
    "import modules.point_processing as pp\n"
   ]
  },
  {
   "cell_type": "code",
   "execution_count": 3,
   "metadata": {},
   "outputs": [],
   "source": [
    "def combine_dataframes(load_dir, trial_names):\n",
    "    \"\"\"Combine dataframes from different walking trials.\"\"\"\n",
    "    dataframe_dict = {}\n",
    "\n",
    "    for trial_name in trial_names:\n",
    "        dataframe_dict[trial_name] = pd.read_pickle(\n",
    "            join(load_dir, trial_name) + '.pkl')\n",
    "\n",
    "    return pd.concat(dataframe_dict)\n"
   ]
  },
  {
   "cell_type": "code",
   "execution_count": 4,
   "metadata": {},
   "outputs": [],
   "source": [
    "kinect_dir = join('data', 'kinect')\n",
    "\n",
    "df_truth = pd.read_pickle('results/dataframes/df_truth.pkl')\n",
    "trial_names = df_truth.index.get_level_values(0).unique().values\n",
    "\n",
    "df_hypo = combine_dataframes(\n",
    "    join(kinect_dir, 'processed', 'hypothesis'), trial_names)\n",
    "df_selected = combine_dataframes(join(kinect_dir, 'best_pos'), trial_names)\n",
    "df_assigned = combine_dataframes(join(kinect_dir, 'assigned'), trial_names)\n",
    "\n",
    "foot_parts = ['L_FOOT', 'R_FOOT']\n",
    "\n",
    "# Truth positions on frames with head and both feet\n",
    "df_truth = df_truth.loc[:, ['HEAD'] + foot_parts].dropna()\n",
    "\n",
    "# Drop index level for walking pass\n",
    "# This gives it the same index as the other dataframes\n",
    "df_assigned.index = df_assigned.index.droplevel(1)\n",
    "\n",
    "# %% Take frames with truth and selected positions\n",
    "\n",
    "index_intersect = df_truth.index.intersection(df_selected.index)\n",
    "\n",
    "df_truth = df_truth.loc[index_intersect]\n",
    "df_hypo = df_hypo.loc[index_intersect]\n",
    "df_selected = df_selected.loc[index_intersect]\n",
    "df_assigned = df_assigned.loc[index_intersect]"
   ]
  },
  {
   "cell_type": "code",
   "execution_count": 5,
   "metadata": {},
   "outputs": [],
   "source": [
    "file_paths = sorted(glob.glob(join(kinect_dir, 'best_pos_radii', '*.pkl')))\n",
    "\n",
    "dataframe_dict = {}\n",
    "\n",
    "for file_path in file_paths:\n",
    "    file_name = splitext(basename(file_path))[0]\n",
    "    trial_name, radius = file_name.split('_radius_')\n",
    "    \n",
    "    dataframe_dict[(float(radius), trial_name)] = pd.read_pickle(file_path)\n",
    "   \n",
    "\n",
    "df_radii = pd.concat(dataframe_dict)\n",
    "df_radii.index.names = ['radius', 'trial_name', 'frame']\n",
    "\n",
    "radii = df_radii.index.get_level_values(0).unique().values"
   ]
  },
  {
   "cell_type": "code",
   "execution_count": 6,
   "metadata": {},
   "outputs": [],
   "source": [
    "proposals = df_hypo.FOOT.values\n",
    "\n",
    "truth_l = np.stack(df_truth.L_FOOT)\n",
    "truth_r = np.stack(df_truth.R_FOOT)\n",
    "\n",
    "# Create modified truth\n",
    "truth_mod_l = pp.closest_proposals(proposals, np.stack(df_truth.L_FOOT))\n",
    "truth_mod_r = pp.closest_proposals(proposals, np.stack(df_truth.R_FOOT))\n",
    "\n",
    "\n",
    "#     acc_matched = pp.double_position_accuracy(\n",
    "#         matched_l, matched_r, truth_l, truth_r, max_dist=10)\n",
    "    \n",
    "#     acc_matched_mod = pp.double_position_accuracy(\n",
    "#         matched_l, matched_r, truth_mod_l, truth_mod_r, max_dist=10)\n",
    "    \n",
    "#     print(radius, acc_matched, acc_matched_mod)"
   ]
  },
  {
   "cell_type": "code",
   "execution_count": 7,
   "metadata": {},
   "outputs": [],
   "source": [
    "radii = np.arange(0, 10, 1)\n",
    "\n",
    "truth_accs, truth_mod_accs = [], []\n",
    "mean_dists, mean_dists_mod = [], []\n",
    "\n",
    "for radius in radii:\n",
    "\n",
    "    df_selected = df_radii.loc[radius].loc[index_intersect]\n",
    "    \n",
    "    selected_l = np.stack(df_selected.L_FOOT)\n",
    "    selected_r = np.stack(df_selected.R_FOOT)\n",
    "    \n",
    "    # Match selected positions with truth\n",
    "    matched_l, matched_r = pp.match_pairs(selected_l, selected_r, truth_l,\n",
    "                                          truth_r)\n",
    "    \n",
    "    \n",
    "    matched_lr = np.vstack((matched_l, matched_r))\n",
    "    truth_lr = np.vstack((truth_l, truth_r))\n",
    "    truth_mod_lr = np.vstack((truth_mod_l, truth_mod_r))\n",
    "    \n",
    "    mean_dists.append(norm(matched_lr - truth_lr, axis=1).mean())\n",
    "    mean_dists_mod.append(norm(matched_lr - truth_mod_lr, axis=1).mean())\n",
    "    \n",
    "    truth_accs.append(pp.double_position_accuracy(matched_l, matched_r, truth_l, truth_r))\n",
    "    truth_mod_accs.append(pp.double_position_accuracy(matched_l, matched_r, truth_mod_l, truth_mod_r))"
   ]
  },
  {
   "cell_type": "code",
   "execution_count": 8,
   "metadata": {},
   "outputs": [],
   "source": [
    "import matplotlib.pyplot as plt"
   ]
  },
  {
   "cell_type": "code",
   "execution_count": 9,
   "metadata": {},
   "outputs": [
    {
     "data": {
      "image/png": "[encoded data removed]",
      "text/plain": [
       "<Figure size 432x288 with 1 Axes>"
      ]
     },
     "metadata": {
      "needs_background": "light"
     },
     "output_type": "display_data"
    }
   ],
   "source": [
    "plt.figure()\n",
    "\n",
    "plt.plot(radii, mean_dists, '-o', c='b')\n",
    "plt.plot(radii, mean_dists_mod, '-o', c='r')\n",
    "\n",
    "plt.xlabel('Radius')\n",
    "plt.ylabel('Mean Distance')\n",
    "\n",
    "plt.legend(['Truth', 'Modified'])\n",
    "\n",
    "plt.show()"
   ]
  },
  {
   "cell_type": "code",
   "execution_count": 10,
   "metadata": {},
   "outputs": [
    {
     "data": {
      "image/png": "[encoded data removed]",
      "text/plain": [
       "<Figure size 432x288 with 1 Axes>"
      ]
     },
     "metadata": {
      "needs_background": "light"
     },
     "output_type": "display_data"
    }
   ],
   "source": [
    "plt.figure()\n",
    "\n",
    "plt.plot(radii, truth_accs, '-o', c='b')\n",
    "plt.plot(radii, truth_mod_accs, '-o', c='r')\n",
    "\n",
    "plt.xlabel('Radius')\n",
    "plt.ylabel('Accuracy')\n",
    "\n",
    "plt.legend(['Truth', 'Modified'])\n",
    "\n",
    "plt.show()"
   ]
  },
  {
   "cell_type": "code",
   "execution_count": null,
   "metadata": {},
   "outputs": [],
   "source": []
  }
 ],
 "metadata": {
  "kernelspec": {
   "display_name": "Python [conda env:depth_gait_env]",
   "language": "python",
   "name": "conda-env-depth_gait_env-py"
  },
  "language_info": {
   "codemirror_mode": {
    "name": "ipython",
    "version": 3
   },
   "file_extension": ".py",
   "mimetype": "text/x-python",
   "name": "python",
   "nbconvert_exporter": "python",
   "pygments_lexer": "ipython3",
   "version": "3.7.0"
  }
 },
 "nbformat": 4,
 "nbformat_minor": 2
}
