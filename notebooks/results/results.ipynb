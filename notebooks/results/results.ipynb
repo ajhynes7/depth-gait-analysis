{
 "cells": [
  {
   "cell_type": "code",
   "execution_count": 1,
   "metadata": {},
   "outputs": [],
   "source": [
    "import os\n",
    "\n",
    "import pandas as pd\n",
    "import matplotlib.pyplot as plt\n",
    "from scipy.stats import spearmanr, pearsonr\n",
    "\n",
    "import sys\n",
    "sys.path.append('../..')\n",
    "\n",
    "import modules.pandas_funcs as pf\n",
    "import analysis.plotting as pl\n",
    "import analysis.stats as st"
   ]
  },
  {
   "cell_type": "code",
   "execution_count": 2,
   "metadata": {},
   "outputs": [],
   "source": [
    "results_dir = os.path.join('..', '..', 'data', 'results')\n",
    "match_dir = os.path.join('..', '..', 'data', 'matching')\n",
    "\n",
    "\n",
    "df_k_raw = pd.read_csv(os.path.join(results_dir, 'kinect_gait_metrics.csv'),\n",
    "                       index_col=0)\n",
    "\n",
    "df_z_raw = pd.read_csv(os.path.join(results_dir, 'zeno_gait_metrics.csv'),\n",
    "                       index_col=0)\n",
    "\n",
    "df_match = pd.read_csv(os.path.join(match_dir, 'match_kinect_zeno.csv'))\n",
    "\n",
    "# Drop rows where file has no match\n",
    "df_match = df_match.dropna(axis=0)\n",
    "\n",
    "\n",
    "df_match_zeno = pd.merge(df_match, df_z_raw, left_on='Zeno', right_index=True)\n",
    "\n",
    "df_total = pd.merge(df_match_zeno, df_k_raw, left_on='Kinect',\n",
    "                    right_index=True, suffixes=('_z', '_k'))\n",
    "\n",
    "\n",
    "# Take columns from total DataFrame to get Kinect and Zeno data\n",
    "df_k = df_total.filter(like='_k')\n",
    "df_z = df_total.filter(like='_z')\n",
    "\n",
    "# Remove suffixes from column names\n",
    "df_k = df_k.rename(columns=lambda x: str(x)[:-2])\n",
    "df_z = df_z.rename(columns=lambda x: str(x)[:-2])"
   ]
  },
  {
   "cell_type": "code",
   "execution_count": 3,
   "metadata": {},
   "outputs": [],
   "source": [
    "df_stacked_k = df_k.groupby(lambda col_name: col_name[:-2], axis=1).apply(lambda x: pd.Series(x.values.flatten('F')))\n",
    "df_stacked_z = df_z.groupby(lambda col_name: col_name[:-2], axis=1).apply(lambda x: pd.Series(x.values.flatten('F')))"
   ]
  },
  {
   "cell_type": "code",
   "execution_count": 4,
   "metadata": {},
   "outputs": [],
   "source": [
    "funcs = {'Pearson': lambda a, b: pearsonr(a, b)[0],\n",
    "        'Spearman': lambda a, b: spearmanr(a, b)[0],\n",
    "        'Abs rel error': lambda a, b: st.relative_error(a, b, absolute=True).mean(),\n",
    "        'Bias': lambda a, b: st.bland_altman(a, b)[0], \n",
    "        'Range': lambda a, b: st.bland_altman(a, b)[2] - st.bland_altman(a, b)[1],\n",
    "        }"
   ]
  },
  {
   "cell_type": "code",
   "execution_count": 5,
   "metadata": {},
   "outputs": [],
   "source": [
    "df_results = st.compare_measurements(df_k, df_z, funcs)\n",
    "df_stacked_results = st.compare_measurements(df_stacked_k, df_stacked_z, funcs)"
   ]
  },
  {
   "cell_type": "code",
   "execution_count": 6,
   "metadata": {},
   "outputs": [
    {
     "data": {
      "text/html": [
       "<div>\n",
       "<style scoped>\n",
       "    .dataframe tbody tr th:only-of-type {\n",
       "        vertical-align: middle;\n",
       "    }\n",
       "\n",
       "    .dataframe tbody tr th {\n",
       "        vertical-align: top;\n",
       "    }\n",
       "\n",
       "    .dataframe thead th {\n",
       "        text-align: right;\n",
       "    }\n",
       "</style>\n",
       "<table border=\"1\" class=\"dataframe\">\n",
       "  <thead>\n",
       "    <tr style=\"text-align: right;\">\n",
       "      <th></th>\n",
       "      <th>stance_percentage</th>\n",
       "      <th>step_length</th>\n",
       "      <th>stride_length</th>\n",
       "      <th>stride_time</th>\n",
       "      <th>stride_velocity</th>\n",
       "      <th>stride_width</th>\n",
       "    </tr>\n",
       "  </thead>\n",
       "  <tbody>\n",
       "    <tr>\n",
       "      <th>Pearson</th>\n",
       "      <td>0.668654</td>\n",
       "      <td>0.912763</td>\n",
       "      <td>0.969071</td>\n",
       "      <td>0.912728</td>\n",
       "      <td>0.943847</td>\n",
       "      <td>0.840251</td>\n",
       "    </tr>\n",
       "    <tr>\n",
       "      <th>Spearman</th>\n",
       "      <td>0.688606</td>\n",
       "      <td>0.856471</td>\n",
       "      <td>0.887354</td>\n",
       "      <td>0.675473</td>\n",
       "      <td>0.820698</td>\n",
       "      <td>0.740691</td>\n",
       "    </tr>\n",
       "    <tr>\n",
       "      <th>Abs rel error</th>\n",
       "      <td>0.10863</td>\n",
       "      <td>0.0532566</td>\n",
       "      <td>0.0311605</td>\n",
       "      <td>0.167316</td>\n",
       "      <td>0.201086</td>\n",
       "      <td>2.94179</td>\n",
       "    </tr>\n",
       "    <tr>\n",
       "      <th>Bias</th>\n",
       "      <td>0.0441908</td>\n",
       "      <td>0.0262082</td>\n",
       "      <td>0.0183009</td>\n",
       "      <td>-0.185143</td>\n",
       "      <td>0.177769</td>\n",
       "      <td>0.37133</td>\n",
       "    </tr>\n",
       "    <tr>\n",
       "      <th>Range</th>\n",
       "      <td>0.452486</td>\n",
       "      <td>0.251322</td>\n",
       "      <td>0.153637</td>\n",
       "      <td>0.37684</td>\n",
       "      <td>0.362214</td>\n",
       "      <td>16.8972</td>\n",
       "    </tr>\n",
       "  </tbody>\n",
       "</table>\n",
       "</div>"
      ],
      "text/plain": [
       "              stance_percentage step_length stride_length stride_time  \\\n",
       "Pearson                0.668654    0.912763      0.969071    0.912728   \n",
       "Spearman               0.688606    0.856471      0.887354    0.675473   \n",
       "Abs rel error           0.10863   0.0532566     0.0311605    0.167316   \n",
       "Bias                  0.0441908   0.0262082     0.0183009   -0.185143   \n",
       "Range                  0.452486    0.251322      0.153637     0.37684   \n",
       "\n",
       "              stride_velocity stride_width  \n",
       "Pearson              0.943847     0.840251  \n",
       "Spearman             0.820698     0.740691  \n",
       "Abs rel error        0.201086      2.94179  \n",
       "Bias                 0.177769      0.37133  \n",
       "Range                0.362214      16.8972  "
      ]
     },
     "execution_count": 6,
     "metadata": {},
     "output_type": "execute_result"
    }
   ],
   "source": [
    "df_stacked_results"
   ]
  },
  {
   "cell_type": "markdown",
   "metadata": {},
   "source": [
    "## Plotting"
   ]
  },
  {
   "cell_type": "code",
   "execution_count": 7,
   "metadata": {},
   "outputs": [],
   "source": [
    "plt.rc('text', usetex=True)\n",
    "\n",
    "font = {'family' : 'serif',\n",
    "        'weight' : 'bold',\n",
    "        'size'   : 14,\n",
    "       }\n",
    "\n",
    "plt.rc('font', **font)  # pass in the font dict as kwargs"
   ]
  },
  {
   "cell_type": "code",
   "execution_count": 8,
   "metadata": {},
   "outputs": [
    {
     "data": {
      "image/png": "[encoded data removed]",
      "text/plain": [
       "<Figure size 432x288 with 1 Axes>"
      ]
     },
     "metadata": {
      "needs_background": "light"
     },
     "output_type": "display_data"
    }
   ],
   "source": [
    "x_label, y_label = 'Zeno Walkway', 'Kinect'\n",
    "param = 'step_length'\n",
    "    \n",
    "pl.compare_measurements(df_stacked_z[param], df_stacked_k[param], c='k', s=10)\n",
    "\n",
    "plt.xlabel(x_label)\n",
    "plt.ylabel(y_label)\n",
    "plt.show()"
   ]
  },
  {
   "cell_type": "code",
   "execution_count": null,
   "metadata": {},
   "outputs": [],
   "source": []
  },
  {
   "cell_type": "code",
   "execution_count": null,
   "metadata": {},
   "outputs": [],
   "source": []
  }
 ],
 "metadata": {
  "kernelspec": {
   "display_name": "Python [default]",
   "language": "python",
   "name": "python3"
  },
  "language_info": {
   "codemirror_mode": {
    "name": "ipython",
    "version": 3
   },
   "file_extension": ".py",
   "mimetype": "text/x-python",
   "name": "python",
   "nbconvert_exporter": "python",
   "pygments_lexer": "ipython3",
   "version": "3.7.0"
  }
 },
 "nbformat": 4,
 "nbformat_minor": 2
}
