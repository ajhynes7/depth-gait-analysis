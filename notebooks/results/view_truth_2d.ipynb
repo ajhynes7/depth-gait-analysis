{
 "cells": [
  {
   "cell_type": "code",
   "execution_count": 1,
   "metadata": {},
   "outputs": [],
   "source": [
    "import os\n",
    "\n",
    "os.chdir('../..')"
   ]
  },
  {
   "cell_type": "code",
   "execution_count": 2,
   "metadata": {},
   "outputs": [],
   "source": [
    "import pandas as pd\n",
    "from os.path import join\n",
    "import numpy as np\n",
    "\n",
    "import matplotlib.pyplot as plt\n",
    "import analysis.plotting as pl\n",
    "\n",
    "import modules.linear_algebra as lin\n",
    "import modules.assign_sides as asi"
   ]
  },
  {
   "cell_type": "code",
   "execution_count": 3,
   "metadata": {},
   "outputs": [],
   "source": [
    "df_truth = pd.read_pickle(join('results', 'dataframes', 'df_truth.pkl')).loc['2014-12-03_P005_Post_002']"
   ]
  },
  {
   "cell_type": "code",
   "execution_count": 4,
   "metadata": {},
   "outputs": [],
   "source": [
    "df_truth = df_truth[['HEAD', 'L_FOOT', 'R_FOOT']].dropna().loc[1:150]"
   ]
  },
  {
   "cell_type": "code",
   "execution_count": 5,
   "metadata": {},
   "outputs": [],
   "source": [
    "frames = df_truth.index.values"
   ]
  },
  {
   "cell_type": "code",
   "execution_count": 22,
   "metadata": {},
   "outputs": [],
   "source": [
    "truth_l = np.stack(df_truth.L_FOOT)\n",
    "truth_r = np.stack(df_truth.R_FOOT)"
   ]
  },
  {
   "cell_type": "code",
   "execution_count": 34,
   "metadata": {},
   "outputs": [],
   "source": [
    "def convert_to_2d(points_real):\n",
    "    \n",
    "    x_vals, _, depths = points_real.T\n",
    "    \n",
    "    x_vals_new = -depths\n",
    "    y_vals_new = x_vals\n",
    "    \n",
    "    return np.column_stack([x_vals_new, y_vals_new])"
   ]
  },
  {
   "cell_type": "code",
   "execution_count": 37,
   "metadata": {},
   "outputs": [],
   "source": [
    "truth_2d_l = convert_to_2d(truth_l)\n",
    "truth_2d_r = convert_to_2d(truth_r)"
   ]
  },
  {
   "cell_type": "code",
   "execution_count": 38,
   "metadata": {},
   "outputs": [
    {
     "data": {
      "image/png": "[encoded data removed]",
      "text/plain": [
       "<Figure size 432x288 with 1 Axes>"
      ]
     },
     "metadata": {
      "needs_background": "light"
     },
     "output_type": "display_data"
    }
   ],
   "source": [
    "plt.figure()\n",
    "\n",
    "pl.scatter2(truth_2d_l, c=frames, cmap='Blues')\n",
    "pl.scatter2(truth_2d_r, c=frames, cmap='Reds')\n",
    "\n",
    "# plt.xlim((200, 350))"
   ]
  },
  {
   "cell_type": "code",
   "execution_count": 9,
   "metadata": {},
   "outputs": [],
   "source": [
    "# _, direction = asi.direction_of_pass(df_truth)"
   ]
  },
  {
   "cell_type": "code",
   "execution_count": 10,
   "metadata": {},
   "outputs": [],
   "source": [
    "side_total = 0\n",
    "for foot_point_a, foot_point_b in zip(truth_2d_l, truth_2d_r):\n",
    "    side_total += lin.side_value_2d(foot_point_a, foot_point_b, [0, 1])"
   ]
  },
  {
   "cell_type": "code",
   "execution_count": null,
   "metadata": {},
   "outputs": [],
   "source": []
  }
 ],
 "metadata": {
  "kernelspec": {
   "display_name": "Python [conda env:depth_gait_env]",
   "language": "python",
   "name": "conda-env-depth_gait_env-py"
  },
  "language_info": {
   "codemirror_mode": {
    "name": "ipython",
    "version": 3
   },
   "file_extension": ".py",
   "mimetype": "text/x-python",
   "name": "python",
   "nbconvert_exporter": "python",
   "pygments_lexer": "ipython3",
   "version": "3.7.0"
  }
 },
 "nbformat": 4,
 "nbformat_minor": 2
}
