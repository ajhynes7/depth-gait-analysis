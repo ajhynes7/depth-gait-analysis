{
 "cells": [
  {
   "cell_type": "code",
   "execution_count": 1,
   "metadata": {},
   "outputs": [],
   "source": [
    "import os\n",
    "\n",
    "os.chdir('../..')"
   ]
  },
  {
   "cell_type": "code",
   "execution_count": 2,
   "metadata": {},
   "outputs": [],
   "source": [
    "from os.path import join\n",
    "\n",
    "import numpy as np\n",
    "import pandas as pd\n",
    "\n",
    "import modules.point_processing as pp"
   ]
  },
  {
   "cell_type": "code",
   "execution_count": 3,
   "metadata": {},
   "outputs": [],
   "source": [
    "kinect_dir = join('data', 'kinect')"
   ]
  },
  {
   "cell_type": "code",
   "execution_count": 4,
   "metadata": {},
   "outputs": [],
   "source": [
    "df_truth = pd.read_pickle('results/dataframes/df_truth.pkl')\n",
    "\n"
   ]
  },
  {
   "cell_type": "code",
   "execution_count": 5,
   "metadata": {},
   "outputs": [],
   "source": [
    "trial_names = df_truth.index.get_level_values(0).unique().values"
   ]
  },
  {
   "cell_type": "code",
   "execution_count": 6,
   "metadata": {},
   "outputs": [],
   "source": [
    "def combine_dataframes(load_dir, trial_names):\n",
    "    \n",
    "    dataframe_dict = {}\n",
    "    \n",
    "    for trial_name in trial_names:\n",
    "        dataframe_dict[trial_name] = pd.read_pickle(join(load_dir, trial_name) + '.pkl')\n",
    "\n",
    "    return pd.concat(dataframe_dict)\n"
   ]
  },
  {
   "cell_type": "code",
   "execution_count": 7,
   "metadata": {},
   "outputs": [],
   "source": [
    "df_hypo = combine_dataframes(join(kinect_dir, 'processed', 'hypothesis'), trial_names)\n",
    "df_selected = combine_dataframes(join(kinect_dir, 'best_pos'), trial_names)\n",
    "df_assigned = combine_dataframes(join(kinect_dir, 'assigned'), trial_names)"
   ]
  },
  {
   "cell_type": "code",
   "execution_count": 8,
   "metadata": {},
   "outputs": [],
   "source": [
    "foot_parts = ['L_FOOT', 'R_FOOT']"
   ]
  },
  {
   "cell_type": "code",
   "execution_count": 9,
   "metadata": {},
   "outputs": [],
   "source": [
    "# Truth positions on frames with head and both feet\n",
    "df_truth = df_truth.loc[:, ['HEAD'] + foot_parts].dropna()"
   ]
  },
  {
   "cell_type": "code",
   "execution_count": 10,
   "metadata": {},
   "outputs": [],
   "source": [
    "index_intersect = df_truth.index.intersection(df_selected.index)"
   ]
  },
  {
   "cell_type": "code",
   "execution_count": 11,
   "metadata": {},
   "outputs": [
    {
     "data": {
      "text/plain": [
       "(672, 3)"
      ]
     },
     "execution_count": 11,
     "metadata": {},
     "output_type": "execute_result"
    }
   ],
   "source": [
    "df_selected.shape"
   ]
  },
  {
   "cell_type": "code",
   "execution_count": 12,
   "metadata": {},
   "outputs": [],
   "source": [
    "# Drop index level for walking pass\n",
    "# This gives it the same index as the other dataframes\n",
    "df_assigned.index = df_assigned.index.droplevel(1)"
   ]
  },
  {
   "cell_type": "code",
   "execution_count": 13,
   "metadata": {},
   "outputs": [],
   "source": [
    "df_truth = df_truth.loc[index_intersect]\n",
    "df_selected = df_selected.loc[index_intersect]\n",
    "df_assigned = df_assigned.loc[index_intersect]\n"
   ]
  },
  {
   "cell_type": "code",
   "execution_count": 14,
   "metadata": {},
   "outputs": [],
   "source": [
    "frames = df_truth.index"
   ]
  },
  {
   "cell_type": "code",
   "execution_count": 15,
   "metadata": {},
   "outputs": [],
   "source": [
    "df_truth_modified = pd.DataFrame(index=frames, \n",
    "                                 columns=foot_parts)\n",
    "\n",
    "for frame in frames:\n",
    "    \n",
    "    foot_proposals = df_hypo.loc[frame, 'FOOT']\n",
    "    true_foot_l, true_foot_r = df_truth.loc[frame, foot_parts]\n",
    "        \n",
    "    proposal_closest_l, _ = pp.closest_point(foot_proposals, true_foot_l.reshape(1, -1))\n",
    "    proposal_closest_r, _ = pp.closest_point(foot_proposals, true_foot_r.reshape(1, -1))\n",
    "    \n",
    "    df_truth_modified.loc[frame, foot_parts[0]] = proposal_closest_l\n",
    "    df_truth_modified.loc[frame, foot_parts[1]] = proposal_closest_r"
   ]
  },
  {
   "cell_type": "code",
   "execution_count": 16,
   "metadata": {},
   "outputs": [
    {
     "data": {
      "text/plain": [
       "0.8347676419965576"
      ]
     },
     "execution_count": 16,
     "metadata": {},
     "output_type": "execute_result"
    }
   ],
   "source": [
    "pp.position_accuracy(np.stack(df_truth_modified.L_FOOT), np.stack(df_truth.L_FOOT))"
   ]
  },
  {
   "cell_type": "code",
   "execution_count": 17,
   "metadata": {},
   "outputs": [
    {
     "data": {
      "text/plain": [
       "0.8261617900172117"
      ]
     },
     "execution_count": 17,
     "metadata": {},
     "output_type": "execute_result"
    }
   ],
   "source": [
    "pp.position_accuracy(np.stack(df_truth_modified.R_FOOT), np.stack(df_truth.R_FOOT))"
   ]
  },
  {
   "cell_type": "code",
   "execution_count": 18,
   "metadata": {},
   "outputs": [],
   "source": [
    "frames_intersect = df_truth.index.intersection(df_selected.index)"
   ]
  },
  {
   "cell_type": "code",
   "execution_count": 19,
   "metadata": {},
   "outputs": [],
   "source": [
    "df_selected_assigned = pd.DataFrame(index=frames,\n",
    "                                    columns=foot_parts)\n",
    "\n",
    "for frame in frames:\n",
    "    \n",
    "    points_selected = np.stack(df_selected.loc[frame][foot_parts])\n",
    "    points_truth = np.stack(df_truth_modified.loc[frame])\n",
    "    \n",
    "    assigned_l, assigned_r = pp.correspond_points(points_truth, points_selected)\n",
    "    \n",
    "    df_selected_assigned.loc[frame, foot_parts[0]] = assigned_l\n",
    "    df_selected_assigned.loc[frame, foot_parts[1]] = assigned_r"
   ]
  },
  {
   "cell_type": "code",
   "execution_count": 20,
   "metadata": {},
   "outputs": [
    {
     "data": {
      "text/plain": [
       "0.9913941480206541"
      ]
     },
     "execution_count": 20,
     "metadata": {},
     "output_type": "execute_result"
    }
   ],
   "source": [
    "pp.position_accuracy(np.stack(df_selected_assigned.L_FOOT), np.stack(df_truth_modified.L_FOOT))"
   ]
  },
  {
   "cell_type": "code",
   "execution_count": 21,
   "metadata": {},
   "outputs": [
    {
     "data": {
      "text/plain": [
       "0.9827882960413081"
      ]
     },
     "execution_count": 21,
     "metadata": {},
     "output_type": "execute_result"
    }
   ],
   "source": [
    "pp.position_accuracy(np.stack(df_selected_assigned.R_FOOT), np.stack(df_truth_modified.R_FOOT))"
   ]
  },
  {
   "cell_type": "code",
   "execution_count": 22,
   "metadata": {},
   "outputs": [],
   "source": [
    "df_truth_2d = df_truth.applymap(lambda point: point[[2, 0]])\n",
    "df_truth_modified_2d = df_truth_modified.applymap(lambda point: point[[2, 0]])"
   ]
  },
  {
   "cell_type": "code",
   "execution_count": 23,
   "metadata": {},
   "outputs": [
    {
     "data": {
      "text/plain": [
       "0.8864027538726333"
      ]
     },
     "execution_count": 23,
     "metadata": {},
     "output_type": "execute_result"
    }
   ],
   "source": [
    "pp.position_accuracy(np.stack(df_assigned.L_FOOT), np.stack(df_truth_2d.L_FOOT))"
   ]
  },
  {
   "cell_type": "code",
   "execution_count": 24,
   "metadata": {},
   "outputs": [
    {
     "data": {
      "text/plain": [
       "0.8864027538726333"
      ]
     },
     "execution_count": 24,
     "metadata": {},
     "output_type": "execute_result"
    }
   ],
   "source": [
    "pp.position_accuracy(np.stack(df_assigned.L_FOOT), np.stack(df_truth_2d.L_FOOT))"
   ]
  },
  {
   "cell_type": "code",
   "execution_count": 25,
   "metadata": {},
   "outputs": [
    {
     "data": {
      "text/plain": [
       "0.9948364888123924"
      ]
     },
     "execution_count": 25,
     "metadata": {},
     "output_type": "execute_result"
    }
   ],
   "source": [
    "pp.position_accuracy(np.stack(df_assigned.L_FOOT), np.stack(df_truth_modified_2d.L_FOOT))"
   ]
  },
  {
   "cell_type": "code",
   "execution_count": 26,
   "metadata": {},
   "outputs": [
    {
     "data": {
      "text/plain": [
       "0.9793459552495697"
      ]
     },
     "execution_count": 26,
     "metadata": {},
     "output_type": "execute_result"
    }
   ],
   "source": [
    "pp.position_accuracy(np.stack(df_assigned.R_FOOT), np.stack(df_truth_modified_2d.R_FOOT))"
   ]
  },
  {
   "cell_type": "code",
   "execution_count": null,
   "metadata": {},
   "outputs": [],
   "source": []
  },
  {
   "cell_type": "code",
   "execution_count": null,
   "metadata": {},
   "outputs": [],
   "source": []
  }
 ],
 "metadata": {
  "kernelspec": {
   "display_name": "Python [conda env:depth_gait_env]",
   "language": "python",
   "name": "conda-env-depth_gait_env-py"
  },
  "language_info": {
   "codemirror_mode": {
    "name": "ipython",
    "version": 3
   },
   "file_extension": ".py",
   "mimetype": "text/x-python",
   "name": "python",
   "nbconvert_exporter": "python",
   "pygments_lexer": "ipython3",
   "version": "3.7.0"
  }
 },
 "nbformat": 4,
 "nbformat_minor": 2
}
