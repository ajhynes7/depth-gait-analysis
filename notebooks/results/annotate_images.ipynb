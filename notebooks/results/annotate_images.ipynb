{
 "cells": [
  {
   "cell_type": "code",
   "execution_count": 1,
   "metadata": {},
   "outputs": [],
   "source": [
    "import os\n",
    "import glob\n",
    "\n",
    "import cv2\n",
    "import matplotlib.pyplot as plt\n",
    "import numpy as np\n",
    "import pandas as pd"
   ]
  },
  {
   "cell_type": "code",
   "execution_count": 2,
   "metadata": {},
   "outputs": [
    {
     "name": "stdout",
     "output_type": "stream",
     "text": [
      "Using matplotlib backend: MacOSX\n"
     ]
    }
   ],
   "source": [
    "%matplotlib auto"
   ]
  },
  {
   "cell_type": "code",
   "execution_count": 3,
   "metadata": {},
   "outputs": [],
   "source": [
    "home_dir = os.path.expanduser('~')  # Home directory on computer\n",
    "image_dir = os.path.join(home_dir, 'Dropbox', 'Depth data', '14-12-16_trial-004_depth16bit')\n",
    "\n",
    "image_paths = sorted(glob.glob(os.path.join(image_dir, '*.png')))"
   ]
  },
  {
   "cell_type": "code",
   "execution_count": 4,
   "metadata": {},
   "outputs": [],
   "source": [
    "kinect_dir = os.path.join('..', 'data', 'kinect', 'processed', 'hypothesis')\n",
    "\n",
    "kinect_paths = sorted(glob.glob(os.path.join(kinect_dir, '*.pkl')))"
   ]
  },
  {
   "cell_type": "code",
   "execution_count": 5,
   "metadata": {},
   "outputs": [],
   "source": [
    "df_coords = pd.DataFrame(columns=['HEAD', 'L_FOOT', 'R_FOOT'], index=range(100))\n",
    "df_coords.index.name = 'frame'"
   ]
  },
  {
   "cell_type": "markdown",
   "metadata": {},
   "source": [
    "## Annotate images"
   ]
  },
  {
   "cell_type": "code",
   "execution_count": 6,
   "metadata": {},
   "outputs": [],
   "source": [
    "def onclick(event):\n",
    "    \n",
    "    df_coords.loc[frame, part] = np.round([event.xdata, event.ydata]).astype(int)\n",
    "\n",
    "    \n",
    "# Initiate dataframe\n",
    "df_coords = pd.DataFrame(columns=['HEAD', 'L_FOOT', 'R_FOOT'], index=range(100))\n",
    "df_coords.index.name = 'frame'\n",
    "\n",
    "\n",
    "fig = plt.figure()\n",
    "\n",
    "for part in sorted(df_coords.columns):\n",
    "    \n",
    "    for frame, image_path in enumerate(image_paths[:3]):\n",
    "        \n",
    "        image = cv2.imread(image_path, cv2.IMREAD_ANYDEPTH)  \n",
    "        image_name = os.path.basename(image_path)\n",
    "\n",
    "        plt.imshow(image)\n",
    "        plt.title(\"{}: {}\".format(part, image_name))\n",
    "        plt.draw()\n",
    "        \n",
    "        fig.canvas.mpl_connect('button_press_event', onclick)\n",
    "        \n",
    "        plt.waitforbuttonpress()\n",
    "\n",
    "plt.close()\n",
    "    "
   ]
  },
  {
   "cell_type": "code",
   "execution_count": null,
   "metadata": {},
   "outputs": [],
   "source": []
  }
 ],
 "metadata": {
  "kernelspec": {
   "display_name": "Python 3",
   "language": "python",
   "name": "python3"
  },
  "language_info": {
   "codemirror_mode": {
    "name": "ipython",
    "version": 3
   },
   "file_extension": ".py",
   "mimetype": "text/x-python",
   "name": "python",
   "nbconvert_exporter": "python",
   "pygments_lexer": "ipython3",
   "version": "3.6.6"
  }
 },
 "nbformat": 4,
 "nbformat_minor": 2
}
