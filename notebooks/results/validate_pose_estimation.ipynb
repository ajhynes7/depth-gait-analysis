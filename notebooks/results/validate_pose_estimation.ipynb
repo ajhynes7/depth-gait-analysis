{
 "cells": [
  {
   "cell_type": "code",
   "execution_count": 2,
   "metadata": {},
   "outputs": [],
   "source": [
    "import os\n",
    "\n",
    "os.chdir('../..')"
   ]
  },
  {
   "cell_type": "code",
   "execution_count": 3,
   "metadata": {},
   "outputs": [],
   "source": [
    "import glob\n",
    "import os\n",
    "import re\n",
    "\n",
    "import cv2\n",
    "import matplotlib.pyplot as plt\n",
    "import numpy as np\n",
    "import pandas as pd\n",
    "from scipy.ndimage.measurements import center_of_mass\n",
    "\n",
    "import analysis.images as im"
   ]
  },
  {
   "cell_type": "code",
   "execution_count": 4,
   "metadata": {},
   "outputs": [
    {
     "name": "stdout",
     "output_type": "stream",
     "text": [
      "Using matplotlib backend: Qt5Agg\n"
     ]
    }
   ],
   "source": [
    "%matplotlib auto"
   ]
  },
  {
   "cell_type": "code",
   "execution_count": 5,
   "metadata": {},
   "outputs": [],
   "source": [
    "load_dir = os.path.join('data', 'kinect', 'labelled_trials')\n",
    "\n",
    "best_pos_dir = os.path.join('data', 'kinect', 'best_pos')"
   ]
  },
  {
   "cell_type": "code",
   "execution_count": 6,
   "metadata": {},
   "outputs": [],
   "source": [
    "labelled_trial_names = os.listdir(load_dir)"
   ]
  },
  {
   "cell_type": "code",
   "execution_count": 7,
   "metadata": {},
   "outputs": [],
   "source": [
    "best_pos_dir = os.path.join('data', 'kinect', 'best_pos')\n",
    "\n",
    "body_part_grayscale = {'HEAD': 105,\n",
    "                     'R_FOOT': 76, \n",
    "                     'L_FOOT': 135}\n",
    "\n",
    "# Camera calibration parameters\n",
    "x_res, y_res = 565, 430\n",
    "f_xz, f_yz = 1.11146664619446, 0.833599984645844\n",
    "\n",
    "\n",
    "pattern = re.compile(r'(\\d+)\\.png')\n",
    "\n",
    "for trial_name in labelled_trial_names[:1]:\n",
    "    \n",
    "    # Best positions selected by our method\n",
    "    df_best_pos = pd.read_pickle(os.path.join(best_pos_dir, trial_name + '.pkl'))\n",
    "    \n",
    "    label_dir = os.path.join(load_dir, trial_name, 'label')\n",
    "    depth_dir = os.path.join(load_dir, trial_name, 'depth16bit')\n",
    "\n",
    "    df_estimated = pd.read_pickle(os.path.join(best_pos_dir, trial_name + '.pkl'))\n",
    "    \n",
    "    label_paths = sorted(glob.glob(os.path.join(label_dir, '*.png')))\n",
    "    depth_paths = sorted(glob.glob(os.path.join(depth_dir, '*.png')))\n",
    "    \n",
    "    depth_filenames = [os.path.basename(x) for x in depth_paths]\n",
    "    frames = [int(re.search(pattern, x).group(1)) for x in depth_filenames]\n",
    "    \n",
    "    for i, frame in enumerate(frames):\n",
    "\n",
    "        \n",
    "        label_path, depth_path = label_paths[i], depth_paths[i]\n",
    "                        \n",
    "        label_image = cv2.imread(label_path, cv2.IMREAD_GRAYSCALE)\n",
    "        depth_image = cv2.imread(depth_path, cv2.IMREAD_ANYDEPTH)\n",
    "        \n",
    "        binary_image = label_image == body_part_grayscale['HEAD']\n",
    "        \n",
    "        \n",
    "        if np.any(binary_image):\n",
    "        \n",
    "            y, x = np.round(center_of_mass(binary_image)).astype(int)\n",
    "            z = depth_image[y, x] / 10  # Convert mm to cm\n",
    "            \n",
    "            point_real = im.image_to_real([x, y, z], x_res, y_res, f_xz, f_yz)\n",
    "            \n",
    "                \n",
    "        if frame == 411:\n",
    "            break"
   ]
  },
  {
   "cell_type": "code",
   "execution_count": 8,
   "metadata": {},
   "outputs": [
    {
     "data": {
      "text/plain": [
       "array([273, 274, 275, 276, 277, 278, 279, 280, 281, 282, 283, 284, 285,\n",
       "       409, 410, 411, 412, 413, 414, 415, 416, 417, 418, 419, 420, 421,\n",
       "       422, 423, 424, 425, 426, 427, 428, 429, 430, 431, 432, 433, 555,\n",
       "       556, 557, 558, 559, 560, 561, 562, 563, 564, 565, 566, 567, 568,\n",
       "       569, 570, 571, 572, 573, 574, 575, 576, 577, 578, 579, 580, 581,\n",
       "       582, 583, 584, 585, 586, 587, 588])"
      ]
     },
     "execution_count": 8,
     "metadata": {},
     "output_type": "execute_result"
    }
   ],
   "source": [
    "frames_best_pos = df_best_pos.index.values\n",
    "np.intersect1d(frames_best_pos, frames)"
   ]
  },
  {
   "cell_type": "code",
   "execution_count": 9,
   "metadata": {},
   "outputs": [
    {
     "data": {
      "text/plain": [
       "Text(0.5, 1.0, 'Frame 411')"
      ]
     },
     "execution_count": 9,
     "metadata": {},
     "output_type": "execute_result"
    }
   ],
   "source": [
    "plt.figure()\n",
    "\n",
    "# plt.imshow(label_image)\n",
    "plt.imshow(depth_image)\n",
    "\n",
    "plt.scatter(x, y, c='w', edgecolor='k')\n",
    "\n",
    "plt.title('Frame {}'.format(frame))"
   ]
  },
  {
   "cell_type": "code",
   "execution_count": 29,
   "metadata": {},
   "outputs": [
    {
     "data": {
      "text/plain": [
       "array([ 91.98013404,  59.17312589, 247.019     ])"
      ]
     },
     "execution_count": 29,
     "metadata": {},
     "output_type": "execute_result"
    }
   ],
   "source": [
    "df_best_pos.loc[frame].HEAD"
   ]
  },
  {
   "cell_type": "code",
   "execution_count": 30,
   "metadata": {},
   "outputs": [
    {
     "data": {
      "text/plain": [
       "array([149.13816834,  48.44146441, 242.6       ])"
      ]
     },
     "execution_count": 30,
     "metadata": {},
     "output_type": "execute_result"
    }
   ],
   "source": [
    "point_real"
   ]
  },
  {
   "cell_type": "code",
   "execution_count": 12,
   "metadata": {},
   "outputs": [
    {
     "data": {
      "text/plain": [
       "'2014-12-03_P005_Post_002'"
      ]
     },
     "execution_count": 12,
     "metadata": {},
     "output_type": "execute_result"
    }
   ],
   "source": [
    "trial_name"
   ]
  },
  {
   "cell_type": "code",
   "execution_count": 20,
   "metadata": {},
   "outputs": [],
   "source": [
    "label_filenames = [os.path.basename(x) for x in label_paths]\n",
    "\n",
    "depth_frames = [int(re.search(pattern, x).group(1)) for x in depth_filenames]\n",
    "label_frames = [int(re.search(pattern, x).group(1)) for x in label_filenames]\n"
   ]
  },
  {
   "cell_type": "code",
   "execution_count": 21,
   "metadata": {},
   "outputs": [
    {
     "data": {
      "text/plain": [
       "True"
      ]
     },
     "execution_count": 21,
     "metadata": {},
     "output_type": "execute_result"
    }
   ],
   "source": [
    "label_frames == depth_frames"
   ]
  },
  {
   "cell_type": "code",
   "execution_count": 28,
   "metadata": {},
   "outputs": [
    {
     "data": {
      "text/plain": [
       "['data/kinect/labelled_trials/2014-12-03_P005_Post_002/depth16bit/14-12-03_trial-002_depth16bit00273.png',\n",
       " 'data/kinect/labelled_trials/2014-12-03_P005_Post_002/depth16bit/14-12-03_trial-002_depth16bit00274.png',\n",
       " 'data/kinect/labelled_trials/2014-12-03_P005_Post_002/depth16bit/14-12-03_trial-002_depth16bit00275.png',\n",
       " 'data/kinect/labelled_trials/2014-12-03_P005_Post_002/depth16bit/14-12-03_trial-002_depth16bit00276.png',\n",
       " 'data/kinect/labelled_trials/2014-12-03_P005_Post_002/depth16bit/14-12-03_trial-002_depth16bit00277.png',\n",
       " 'data/kinect/labelled_trials/2014-12-03_P005_Post_002/depth16bit/14-12-03_trial-002_depth16bit00278.png',\n",
       " 'data/kinect/labelled_trials/2014-12-03_P005_Post_002/depth16bit/14-12-03_trial-002_depth16bit00279.png',\n",
       " 'data/kinect/labelled_trials/2014-12-03_P005_Post_002/depth16bit/14-12-03_trial-002_depth16bit00280.png',\n",
       " 'data/kinect/labelled_trials/2014-12-03_P005_Post_002/depth16bit/14-12-03_trial-002_depth16bit00281.png',\n",
       " 'data/kinect/labelled_trials/2014-12-03_P005_Post_002/depth16bit/14-12-03_trial-002_depth16bit00282.png',\n",
       " 'data/kinect/labelled_trials/2014-12-03_P005_Post_002/depth16bit/14-12-03_trial-002_depth16bit00283.png',\n",
       " 'data/kinect/labelled_trials/2014-12-03_P005_Post_002/depth16bit/14-12-03_trial-002_depth16bit00284.png',\n",
       " 'data/kinect/labelled_trials/2014-12-03_P005_Post_002/depth16bit/14-12-03_trial-002_depth16bit00285.png',\n",
       " 'data/kinect/labelled_trials/2014-12-03_P005_Post_002/depth16bit/14-12-03_trial-002_depth16bit00286.png',\n",
       " 'data/kinect/labelled_trials/2014-12-03_P005_Post_002/depth16bit/14-12-03_trial-002_depth16bit00287.png',\n",
       " 'data/kinect/labelled_trials/2014-12-03_P005_Post_002/depth16bit/14-12-03_trial-002_depth16bit00288.png',\n",
       " 'data/kinect/labelled_trials/2014-12-03_P005_Post_002/depth16bit/14-12-03_trial-002_depth16bit00289.png',\n",
       " 'data/kinect/labelled_trials/2014-12-03_P005_Post_002/depth16bit/14-12-03_trial-002_depth16bit00290.png',\n",
       " 'data/kinect/labelled_trials/2014-12-03_P005_Post_002/depth16bit/14-12-03_trial-002_depth16bit00291.png',\n",
       " 'data/kinect/labelled_trials/2014-12-03_P005_Post_002/depth16bit/14-12-03_trial-002_depth16bit00292.png',\n",
       " 'data/kinect/labelled_trials/2014-12-03_P005_Post_002/depth16bit/14-12-03_trial-002_depth16bit00293.png',\n",
       " 'data/kinect/labelled_trials/2014-12-03_P005_Post_002/depth16bit/14-12-03_trial-002_depth16bit00294.png',\n",
       " 'data/kinect/labelled_trials/2014-12-03_P005_Post_002/depth16bit/14-12-03_trial-002_depth16bit00295.png',\n",
       " 'data/kinect/labelled_trials/2014-12-03_P005_Post_002/depth16bit/14-12-03_trial-002_depth16bit00296.png',\n",
       " 'data/kinect/labelled_trials/2014-12-03_P005_Post_002/depth16bit/14-12-03_trial-002_depth16bit00297.png',\n",
       " 'data/kinect/labelled_trials/2014-12-03_P005_Post_002/depth16bit/14-12-03_trial-002_depth16bit00298.png',\n",
       " 'data/kinect/labelled_trials/2014-12-03_P005_Post_002/depth16bit/14-12-03_trial-002_depth16bit00299.png',\n",
       " 'data/kinect/labelled_trials/2014-12-03_P005_Post_002/depth16bit/14-12-03_trial-002_depth16bit00300.png',\n",
       " 'data/kinect/labelled_trials/2014-12-03_P005_Post_002/depth16bit/14-12-03_trial-002_depth16bit00301.png',\n",
       " 'data/kinect/labelled_trials/2014-12-03_P005_Post_002/depth16bit/14-12-03_trial-002_depth16bit00302.png',\n",
       " 'data/kinect/labelled_trials/2014-12-03_P005_Post_002/depth16bit/14-12-03_trial-002_depth16bit00303.png',\n",
       " 'data/kinect/labelled_trials/2014-12-03_P005_Post_002/depth16bit/14-12-03_trial-002_depth16bit00304.png',\n",
       " 'data/kinect/labelled_trials/2014-12-03_P005_Post_002/depth16bit/14-12-03_trial-002_depth16bit00305.png',\n",
       " 'data/kinect/labelled_trials/2014-12-03_P005_Post_002/depth16bit/14-12-03_trial-002_depth16bit00306.png',\n",
       " 'data/kinect/labelled_trials/2014-12-03_P005_Post_002/depth16bit/14-12-03_trial-002_depth16bit00307.png',\n",
       " 'data/kinect/labelled_trials/2014-12-03_P005_Post_002/depth16bit/14-12-03_trial-002_depth16bit00308.png',\n",
       " 'data/kinect/labelled_trials/2014-12-03_P005_Post_002/depth16bit/14-12-03_trial-002_depth16bit00309.png',\n",
       " 'data/kinect/labelled_trials/2014-12-03_P005_Post_002/depth16bit/14-12-03_trial-002_depth16bit00310.png',\n",
       " 'data/kinect/labelled_trials/2014-12-03_P005_Post_002/depth16bit/14-12-03_trial-002_depth16bit00311.png',\n",
       " 'data/kinect/labelled_trials/2014-12-03_P005_Post_002/depth16bit/14-12-03_trial-002_depth16bit00312.png',\n",
       " 'data/kinect/labelled_trials/2014-12-03_P005_Post_002/depth16bit/14-12-03_trial-002_depth16bit00313.png',\n",
       " 'data/kinect/labelled_trials/2014-12-03_P005_Post_002/depth16bit/14-12-03_trial-002_depth16bit00314.png',\n",
       " 'data/kinect/labelled_trials/2014-12-03_P005_Post_002/depth16bit/14-12-03_trial-002_depth16bit00315.png',\n",
       " 'data/kinect/labelled_trials/2014-12-03_P005_Post_002/depth16bit/14-12-03_trial-002_depth16bit00316.png',\n",
       " 'data/kinect/labelled_trials/2014-12-03_P005_Post_002/depth16bit/14-12-03_trial-002_depth16bit00317.png',\n",
       " 'data/kinect/labelled_trials/2014-12-03_P005_Post_002/depth16bit/14-12-03_trial-002_depth16bit00318.png',\n",
       " 'data/kinect/labelled_trials/2014-12-03_P005_Post_002/depth16bit/14-12-03_trial-002_depth16bit00319.png',\n",
       " 'data/kinect/labelled_trials/2014-12-03_P005_Post_002/depth16bit/14-12-03_trial-002_depth16bit00320.png',\n",
       " 'data/kinect/labelled_trials/2014-12-03_P005_Post_002/depth16bit/14-12-03_trial-002_depth16bit00321.png',\n",
       " 'data/kinect/labelled_trials/2014-12-03_P005_Post_002/depth16bit/14-12-03_trial-002_depth16bit00322.png',\n",
       " 'data/kinect/labelled_trials/2014-12-03_P005_Post_002/depth16bit/14-12-03_trial-002_depth16bit00323.png',\n",
       " 'data/kinect/labelled_trials/2014-12-03_P005_Post_002/depth16bit/14-12-03_trial-002_depth16bit00324.png',\n",
       " 'data/kinect/labelled_trials/2014-12-03_P005_Post_002/depth16bit/14-12-03_trial-002_depth16bit00325.png',\n",
       " 'data/kinect/labelled_trials/2014-12-03_P005_Post_002/depth16bit/14-12-03_trial-002_depth16bit00326.png',\n",
       " 'data/kinect/labelled_trials/2014-12-03_P005_Post_002/depth16bit/14-12-03_trial-002_depth16bit00327.png',\n",
       " 'data/kinect/labelled_trials/2014-12-03_P005_Post_002/depth16bit/14-12-03_trial-002_depth16bit00328.png',\n",
       " 'data/kinect/labelled_trials/2014-12-03_P005_Post_002/depth16bit/14-12-03_trial-002_depth16bit00329.png',\n",
       " 'data/kinect/labelled_trials/2014-12-03_P005_Post_002/depth16bit/14-12-03_trial-002_depth16bit00330.png',\n",
       " 'data/kinect/labelled_trials/2014-12-03_P005_Post_002/depth16bit/14-12-03_trial-002_depth16bit00331.png',\n",
       " 'data/kinect/labelled_trials/2014-12-03_P005_Post_002/depth16bit/14-12-03_trial-002_depth16bit00332.png',\n",
       " 'data/kinect/labelled_trials/2014-12-03_P005_Post_002/depth16bit/14-12-03_trial-002_depth16bit00333.png',\n",
       " 'data/kinect/labelled_trials/2014-12-03_P005_Post_002/depth16bit/14-12-03_trial-002_depth16bit00334.png',\n",
       " 'data/kinect/labelled_trials/2014-12-03_P005_Post_002/depth16bit/14-12-03_trial-002_depth16bit00335.png',\n",
       " 'data/kinect/labelled_trials/2014-12-03_P005_Post_002/depth16bit/14-12-03_trial-002_depth16bit00336.png',\n",
       " 'data/kinect/labelled_trials/2014-12-03_P005_Post_002/depth16bit/14-12-03_trial-002_depth16bit00337.png',\n",
       " 'data/kinect/labelled_trials/2014-12-03_P005_Post_002/depth16bit/14-12-03_trial-002_depth16bit00338.png',\n",
       " 'data/kinect/labelled_trials/2014-12-03_P005_Post_002/depth16bit/14-12-03_trial-002_depth16bit00339.png',\n",
       " 'data/kinect/labelled_trials/2014-12-03_P005_Post_002/depth16bit/14-12-03_trial-002_depth16bit00340.png',\n",
       " 'data/kinect/labelled_trials/2014-12-03_P005_Post_002/depth16bit/14-12-03_trial-002_depth16bit00341.png',\n",
       " 'data/kinect/labelled_trials/2014-12-03_P005_Post_002/depth16bit/14-12-03_trial-002_depth16bit00342.png',\n",
       " 'data/kinect/labelled_trials/2014-12-03_P005_Post_002/depth16bit/14-12-03_trial-002_depth16bit00343.png',\n",
       " 'data/kinect/labelled_trials/2014-12-03_P005_Post_002/depth16bit/14-12-03_trial-002_depth16bit00344.png',\n",
       " 'data/kinect/labelled_trials/2014-12-03_P005_Post_002/depth16bit/14-12-03_trial-002_depth16bit00345.png',\n",
       " 'data/kinect/labelled_trials/2014-12-03_P005_Post_002/depth16bit/14-12-03_trial-002_depth16bit00346.png',\n",
       " 'data/kinect/labelled_trials/2014-12-03_P005_Post_002/depth16bit/14-12-03_trial-002_depth16bit00347.png',\n",
       " 'data/kinect/labelled_trials/2014-12-03_P005_Post_002/depth16bit/14-12-03_trial-002_depth16bit00348.png',\n",
       " 'data/kinect/labelled_trials/2014-12-03_P005_Post_002/depth16bit/14-12-03_trial-002_depth16bit00349.png',\n",
       " 'data/kinect/labelled_trials/2014-12-03_P005_Post_002/depth16bit/14-12-03_trial-002_depth16bit00350.png',\n",
       " 'data/kinect/labelled_trials/2014-12-03_P005_Post_002/depth16bit/14-12-03_trial-002_depth16bit00409.png',\n",
       " 'data/kinect/labelled_trials/2014-12-03_P005_Post_002/depth16bit/14-12-03_trial-002_depth16bit00410.png',\n",
       " 'data/kinect/labelled_trials/2014-12-03_P005_Post_002/depth16bit/14-12-03_trial-002_depth16bit00411.png',\n",
       " 'data/kinect/labelled_trials/2014-12-03_P005_Post_002/depth16bit/14-12-03_trial-002_depth16bit00412.png',\n",
       " 'data/kinect/labelled_trials/2014-12-03_P005_Post_002/depth16bit/14-12-03_trial-002_depth16bit00413.png',\n",
       " 'data/kinect/labelled_trials/2014-12-03_P005_Post_002/depth16bit/14-12-03_trial-002_depth16bit00414.png',\n",
       " 'data/kinect/labelled_trials/2014-12-03_P005_Post_002/depth16bit/14-12-03_trial-002_depth16bit00415.png',\n",
       " 'data/kinect/labelled_trials/2014-12-03_P005_Post_002/depth16bit/14-12-03_trial-002_depth16bit00416.png',\n",
       " 'data/kinect/labelled_trials/2014-12-03_P005_Post_002/depth16bit/14-12-03_trial-002_depth16bit00417.png',\n",
       " 'data/kinect/labelled_trials/2014-12-03_P005_Post_002/depth16bit/14-12-03_trial-002_depth16bit00418.png',\n",
       " 'data/kinect/labelled_trials/2014-12-03_P005_Post_002/depth16bit/14-12-03_trial-002_depth16bit00419.png',\n",
       " 'data/kinect/labelled_trials/2014-12-03_P005_Post_002/depth16bit/14-12-03_trial-002_depth16bit00420.png',\n",
       " 'data/kinect/labelled_trials/2014-12-03_P005_Post_002/depth16bit/14-12-03_trial-002_depth16bit00421.png',\n",
       " 'data/kinect/labelled_trials/2014-12-03_P005_Post_002/depth16bit/14-12-03_trial-002_depth16bit00422.png',\n",
       " 'data/kinect/labelled_trials/2014-12-03_P005_Post_002/depth16bit/14-12-03_trial-002_depth16bit00423.png',\n",
       " 'data/kinect/labelled_trials/2014-12-03_P005_Post_002/depth16bit/14-12-03_trial-002_depth16bit00424.png',\n",
       " 'data/kinect/labelled_trials/2014-12-03_P005_Post_002/depth16bit/14-12-03_trial-002_depth16bit00425.png',\n",
       " 'data/kinect/labelled_trials/2014-12-03_P005_Post_002/depth16bit/14-12-03_trial-002_depth16bit00426.png',\n",
       " 'data/kinect/labelled_trials/2014-12-03_P005_Post_002/depth16bit/14-12-03_trial-002_depth16bit00427.png',\n",
       " 'data/kinect/labelled_trials/2014-12-03_P005_Post_002/depth16bit/14-12-03_trial-002_depth16bit00428.png',\n",
       " 'data/kinect/labelled_trials/2014-12-03_P005_Post_002/depth16bit/14-12-03_trial-002_depth16bit00429.png',\n",
       " 'data/kinect/labelled_trials/2014-12-03_P005_Post_002/depth16bit/14-12-03_trial-002_depth16bit00430.png',\n",
       " 'data/kinect/labelled_trials/2014-12-03_P005_Post_002/depth16bit/14-12-03_trial-002_depth16bit00431.png',\n",
       " 'data/kinect/labelled_trials/2014-12-03_P005_Post_002/depth16bit/14-12-03_trial-002_depth16bit00432.png',\n",
       " 'data/kinect/labelled_trials/2014-12-03_P005_Post_002/depth16bit/14-12-03_trial-002_depth16bit00433.png',\n",
       " 'data/kinect/labelled_trials/2014-12-03_P005_Post_002/depth16bit/14-12-03_trial-002_depth16bit00434.png',\n",
       " 'data/kinect/labelled_trials/2014-12-03_P005_Post_002/depth16bit/14-12-03_trial-002_depth16bit00435.png',\n",
       " 'data/kinect/labelled_trials/2014-12-03_P005_Post_002/depth16bit/14-12-03_trial-002_depth16bit00436.png',\n",
       " 'data/kinect/labelled_trials/2014-12-03_P005_Post_002/depth16bit/14-12-03_trial-002_depth16bit00437.png',\n",
       " 'data/kinect/labelled_trials/2014-12-03_P005_Post_002/depth16bit/14-12-03_trial-002_depth16bit00438.png',\n",
       " 'data/kinect/labelled_trials/2014-12-03_P005_Post_002/depth16bit/14-12-03_trial-002_depth16bit00439.png',\n",
       " 'data/kinect/labelled_trials/2014-12-03_P005_Post_002/depth16bit/14-12-03_trial-002_depth16bit00440.png',\n",
       " 'data/kinect/labelled_trials/2014-12-03_P005_Post_002/depth16bit/14-12-03_trial-002_depth16bit00441.png',\n",
       " 'data/kinect/labelled_trials/2014-12-03_P005_Post_002/depth16bit/14-12-03_trial-002_depth16bit00442.png',\n",
       " 'data/kinect/labelled_trials/2014-12-03_P005_Post_002/depth16bit/14-12-03_trial-002_depth16bit00443.png',\n",
       " 'data/kinect/labelled_trials/2014-12-03_P005_Post_002/depth16bit/14-12-03_trial-002_depth16bit00444.png',\n",
       " 'data/kinect/labelled_trials/2014-12-03_P005_Post_002/depth16bit/14-12-03_trial-002_depth16bit00445.png',\n",
       " 'data/kinect/labelled_trials/2014-12-03_P005_Post_002/depth16bit/14-12-03_trial-002_depth16bit00446.png',\n",
       " 'data/kinect/labelled_trials/2014-12-03_P005_Post_002/depth16bit/14-12-03_trial-002_depth16bit00447.png',\n",
       " 'data/kinect/labelled_trials/2014-12-03_P005_Post_002/depth16bit/14-12-03_trial-002_depth16bit00448.png',\n",
       " 'data/kinect/labelled_trials/2014-12-03_P005_Post_002/depth16bit/14-12-03_trial-002_depth16bit00449.png',\n",
       " 'data/kinect/labelled_trials/2014-12-03_P005_Post_002/depth16bit/14-12-03_trial-002_depth16bit00450.png',\n",
       " 'data/kinect/labelled_trials/2014-12-03_P005_Post_002/depth16bit/14-12-03_trial-002_depth16bit00451.png',\n",
       " 'data/kinect/labelled_trials/2014-12-03_P005_Post_002/depth16bit/14-12-03_trial-002_depth16bit00452.png',\n",
       " 'data/kinect/labelled_trials/2014-12-03_P005_Post_002/depth16bit/14-12-03_trial-002_depth16bit00453.png',\n",
       " 'data/kinect/labelled_trials/2014-12-03_P005_Post_002/depth16bit/14-12-03_trial-002_depth16bit00454.png',\n",
       " 'data/kinect/labelled_trials/2014-12-03_P005_Post_002/depth16bit/14-12-03_trial-002_depth16bit00455.png',\n",
       " 'data/kinect/labelled_trials/2014-12-03_P005_Post_002/depth16bit/14-12-03_trial-002_depth16bit00456.png',\n",
       " 'data/kinect/labelled_trials/2014-12-03_P005_Post_002/depth16bit/14-12-03_trial-002_depth16bit00457.png',\n",
       " 'data/kinect/labelled_trials/2014-12-03_P005_Post_002/depth16bit/14-12-03_trial-002_depth16bit00458.png',\n",
       " 'data/kinect/labelled_trials/2014-12-03_P005_Post_002/depth16bit/14-12-03_trial-002_depth16bit00459.png',\n",
       " 'data/kinect/labelled_trials/2014-12-03_P005_Post_002/depth16bit/14-12-03_trial-002_depth16bit00460.png',\n",
       " 'data/kinect/labelled_trials/2014-12-03_P005_Post_002/depth16bit/14-12-03_trial-002_depth16bit00461.png',\n",
       " 'data/kinect/labelled_trials/2014-12-03_P005_Post_002/depth16bit/14-12-03_trial-002_depth16bit00462.png',\n",
       " 'data/kinect/labelled_trials/2014-12-03_P005_Post_002/depth16bit/14-12-03_trial-002_depth16bit00463.png',\n",
       " 'data/kinect/labelled_trials/2014-12-03_P005_Post_002/depth16bit/14-12-03_trial-002_depth16bit00464.png',\n",
       " 'data/kinect/labelled_trials/2014-12-03_P005_Post_002/depth16bit/14-12-03_trial-002_depth16bit00465.png',\n",
       " 'data/kinect/labelled_trials/2014-12-03_P005_Post_002/depth16bit/14-12-03_trial-002_depth16bit00466.png',\n",
       " 'data/kinect/labelled_trials/2014-12-03_P005_Post_002/depth16bit/14-12-03_trial-002_depth16bit00467.png',\n",
       " 'data/kinect/labelled_trials/2014-12-03_P005_Post_002/depth16bit/14-12-03_trial-002_depth16bit00468.png',\n",
       " 'data/kinect/labelled_trials/2014-12-03_P005_Post_002/depth16bit/14-12-03_trial-002_depth16bit00469.png',\n",
       " 'data/kinect/labelled_trials/2014-12-03_P005_Post_002/depth16bit/14-12-03_trial-002_depth16bit00470.png',\n",
       " 'data/kinect/labelled_trials/2014-12-03_P005_Post_002/depth16bit/14-12-03_trial-002_depth16bit00471.png',\n",
       " 'data/kinect/labelled_trials/2014-12-03_P005_Post_002/depth16bit/14-12-03_trial-002_depth16bit00472.png',\n",
       " 'data/kinect/labelled_trials/2014-12-03_P005_Post_002/depth16bit/14-12-03_trial-002_depth16bit00473.png',\n",
       " 'data/kinect/labelled_trials/2014-12-03_P005_Post_002/depth16bit/14-12-03_trial-002_depth16bit00474.png',\n",
       " 'data/kinect/labelled_trials/2014-12-03_P005_Post_002/depth16bit/14-12-03_trial-002_depth16bit00475.png',\n",
       " 'data/kinect/labelled_trials/2014-12-03_P005_Post_002/depth16bit/14-12-03_trial-002_depth16bit00476.png',\n",
       " 'data/kinect/labelled_trials/2014-12-03_P005_Post_002/depth16bit/14-12-03_trial-002_depth16bit00477.png',\n",
       " 'data/kinect/labelled_trials/2014-12-03_P005_Post_002/depth16bit/14-12-03_trial-002_depth16bit00478.png',\n",
       " 'data/kinect/labelled_trials/2014-12-03_P005_Post_002/depth16bit/14-12-03_trial-002_depth16bit00479.png',\n",
       " 'data/kinect/labelled_trials/2014-12-03_P005_Post_002/depth16bit/14-12-03_trial-002_depth16bit00480.png',\n",
       " 'data/kinect/labelled_trials/2014-12-03_P005_Post_002/depth16bit/14-12-03_trial-002_depth16bit00481.png',\n",
       " 'data/kinect/labelled_trials/2014-12-03_P005_Post_002/depth16bit/14-12-03_trial-002_depth16bit00482.png',\n",
       " 'data/kinect/labelled_trials/2014-12-03_P005_Post_002/depth16bit/14-12-03_trial-002_depth16bit00483.png',\n",
       " 'data/kinect/labelled_trials/2014-12-03_P005_Post_002/depth16bit/14-12-03_trial-002_depth16bit00484.png',\n",
       " 'data/kinect/labelled_trials/2014-12-03_P005_Post_002/depth16bit/14-12-03_trial-002_depth16bit00485.png',\n",
       " 'data/kinect/labelled_trials/2014-12-03_P005_Post_002/depth16bit/14-12-03_trial-002_depth16bit00486.png',\n",
       " 'data/kinect/labelled_trials/2014-12-03_P005_Post_002/depth16bit/14-12-03_trial-002_depth16bit00487.png',\n",
       " 'data/kinect/labelled_trials/2014-12-03_P005_Post_002/depth16bit/14-12-03_trial-002_depth16bit00488.png',\n",
       " 'data/kinect/labelled_trials/2014-12-03_P005_Post_002/depth16bit/14-12-03_trial-002_depth16bit00489.png',\n",
       " 'data/kinect/labelled_trials/2014-12-03_P005_Post_002/depth16bit/14-12-03_trial-002_depth16bit00555.png',\n",
       " 'data/kinect/labelled_trials/2014-12-03_P005_Post_002/depth16bit/14-12-03_trial-002_depth16bit00556.png',\n",
       " 'data/kinect/labelled_trials/2014-12-03_P005_Post_002/depth16bit/14-12-03_trial-002_depth16bit00557.png',\n",
       " 'data/kinect/labelled_trials/2014-12-03_P005_Post_002/depth16bit/14-12-03_trial-002_depth16bit00558.png',\n",
       " 'data/kinect/labelled_trials/2014-12-03_P005_Post_002/depth16bit/14-12-03_trial-002_depth16bit00559.png',\n",
       " 'data/kinect/labelled_trials/2014-12-03_P005_Post_002/depth16bit/14-12-03_trial-002_depth16bit00560.png',\n",
       " 'data/kinect/labelled_trials/2014-12-03_P005_Post_002/depth16bit/14-12-03_trial-002_depth16bit00561.png',\n",
       " 'data/kinect/labelled_trials/2014-12-03_P005_Post_002/depth16bit/14-12-03_trial-002_depth16bit00562.png',\n",
       " 'data/kinect/labelled_trials/2014-12-03_P005_Post_002/depth16bit/14-12-03_trial-002_depth16bit00563.png',\n",
       " 'data/kinect/labelled_trials/2014-12-03_P005_Post_002/depth16bit/14-12-03_trial-002_depth16bit00564.png',\n",
       " 'data/kinect/labelled_trials/2014-12-03_P005_Post_002/depth16bit/14-12-03_trial-002_depth16bit00565.png',\n",
       " 'data/kinect/labelled_trials/2014-12-03_P005_Post_002/depth16bit/14-12-03_trial-002_depth16bit00566.png',\n",
       " 'data/kinect/labelled_trials/2014-12-03_P005_Post_002/depth16bit/14-12-03_trial-002_depth16bit00567.png',\n",
       " 'data/kinect/labelled_trials/2014-12-03_P005_Post_002/depth16bit/14-12-03_trial-002_depth16bit00568.png',\n",
       " 'data/kinect/labelled_trials/2014-12-03_P005_Post_002/depth16bit/14-12-03_trial-002_depth16bit00569.png',\n",
       " 'data/kinect/labelled_trials/2014-12-03_P005_Post_002/depth16bit/14-12-03_trial-002_depth16bit00570.png',\n",
       " 'data/kinect/labelled_trials/2014-12-03_P005_Post_002/depth16bit/14-12-03_trial-002_depth16bit00571.png',\n",
       " 'data/kinect/labelled_trials/2014-12-03_P005_Post_002/depth16bit/14-12-03_trial-002_depth16bit00572.png',\n",
       " 'data/kinect/labelled_trials/2014-12-03_P005_Post_002/depth16bit/14-12-03_trial-002_depth16bit00573.png',\n",
       " 'data/kinect/labelled_trials/2014-12-03_P005_Post_002/depth16bit/14-12-03_trial-002_depth16bit00574.png',\n",
       " 'data/kinect/labelled_trials/2014-12-03_P005_Post_002/depth16bit/14-12-03_trial-002_depth16bit00575.png',\n",
       " 'data/kinect/labelled_trials/2014-12-03_P005_Post_002/depth16bit/14-12-03_trial-002_depth16bit00576.png',\n",
       " 'data/kinect/labelled_trials/2014-12-03_P005_Post_002/depth16bit/14-12-03_trial-002_depth16bit00577.png',\n",
       " 'data/kinect/labelled_trials/2014-12-03_P005_Post_002/depth16bit/14-12-03_trial-002_depth16bit00578.png',\n",
       " 'data/kinect/labelled_trials/2014-12-03_P005_Post_002/depth16bit/14-12-03_trial-002_depth16bit00579.png',\n",
       " 'data/kinect/labelled_trials/2014-12-03_P005_Post_002/depth16bit/14-12-03_trial-002_depth16bit00580.png',\n",
       " 'data/kinect/labelled_trials/2014-12-03_P005_Post_002/depth16bit/14-12-03_trial-002_depth16bit00581.png',\n",
       " 'data/kinect/labelled_trials/2014-12-03_P005_Post_002/depth16bit/14-12-03_trial-002_depth16bit00582.png',\n",
       " 'data/kinect/labelled_trials/2014-12-03_P005_Post_002/depth16bit/14-12-03_trial-002_depth16bit00583.png',\n",
       " 'data/kinect/labelled_trials/2014-12-03_P005_Post_002/depth16bit/14-12-03_trial-002_depth16bit00584.png',\n",
       " 'data/kinect/labelled_trials/2014-12-03_P005_Post_002/depth16bit/14-12-03_trial-002_depth16bit00585.png',\n",
       " 'data/kinect/labelled_trials/2014-12-03_P005_Post_002/depth16bit/14-12-03_trial-002_depth16bit00586.png',\n",
       " 'data/kinect/labelled_trials/2014-12-03_P005_Post_002/depth16bit/14-12-03_trial-002_depth16bit00587.png',\n",
       " 'data/kinect/labelled_trials/2014-12-03_P005_Post_002/depth16bit/14-12-03_trial-002_depth16bit00588.png',\n",
       " 'data/kinect/labelled_trials/2014-12-03_P005_Post_002/depth16bit/14-12-03_trial-002_depth16bit00589.png',\n",
       " 'data/kinect/labelled_trials/2014-12-03_P005_Post_002/depth16bit/14-12-03_trial-002_depth16bit00590.png',\n",
       " 'data/kinect/labelled_trials/2014-12-03_P005_Post_002/depth16bit/14-12-03_trial-002_depth16bit00591.png',\n",
       " 'data/kinect/labelled_trials/2014-12-03_P005_Post_002/depth16bit/14-12-03_trial-002_depth16bit00592.png',\n",
       " 'data/kinect/labelled_trials/2014-12-03_P005_Post_002/depth16bit/14-12-03_trial-002_depth16bit00593.png',\n",
       " 'data/kinect/labelled_trials/2014-12-03_P005_Post_002/depth16bit/14-12-03_trial-002_depth16bit00594.png',\n",
       " 'data/kinect/labelled_trials/2014-12-03_P005_Post_002/depth16bit/14-12-03_trial-002_depth16bit00595.png',\n",
       " 'data/kinect/labelled_trials/2014-12-03_P005_Post_002/depth16bit/14-12-03_trial-002_depth16bit00596.png',\n",
       " 'data/kinect/labelled_trials/2014-12-03_P005_Post_002/depth16bit/14-12-03_trial-002_depth16bit00597.png',\n",
       " 'data/kinect/labelled_trials/2014-12-03_P005_Post_002/depth16bit/14-12-03_trial-002_depth16bit00598.png',\n",
       " 'data/kinect/labelled_trials/2014-12-03_P005_Post_002/depth16bit/14-12-03_trial-002_depth16bit00599.png',\n",
       " 'data/kinect/labelled_trials/2014-12-03_P005_Post_002/depth16bit/14-12-03_trial-002_depth16bit00600.png',\n",
       " 'data/kinect/labelled_trials/2014-12-03_P005_Post_002/depth16bit/14-12-03_trial-002_depth16bit00601.png',\n",
       " 'data/kinect/labelled_trials/2014-12-03_P005_Post_002/depth16bit/14-12-03_trial-002_depth16bit00602.png',\n",
       " 'data/kinect/labelled_trials/2014-12-03_P005_Post_002/depth16bit/14-12-03_trial-002_depth16bit00603.png',\n",
       " 'data/kinect/labelled_trials/2014-12-03_P005_Post_002/depth16bit/14-12-03_trial-002_depth16bit00604.png',\n",
       " 'data/kinect/labelled_trials/2014-12-03_P005_Post_002/depth16bit/14-12-03_trial-002_depth16bit00605.png',\n",
       " 'data/kinect/labelled_trials/2014-12-03_P005_Post_002/depth16bit/14-12-03_trial-002_depth16bit00606.png',\n",
       " 'data/kinect/labelled_trials/2014-12-03_P005_Post_002/depth16bit/14-12-03_trial-002_depth16bit00607.png',\n",
       " 'data/kinect/labelled_trials/2014-12-03_P005_Post_002/depth16bit/14-12-03_trial-002_depth16bit00608.png',\n",
       " 'data/kinect/labelled_trials/2014-12-03_P005_Post_002/depth16bit/14-12-03_trial-002_depth16bit00609.png',\n",
       " 'data/kinect/labelled_trials/2014-12-03_P005_Post_002/depth16bit/14-12-03_trial-002_depth16bit00610.png',\n",
       " 'data/kinect/labelled_trials/2014-12-03_P005_Post_002/depth16bit/14-12-03_trial-002_depth16bit00611.png',\n",
       " 'data/kinect/labelled_trials/2014-12-03_P005_Post_002/depth16bit/14-12-03_trial-002_depth16bit00612.png',\n",
       " 'data/kinect/labelled_trials/2014-12-03_P005_Post_002/depth16bit/14-12-03_trial-002_depth16bit00613.png',\n",
       " 'data/kinect/labelled_trials/2014-12-03_P005_Post_002/depth16bit/14-12-03_trial-002_depth16bit00614.png',\n",
       " 'data/kinect/labelled_trials/2014-12-03_P005_Post_002/depth16bit/14-12-03_trial-002_depth16bit00615.png',\n",
       " 'data/kinect/labelled_trials/2014-12-03_P005_Post_002/depth16bit/14-12-03_trial-002_depth16bit00616.png',\n",
       " 'data/kinect/labelled_trials/2014-12-03_P005_Post_002/depth16bit/14-12-03_trial-002_depth16bit00617.png',\n",
       " 'data/kinect/labelled_trials/2014-12-03_P005_Post_002/depth16bit/14-12-03_trial-002_depth16bit00618.png',\n",
       " 'data/kinect/labelled_trials/2014-12-03_P005_Post_002/depth16bit/14-12-03_trial-002_depth16bit00619.png',\n",
       " 'data/kinect/labelled_trials/2014-12-03_P005_Post_002/depth16bit/14-12-03_trial-002_depth16bit00620.png',\n",
       " 'data/kinect/labelled_trials/2014-12-03_P005_Post_002/depth16bit/14-12-03_trial-002_depth16bit00621.png',\n",
       " 'data/kinect/labelled_trials/2014-12-03_P005_Post_002/depth16bit/14-12-03_trial-002_depth16bit00622.png',\n",
       " 'data/kinect/labelled_trials/2014-12-03_P005_Post_002/depth16bit/14-12-03_trial-002_depth16bit00623.png',\n",
       " 'data/kinect/labelled_trials/2014-12-03_P005_Post_002/depth16bit/14-12-03_trial-002_depth16bit00624.png',\n",
       " 'data/kinect/labelled_trials/2014-12-03_P005_Post_002/depth16bit/14-12-03_trial-002_depth16bit00625.png',\n",
       " 'data/kinect/labelled_trials/2014-12-03_P005_Post_002/depth16bit/14-12-03_trial-002_depth16bit00626.png',\n",
       " 'data/kinect/labelled_trials/2014-12-03_P005_Post_002/depth16bit/14-12-03_trial-002_depth16bit00627.png',\n",
       " 'data/kinect/labelled_trials/2014-12-03_P005_Post_002/depth16bit/14-12-03_trial-002_depth16bit00628.png',\n",
       " 'data/kinect/labelled_trials/2014-12-03_P005_Post_002/depth16bit/14-12-03_trial-002_depth16bit00629.png',\n",
       " 'data/kinect/labelled_trials/2014-12-03_P005_Post_002/depth16bit/14-12-03_trial-002_depth16bit00630.png',\n",
       " 'data/kinect/labelled_trials/2014-12-03_P005_Post_002/depth16bit/14-12-03_trial-002_depth16bit00631.png',\n",
       " 'data/kinect/labelled_trials/2014-12-03_P005_Post_002/depth16bit/14-12-03_trial-002_depth16bit00632.png',\n",
       " 'data/kinect/labelled_trials/2014-12-03_P005_Post_002/depth16bit/14-12-03_trial-002_depth16bit00633.png',\n",
       " 'data/kinect/labelled_trials/2014-12-03_P005_Post_002/depth16bit/14-12-03_trial-002_depth16bit00634.png',\n",
       " 'data/kinect/labelled_trials/2014-12-03_P005_Post_002/depth16bit/14-12-03_trial-002_depth16bit00635.png',\n",
       " 'data/kinect/labelled_trials/2014-12-03_P005_Post_002/depth16bit/14-12-03_trial-002_depth16bit00636.png',\n",
       " 'data/kinect/labelled_trials/2014-12-03_P005_Post_002/depth16bit/14-12-03_trial-002_depth16bit00637.png',\n",
       " 'data/kinect/labelled_trials/2014-12-03_P005_Post_002/depth16bit/14-12-03_trial-002_depth16bit00710.png',\n",
       " 'data/kinect/labelled_trials/2014-12-03_P005_Post_002/depth16bit/14-12-03_trial-002_depth16bit00711.png',\n",
       " 'data/kinect/labelled_trials/2014-12-03_P005_Post_002/depth16bit/14-12-03_trial-002_depth16bit00712.png',\n",
       " 'data/kinect/labelled_trials/2014-12-03_P005_Post_002/depth16bit/14-12-03_trial-002_depth16bit00713.png',\n",
       " 'data/kinect/labelled_trials/2014-12-03_P005_Post_002/depth16bit/14-12-03_trial-002_depth16bit00714.png',\n",
       " 'data/kinect/labelled_trials/2014-12-03_P005_Post_002/depth16bit/14-12-03_trial-002_depth16bit00715.png',\n",
       " 'data/kinect/labelled_trials/2014-12-03_P005_Post_002/depth16bit/14-12-03_trial-002_depth16bit00716.png',\n",
       " 'data/kinect/labelled_trials/2014-12-03_P005_Post_002/depth16bit/14-12-03_trial-002_depth16bit00717.png',\n",
       " 'data/kinect/labelled_trials/2014-12-03_P005_Post_002/depth16bit/14-12-03_trial-002_depth16bit00718.png',\n",
       " 'data/kinect/labelled_trials/2014-12-03_P005_Post_002/depth16bit/14-12-03_trial-002_depth16bit00719.png',\n",
       " 'data/kinect/labelled_trials/2014-12-03_P005_Post_002/depth16bit/14-12-03_trial-002_depth16bit00720.png',\n",
       " 'data/kinect/labelled_trials/2014-12-03_P005_Post_002/depth16bit/14-12-03_trial-002_depth16bit00721.png',\n",
       " 'data/kinect/labelled_trials/2014-12-03_P005_Post_002/depth16bit/14-12-03_trial-002_depth16bit00722.png',\n",
       " 'data/kinect/labelled_trials/2014-12-03_P005_Post_002/depth16bit/14-12-03_trial-002_depth16bit00723.png',\n",
       " 'data/kinect/labelled_trials/2014-12-03_P005_Post_002/depth16bit/14-12-03_trial-002_depth16bit00724.png',\n",
       " 'data/kinect/labelled_trials/2014-12-03_P005_Post_002/depth16bit/14-12-03_trial-002_depth16bit00725.png',\n",
       " 'data/kinect/labelled_trials/2014-12-03_P005_Post_002/depth16bit/14-12-03_trial-002_depth16bit00726.png',\n",
       " 'data/kinect/labelled_trials/2014-12-03_P005_Post_002/depth16bit/14-12-03_trial-002_depth16bit00727.png',\n",
       " 'data/kinect/labelled_trials/2014-12-03_P005_Post_002/depth16bit/14-12-03_trial-002_depth16bit00728.png',\n",
       " 'data/kinect/labelled_trials/2014-12-03_P005_Post_002/depth16bit/14-12-03_trial-002_depth16bit00729.png',\n",
       " 'data/kinect/labelled_trials/2014-12-03_P005_Post_002/depth16bit/14-12-03_trial-002_depth16bit00730.png',\n",
       " 'data/kinect/labelled_trials/2014-12-03_P005_Post_002/depth16bit/14-12-03_trial-002_depth16bit00731.png',\n",
       " 'data/kinect/labelled_trials/2014-12-03_P005_Post_002/depth16bit/14-12-03_trial-002_depth16bit00732.png',\n",
       " 'data/kinect/labelled_trials/2014-12-03_P005_Post_002/depth16bit/14-12-03_trial-002_depth16bit00733.png',\n",
       " 'data/kinect/labelled_trials/2014-12-03_P005_Post_002/depth16bit/14-12-03_trial-002_depth16bit00734.png',\n",
       " 'data/kinect/labelled_trials/2014-12-03_P005_Post_002/depth16bit/14-12-03_trial-002_depth16bit00735.png',\n",
       " 'data/kinect/labelled_trials/2014-12-03_P005_Post_002/depth16bit/14-12-03_trial-002_depth16bit00736.png',\n",
       " 'data/kinect/labelled_trials/2014-12-03_P005_Post_002/depth16bit/14-12-03_trial-002_depth16bit00737.png',\n",
       " 'data/kinect/labelled_trials/2014-12-03_P005_Post_002/depth16bit/14-12-03_trial-002_depth16bit00738.png',\n",
       " 'data/kinect/labelled_trials/2014-12-03_P005_Post_002/depth16bit/14-12-03_trial-002_depth16bit00739.png',\n",
       " 'data/kinect/labelled_trials/2014-12-03_P005_Post_002/depth16bit/14-12-03_trial-002_depth16bit00740.png',\n",
       " 'data/kinect/labelled_trials/2014-12-03_P005_Post_002/depth16bit/14-12-03_trial-002_depth16bit00741.png',\n",
       " 'data/kinect/labelled_trials/2014-12-03_P005_Post_002/depth16bit/14-12-03_trial-002_depth16bit00742.png',\n",
       " 'data/kinect/labelled_trials/2014-12-03_P005_Post_002/depth16bit/14-12-03_trial-002_depth16bit00743.png',\n",
       " 'data/kinect/labelled_trials/2014-12-03_P005_Post_002/depth16bit/14-12-03_trial-002_depth16bit00744.png',\n",
       " 'data/kinect/labelled_trials/2014-12-03_P005_Post_002/depth16bit/14-12-03_trial-002_depth16bit00745.png',\n",
       " 'data/kinect/labelled_trials/2014-12-03_P005_Post_002/depth16bit/14-12-03_trial-002_depth16bit00746.png',\n",
       " 'data/kinect/labelled_trials/2014-12-03_P005_Post_002/depth16bit/14-12-03_trial-002_depth16bit00747.png',\n",
       " 'data/kinect/labelled_trials/2014-12-03_P005_Post_002/depth16bit/14-12-03_trial-002_depth16bit00748.png',\n",
       " 'data/kinect/labelled_trials/2014-12-03_P005_Post_002/depth16bit/14-12-03_trial-002_depth16bit00749.png',\n",
       " 'data/kinect/labelled_trials/2014-12-03_P005_Post_002/depth16bit/14-12-03_trial-002_depth16bit00750.png',\n",
       " 'data/kinect/labelled_trials/2014-12-03_P005_Post_002/depth16bit/14-12-03_trial-002_depth16bit00751.png',\n",
       " 'data/kinect/labelled_trials/2014-12-03_P005_Post_002/depth16bit/14-12-03_trial-002_depth16bit00752.png',\n",
       " 'data/kinect/labelled_trials/2014-12-03_P005_Post_002/depth16bit/14-12-03_trial-002_depth16bit00753.png',\n",
       " 'data/kinect/labelled_trials/2014-12-03_P005_Post_002/depth16bit/14-12-03_trial-002_depth16bit00754.png',\n",
       " 'data/kinect/labelled_trials/2014-12-03_P005_Post_002/depth16bit/14-12-03_trial-002_depth16bit00755.png',\n",
       " 'data/kinect/labelled_trials/2014-12-03_P005_Post_002/depth16bit/14-12-03_trial-002_depth16bit00756.png',\n",
       " 'data/kinect/labelled_trials/2014-12-03_P005_Post_002/depth16bit/14-12-03_trial-002_depth16bit00757.png',\n",
       " 'data/kinect/labelled_trials/2014-12-03_P005_Post_002/depth16bit/14-12-03_trial-002_depth16bit00758.png',\n",
       " 'data/kinect/labelled_trials/2014-12-03_P005_Post_002/depth16bit/14-12-03_trial-002_depth16bit00759.png',\n",
       " 'data/kinect/labelled_trials/2014-12-03_P005_Post_002/depth16bit/14-12-03_trial-002_depth16bit00760.png',\n",
       " 'data/kinect/labelled_trials/2014-12-03_P005_Post_002/depth16bit/14-12-03_trial-002_depth16bit00761.png',\n",
       " 'data/kinect/labelled_trials/2014-12-03_P005_Post_002/depth16bit/14-12-03_trial-002_depth16bit00762.png',\n",
       " 'data/kinect/labelled_trials/2014-12-03_P005_Post_002/depth16bit/14-12-03_trial-002_depth16bit00763.png',\n",
       " 'data/kinect/labelled_trials/2014-12-03_P005_Post_002/depth16bit/14-12-03_trial-002_depth16bit00764.png',\n",
       " 'data/kinect/labelled_trials/2014-12-03_P005_Post_002/depth16bit/14-12-03_trial-002_depth16bit00765.png',\n",
       " 'data/kinect/labelled_trials/2014-12-03_P005_Post_002/depth16bit/14-12-03_trial-002_depth16bit00766.png',\n",
       " 'data/kinect/labelled_trials/2014-12-03_P005_Post_002/depth16bit/14-12-03_trial-002_depth16bit00767.png',\n",
       " 'data/kinect/labelled_trials/2014-12-03_P005_Post_002/depth16bit/14-12-03_trial-002_depth16bit00768.png',\n",
       " 'data/kinect/labelled_trials/2014-12-03_P005_Post_002/depth16bit/14-12-03_trial-002_depth16bit00769.png',\n",
       " 'data/kinect/labelled_trials/2014-12-03_P005_Post_002/depth16bit/14-12-03_trial-002_depth16bit00770.png',\n",
       " 'data/kinect/labelled_trials/2014-12-03_P005_Post_002/depth16bit/14-12-03_trial-002_depth16bit00771.png',\n",
       " 'data/kinect/labelled_trials/2014-12-03_P005_Post_002/depth16bit/14-12-03_trial-002_depth16bit00772.png',\n",
       " 'data/kinect/labelled_trials/2014-12-03_P005_Post_002/depth16bit/14-12-03_trial-002_depth16bit00773.png',\n",
       " 'data/kinect/labelled_trials/2014-12-03_P005_Post_002/depth16bit/14-12-03_trial-002_depth16bit00774.png',\n",
       " 'data/kinect/labelled_trials/2014-12-03_P005_Post_002/depth16bit/14-12-03_trial-002_depth16bit00775.png',\n",
       " 'data/kinect/labelled_trials/2014-12-03_P005_Post_002/depth16bit/14-12-03_trial-002_depth16bit00776.png',\n",
       " 'data/kinect/labelled_trials/2014-12-03_P005_Post_002/depth16bit/14-12-03_trial-002_depth16bit00777.png',\n",
       " 'data/kinect/labelled_trials/2014-12-03_P005_Post_002/depth16bit/14-12-03_trial-002_depth16bit00778.png',\n",
       " 'data/kinect/labelled_trials/2014-12-03_P005_Post_002/depth16bit/14-12-03_trial-002_depth16bit00779.png',\n",
       " 'data/kinect/labelled_trials/2014-12-03_P005_Post_002/depth16bit/14-12-03_trial-002_depth16bit00780.png',\n",
       " 'data/kinect/labelled_trials/2014-12-03_P005_Post_002/depth16bit/14-12-03_trial-002_depth16bit00781.png',\n",
       " 'data/kinect/labelled_trials/2014-12-03_P005_Post_002/depth16bit/14-12-03_trial-002_depth16bit00782.png',\n",
       " 'data/kinect/labelled_trials/2014-12-03_P005_Post_002/depth16bit/14-12-03_trial-002_depth16bit00783.png',\n",
       " 'data/kinect/labelled_trials/2014-12-03_P005_Post_002/depth16bit/14-12-03_trial-002_depth16bit00784.png',\n",
       " 'data/kinect/labelled_trials/2014-12-03_P005_Post_002/depth16bit/14-12-03_trial-002_depth16bit00785.png',\n",
       " 'data/kinect/labelled_trials/2014-12-03_P005_Post_002/depth16bit/14-12-03_trial-002_depth16bit00786.png',\n",
       " 'data/kinect/labelled_trials/2014-12-03_P005_Post_002/depth16bit/14-12-03_trial-002_depth16bit00787.png',\n",
       " 'data/kinect/labelled_trials/2014-12-03_P005_Post_002/depth16bit/14-12-03_trial-002_depth16bit00788.png',\n",
       " 'data/kinect/labelled_trials/2014-12-03_P005_Post_002/depth16bit/14-12-03_trial-002_depth16bit00789.png',\n",
       " 'data/kinect/labelled_trials/2014-12-03_P005_Post_002/depth16bit/14-12-03_trial-002_depth16bit00790.png',\n",
       " 'data/kinect/labelled_trials/2014-12-03_P005_Post_002/depth16bit/14-12-03_trial-002_depth16bit00791.png']"
      ]
     },
     "execution_count": 28,
     "metadata": {},
     "output_type": "execute_result"
    }
   ],
   "source": []
  },
  {
   "cell_type": "code",
   "execution_count": null,
   "metadata": {},
   "outputs": [],
   "source": []
  }
 ],
 "metadata": {
  "kernelspec": {
   "display_name": "Python [conda env:depth_gait_env]",
   "language": "python",
   "name": "conda-env-depth_gait_env-py"
  },
  "language_info": {
   "codemirror_mode": {
    "name": "ipython",
    "version": 3
   },
   "file_extension": ".py",
   "mimetype": "text/x-python",
   "name": "python",
   "nbconvert_exporter": "python",
   "pygments_lexer": "ipython3",
   "version": "3.7.0"
  }
 },
 "nbformat": 4,
 "nbformat_minor": 2
}
