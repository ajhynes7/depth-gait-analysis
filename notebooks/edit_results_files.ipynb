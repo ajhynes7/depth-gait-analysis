{
 "cells": [
  {
   "cell_type": "code",
   "execution_count": 1,
   "metadata": {},
   "outputs": [],
   "source": [
    "import pandas as pd\n",
    "import os"
   ]
  },
  {
   "cell_type": "code",
   "execution_count": 15,
   "metadata": {},
   "outputs": [],
   "source": [
    "directory = '../../../MEGA/Data/Kinect Zeno/Results'\n",
    "\n",
    "kinect_filename = 'kinect_gait_metrics.csv'\n",
    "zeno_filename = 'zeno_gait_metrics.csv'\n",
    "match_filename = 'match_kinect_zeno.csv'\n",
    "\n",
    "kinect_results_path = os.path.join(directory, kinect_filename)\n",
    "zeno_results_path = os.path.join(directory, zeno_filename)\n",
    "match_path = os.path.join(directory, match_filename)\n",
    "\n",
    "df_kinect = pd.read_csv(kinect_results_path)\n",
    "df_zeno = pd.read_csv(zeno_results_path)\n",
    "df_match = pd.read_csv(match_path)"
   ]
  },
  {
   "cell_type": "code",
   "execution_count": 21,
   "metadata": {},
   "outputs": [],
   "source": [
    "df_match.Zeno = df_match.Zeno.apply(lambda x: os.path.splitext(x)[0])"
   ]
  },
  {
   "cell_type": "code",
   "execution_count": 33,
   "metadata": {},
   "outputs": [],
   "source": [
    "import numpy as np\n",
    "df_match.Kinect = df_match.Kinect.apply(lambda x: os.path.splitext(x)[0] if pd.notnull(x) else x)"
   ]
  },
  {
   "cell_type": "code",
   "execution_count": 36,
   "metadata": {},
   "outputs": [],
   "source": [
    "df_match.to_csv(match_path)"
   ]
  },
  {
   "cell_type": "code",
   "execution_count": null,
   "metadata": {},
   "outputs": [],
   "source": []
  }
 ],
 "metadata": {
  "kernelspec": {
   "display_name": "Python 3",
   "language": "python",
   "name": "python3"
  },
  "language_info": {
   "codemirror_mode": {
    "name": "ipython",
    "version": 3
   },
   "file_extension": ".py",
   "mimetype": "text/x-python",
   "name": "python",
   "nbconvert_exporter": "python",
   "pygments_lexer": "ipython3",
   "version": "3.6.4"
  }
 },
 "nbformat": 4,
 "nbformat_minor": 2
}
