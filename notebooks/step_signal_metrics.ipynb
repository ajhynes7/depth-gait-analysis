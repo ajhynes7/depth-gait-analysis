{
 "cells": [
  {
   "cell_type": "code",
   "execution_count": 1,
   "metadata": {},
   "outputs": [],
   "source": [
    "import numpy as np\n",
    "import matplotlib.pyplot as plt\n",
    "from sklearn.cluster import KMeans\n",
    "\n",
    "import sys\n",
    "sys.path.append('..')\n",
    "\n",
    "import modules.plotting as pl\n",
    "import modules.phase_detection as pde\n",
    "import modules.linear_algebra as lin\n",
    "import modules.sliding_window as sw\n",
    "import modules.numpy_funcs as nf\n",
    "import modules.iterable_funcs as itf"
   ]
  },
  {
   "cell_type": "code",
   "execution_count": 19,
   "metadata": {},
   "outputs": [],
   "source": [
    "step_signal = np.array([-95.35838317, -80.71503535, -74.37771039, -68.60583215,\n",
    "       -69.56591953, -71.03885842, -86.82829435, -78.43642353,\n",
    "       -72.39930357, -59.41361826, -40.28939169, -33.57524692,\n",
    "       -23.53434923, -15.45314141, -12.31169806, -10.8661896 ,\n",
    "        -9.3548587 , -15.02467074, -17.98200379, -13.80473506,\n",
    "       -15.40943018, -12.39406677,  -8.48920144, -12.11673424,\n",
    "       -11.23004604,  -8.83755062,  -6.32491464,  -8.4482471 ,\n",
    "        -5.44261609,  -1.09462891,   3.52956037,  11.61027888,\n",
    "        21.0352981 ,  30.11856214,  42.32152708,  47.62155423,\n",
    "        74.20682339,  87.74193871,  95.38055977,  98.09930006,\n",
    "        99.93372835, 103.09604729,  98.92156432, 101.27847256,\n",
    "        96.32521906,  98.16084073,  96.82692884,  95.96048376,\n",
    "        93.14718708,  97.81602738,  99.39364809, 102.4696047 ,\n",
    "        99.71741285, 103.43743202, 100.57423243, 103.9822279 ,\n",
    "       101.519331  , 109.82574405, 114.62583515, 122.84833033,\n",
    "       141.56976316, 142.71496024, 145.94428853, 146.349223  ,\n",
    "       144.04363341])"
   ]
  },
  {
   "cell_type": "code",
   "execution_count": 69,
   "metadata": {},
   "outputs": [],
   "source": [
    "pad_width = 3\n",
    "cluster_values = sw.apply_to_padded(step_signal, np.var, pad_width,\n",
    "                                    'reflect', reflect_type='odd')\n",
    "\n",
    "cluster_array = nf.to_column(cluster_values)\n",
    "\n",
    "k_means = KMeans(n_clusters=2, random_state=0).fit(cluster_array)\n",
    "\n",
    "stance_label = np.argmin(k_means.cluster_centers_)\n",
    "is_stance = k_means.labels_ == stance_label"
   ]
  },
  {
   "cell_type": "code",
   "execution_count": 70,
   "metadata": {},
   "outputs": [],
   "source": [
    "# Remove small groups of consecutive stance frames, because these could\n",
    "# be false positives.\n",
    "is_stance = nf.filter_consecutive_true(is_stance, min_length=10)"
   ]
  },
  {
   "cell_type": "code",
   "execution_count": 71,
   "metadata": {},
   "outputs": [
    {
     "data": {
      "text/plain": [
       "<matplotlib.legend.Legend at 0x10b38ba20>"
      ]
     },
     "execution_count": 71,
     "metadata": {},
     "output_type": "execute_result"
    },
    {
     "data": {
      "image/png": "[encoded data removed]",
      "text/plain": [
       "<matplotlib.figure.Figure at 0x10b38b9b0>"
      ]
     },
     "metadata": {},
     "output_type": "display_data"
    }
   ],
   "source": [
    "indices = [i for i, _ in enumerate(step_signal)]\n",
    "points = np.column_stack((indices, step_signal))\n",
    "\n",
    "pl.scatter_labels(points, ~is_stance)\n",
    "\n",
    "plt.legend(['stance', 'swing'])"
   ]
  },
  {
   "cell_type": "code",
   "execution_count": null,
   "metadata": {},
   "outputs": [],
   "source": []
  }
 ],
 "metadata": {
  "kernelspec": {
   "display_name": "Python 3",
   "language": "python",
   "name": "python3"
  },
  "language_info": {
   "codemirror_mode": {
    "name": "ipython",
    "version": 3
   },
   "file_extension": ".py",
   "mimetype": "text/x-python",
   "name": "python",
   "nbconvert_exporter": "python",
   "pygments_lexer": "ipython3",
   "version": "3.6.6"
  }
 },
 "nbformat": 4,
 "nbformat_minor": 2
}
