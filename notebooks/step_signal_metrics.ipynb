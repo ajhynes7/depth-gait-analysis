{
 "cells": [
  {
   "cell_type": "code",
   "execution_count": 16,
   "metadata": {},
   "outputs": [],
   "source": [
    "import numpy as np\n",
    "import matplotlib.pyplot as plt\n",
    "\n",
    "\n",
    "import sys\n",
    "sys.path.append('..')\n",
    "\n",
    "import modules.plotting as pl\n",
    "import modules.phase_detection as pde\n",
    "import modules.linear_algebra as lin\n"
   ]
  },
  {
   "cell_type": "code",
   "execution_count": 17,
   "metadata": {},
   "outputs": [],
   "source": [
    "direction_pass = np.array([ 0.99700402, -0.03897947,  0.0668101 ])\n",
    "\n",
    "foot_points = np.array([[-118.871  ,  -60.1586 ,  256.61   ],\n",
    "       [-123.251  ,  -58.8779 ,  255.139  ],\n",
    "       [-114.442  ,  -61.8221 ,  243.067  ],\n",
    "       [-105.28   ,  -64.049  ,  241.183  ],\n",
    "       [ -82.7339 ,  -63.8254 ,  242.469  ],\n",
    "       [ -75.9796 ,  -62.6394 ,  243.473  ],\n",
    "       [ -65.5047 ,  -64.6145 ,  247.966  ],\n",
    "       [ -62.9434 ,  -63.8746 ,  251.189  ],\n",
    "       [ -63.4366 ,  -65.5408 ,  250.683  ],\n",
    "       [ -63.854  ,  -62.2273 ,  250.725  ],\n",
    "       [ -62.4431 ,  -62.667  ,  250.676  ],\n",
    "       [ -61.2525 ,  -65.5936 ,  251.18   ],\n",
    "       [ -62.8147 ,  -64.716  ,  250.87   ],\n",
    "       [ -68.4298 ,  -62.4568 ,  251.841  ],\n",
    "       [ -66.416  ,  -60.7126 ,  250.66   ],\n",
    "       [ -61.2657 ,  -63.1047 ,  249.697  ],\n",
    "       [ -61.7823 ,  -62.6742 ,  249.474  ],\n",
    "       [ -58.3991 ,  -64.301  ,  253.923  ],\n",
    "       [ -59.1908 ,  -62.1739 ,  250.891  ],\n",
    "       [ -59.6634 ,  -61.0141 ,  249.47   ],\n",
    "       [ -64.5977 ,  -65.0449 ,  250.157  ],\n",
    "       [ -63.4983 ,  -60.2053 ,  248.335  ],\n",
    "       [ -61.0158 ,  -63.8153 ,  249.566  ],\n",
    "       [ -57.6708 ,  -60.8613 ,  248.987  ],\n",
    "       [ -55.8883 ,  -58.6001 ,  248.168  ],\n",
    "       [ -52.8298 ,  -57.6507 ,  248.617  ],\n",
    "       [ -44.1293 ,  -57.6657 ,  246.641  ],\n",
    "       [ -39.735  ,  -57.75   ,  246.691  ],\n",
    "       [ -32.9796 ,  -60.193  ,  247.305  ],\n",
    "       [ -25.5536 ,  -63.1198 ,  246.549  ],\n",
    "       [  -9.78502,  -60.112  ,  246.506  ],\n",
    "       [  -1.4662 ,  -67.5963 ,  248.762  ],\n",
    "       [   9.3279 ,  -68.3859 ,  250.933  ],\n",
    "       [  20.7449 ,  -66.753  ,  248.923  ],\n",
    "       [  37.3554 ,  -69.2636 ,  249.832  ],\n",
    "       [  43.7594 ,  -67.831  ,  251.393  ],\n",
    "       [  44.9155 ,  -68.2272 ,  252.772  ],\n",
    "       [  48.6453 ,  -68.4774 ,  254.766  ],\n",
    "       [  45.4045 ,  -66.9905 ,  255.149  ],\n",
    "       [  49.1395 ,  -67.6327 ,  256.652  ],\n",
    "       [  44.5888 ,  -67.505  ,  256.267  ],\n",
    "       [  45.6688 ,  -65.4955 ,  255.449  ],\n",
    "       [  44.4945 ,  -65.63   ,  256.974  ],\n",
    "       [  45.805  ,  -64.815  ,  255.852  ],\n",
    "       [  47.7329 ,  -68.1672 ,  254.697  ],\n",
    "       [  49.6981 ,  -66.088  ,  255.261  ],\n",
    "       [  50.9608 ,  -67.6679 ,  256.768  ],\n",
    "       [  45.0309 ,  -64.8821 ,  254.897  ],\n",
    "       [  51.5246 ,  -65.4614 ,  254.915  ],\n",
    "       [  54.8228 ,  -65.769  ,  254.893  ],\n",
    "       [  57.7816 ,  -62.5103 ,  254.958  ],\n",
    "       [  93.2984 ,  -63.0568 ,  260.703  ],\n",
    "       [ 103.356  ,  -65.453  ,  270.022  ],\n",
    "       [ 117.645  ,  -69.7119 ,  260.067  ],\n",
    "       [ 104.272  ,  -69.1605 ,  276.357  ],\n",
    "       [ 102.388  ,  -69.1205 ,  277.391  ],\n",
    "       [ 107.777  ,  -63.9681 ,  276.709  ]])"
   ]
  },
  {
   "cell_type": "code",
   "execution_count": 18,
   "metadata": {},
   "outputs": [],
   "source": [
    "step_signal = lin.line_coordinate_system(np.zeros(3), direction_pass, foot_points)\n",
    "\n",
    "is_stance = pde.detect_phases(foot_points, direction_pass)\n",
    "\n"
   ]
  },
  {
   "cell_type": "code",
   "execution_count": 19,
   "metadata": {},
   "outputs": [
    {
     "data": {
      "text/plain": [
       "<matplotlib.legend.Legend at 0x1a101c77b8>"
      ]
     },
     "execution_count": 19,
     "metadata": {},
     "output_type": "execute_result"
    },
    {
     "data": {
      "image/png": "[encoded data removed]",
      "text/plain": [
       "<matplotlib.figure.Figure at 0x1a100e1320>"
      ]
     },
     "metadata": {},
     "output_type": "display_data"
    }
   ],
   "source": [
    "indices = [i for i, _ in enumerate(step_signal)]\n",
    "points = np.column_stack((indices, step_signal))\n",
    "\n",
    "pl.scatter_labels(points, ~is_stance)\n",
    "\n",
    "plt.legend(['stance', 'swing'])"
   ]
  },
  {
   "cell_type": "code",
   "execution_count": null,
   "metadata": {},
   "outputs": [],
   "source": []
  }
 ],
 "metadata": {
  "kernelspec": {
   "display_name": "Python 3",
   "language": "python",
   "name": "python3"
  },
  "language_info": {
   "codemirror_mode": {
    "name": "ipython",
    "version": 3
   },
   "file_extension": ".py",
   "mimetype": "text/x-python",
   "name": "python",
   "nbconvert_exporter": "python",
   "pygments_lexer": "ipython3",
   "version": "3.6.6"
  }
 },
 "nbformat": 4,
 "nbformat_minor": 2
}
