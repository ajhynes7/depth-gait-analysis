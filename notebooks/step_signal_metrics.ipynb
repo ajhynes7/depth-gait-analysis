{
 "cells": [
  {
   "cell_type": "code",
   "execution_count": 5,
   "metadata": {},
   "outputs": [],
   "source": [
    "import numpy as np\n",
    "import matplotlib.pyplot as plt\n",
    "from sklearn.cluster import KMeans\n",
    "\n",
    "import sys\n",
    "sys.path.append('..')\n",
    "\n",
    "import modules.plotting as pl\n",
    "import modules.phase_detection as pde\n",
    "import modules.linear_algebra as lin\n",
    "import modules.sliding_window as sw\n",
    "import modules.numpy_funcs as nf\n",
    "import modules.iterable_funcs as itf"
   ]
  },
  {
   "cell_type": "code",
   "execution_count": 6,
   "metadata": {},
   "outputs": [],
   "source": [
    "step_signal = np.array([-132.92464013, -140.81907051, -134.09734723, -137.30070621,\n",
    "       -136.75724097, -135.0953571 , -136.41148653, -138.85673297,\n",
    "       -116.79830848, -104.89000987,  -86.19596402,  -82.68204904,\n",
    "        -78.07282679,  -75.26586272,  -71.92137252,  -69.40936384,\n",
    "        -71.92481684,  -71.58625044,  -68.84399353,  -73.74994235,\n",
    "        -66.85535912,  -58.7102328 ,  -68.62970421,  -68.29195937,\n",
    "        -70.88018795,  -68.39564947,  -67.23065307,  -61.49008977,\n",
    "        -58.57539484,  -50.68461821,  -39.85339695,  -26.01398098,\n",
    "        -11.62614386,    2.96744593,   29.50129414,   36.0240753 ,\n",
    "         46.56475693,   43.52066437,   49.59089223,   47.52112268,\n",
    "         47.25060427,   48.29875558,   46.18449514,   27.00217748,\n",
    "         41.60572252,   56.46469908,   51.27876665,   47.33354167,\n",
    "         50.33113558,   47.73924855,   49.58679791,   51.36999962,\n",
    "         54.37069622,   57.37986703,   60.83464521,   76.06940047,\n",
    "        105.11464991,  103.85739612,  103.05068731])"
   ]
  },
  {
   "cell_type": "code",
   "execution_count": 7,
   "metadata": {},
   "outputs": [],
   "source": [
    "pad_width = 5\n",
    "cluster_values = sw.apply_to_padded(step_signal, np.var, pad_width,\n",
    "                                    'reflect', reflect_type='odd')\n",
    "\n",
    "cluster_array = nf.to_column(cluster_values)\n",
    "\n",
    "k_means = KMeans(n_clusters=2, random_state=0).fit(cluster_array)\n",
    "\n",
    "stance_label = np.argmin(k_means.cluster_centers_)\n",
    "is_stance = k_means.labels_ == stance_label"
   ]
  },
  {
   "cell_type": "code",
   "execution_count": 8,
   "metadata": {},
   "outputs": [],
   "source": [
    "# Remove small groups of consecutive stance frames, because these could\n",
    "# be false positives.\n",
    "is_stance = nf.filter_consecutive_true(is_stance, min_length=10)"
   ]
  },
  {
   "cell_type": "code",
   "execution_count": 9,
   "metadata": {},
   "outputs": [
    {
     "data": {
      "text/plain": [
       "<matplotlib.legend.Legend at 0x1a0f1ece10>"
      ]
     },
     "execution_count": 9,
     "metadata": {},
     "output_type": "execute_result"
    },
    {
     "data": {
      "image/png": "[encoded data removed]",
      "text/plain": [
       "<matplotlib.figure.Figure at 0x109557358>"
      ]
     },
     "metadata": {},
     "output_type": "display_data"
    }
   ],
   "source": [
    "indices = [i for i, _ in enumerate(step_signal)]\n",
    "points = np.column_stack((indices, step_signal))\n",
    "\n",
    "pl.scatter_labels(points, ~is_stance)\n",
    "\n",
    "plt.legend(['stance', 'swing'])"
   ]
  }
 ],
 "metadata": {
  "kernelspec": {
   "display_name": "Python 3",
   "language": "python",
   "name": "python3"
  },
  "language_info": {
   "codemirror_mode": {
    "name": "ipython",
    "version": 3
   },
   "file_extension": ".py",
   "mimetype": "text/x-python",
   "name": "python",
   "nbconvert_exporter": "python",
   "pygments_lexer": "ipython3",
   "version": "3.6.6"
  }
 },
 "nbformat": 4,
 "nbformat_minor": 2
}
