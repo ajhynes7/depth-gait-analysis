{
 "cells": [
  {
   "cell_type": "code",
   "execution_count": 1,
   "metadata": {},
   "outputs": [],
   "source": [
    "import os\n",
    "import glob\n",
    "\n",
    "import pandas as pd\n",
    "import numpy as np\n",
    "from sklearn.cluster import KMeans\n",
    "\n",
    "import sys\n",
    "sys.path.append('..')\n",
    "\n",
    "import modules.gait_metrics as gm\n",
    "import modules.pose_estimation as pe\n",
    "\n",
    "\n",
    "load_dir = os.path.join('..', 'data', 'kinect', 'best pos')\n",
    "save_dir = os.path.join('..', 'data', 'results')\n",
    "\n",
    "save_name = 'kinect_gait_metrics.csv'\n",
    "\n",
    "# All files with .pkl extension\n",
    "file_paths = glob.glob(os.path.join(load_dir, '*.pkl'))\n",
    "save_path = os.path.join(save_dir, save_name)\n",
    "\n",
    "df_metrics = pd.read_csv(save_path, index_col=0)\n",
    "\n",
    "\n",
    "kinect_id = '2014-12-16_P005_Post_004'\n",
    "\n",
    "matching_files = [f for f in file_paths if kinect_id in f]\n",
    "\n",
    "for file_path in matching_files:\n",
    "\n",
    "    df_head_feet = pd.read_pickle(file_path)\n",
    "    \n",
    "    # Convert all position vectors to float type \n",
    "    # so they can be easily input to linear algebra functions\n",
    "    df_head_feet = df_head_feet.applymap(pd.to_numeric)\n",
    "    \n",
    "    # Cluster frames with k means to locate the 4 walking passes\n",
    "    frames = df_head_feet.index.values.reshape(-1, 1)\n",
    "    k_means = KMeans(n_clusters=4, random_state=0).fit(frames)\n",
    "\n",
    "    pass_dfs = gm.split_by_pass(df_head_feet, k_means.labels_)"
   ]
  },
  {
   "cell_type": "code",
   "execution_count": 2,
   "metadata": {},
   "outputs": [],
   "source": [
    "import matplotlib.pyplot as plt\n",
    "import modules.signals as sig"
   ]
  },
  {
   "cell_type": "code",
   "execution_count": 3,
   "metadata": {},
   "outputs": [],
   "source": [
    "df_pass = pass_dfs[0]"
   ]
  },
  {
   "cell_type": "code",
   "execution_count": 4,
   "metadata": {},
   "outputs": [],
   "source": [
    "# Enforce consistent sides for the feet on all walking passes.\n",
    "# Also calculate the general direction of motion for each pass.\n",
    "df_pass, direction = pe.consistent_sides(df_pass)"
   ]
  },
  {
   "cell_type": "markdown",
   "metadata": {},
   "source": [
    "## File: '2014-12-16_P005_Post_004'\n",
    "\n",
    "- 221 L\n",
    "- 234 R\n",
    "- 247 L\n",
    "- 260 R"
   ]
  },
  {
   "cell_type": "code",
   "execution_count": 26,
   "metadata": {},
   "outputs": [
    {
     "name": "stderr",
     "output_type": "stream",
     "text": [
      "/Users/andrewhynes/anaconda3/lib/python3.6/site-packages/scipy/stats/_stats_mstats_common.py:107: RuntimeWarning: invalid value encountered in double_scalars\n",
      "  slope = r_num / ssxm\n",
      "/Users/andrewhynes/anaconda3/lib/python3.6/site-packages/scipy/stats/_stats_mstats_common.py:117: RuntimeWarning: invalid value encountered in sqrt\n",
      "  t = r * np.sqrt(df / ((1.0 - r + TINY)*(1.0 + r + TINY)))\n",
      "/Users/andrewhynes/anaconda3/lib/python3.6/site-packages/scipy/stats/_stats_mstats_common.py:119: RuntimeWarning: invalid value encountered in double_scalars\n",
      "  sterrest = np.sqrt((1 - r**2) * ssym / ssxm / df)\n"
     ]
    }
   ],
   "source": [
    "signal_l = gm.contact_signal(df_pass.L_FOOT, n_frames=10)\n",
    "signal_r = gm.contact_signal(df_pass.R_FOOT, n_frames=10)"
   ]
  },
  {
   "cell_type": "code",
   "execution_count": 27,
   "metadata": {},
   "outputs": [
    {
     "data": {
      "text/plain": [
       "<matplotlib.collections.PathCollection at 0x11184b5f8>"
      ]
     },
     "execution_count": 27,
     "metadata": {},
     "output_type": "execute_result"
    },
    {
     "data": {
      "image/png": "[encoded data removed]",
      "text/plain": [
       "<matplotlib.figure.Figure at 0x1105f8390>"
      ]
     },
     "metadata": {},
     "output_type": "display_data"
    }
   ],
   "source": [
    "plt.scatter(signal_l.index, signal_l)"
   ]
  },
  {
   "cell_type": "code",
   "execution_count": 28,
   "metadata": {},
   "outputs": [
    {
     "data": {
      "text/plain": [
       "<matplotlib.collections.PathCollection at 0x11181e198>"
      ]
     },
     "execution_count": 28,
     "metadata": {},
     "output_type": "execute_result"
    },
    {
     "data": {
      "image/png": "[encoded data removed]",
      "text/plain": [
       "<matplotlib.figure.Figure at 0x1118321d0>"
      ]
     },
     "metadata": {},
     "output_type": "display_data"
    }
   ],
   "source": [
    "plt.scatter(signal_r.index, signal_r)"
   ]
  },
  {
   "cell_type": "code",
   "execution_count": 24,
   "metadata": {},
   "outputs": [],
   "source": [
    "_, signal_upper = sig.filter_by_function(signal_r.dropna(), sig.root_mean_square)\n",
    "\n",
    "# Detect peaks in the ratio data\n",
    "# A peak represents a frame where the foot first contacts the floor\n",
    "contact_frames, _ = sig.mean_shift_peaks(signal_upper, kernel='gaussian', radius=5)"
   ]
  },
  {
   "cell_type": "code",
   "execution_count": 25,
   "metadata": {},
   "outputs": [
    {
     "data": {
      "text/plain": [
       "array([217, 233, 260])"
      ]
     },
     "execution_count": 25,
     "metadata": {},
     "output_type": "execute_result"
    }
   ],
   "source": [
    "contact_frames"
   ]
  },
  {
   "cell_type": "code",
   "execution_count": 23,
   "metadata": {},
   "outputs": [
    {
     "data": {
      "text/plain": [
       "217    14.020616\n",
       "219    12.421166\n",
       "231     9.566326\n",
       "232    10.706255\n",
       "233    10.738392\n",
       "234    10.700254\n",
       "235    10.567979\n",
       "236     9.564397\n",
       "237     7.817264\n",
       "258     9.663284\n",
       "259    11.010317\n",
       "260    11.033079\n",
       "261    10.482475\n",
       "262     9.443856\n",
       "263     8.353170\n",
       "dtype: float64"
      ]
     },
     "execution_count": 23,
     "metadata": {},
     "output_type": "execute_result"
    }
   ],
   "source": [
    "signal_upper"
   ]
  },
  {
   "cell_type": "code",
   "execution_count": null,
   "metadata": {},
   "outputs": [],
   "source": []
  }
 ],
 "metadata": {
  "kernelspec": {
   "display_name": "Python 3",
   "language": "python",
   "name": "python3"
  },
  "language_info": {
   "codemirror_mode": {
    "name": "ipython",
    "version": 3
   },
   "file_extension": ".py",
   "mimetype": "text/x-python",
   "name": "python",
   "nbconvert_exporter": "python",
   "pygments_lexer": "ipython3",
   "version": "3.6.4"
  }
 },
 "nbformat": 4,
 "nbformat_minor": 2
}
