{
 "cells": [
  {
   "cell_type": "code",
   "execution_count": 1,
   "metadata": {},
   "outputs": [],
   "source": [
    "import os\n",
    "\n",
    "import numpy as np\n",
    "import matplotlib.pyplot as plt\n",
    "\n",
    "import sys\n",
    "sys.path.append('..')\n",
    "\n",
    "import analysis.plotting as pl\n",
    "import modules.iterable_funcs as itf"
   ]
  },
  {
   "cell_type": "code",
   "execution_count": 2,
   "metadata": {},
   "outputs": [],
   "source": [
    "# Info about the variables\n",
    "file = '2014-12-03_P005_Post_002'\n",
    "frame = 90"
   ]
  },
  {
   "cell_type": "code",
   "execution_count": 3,
   "metadata": {},
   "outputs": [
    {
     "name": "stdout",
     "output_type": "stream",
     "text": [
      "Using matplotlib backend: Qt5Agg\n"
     ]
    }
   ],
   "source": [
    "%matplotlib auto"
   ]
  },
  {
   "cell_type": "markdown",
   "metadata": {},
   "source": [
    "### Load variables"
   ]
  },
  {
   "cell_type": "code",
   "execution_count": 4,
   "metadata": {},
   "outputs": [],
   "source": [
    "load_dir = os.path.join('..', 'data', 'saved_variables')\n",
    "\n",
    "population = np.load(os.path.join(load_dir, 'population.npy'))\n",
    "labels = np.load(os.path.join(load_dir, 'labels.npy'))\n",
    "path_matrix = np.load(os.path.join(load_dir, 'path_matrix.npy'))"
   ]
  },
  {
   "cell_type": "code",
   "execution_count": 5,
   "metadata": {},
   "outputs": [],
   "source": [
    "part_types = ['Head', 'Hip', 'Thigh', 'Knee', 'Calf', 'Foot']"
   ]
  },
  {
   "cell_type": "markdown",
   "metadata": {},
   "source": [
    "## Customize font"
   ]
  },
  {
   "cell_type": "code",
   "execution_count": 6,
   "metadata": {},
   "outputs": [],
   "source": [
    "plt.rc('text', usetex=True)\n",
    "\n",
    "font = {'family' : 'serif',\n",
    "        'weight' : 'bold',\n",
    "        'size'   : 12}\n",
    "\n",
    "plt.rc('font', **font)  # pass in the font dict as kwargs"
   ]
  },
  {
   "cell_type": "markdown",
   "metadata": {},
   "source": [
    "### Plot population"
   ]
  },
  {
   "cell_type": "code",
   "execution_count": 7,
   "metadata": {},
   "outputs": [],
   "source": [
    "fig = plt.figure()\n",
    "\n",
    "pl.scatter_labels(population, labels)\n",
    "\n",
    "plt.legend(part_types)\n",
    "plt.xlim((-150, 0))\n",
    "plt.xlabel('X')\n",
    "plt.ylabel('Y', rotation=0)\n",
    "plt.show()"
   ]
  },
  {
   "cell_type": "code",
   "execution_count": 8,
   "metadata": {},
   "outputs": [],
   "source": [
    "# fig.savefig('labelled_points.pdf', format='pdf', dpi=1200)"
   ]
  },
  {
   "cell_type": "markdown",
   "metadata": {},
   "source": [
    "### Plot spheres"
   ]
  },
  {
   "cell_type": "code",
   "execution_count": 9,
   "metadata": {},
   "outputs": [],
   "source": [
    "path_0, path_1 = path_matrix[3, :], path_matrix[1, :]\n",
    "pop_0, pop_1 = population[path_0, :], population[path_1, :]\n",
    "\n",
    "pl.scatter_labels(population, labels)\n",
    "pl.scatter2(pop_0, s=1e3, facecolors='none', edgecolors='k')\n",
    "pl.scatter2(pop_1, s=1e3, facecolors='none', edgecolors='k')\n",
    "\n",
    "plt.legend(part_types)\n",
    "plt.xlim((-150, 0))\n",
    "plt.xlabel('X')\n",
    "plt.ylabel('Y', rotation=0)\n",
    "plt.show()"
   ]
  },
  {
   "cell_type": "markdown",
   "metadata": {},
   "source": [
    "### Plot body graph"
   ]
  },
  {
   "cell_type": "code",
   "execution_count": 10,
   "metadata": {},
   "outputs": [],
   "source": [
    "def generate_points(n_points_per_set):\n",
    "    \n",
    "    n_sets = len(n_points_per_set)\n",
    "\n",
    "    for i, n_points in enumerate(n_points_per_set):\n",
    "\n",
    "        y_vals = (n_sets - i) * np.ones(n_points)\n",
    "        x_vals = np.linspace(0, 1, n_points + 1, endpoint=False)[1:]\n",
    "        \n",
    "        points = np.stack([(x, y) for x, y in zip(x_vals, y_vals)])\n",
    "        \n",
    "        yield points"
   ]
  },
  {
   "cell_type": "code",
   "execution_count": 11,
   "metadata": {},
   "outputs": [],
   "source": [
    "n_points_per_set = [2, 3, 5, 2, 4, 5]\n",
    "\n",
    "point_sets = [*generate_points(n_points_per_set)]"
   ]
  },
  {
   "cell_type": "code",
   "execution_count": 12,
   "metadata": {},
   "outputs": [],
   "source": [
    "fig = plt.figure()\n",
    "\n",
    "for points_a, points_b in itf.pairwise(point_sets):\n",
    "        \n",
    "    points = np.vstack([points_a, points_b])\n",
    "\n",
    "    pl.scatter2(points, c='k', s=50)\n",
    "    pl.connect_two_sets(points_a, points_b, c='k')\n",
    "    \n",
    "    \n",
    "# Highlight path in red\n",
    "prev_path_point = []\n",
    "for row_points in point_sets:\n",
    "    \n",
    "    path_point = row_points[np.random.randint(row_points.shape[0])]\n",
    "\n",
    "    pl.scatter2(path_point, c='r', s=100, zorder=3)\n",
    "    \n",
    "    if len(prev_path_point) > 0:\n",
    "        pl.connect_points(prev_path_point, path_point, c='r', zorder=3)\n",
    "    \n",
    "    prev_path_point = path_point\n",
    "\n",
    "\n",
    "# Label rows with body part names  \n",
    "y_coords = [points[0, 1] for points in point_sets]\n",
    "\n",
    "for i, part_type in enumerate(part_types):\n",
    "    \n",
    "    plt.text(1, y_coords[i]-0.075, part_type, fontsize=12)\n",
    "\n",
    "plt.xlim((0, 1.1))\n",
    "plt.axis('off')\n",
    "plt.show()\n"
   ]
  },
  {
   "cell_type": "code",
   "execution_count": 14,
   "metadata": {},
   "outputs": [],
   "source": [
    "# fig.savefig('body_graph.pdf', format='pdf', dpi=1200)"
   ]
  },
  {
   "cell_type": "code",
   "execution_count": null,
   "metadata": {},
   "outputs": [],
   "source": []
  }
 ],
 "metadata": {
  "kernelspec": {
   "display_name": "Python [default]",
   "language": "python",
   "name": "python3"
  },
  "language_info": {
   "codemirror_mode": {
    "name": "ipython",
    "version": 3
   },
   "file_extension": ".py",
   "mimetype": "text/x-python",
   "name": "python",
   "nbconvert_exporter": "python",
   "pygments_lexer": "ipython3",
   "version": "3.6.5"
  }
 },
 "nbformat": 4,
 "nbformat_minor": 2
}
