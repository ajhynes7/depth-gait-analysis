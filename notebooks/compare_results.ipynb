{
 "cells": [
  {
   "cell_type": "code",
   "execution_count": 1,
   "metadata": {},
   "outputs": [],
   "source": [
    "import pandas as pd\n",
    "import os"
   ]
  },
  {
   "cell_type": "code",
   "execution_count": 21,
   "metadata": {},
   "outputs": [],
   "source": [
    "directory = '../../../MEGA/Data/Kinect Zeno/Results'\n",
    "\n",
    "match_filename = 'kinect_zeno_comparison.xlsx'\n",
    "match_path = os.path.join(directory, match_filename)\n",
    "\n",
    "df_kinect = pd.read_excel(match_path, usecols='A:E', skiprows=1)\n",
    "df_zeno = pd.read_excel(match_path, usecols='G:K', skiprows=1)"
   ]
  },
  {
   "cell_type": "code",
   "execution_count": 25,
   "metadata": {},
   "outputs": [
    {
     "data": {
      "text/plain": [
       "File             B_2014-12-22_P007_Pre_tw_C\n",
       "Step length                           48.02\n",
       "Stride length                        96.228\n",
       "Stride width                         10.353\n",
       "Stride vel                           60.798\n",
       "Name: 51, dtype: object"
      ]
     },
     "execution_count": 25,
     "metadata": {},
     "output_type": "execute_result"
    }
   ],
   "source": [
    "df_zeno.iloc[-1, :]"
   ]
  },
  {
   "cell_type": "code",
   "execution_count": 26,
   "metadata": {},
   "outputs": [
    {
     "data": {
      "text/plain": [
       "File             2014-12-22_P007_Pre_004\n",
       "Step length                      38.5512\n",
       "Stride length                     76.773\n",
       "Stride width                     14.0828\n",
       "Stride vel                       57.3899\n",
       "Name: 51, dtype: object"
      ]
     },
     "execution_count": 26,
     "metadata": {},
     "output_type": "execute_result"
    }
   ],
   "source": [
    "df_kinect.iloc[-1, :]"
   ]
  },
  {
   "cell_type": "code",
   "execution_count": null,
   "metadata": {},
   "outputs": [],
   "source": []
  }
 ],
 "metadata": {
  "kernelspec": {
   "display_name": "Python 3",
   "language": "python",
   "name": "python3"
  },
  "language_info": {
   "codemirror_mode": {
    "name": "ipython",
    "version": 3
   },
   "file_extension": ".py",
   "mimetype": "text/x-python",
   "name": "python",
   "nbconvert_exporter": "python",
   "pygments_lexer": "ipython3",
   "version": "3.6.4"
  }
 },
 "nbformat": 4,
 "nbformat_minor": 2
}
