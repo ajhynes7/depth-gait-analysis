{
 "cells": [
  {
   "cell_type": "markdown",
   "metadata": {},
   "source": [
    "## Create figures from the code"
   ]
  },
  {
   "cell_type": "code",
   "execution_count": 1,
   "metadata": {},
   "outputs": [],
   "source": [
    "import os\n",
    "os.chdir('../..')"
   ]
  },
  {
   "cell_type": "code",
   "execution_count": 2,
   "metadata": {},
   "outputs": [],
   "source": [
    "import glob\n",
    "import os\n",
    "\n",
    "import numpy as np\n",
    "import pandas as pd\n",
    "import matplotlib.pyplot as plt\n",
    "from sklearn.cluster import MeanShift\n",
    "\n",
    "import analysis.plotting as pl\n",
    "from modules.gait_parameters import *\n",
    "import modules.numpy_funcs as nf\n",
    "import modules.signals as sig\n"
   ]
  },
  {
   "cell_type": "code",
   "execution_count": 3,
   "metadata": {},
   "outputs": [
    {
     "name": "stdout",
     "output_type": "stream",
     "text": [
      "Using matplotlib backend: Qt5Agg\n"
     ]
    }
   ],
   "source": [
    "%matplotlib auto"
   ]
  },
  {
   "cell_type": "code",
   "execution_count": 4,
   "metadata": {},
   "outputs": [],
   "source": [
    "file_name = '2014-12-08_P004_Post_000'"
   ]
  },
  {
   "cell_type": "code",
   "execution_count": 5,
   "metadata": {},
   "outputs": [],
   "source": [
    "hypo_dir = os.path.join('data', 'kinect', 'processed', 'hypothesis')\n",
    "best_pos_dir = os.path.join('data', 'kinect', 'best_pos')\n",
    "\n",
    "hypo_paths = glob.glob(os.path.join(hypo_dir, '*.pkl'))\n",
    "best_pos_paths = glob.glob(os.path.join(best_pos_dir, '*.pkl'))\n",
    "\n",
    "hypo_paths = [x for x in hypo_paths if file_name in x]\n",
    "best_pos_paths = [x for x in best_pos_paths if file_name in x]\n",
    "\n",
    "df_hypo = pd.read_pickle(hypo_paths[0])\n",
    "df_best_pos = pd.read_pickle(best_pos_paths[0])"
   ]
  },
  {
   "cell_type": "code",
   "execution_count": 6,
   "metadata": {},
   "outputs": [],
   "source": [
    "df_head_feet = df_best_pos"
   ]
  },
  {
   "cell_type": "code",
   "execution_count": 7,
   "metadata": {},
   "outputs": [],
   "source": [
    "# Convert all position vectors to float type\n",
    "# so they can be easily input to linear algebra functions\n",
    "df_head_feet = df_head_feet.applymap(pd.to_numeric)\n",
    "\n",
    "# Cluster frames with mean shift to locate the walking passes\n",
    "frames = df_head_feet.index\n",
    "mean_shift = MeanShift(bandwidth=60).fit(nf.to_column(frames))\n",
    "labels = mean_shift.labels_\n",
    "\n",
    "# Sort labels so that the frames are in temporal order\n",
    "labels = nf.map_to_whole(labels)\n",
    "\n",
    "# DataFrames for each walking pass in a trial\n",
    "pass_dfs = list(nf.group_by_label(df_head_feet, labels))"
   ]
  },
  {
   "cell_type": "code",
   "execution_count": 8,
   "metadata": {},
   "outputs": [],
   "source": [
    "plt.figure()\n",
    "\n",
    "points = np.column_stack([frames, np.ones(len(frames))])\n",
    "pl.scatter_labels(points, labels)\n",
    "\n",
    "plt.show()"
   ]
  },
  {
   "cell_type": "code",
   "execution_count": 9,
   "metadata": {},
   "outputs": [],
   "source": [
    "df_pass = pass_dfs[0]"
   ]
  },
  {
   "cell_type": "markdown",
   "metadata": {},
   "source": [
    "## Foot Distance"
   ]
  },
  {
   "cell_type": "code",
   "execution_count": 10,
   "metadata": {},
   "outputs": [],
   "source": [
    "plt.rc('text', usetex=True)\n",
    "\n",
    "font = {'family' : 'serif',\n",
    "        'weight' : 'bold',\n",
    "        'size'   : 12}\n",
    "\n",
    "plt.rc('font', **font)  # pass in the font dict as kwargs"
   ]
  },
  {
   "cell_type": "code",
   "execution_count": 11,
   "metadata": {},
   "outputs": [],
   "source": [
    "frames = df_pass.index.values\n",
    "\n",
    "foot_pos_l = np.stack(df_pass.L_FOOT)\n",
    "foot_pos_r = np.stack(df_pass.R_FOOT)\n",
    "norms = np.apply_along_axis(norm, 1, foot_pos_l - foot_pos_r)\n",
    "\n",
    "signal = 1 - sig.nan_normalize(norms)\n",
    "rms = sig.root_mean_square(signal)\n",
    "\n",
    "peak_frames, _ = sw.detect_peaks(frames, signal, window_length=3, min_height=rms)\n",
    "\n",
    "fig = plt.figure()\n",
    "foot_dist = pd.Series(norms, index=frames)\n",
    "\n",
    "pl.scatter_series(foot_dist, c='k', s=15)\n",
    "plt.plot(foot_dist, c='k', linewidth=0.7)\n",
    "\n",
    "plt.vlines(x=peak_frames, ymin=foot_dist.max(), ymax=foot_dist.min(), color='r')\n",
    "\n",
    "plt.xlabel('Frame')\n",
    "plt.ylabel('Foot Distance [cm]')\n",
    "\n",
    "plt.show()"
   ]
  },
  {
   "cell_type": "code",
   "execution_count": 12,
   "metadata": {},
   "outputs": [],
   "source": [
    "# fig.savefig('foot_dist.pdf', format='pdf', dpi=1200)"
   ]
  },
  {
   "cell_type": "code",
   "execution_count": 13,
   "metadata": {},
   "outputs": [],
   "source": [
    "_, direction_pass = direction_of_pass(df_pass)\n",
    "\n",
    "# Assign correct sides to feet\n",
    "df_pass = asi.assign_sides_pass(df_pass, direction_pass)\n",
    "\n",
    "# Ensure there are no missing frames in the walking pass\n",
    "df_pass = pf.make_index_consecutive(df_pass)\n",
    "df_pass = df_pass.applymap(lambda x: x if isinstance(x, np.ndarray)\n",
    "                           else np.full(3, np.nan))"
   ]
  },
  {
   "cell_type": "code",
   "execution_count": 14,
   "metadata": {},
   "outputs": [],
   "source": [
    "foot_series = df_pass.R_FOOT\n",
    "frames_pass = df_pass.index.values"
   ]
  },
  {
   "cell_type": "code",
   "execution_count": 15,
   "metadata": {},
   "outputs": [],
   "source": [
    "foot_points = np.stack(foot_series)\n",
    "\n",
    "step_signal = lin.line_coordinate_system(np.zeros(3), direction_pass,\n",
    "                                         foot_points)\n",
    "\n",
    "is_stance = pde.detect_phases(step_signal)"
   ]
  },
  {
   "cell_type": "markdown",
   "metadata": {},
   "source": [
    "## Step Signal"
   ]
  },
  {
   "cell_type": "code",
   "execution_count": 16,
   "metadata": {},
   "outputs": [],
   "source": [
    "fig = plt.figure()\n",
    "\n",
    "points = np.column_stack((frames_pass, step_signal))\n",
    "pl.scatter_labels(points, ~is_stance)\n",
    "plt.xlabel('Frame')\n",
    "plt.ylabel('Signal')\n",
    "plt.legend(['Stance', 'Swing'])\n",
    "\n",
    "plt.show()"
   ]
  },
  {
   "cell_type": "code",
   "execution_count": 17,
   "metadata": {},
   "outputs": [],
   "source": [
    "# fig.savefig('step_signal.pdf', format='pdf', dpi=1200)"
   ]
  },
  {
   "cell_type": "code",
   "execution_count": 19,
   "metadata": {},
   "outputs": [
    {
     "name": "stdout",
     "output_type": "stream",
     "text": [
      "/home/andrew/bitbucket_repos/pose_estimation\n"
     ]
    }
   ],
   "source": [
    "!pwd"
   ]
  },
  {
   "cell_type": "code",
   "execution_count": 22,
   "metadata": {},
   "outputs": [
    {
     "name": "stdout",
     "output_type": "stream",
     "text": [
      "[NbConvertApp] Converting notebook notebooks/figures/create_figures_code.ipynb to script\n",
      "[NbConvertApp] Writing 3669 bytes to notebooks/figures/create_figures_code.py\n"
     ]
    }
   ],
   "source": [
    "!jupyter nbconvert --to script notebooks/figures/create_figures_code.ipynb"
   ]
  },
  {
   "cell_type": "code",
   "execution_count": 23,
   "metadata": {},
   "outputs": [
    {
     "name": "stdout",
     "output_type": "stream",
     "text": [
      "/home/andrew/bitbucket_repos/pose_estimation\n"
     ]
    }
   ],
   "source": [
    "!pwd"
   ]
  },
  {
   "cell_type": "code",
   "execution_count": null,
   "metadata": {},
   "outputs": [],
   "source": []
  },
  {
   "cell_type": "code",
   "execution_count": null,
   "metadata": {},
   "outputs": [],
   "source": []
  }
 ],
 "metadata": {
  "kernelspec": {
   "display_name": "Python [default]",
   "language": "python",
   "name": "python3"
  },
  "language_info": {
   "codemirror_mode": {
    "name": "ipython",
    "version": 3
   },
   "file_extension": ".py",
   "mimetype": "text/x-python",
   "name": "python",
   "nbconvert_exporter": "python",
   "pygments_lexer": "ipython3",
   "version": "3.7.0"
  }
 },
 "nbformat": 4,
 "nbformat_minor": 2
}
