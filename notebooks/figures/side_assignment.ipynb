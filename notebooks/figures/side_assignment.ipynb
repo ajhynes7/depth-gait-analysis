{
 "cells": [
  {
   "cell_type": "code",
   "execution_count": 1,
   "metadata": {},
   "outputs": [],
   "source": [
    "import numpy as np\n",
    "from numpy.linalg import norm\n",
    "\n",
    "import matplotlib.pyplot as plt\n",
    "from mpl_toolkits.mplot3d import Axes3D\n",
    "\n",
    "import sys\n",
    "sys.path.append('..')\n",
    "\n",
    "import modules.linear_algebra as lin\n",
    "import analysis.plotting as pl"
   ]
  },
  {
   "cell_type": "code",
   "execution_count": 2,
   "metadata": {},
   "outputs": [
    {
     "name": "stdout",
     "output_type": "stream",
     "text": [
      "Using matplotlib backend: Qt5Agg\n"
     ]
    }
   ],
   "source": [
    "%matplotlib auto"
   ]
  },
  {
   "cell_type": "code",
   "execution_count": 9,
   "metadata": {},
   "outputs": [],
   "source": [
    "foot_1 = np.array([2, 10, 0])\n",
    "foot_2 = np.array([0, -10, 0])\n",
    "\n",
    "head = np.array([1, 0, 10])\n",
    "\n",
    "forward = np.array([0, 1, 0])"
   ]
  },
  {
   "cell_type": "code",
   "execution_count": 4,
   "metadata": {},
   "outputs": [],
   "source": [
    "foot_mean = (foot_1 + foot_2) / 2\n",
    "\n",
    "up = lin.unit(head - foot_mean)\n",
    "target = foot_1 - foot_mean\n",
    "normal = np.cross(forward, up)\n",
    "\n",
    "value = np.dot(normal, target)\n",
    "\n",
    "points = np.stack([head, foot_1, foot_2, foot_mean])"
   ]
  },
  {
   "cell_type": "code",
   "execution_count": 8,
   "metadata": {},
   "outputs": [],
   "source": [
    "fig, ax = plt.subplots()\n",
    "ax = Axes3D(fig)\n",
    "\n",
    "plt.rc('text', usetex=True)\n",
    "plt.rc('font', family='serif', size=20)\n",
    "\n",
    "pl.scatter3(ax, points, depthshade=False, s=50, c='k', zorder=5)\n",
    "\n",
    "z_offset = 0.5\n",
    "\n",
    "ax.text(head[0], head[1], head[2] + z_offset, '$\\mathbf{p}_{head}$', ha='center')\n",
    "ax.text(foot_1[0], foot_1[1], foot_1[2] + z_offset, '$\\mathbf{p}_{foot, 1}$', ha='center')\n",
    "ax.text(foot_2[0], foot_2[1], foot_2[2] + z_offset, '$\\mathbf{p}_{foot, 2}$', ha='center')\n",
    "\n",
    "\n",
    "pl.connect_points_3(ax, foot_mean, head, c='k', linestyle=':')\n",
    "pl.connect_points_3(ax, foot_1, foot_2, c='k', linestyle=':')\n",
    "\n",
    "forward_line, = pl.connect_points_3(ax, foot_mean, foot_mean + 7.5 * forward, linestyle='-', linewidth=2)\n",
    "up_line, = pl.connect_points_3(ax, foot_mean, foot_mean + 3 * up, linestyle='-', linewidth=2)\n",
    "target_line, = pl.connect_points_3(ax, foot_mean, foot_mean + 5 * lin.unit(target), linestyle='-', linewidth=2)\n",
    "normal_line, = pl.connect_points_3(ax, foot_mean, foot_mean + 0.75 * normal, linestyle='-', linewidth=2)\n",
    "\n",
    "\n",
    "lines = [forward_line, up_line, target_line, normal_line]\n",
    "\n",
    "labels = ['$\\mathbf{v}_{forward}$', \n",
    "          '$\\mathbf{v}_{up}$',\n",
    "          '$\\mathbf{v}_{target}$', \n",
    "          '$\\mathbf{v}_{normal}$',\n",
    "         ]\n",
    "plt.legend(lines, labels)\n",
    "\n",
    "plt.axis('off')\n",
    "plt.show()"
   ]
  },
  {
   "cell_type": "code",
   "execution_count": 6,
   "metadata": {},
   "outputs": [],
   "source": [
    "# fig.savefig('side_assignment.pdf', format='pdf', dpi=1200)"
   ]
  },
  {
   "cell_type": "code",
   "execution_count": null,
   "metadata": {},
   "outputs": [],
   "source": []
  }
 ],
 "metadata": {
  "kernelspec": {
   "display_name": "Python [conda env:plotting_env]",
   "language": "python",
   "name": "conda-env-plotting_env-py"
  },
  "language_info": {
   "codemirror_mode": {
    "name": "ipython",
    "version": 3
   },
   "file_extension": ".py",
   "mimetype": "text/x-python",
   "name": "python",
   "nbconvert_exporter": "python",
   "pygments_lexer": "ipython3",
   "version": "3.7.0"
  }
 },
 "nbformat": 4,
 "nbformat_minor": 2
}
