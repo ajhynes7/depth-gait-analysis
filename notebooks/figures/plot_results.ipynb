{
 "cells": [
  {
   "cell_type": "code",
   "execution_count": 150,
   "metadata": {},
   "outputs": [],
   "source": [
    "\"\"\"Calculate results of comparing Kinect and Zeno gait metrics.\"\"\"\n",
    "\n",
    "import os\n",
    "\n",
    "import pandas as pd\n",
    "from scipy.stats import spearmanr, pearsonr\n",
    "\n",
    "import sys\n",
    "sys.path.append(os.path.join('..', '..'))\n",
    "\n",
    "import analysis.stats as st\n",
    "\n",
    "\n",
    "results_dir = os.path.join('..', '..', 'data', 'results')\n",
    "match_dir = os.path.join('..', '..', 'data', 'matching')\n",
    "\n",
    "df_k_raw = pd.read_csv(\n",
    "    os.path.join(results_dir, 'kinect_gait_metrics.csv'), index_col=0)\n",
    "\n",
    "df_z_raw = pd.read_csv(\n",
    "    os.path.join(results_dir, 'zeno_gait_metrics.csv'), index_col=0)\n",
    "\n",
    "df_match = pd.read_csv(os.path.join(match_dir, 'match_kinect_zeno.csv'))\n",
    "\n",
    "# Drop rows where file has no match\n",
    "df_match = df_match.dropna(axis=0)\n",
    "\n",
    "df_match_zeno = pd.merge(df_match, df_z_raw, left_on='Zeno', right_index=True)\n",
    "\n",
    "df_total = pd.merge(\n",
    "    df_match_zeno,\n",
    "    df_k_raw,\n",
    "    left_on='Kinect',\n",
    "    right_index=True,\n",
    "    suffixes=('_z', '_k'))\n",
    "\n",
    "# Take columns from total DataFrame to get Kinect and Zeno data\n",
    "df_k = df_total.filter(like='_k')\n",
    "df_z = df_total.filter(like='_z')\n",
    "\n",
    "# Remove suffixes from column names\n",
    "df_k = df_k.rename(columns=lambda x: str(x)[:-2])\n",
    "df_z = df_z.rename(columns=lambda x: str(x)[:-2])\n",
    "\n",
    "# Group by gait metric without suffix\n",
    "df_k_grouped = df_k.groupby(\n",
    "    lambda col_name: col_name[:-2],\n",
    "    axis=1).apply(lambda x: pd.Series(x.values.flatten('F')))\n",
    "\n",
    "df_z_grouped = df_z.groupby(\n",
    "    lambda col_name: col_name[:-2],\n",
    "    axis=1).apply(lambda x: pd.Series(x.values.flatten('F')))\n",
    "\n",
    "# Calculate results\n",
    "funcs = {\n",
    "    'pearson':\n",
    "    lambda a, b: pearsonr(a, b)[0],\n",
    "    'spearman':\n",
    "    lambda a, b: spearmanr(a, b)[0],\n",
    "    'abs_rel_error':\n",
    "    lambda a, b: st.relative_error(a, b, absolute=True).mean(),\n",
    "    'bias':\n",
    "    lambda a, b: st.bland_altman(a, b).bias,\n",
    "    'range':\n",
    "    lambda a, b: st.bland_altman(a, b).range_,\n",
    "}\n",
    "\n",
    "df_results_LR = st.compare_measurements(df_k, df_z, funcs)\n",
    "df_results_grouped = st.compare_measurements(df_k_grouped, df_z_grouped, funcs)"
   ]
  },
  {
   "cell_type": "markdown",
   "metadata": {},
   "source": [
    "## Plotting"
   ]
  },
  {
   "cell_type": "code",
   "execution_count": 107,
   "metadata": {},
   "outputs": [],
   "source": [
    "import numpy as np\n",
    "\n",
    "import analysis.math_funcs as mf\n",
    "import matplotlib.pyplot as plt\n",
    "import analysis.plotting as pl\n"
   ]
  },
  {
   "cell_type": "code",
   "execution_count": 108,
   "metadata": {},
   "outputs": [],
   "source": [
    "from analysis.stats import relative_difference"
   ]
  },
  {
   "cell_type": "code",
   "execution_count": 109,
   "metadata": {},
   "outputs": [],
   "source": [
    "plt.rc('text', usetex=True)\n",
    "\n",
    "font = {'family' : 'serif',\n",
    "        'weight' : 'bold',\n",
    "        'size'   : 14,\n",
    "       }\n",
    "\n",
    "plt.rc('font', **font)  # pass in the font dict as kwargs"
   ]
  },
  {
   "cell_type": "code",
   "execution_count": 128,
   "metadata": {},
   "outputs": [],
   "source": [
    "x_new = abs(df_k_grouped.stride_width)\n",
    "x_valid = abs(df_z_grouped.stride_width)"
   ]
  },
  {
   "cell_type": "code",
   "execution_count": 129,
   "metadata": {},
   "outputs": [],
   "source": [
    "differences = x_new - x_valid\n",
    "means = (x_new + x_valid) / 2\n",
    "\n",
    "rel_diffs = differences / means\n",
    "\n",
    "bias, standard_dev = rel_diffs.mean(), rel_diffs.std()\n",
    "\n",
    "lower_limit, upper_limit = mf.limits(bias, 1.96 * standard_dev)"
   ]
  },
  {
   "cell_type": "code",
   "execution_count": 158,
   "metadata": {},
   "outputs": [
    {
     "data": {
      "image/png": "[encoded data removed]",
      "text/plain": [
       "<Figure size 432x288 with 1 Axes>"
      ]
     },
     "metadata": {
      "needs_background": "light"
     },
     "output_type": "display_data"
    }
   ],
   "source": [
    "ax = plt.subplot(111)\n",
    "\n",
    "ax.scatter(means, rel_diffs, c='k', s=10)\n",
    "\n",
    "# Remove right and top borders\n",
    "ax.spines['right'].set_visible(False)\n",
    "ax.spines['top'].set_visible(False)\n",
    "\n",
    "# Horizontal lines for bias and limits of agreement\n",
    "ax.axhline(y=bias, color='k', linestyle='-')\n",
    "ax.axhline(y=lower_limit, color='k', linestyle=':')\n",
    "ax.axhline(y=upper_limit, color='k', linestyle=':')\n",
    "\n",
    "# Format y labels as percentages\n",
    "ax.set_yticklabels(['{:.0f}\\%'.format(x*100) for x in ax.get_yticks()])\n",
    "\n",
    "plt.xlabel('Mean of two measurements [cm]')\n",
    "plt.ylabel('Percent difference')\n",
    "plt.title('Stride Width')\n",
    "\n",
    "plt.show()"
   ]
  },
  {
   "cell_type": "code",
   "execution_count": 165,
   "metadata": {},
   "outputs": [
    {
     "data": {
      "image/png": "[encoded data removed]",
      "text/plain": [
       "<Figure size 432x288 with 1 Axes>"
      ]
     },
     "metadata": {
      "needs_background": "light"
     },
     "output_type": "display_data"
    }
   ],
   "source": [
    "x_label, y_label = 'Zeno Walkway', 'Kinect'\n",
    "param = 'step_length'\n",
    "    \n",
    "pl.compare_measurements(df_z_grouped[param], df_k_grouped[param], c='k', s=10)\n",
    "\n",
    "# Remove right and top borders\n",
    "plt.gca().spines['right'].set_visible(False)\n",
    "plt.gca().spines['top'].set_visible(False)\n",
    "\n",
    "plt.xlabel(\"Zeno Walkway [cm]\")\n",
    "plt.ylabel(\"Kinect [cm]\")\n",
    "plt.show()"
   ]
  },
  {
   "cell_type": "code",
   "execution_count": null,
   "metadata": {},
   "outputs": [],
   "source": []
  }
 ],
 "metadata": {
  "kernelspec": {
   "display_name": "Python [default]",
   "language": "python",
   "name": "python3"
  },
  "language_info": {
   "codemirror_mode": {
    "name": "ipython",
    "version": 3
   },
   "file_extension": ".py",
   "mimetype": "text/x-python",
   "name": "python",
   "nbconvert_exporter": "python",
   "pygments_lexer": "ipython3",
   "version": "3.7.0"
  }
 },
 "nbformat": 4,
 "nbformat_minor": 2
}
