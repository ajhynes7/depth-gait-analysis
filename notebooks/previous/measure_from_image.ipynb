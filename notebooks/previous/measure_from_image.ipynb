{
 "cells": [
  {
   "cell_type": "markdown",
   "metadata": {},
   "source": [
    "### Measure step length from depth image"
   ]
  },
  {
   "cell_type": "code",
   "execution_count": 1,
   "metadata": {},
   "outputs": [
    {
     "name": "stdout",
     "output_type": "stream",
     "text": [
      "Using matplotlib backend: MacOSX\n"
     ]
    }
   ],
   "source": [
    "%matplotlib auto"
   ]
  },
  {
   "cell_type": "code",
   "execution_count": 2,
   "metadata": {},
   "outputs": [],
   "source": [
    "import os\n",
    "import glob\n",
    "import functools\n",
    "\n",
    "import cv2\n",
    "import numpy as np\n",
    "import pandas as pd\n",
    "import matplotlib.pyplot as plt\n",
    "\n",
    "import sys\n",
    "sys.path.append('..')\n",
    "\n",
    "import modules.images as im"
   ]
  },
  {
   "cell_type": "code",
   "execution_count": 3,
   "metadata": {},
   "outputs": [],
   "source": [
    "load_dir = os.path.join(os.path.sep, 'Users', 'andrewhynes', 'MEGA', 'Data',\\\n",
    "                        'Czarnuch images', '14-12-16_trial-004_depth16bit')\n",
    "\n",
    "kinect_id = '2014-12-16_P005_Post_004'"
   ]
  },
  {
   "cell_type": "code",
   "execution_count": 4,
   "metadata": {},
   "outputs": [],
   "source": [
    "file_paths = glob.glob(os.path.join(load_dir, '*.png'))"
   ]
  },
  {
   "cell_type": "code",
   "execution_count": 5,
   "metadata": {},
   "outputs": [],
   "source": [
    "x_res, y_res = 640, 480\n",
    "\n",
    "f_xz = 1.11146664619446\n",
    "f_yz = 0.833599984645844\n",
    "\n",
    "f_xz_new = 1.122133  \n",
    "f_yz_new =  0.84176\n",
    "\n",
    "# f_xz = f_xz_new\n",
    "# f_yz = f_yz_new\n"
   ]
  },
  {
   "cell_type": "code",
   "execution_count": 6,
   "metadata": {},
   "outputs": [],
   "source": [
    "real_world = functools.partial(im.image_coords_to_real, x_res, y_res, f_xz, f_yz)"
   ]
  },
  {
   "cell_type": "code",
   "execution_count": 7,
   "metadata": {},
   "outputs": [],
   "source": [
    "def foo(img, x_i, y_i, x_f, y_f):\n",
    "    \n",
    "    point_i = real_world(img, x_i, y_i)\n",
    "    point_f = real_world(img, x_f, y_f)\n",
    "    \n",
    "    return np.linalg.norm(point_i - point_f)"
   ]
  },
  {
   "cell_type": "code",
   "execution_count": 8,
   "metadata": {},
   "outputs": [],
   "source": [
    "frame_1, frame_2, frame_3 = 233, 245, 260\n",
    "\n",
    "# Depth image (convert to cm)\n",
    "img_1 = cv2.imread(file_paths[frame_1], cv2.IMREAD_UNCHANGED) / 10\n",
    "img_2 = cv2.imread(file_paths[frame_2], cv2.IMREAD_UNCHANGED) / 10\n",
    "img_3 = cv2.imread(file_paths[frame_3], cv2.IMREAD_UNCHANGED) / 10"
   ]
  },
  {
   "cell_type": "code",
   "execution_count": 9,
   "metadata": {},
   "outputs": [
    {
     "data": {
      "text/plain": [
       "[61.81560268272917, 64.75517285837184, 63.984231816584135]"
      ]
     },
     "execution_count": 9,
     "metadata": {},
     "output_type": "execute_result"
    }
   ],
   "source": [
    "d1 = foo(img_1, 172, 390, 295, 390)\n",
    "d2 = foo(img_2, 300, 400, 425, 390)\n",
    "d3 = foo(img_3, 420, 395, 565, 390)\n",
    "\n",
    "[d1, d2, d3]"
   ]
  },
  {
   "cell_type": "code",
   "execution_count": 10,
   "metadata": {},
   "outputs": [],
   "source": [
    "dataframe_dir = os.path.join('..', 'data', 'kinect', 'best pos')\n",
    "file_name = '2014-12-16_P005_Post_004.pkl'\n"
   ]
  },
  {
   "cell_type": "code",
   "execution_count": 11,
   "metadata": {},
   "outputs": [],
   "source": [
    "df_head_feet = pd.read_pickle(os.path.join(dataframe_dir, file_name))"
   ]
  },
  {
   "cell_type": "code",
   "execution_count": 12,
   "metadata": {},
   "outputs": [],
   "source": [
    "point_1L, point_1R = df_head_feet.loc[frame_1][['L_FOOT', 'R_FOOT']]\n",
    "point_2L, point_2R = df_head_feet.loc[frame_2][['L_FOOT', 'R_FOOT']]\n",
    "point_3L, point_3R = df_head_feet.loc[frame_3][['L_FOOT', 'R_FOOT']]\n",
    "\n",
    "image_pos_1L = np.round(im.real_to_proj(point_1L, x_res, y_res, f_xz, f_yz))[:2].astype(int)\n",
    "image_pos_1R = np.round(im.real_to_proj(point_1R, x_res, y_res, f_xz, f_yz))[:2].astype(int)\n",
    "\n",
    "image_pos_2L = np.round(im.real_to_proj(point_2L, x_res, y_res, f_xz, f_yz))[:2].astype(int)\n",
    "image_pos_2R = np.round(im.real_to_proj(point_2R, x_res, y_res, f_xz, f_yz))[:2].astype(int)\n",
    "\n",
    "image_pos_3L = np.round(im.real_to_proj(point_3L, x_res, y_res, f_xz, f_yz))[:2].astype(int)\n",
    "image_pos_3R = np.round(im.real_to_proj(point_3R, x_res, y_res, f_xz, f_yz))[:2].astype(int)"
   ]
  },
  {
   "cell_type": "code",
   "execution_count": 13,
   "metadata": {},
   "outputs": [
    {
     "data": {
      "text/plain": [
       "[51.11247999168109, 51.02569721307099, 56.7126316925956]"
      ]
     },
     "execution_count": 13,
     "metadata": {},
     "output_type": "execute_result"
    }
   ],
   "source": [
    "d1_kinect = np.linalg.norm(point_1L - point_1R)\n",
    "d2_kinect = np.linalg.norm(point_2L - point_2R)\n",
    "d3_kinect = np.linalg.norm(point_3L - point_3R)\n",
    "\n",
    "[d1_kinect, d2_kinect, d3_kinect]"
   ]
  },
  {
   "cell_type": "code",
   "execution_count": 14,
   "metadata": {},
   "outputs": [],
   "source": [
    "plt.figure()\n",
    "plt.imshow(img_1)\n",
    "plt.scatter(image_pos_1L[0], image_pos_1L[1], c='w', edgecolors='k')\n",
    "plt.scatter(image_pos_1R[0], image_pos_1R[1], c='w', edgecolors='k')\n",
    "plt.title('Frame {}'.format(frame_1))\n",
    "\n",
    "plt.figure()\n",
    "plt.imshow(img_2)\n",
    "plt.scatter(image_pos_2L[0], image_pos_2L[1], c='w', edgecolors='k')\n",
    "plt.scatter(image_pos_2R[0], image_pos_2R[1], c='w', edgecolors='k')\n",
    "plt.title('Frame {}'.format(frame_2))\n",
    "\n",
    "plt.figure()\n",
    "plt.imshow(img_3)\n",
    "plt.scatter(image_pos_3L[0], image_pos_3L[1], c='w', edgecolors='k')\n",
    "plt.scatter(image_pos_3R[0], image_pos_3R[1], c='w', edgecolors='k')\n",
    "plt.title('Frame {}'.format(frame_3))\n",
    "\n",
    "plt.show()"
   ]
  },
  {
   "cell_type": "code",
   "execution_count": 15,
   "metadata": {},
   "outputs": [
    {
     "data": {
      "text/plain": [
       "55.499953291813675"
      ]
     },
     "execution_count": 15,
     "metadata": {},
     "output_type": "execute_result"
    }
   ],
   "source": [
    "foo(img_3, 404, 389, 528, 389)"
   ]
  },
  {
   "cell_type": "code",
   "execution_count": 16,
   "metadata": {},
   "outputs": [
    {
     "data": {
      "text/plain": [
       "61.216616040002584"
      ]
     },
     "execution_count": 16,
     "metadata": {},
     "output_type": "execute_result"
    }
   ],
   "source": [
    "foo(img_3, 388, 400, 510, 400)"
   ]
  },
  {
   "cell_type": "code",
   "execution_count": 17,
   "metadata": {},
   "outputs": [
    {
     "data": {
      "text/plain": [
       "58.93280119505982"
      ]
     },
     "execution_count": 17,
     "metadata": {},
     "output_type": "execute_result"
    }
   ],
   "source": [
    "foo(img_3, 255, 400, 375, 393, )"
   ]
  },
  {
   "cell_type": "markdown",
   "metadata": {},
   "source": [
    "### Iterate to find best $f_{xz}$ and $f_{yz}$"
   ]
  },
  {
   "cell_type": "code",
   "execution_count": 18,
   "metadata": {},
   "outputs": [
    {
     "data": {
      "text/plain": [
       "61.8154275636409"
      ]
     },
     "execution_count": 18,
     "metadata": {},
     "output_type": "execute_result"
    }
   ],
   "source": [
    "point_proj_1L = np.round(im.real_to_proj(point_1L, x_res, y_res, f_xz, f_yz))\n",
    "point_proj_1R = np.round(im.real_to_proj(point_1R, x_res, y_res, f_xz, f_yz))\n",
    "\n",
    "max_error = np.inf\n",
    "\n",
    "for f_xz_test in np.linspace(0, 2, num=200):\n",
    "    for f_yz_test in np.linspace(0, 2, num=200):\n",
    "        \n",
    "        \n",
    "        point_1L_test = im.proj_to_real(point_proj_1L, x_res, y_res, f_xz_test, f_yz_test)\n",
    "        point_1R_test = im.proj_to_real(point_proj_1R, x_res, y_res, f_xz_test, f_yz_test)\n",
    "\n",
    "        d1_kinect = np.linalg.norm(point_1L_test - point_1R_test)\n",
    "        \n",
    "        d_test_1L = np.linalg.norm(point_1L_test - point_1L)\n",
    "        d_test_1R = np.linalg.norm(point_1R_test - point_1R)\n",
    "                \n",
    "        error = abs(d1 - d1_kinect)\n",
    "        \n",
    "        if error < max_error:\n",
    "            \n",
    "            max_error = error\n",
    "            f_xz_best = f_xz_test\n",
    "            f_yz_best = f_yz_test\n",
    "            \n",
    "            d1_kinect_best = d1_kinect\n",
    "            point_1L_best = point_1L_test\n",
    "            point_1R_best = point_1R_test\n",
    "            \n",
    "d1_kinect_best"
   ]
  },
  {
   "cell_type": "code",
   "execution_count": 19,
   "metadata": {},
   "outputs": [],
   "source": [
    "image_pos_1L = np.round(im.real_to_proj(point_1L_best, x_res, y_res, f_xz_best, f_yz_best))[:2].astype(int)\n",
    "image_pos_1R = np.round(im.real_to_proj(point_1R_best, x_res, y_res, f_xz_best, f_yz_best))[:2].astype(int)"
   ]
  },
  {
   "cell_type": "markdown",
   "metadata": {},
   "source": [
    "## View images separately"
   ]
  },
  {
   "cell_type": "code",
   "execution_count": 75,
   "metadata": {},
   "outputs": [],
   "source": [
    "frame = 273\n",
    "img = cv2.imread(file_paths[frame], cv2.IMREAD_UNCHANGED) / 10\n",
    "plt.imshow(img)\n",
    "plt.show()"
   ]
  },
  {
   "cell_type": "markdown",
   "metadata": {},
   "source": [
    "## File: '2014-12-16_P005_Post_004'\n",
    "\n",
    "- 221 L\n",
    "- 234 R\n",
    "- 247 L\n",
    "- 260 R"
   ]
  },
  {
   "cell_type": "code",
   "execution_count": null,
   "metadata": {},
   "outputs": [],
   "source": []
  }
 ],
 "metadata": {
  "kernelspec": {
   "display_name": "Python 3",
   "language": "python",
   "name": "python3"
  },
  "language_info": {
   "codemirror_mode": {
    "name": "ipython",
    "version": 3
   },
   "file_extension": ".py",
   "mimetype": "text/x-python",
   "name": "python",
   "nbconvert_exporter": "python",
   "pygments_lexer": "ipython3",
   "version": "3.6.4"
  }
 },
 "nbformat": 4,
 "nbformat_minor": 2
}
