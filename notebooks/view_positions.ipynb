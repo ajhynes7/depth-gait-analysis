{
 "cells": [
  {
   "cell_type": "code",
   "execution_count": 1,
   "metadata": {},
   "outputs": [],
   "source": [
    "import os\n",
    "\n",
    "import numpy as np\n",
    "import pandas as pd\n",
    "import matplotlib.pyplot as plt\n",
    "from mpl_toolkits.mplot3d import Axes3D\n",
    "\n",
    "\n",
    "import sys\n",
    "sys.path.append('..')\n",
    "\n",
    "import modules.plotting as pl\n",
    "import modules.pandas_funcs as pf\n",
    "import modules.pose_estimation as pe\n",
    "import modules.gait_metrics as gm\n",
    "import modules.linear_algebra as lin"
   ]
  },
  {
   "cell_type": "code",
   "execution_count": 2,
   "metadata": {},
   "outputs": [
    {
     "name": "stdout",
     "output_type": "stream",
     "text": [
      "Using matplotlib backend: MacOSX\n"
     ]
    }
   ],
   "source": [
    "%matplotlib auto"
   ]
  },
  {
   "cell_type": "code",
   "execution_count": 3,
   "metadata": {},
   "outputs": [],
   "source": [
    "directory = os.path.join('..', 'data', 'pickles')\n",
    "\n",
    "file_name = '2014-12-16_P005_Pre_002_df_pass.pkl'\n",
    "\n",
    "file_path = os.path.join(directory, file_name)\n",
    "\n",
    "df_pass = pd.read_pickle(file_path)\n"
   ]
  },
  {
   "cell_type": "code",
   "execution_count": 4,
   "metadata": {},
   "outputs": [],
   "source": [
    "line_point, direction_pass = pe.direction_of_pass(df_pass)\n",
    "\n",
    "df_consistent = pe.consistent_sides(df_pass, direction_pass)"
   ]
  },
  {
   "cell_type": "code",
   "execution_count": 5,
   "metadata": {},
   "outputs": [],
   "source": [
    "signal_l = gm.foot_signal(df_pass.L_FOOT, df_pass.R_FOOT, direction_pass)"
   ]
  },
  {
   "cell_type": "code",
   "execution_count": 6,
   "metadata": {},
   "outputs": [],
   "source": [
    "signal_cons = gm.foot_signal(df_consistent.L_FOOT, df_consistent.R_FOOT, direction_pass)"
   ]
  },
  {
   "cell_type": "code",
   "execution_count": 7,
   "metadata": {},
   "outputs": [
    {
     "data": {
      "text/plain": [
       "True"
      ]
     },
     "execution_count": 7,
     "metadata": {},
     "output_type": "execute_result"
    }
   ],
   "source": [
    "df_pass.equals(df_consistent)"
   ]
  },
  {
   "cell_type": "code",
   "execution_count": 8,
   "metadata": {},
   "outputs": [],
   "source": [
    "rows = list(df_pass.iterrows())"
   ]
  },
  {
   "cell_type": "code",
   "execution_count": 9,
   "metadata": {},
   "outputs": [],
   "source": [
    "fig, ax = plt.subplots()\n",
    "\n",
    "ax = Axes3D(fig)\n",
    "\n",
    "for frame in range(300, 370):\n",
    "    \n",
    "    plt.cla()\n",
    "    \n",
    "    try:\n",
    "        positions = df_pass.loc[frame]\n",
    "    except KeyError:\n",
    "        continue\n",
    "    \n",
    "    points = np.stack(positions)\n",
    "    points_to_plot = points[:, [0, 2, 1]]\n",
    "\n",
    "    head, foot_l, foot_r = points_to_plot\n",
    "\n",
    "    pl.scatter3(ax, head, color='k')\n",
    "    pl.scatter3(ax, foot_l, color='b')\n",
    "    pl.scatter3(ax, foot_r, color='r')    \n",
    "    \n",
    "    ax.set_xlim3d(-200, 200)\n",
    "    ax.set_ylim3d(100, 300)\n",
    "    ax.set_zlim3d(-100, 100)\n",
    "    \n",
    "    plt.title('Frame {}'.format(frame))\n",
    "    \n",
    "    plt.pause(0.1)"
   ]
  },
  {
   "cell_type": "code",
   "execution_count": 14,
   "metadata": {},
   "outputs": [
    {
     "data": {
      "text/plain": [
       "HEAD      [70.3995, 57.78, 249.09900000000002]\n",
       "L_FOOT             [88.916, -67.6825, 267.295]\n",
       "R_FOOT             [34.1803, -66.9566, 262.01]\n",
       "Name: 354, dtype: object"
      ]
     },
     "execution_count": 14,
     "metadata": {},
     "output_type": "execute_result"
    }
   ],
   "source": [
    "df_pass.loc[354]"
   ]
  },
  {
   "cell_type": "code",
   "execution_count": 15,
   "metadata": {},
   "outputs": [
    {
     "data": {
      "text/plain": [
       "array([ 0.99651073, -0.03160987,  0.07724747])"
      ]
     },
     "execution_count": 15,
     "metadata": {},
     "output_type": "execute_result"
    }
   ],
   "source": [
    "direction_pass"
   ]
  },
  {
   "cell_type": "code",
   "execution_count": null,
   "metadata": {},
   "outputs": [],
   "source": []
  }
 ],
 "metadata": {
  "kernelspec": {
   "display_name": "Python 3",
   "language": "python",
   "name": "python3"
  },
  "language_info": {
   "codemirror_mode": {
    "name": "ipython",
    "version": 3
   },
   "file_extension": ".py",
   "mimetype": "text/x-python",
   "name": "python",
   "nbconvert_exporter": "python",
   "pygments_lexer": "ipython3",
   "version": "3.6.4"
  }
 },
 "nbformat": 4,
 "nbformat_minor": 2
}
