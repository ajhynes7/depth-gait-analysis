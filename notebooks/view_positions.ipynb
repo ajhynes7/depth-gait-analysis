{
 "cells": [
  {
   "cell_type": "code",
   "execution_count": 1,
   "metadata": {},
   "outputs": [],
   "source": [
    "import os\n",
    "\n",
    "import numpy as np\n",
    "import pandas as pd\n",
    "import matplotlib.pyplot as plt\n",
    "from mpl_toolkits.mplot3d import Axes3D\n",
    "from numpy.linalg import norm\n",
    "\n",
    "import sys\n",
    "sys.path.append('..')\n",
    "\n",
    "import modules.mean_shift as ms\n",
    "import modules.general as gen\n",
    "import modules.plotting as pl\n",
    "import modules.pandas_funcs as pf\n",
    "import modules.pose_estimation as pe\n",
    "import modules.math_funcs as mf\n",
    "import modules.signals as sig\n",
    "import modules.gait_metrics as gm\n",
    "import modules.linear_algebra as lin\n",
    "import modules.point_processing as pp"
   ]
  },
  {
   "cell_type": "code",
   "execution_count": 2,
   "metadata": {},
   "outputs": [
    {
     "name": "stdout",
     "output_type": "stream",
     "text": [
      "Using matplotlib backend: MacOSX\n"
     ]
    }
   ],
   "source": [
    "%matplotlib auto"
   ]
  },
  {
   "cell_type": "code",
   "execution_count": 3,
   "metadata": {},
   "outputs": [],
   "source": [
    "directory = os.path.join('..', 'data', 'pickles')\n",
    "\n",
    "file_name = '2014-12-16_P005_Pre_002_df_pass.pkl'\n",
    "file_path = os.path.join(directory, file_name)\n",
    "\n",
    "df_pass = pd.read_pickle(file_path)\n",
    "frames = df_pass.index.values"
   ]
  },
  {
   "cell_type": "code",
   "execution_count": 4,
   "metadata": {},
   "outputs": [],
   "source": [
    "foot_dist = (df_pass.L_FOOT - df_pass.R_FOOT).apply(norm)"
   ]
  },
  {
   "cell_type": "markdown",
   "metadata": {},
   "source": [
    "## Cluster foot distance "
   ]
  },
  {
   "cell_type": "code",
   "execution_count": 5,
   "metadata": {},
   "outputs": [],
   "source": [
    "def make_consistent(df_walk, direction):\n",
    "                \n",
    "    # Establish a motion correspondence so the foot sides do not switch abruptly\n",
    "    foot_points_l, foot_points_r = pp.track_two_objects(df_walk.L_FOOT, df_walk.R_FOOT)\n",
    "    \n",
    "    df_assigned = df_walk.copy()\n",
    "    df_assigned.L_FOOT = pf.series_of_rows(foot_points_l, index=df_walk.index)\n",
    "    df_assigned.R_FOOT = pf.series_of_rows(foot_points_r, index=df_walk.index)\n",
    "    \n",
    "    head_points = np.stack(df_walk.HEAD)\n",
    "    side_values = pe.evaluate_foot_side(head_points, foot_points_l, foot_points_r, direction)\n",
    "    \n",
    "    if sum(side_values) > 0:\n",
    "        \n",
    "        # The left foot should be labelled the right foot, and vice versa\n",
    "        df_assigned = pf.swap_columns(df_assigned, 'L_FOOT', 'R_FOOT')\n",
    "    \n",
    "    return df_assigned"
   ]
  },
  {
   "cell_type": "code",
   "execution_count": 6,
   "metadata": {},
   "outputs": [],
   "source": [
    "def enforce_consistency(df_pass):\n",
    "    \n",
    "    head_points = np.stack(df_pass.HEAD)\n",
    "    _, direction_pass = lin.best_fit_line(head_points)\n",
    "    \n",
    "    foot_dist = (df_pass.L_FOOT - df_pass.R_FOOT).apply(norm)\n",
    "    \n",
    "    deriv = sig.window_derivative(foot_dist, 5)\n",
    "    deriv_2 = sig.window_derivative(deriv, 5).dropna()\n",
    "\n",
    "    masses = mf.normalize_array(deriv_2.values)\n",
    "    peak_frames, mid_frames = sig.mean_shift_peaks(deriv_2, masses=masses, kernel='gaussian', radius=3)\n",
    "    \n",
    "    labels = gen.label_by_split(frames, peak_frames)\n",
    "\n",
    "    grouped_dfs = list(gen.group_by_label(df_pass, labels))\n",
    "    \n",
    "    consistent_dfs = [make_consistent(x, direction_pass) for x in grouped_dfs]\n",
    "    \n",
    "    return pd.concat(consistent_dfs)"
   ]
  },
  {
   "cell_type": "code",
   "execution_count": 7,
   "metadata": {},
   "outputs": [],
   "source": [
    "foot_dist = (df_pass.L_FOOT - df_pass.R_FOOT).apply(norm)"
   ]
  },
  {
   "cell_type": "code",
   "execution_count": 8,
   "metadata": {},
   "outputs": [],
   "source": [
    "df_cons_pass = enforce_consistency(df_pass)\n",
    "\n",
    "_, direction_pass = pe.direction_of_pass(df_cons_pass)\n",
    "\n",
    "signal_left = gm.foot_signal(df_cons_pass.L_FOOT, df_cons_pass.R_FOOT, direction_pass)\n",
    "\n",
    "plt.figure()\n",
    "plt.plot(signal_left)\n",
    "plt.show()"
   ]
  },
  {
   "cell_type": "markdown",
   "metadata": {},
   "source": [
    "## View multiple frames"
   ]
  },
  {
   "cell_type": "code",
   "execution_count": 10,
   "metadata": {},
   "outputs": [],
   "source": [
    "df = df_cons_pass"
   ]
  },
  {
   "cell_type": "code",
   "execution_count": 11,
   "metadata": {},
   "outputs": [],
   "source": [
    "fig, ax = plt.subplots()\n",
    "\n",
    "ax = Axes3D(fig)\n",
    "\n",
    "for frame in range(300, 370):\n",
    "    \n",
    "    plt.cla()\n",
    "    \n",
    "    try:\n",
    "        positions = df.loc[frame]\n",
    "    except KeyError:\n",
    "        continue\n",
    "    \n",
    "    points = np.stack(positions)\n",
    "    points_to_plot = points[:, [0, 2, 1]]\n",
    "\n",
    "    head, foot_l, foot_r = points_to_plot\n",
    "\n",
    "    pl.scatter3(ax, head, color='k')\n",
    "    pl.scatter3(ax, foot_l, color='b')\n",
    "    pl.scatter3(ax, foot_r, color='r')    \n",
    "    \n",
    "    ax.set_xlim3d(-200, 200)\n",
    "    ax.set_ylim3d(100, 300)\n",
    "    ax.set_zlim3d(-100, 100)\n",
    "    \n",
    "    plt.title('Frame {}'.format(frame))\n",
    "    \n",
    "    plt.pause(0.1)"
   ]
  },
  {
   "cell_type": "markdown",
   "metadata": {},
   "source": [
    "### View one frame"
   ]
  },
  {
   "cell_type": "code",
   "execution_count": 13,
   "metadata": {},
   "outputs": [],
   "source": [
    "frame = 340\n",
    "\n",
    "fig, ax = plt.subplots()\n",
    "\n",
    "ax = Axes3D(fig)\n",
    "\n",
    "positions = df.loc[frame]\n",
    "\n",
    "points = np.stack(positions)\n",
    "points_to_plot = points[:, [0, 2, 1]]\n",
    "\n",
    "head, foot_l, foot_r = points_to_plot\n",
    "\n",
    "pl.scatter3(ax, head, color='k')\n",
    "pl.scatter3(ax, foot_l, color='b')\n",
    "pl.scatter3(ax, foot_r, color='r')    \n",
    "\n",
    "ax.set_xlim3d(-200, 200)\n",
    "ax.set_ylim3d(100, 300)\n",
    "ax.set_zlim3d(-100, 100)\n",
    "\n",
    "plt.show()"
   ]
  }
 ],
 "metadata": {
  "kernelspec": {
   "display_name": "Python 3",
   "language": "python",
   "name": "python3"
  },
  "language_info": {
   "codemirror_mode": {
    "name": "ipython",
    "version": 3
   },
   "file_extension": ".py",
   "mimetype": "text/x-python",
   "name": "python",
   "nbconvert_exporter": "python",
   "pygments_lexer": "ipython3",
   "version": "3.6.4"
  }
 },
 "nbformat": 4,
 "nbformat_minor": 2
}
