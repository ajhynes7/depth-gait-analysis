{
 "cells": [
  {
   "cell_type": "code",
   "execution_count": 15,
   "metadata": {},
   "outputs": [],
   "source": [
    "import os\n",
    "import glob\n",
    "\n",
    "import numpy as np\n",
    "import pandas as pd\n",
    "import matplotlib.pyplot as plt\n",
    "from mpl_toolkits.mplot3d import Axes3D\n",
    "from sklearn.cluster import KMeans\n",
    "\n",
    "import sys\n",
    "sys.path.append('..')\n",
    "\n",
    "import modules.plotting as pl\n",
    "import modules.general as gen\n",
    "import modules.gait_metrics as gm\n",
    "import modules.assign_sides as asi\n",
    "import modules.linear_algebra as lin"
   ]
  },
  {
   "cell_type": "code",
   "execution_count": 3,
   "metadata": {},
   "outputs": [
    {
     "name": "stdout",
     "output_type": "stream",
     "text": [
      "Using matplotlib backend: MacOSX\n"
     ]
    }
   ],
   "source": [
    "%matplotlib auto"
   ]
  },
  {
   "cell_type": "code",
   "execution_count": 4,
   "metadata": {},
   "outputs": [],
   "source": [
    "file_name = '2014-12-08_P004_Post_004'"
   ]
  },
  {
   "cell_type": "code",
   "execution_count": 5,
   "metadata": {},
   "outputs": [],
   "source": [
    "best_pos_dir = os.path.join('..', 'data', 'kinect', 'best pos')\n",
    "hypo_dir = os.path.join('..', 'data', 'kinect', 'processed', 'hypothesis')\n",
    "\n",
    "hypo_paths = glob.glob(os.path.join(hypo_dir, '*.pkl'))\n",
    "best_pos_paths = glob.glob(os.path.join(best_pos_dir, '*.pkl'))\n",
    "\n",
    "hypo_paths = [x for x in hypo_paths if file_name in x]\n",
    "best_pos_paths = [x for x in best_pos_paths if file_name in x]\n",
    "\n",
    "df_hypo = pd.read_pickle(hypo_paths[0])\n",
    "df_head_feet = pd.read_pickle(best_pos_paths[0])"
   ]
  },
  {
   "cell_type": "code",
   "execution_count": 6,
   "metadata": {},
   "outputs": [
    {
     "data": {
      "text/plain": [
       "array([[-67.3317, -56.3553, 244.679],\n",
       "       [-45.9189, -65.4187, 263.42900000000003],\n",
       "       [-49.981, -65.5531, 262.126],\n",
       "       [-66.737, -58.9848, 246.347],\n",
       "       [-47.8853, -65.3711, 262.991],\n",
       "       [-64.3456, -62.31100000000001, 249.727],\n",
       "       [-65.7141, -60.9874, 248.03900000000002]], dtype=object)"
      ]
     },
     "execution_count": 6,
     "metadata": {},
     "output_type": "execute_result"
    }
   ],
   "source": [
    "df_hypo.L_FOOT[200]\n"
   ]
  },
  {
   "cell_type": "markdown",
   "metadata": {},
   "source": [
    "## Split trial into separate passes"
   ]
  },
  {
   "cell_type": "code",
   "execution_count": 7,
   "metadata": {},
   "outputs": [],
   "source": [
    "# Convert all position vectors to float type\n",
    "# so they can be easily input to linear algebra functions\n",
    "df_head_feet = df_head_feet.applymap(pd.to_numeric)\n",
    "\n",
    "# Cluster frames with k means to locate the 4 walking passes\n",
    "frames = df_head_feet.index.values.reshape(-1, 1)\n",
    "k_means = KMeans(n_clusters=4, random_state=0).fit(frames)\n",
    "\n",
    "# Sort labels so that the frames are in temporal order\n",
    "labels = gen.map_to_whole(k_means.labels_)\n",
    "\n",
    "# DataFrames for each walking pass in a trial\n",
    "pass_dfs = gen.group_by_label(df_head_feet, labels)"
   ]
  },
  {
   "cell_type": "code",
   "execution_count": 8,
   "metadata": {},
   "outputs": [],
   "source": [
    "df_pass = list(pass_dfs)[0]"
   ]
  },
  {
   "cell_type": "code",
   "execution_count": 9,
   "metadata": {},
   "outputs": [],
   "source": [
    "_, direction_pass = gm.direction_of_pass(df_pass)\n",
    "\n",
    "# Assign correct sides to feet\n",
    "df_assigned = asi.assign_sides_pass(df_pass, direction_pass)"
   ]
  },
  {
   "cell_type": "markdown",
   "metadata": {},
   "source": [
    "## Foot signal"
   ]
  },
  {
   "cell_type": "code",
   "execution_count": 10,
   "metadata": {},
   "outputs": [],
   "source": [
    "signal_l = gm.foot_signal(df_assigned.L_FOOT, df_assigned.R_FOOT, direction_pass)"
   ]
  },
  {
   "cell_type": "code",
   "execution_count": 11,
   "metadata": {},
   "outputs": [],
   "source": [
    "plt.figure()\n",
    "plt.plot(signal_l)\n",
    "plt.grid()"
   ]
  },
  {
   "cell_type": "code",
   "execution_count": 12,
   "metadata": {},
   "outputs": [],
   "source": [
    "foot_dist = (df_assigned.L_FOOT - df_assigned.R_FOOT).apply(np.linalg.norm)"
   ]
  },
  {
   "cell_type": "code",
   "execution_count": 13,
   "metadata": {},
   "outputs": [],
   "source": [
    "plt.figure()\n",
    "plt.plot(foot_dist)\n",
    "plt.grid()"
   ]
  },
  {
   "cell_type": "markdown",
   "metadata": {},
   "source": [
    "## Assign DataFrame for plotting"
   ]
  },
  {
   "cell_type": "code",
   "execution_count": 78,
   "metadata": {},
   "outputs": [
    {
     "data": {
      "text/plain": [
       "array([175, 176, 177, 178, 179, 180, 181, 182, 183, 184, 185, 186, 187,\n",
       "       188, 189, 190, 191, 192, 193, 194, 195, 196, 197, 198, 199, 200,\n",
       "       201, 202, 203, 204, 205, 206, 207, 208, 209, 210, 211, 212, 213,\n",
       "       214, 215, 216, 217, 218, 219, 220, 221, 222, 223, 224, 225, 226,\n",
       "       227, 228, 229, 230, 231, 232, 234, 235, 236, 237, 238, 239, 240,\n",
       "       241, 246, 247, 248, 250, 251, 253, 254, 255, 256, 257, 258, 259,\n",
       "       260, 262, 263, 264, 265, 266, 267, 268, 269, 270, 271, 273, 274,\n",
       "       277, 278, 279, 280, 282])"
      ]
     },
     "execution_count": 78,
     "metadata": {},
     "output_type": "execute_result"
    }
   ],
   "source": [
    "df = df_assigned\n",
    "dim_order = [0, 2, 1]\n",
    "\n",
    "frames = df.index.values\n",
    "frames"
   ]
  },
  {
   "cell_type": "markdown",
   "metadata": {},
   "source": [
    "## View one frame"
   ]
  },
  {
   "cell_type": "code",
   "execution_count": 84,
   "metadata": {},
   "outputs": [],
   "source": [
    "frame = 179\n",
    "\n",
    "if frame in frames:\n",
    "      \n",
    "    fig, ax = plt.subplots()\n",
    "    ax = Axes3D(fig)\n",
    "    \n",
    "    positions = df.loc[frame]\n",
    "\n",
    "    points = np.stack(positions)\n",
    "    points_to_plot = points[:, dim_order]\n",
    "\n",
    "    head, foot_l, foot_r = points_to_plot\n",
    "\n",
    "    pl.scatter3(ax, head, color='k')\n",
    "    pl.scatter3(ax, foot_l, color='b')\n",
    "    pl.scatter3(ax, foot_r, color='r')    \n",
    "\n",
    "    # Plot hypotheses\n",
    "    df_hypo_frame = df_hypo.loc[frame]\n",
    "    pl.scatter3(ax, df_hypo_frame.L_FOOT[:, dim_order], color='w', edgecolor='k', depthshade=False)\n",
    "    pl.scatter3(ax, df_hypo_frame.R_FOOT[:, dim_order], color='w', edgecolor='k', depthshade=False)\n",
    "\n",
    "    ax.set_xlim3d(-200, 200)\n",
    "    ax.set_ylim3d(100, 300)\n",
    "    ax.set_zlim3d(-100, 100)\n",
    "\n",
    "    plt.show()"
   ]
  },
  {
   "cell_type": "markdown",
   "metadata": {},
   "source": [
    "## View multiple frames"
   ]
  },
  {
   "cell_type": "code",
   "execution_count": 105,
   "metadata": {},
   "outputs": [],
   "source": [
    "fig, ax = plt.subplots()\n",
    "\n",
    "ax = Axes3D(fig)\n",
    "\n",
    "frames = df.index.values\n",
    "\n",
    "for frame in frames:\n",
    "    \n",
    "    plt.cla()\n",
    "    \n",
    "    try:\n",
    "        positions = df.loc[frame]\n",
    "    except KeyError:\n",
    "        continue\n",
    "    \n",
    "    points = np.stack(positions)\n",
    "    points_to_plot = points[:, dim_order]\n",
    "\n",
    "    head, foot_l, foot_r = points_to_plot\n",
    "\n",
    "    pl.scatter3(ax, head, color='k')\n",
    "    pl.scatter3(ax, foot_l, color='b')\n",
    "    pl.scatter3(ax, foot_r, color='r')   \n",
    "    \n",
    "    # Plot hypotheses\n",
    "    df_hypo_frame = df_hypo.loc[frame]\n",
    "    pl.scatter3(ax, df_hypo_frame.L_FOOT[:, dim_order], color='w', edgecolor='k', depthshade=False)\n",
    "    pl.scatter3(ax, df_hypo_frame.R_FOOT[:, dim_order], color='w', edgecolor='k', depthshade=False)\n",
    "\n",
    "    \n",
    "    ax.set_xlim3d(-200, 200)\n",
    "    ax.set_ylim3d(100, 300)\n",
    "    ax.set_zlim3d(-100, 100)\n",
    "    \n",
    "    plt.title('Frame {}'.format(frame))\n",
    "    \n",
    "    plt.pause(0.5)"
   ]
  },
  {
   "cell_type": "markdown",
   "metadata": {},
   "source": [
    "## View 2D frames"
   ]
  },
  {
   "cell_type": "code",
   "execution_count": 105,
   "metadata": {},
   "outputs": [],
   "source": [
    "%matplotlib inline"
   ]
  },
  {
   "cell_type": "code",
   "execution_count": 122,
   "metadata": {},
   "outputs": [],
   "source": [
    "frame = 187\n",
    "\n",
    "plt.figure()\n",
    "\n",
    "if frame in frames: \n",
    "    \n",
    "    positions = df.loc[frame]\n",
    "\n",
    "    points = np.stack(positions)\n",
    "    points_to_plot = points\n",
    "\n",
    "    head, foot_l, foot_r = points_to_plot\n",
    "\n",
    "    pl.scatter2(head, color='k')\n",
    "    pl.scatter2(foot_l, color='b')\n",
    "    pl.scatter2(foot_r, color='r') \n",
    "    \n",
    "    plt.axis([-200, 200, -100, 80])\n",
    "\n",
    "    plt.xlabel('X')\n",
    "    plt.ylabel('Y')\n",
    "    plt.grid()\n",
    "    \n",
    "    plt.title('Frame {}'.format(frame))"
   ]
  },
  {
   "cell_type": "code",
   "execution_count": 115,
   "metadata": {},
   "outputs": [],
   "source": [
    "_, ax = plt.subplots()\n",
    "frames = df.index.values\n",
    "\n",
    "for frame in frames:\n",
    "    \n",
    "    plt.cla()\n",
    "    \n",
    "    try:\n",
    "        positions = df.loc[frame]\n",
    "    except KeyError:\n",
    "        continue\n",
    "\n",
    "    positions = df.loc[frame]\n",
    "\n",
    "    points = np.stack(positions)\n",
    "    points_to_plot = points\n",
    "\n",
    "    head, foot_l, foot_r = points_to_plot\n",
    "\n",
    "    pl.scatter2(head, color='k')\n",
    "    pl.scatter2(foot_l, color='b')\n",
    "    pl.scatter2(foot_r, color='r')    \n",
    "\n",
    "    # Plot hypotheses\n",
    "    df_hypo_frame = df_hypo.loc[frame]\n",
    "    pl.scatter2(df_hypo_frame.L_FOOT, facecolor='none', edgecolor='k')\n",
    "    pl.scatter2(df_hypo_frame.R_FOOT, facecolor='none', edgecolor='k')\n",
    "\n",
    "    plt.axis([-200, 200, -100, 80])\n",
    "\n",
    "    plt.xlabel('X')\n",
    "    plt.ylabel('Y')\n",
    "    plt.grid()\n",
    "\n",
    "    plt.pause(0.01)"
   ]
  }
 ],
 "metadata": {
  "kernelspec": {
   "display_name": "Python [default]",
   "language": "python",
   "name": "python3"
  },
  "language_info": {
   "codemirror_mode": {
    "name": "ipython",
    "version": 3
   },
   "file_extension": ".py",
   "mimetype": "text/x-python",
   "name": "python",
   "nbconvert_exporter": "python",
   "pygments_lexer": "ipython3",
   "version": "3.6.5"
  }
 },
 "nbformat": 4,
 "nbformat_minor": 2
}
