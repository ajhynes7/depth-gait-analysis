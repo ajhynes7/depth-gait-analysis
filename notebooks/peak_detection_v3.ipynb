{
 "cells": [
  {
   "cell_type": "code",
   "execution_count": 6,
   "metadata": {},
   "outputs": [],
   "source": [
    "import numpy as np\n",
    "import pandas as pd\n",
    "import matplotlib.pyplot as plt\n",
    "\n",
    "import sys\n",
    "sys.path.append('..')\n",
    "\n",
    "import modules.signals as sig\n",
    "import modules.general as gen\n",
    "import modules.sliding_window as sw"
   ]
  },
  {
   "cell_type": "code",
   "execution_count": 2,
   "metadata": {},
   "outputs": [
    {
     "name": "stdout",
     "output_type": "stream",
     "text": [
      "Using matplotlib backend: MacOSX\n"
     ]
    }
   ],
   "source": [
    "%matplotlib auto"
   ]
  },
  {
   "cell_type": "code",
   "execution_count": 3,
   "metadata": {},
   "outputs": [],
   "source": [
    "values = np.array([ -0.4,  -0.4,  -0. ,  -0. ,   0. ,  -1.1,  -1.1, -16.9, -19. ,\n",
    "       -16.9,  -9.5,  -0.2,  -0.1,   0.3,  22.3,  29.9,  30.9,  40.4,\n",
    "        41.5,  40.9,  42.2,  42.2,  42.9,  42.9,  39.6,  39.6,  39.6,\n",
    "        29.1,  24. ,  26.5,  24. ,  15.1,  -0.4,  -0.4,   0.1,   0.1,\n",
    "        -0.1, -23.4, -30.4, -36.4, -36.4, -39.3, -40.3, -40.3, -38.7,\n",
    "       -38.7, -38.7, -40.3, -37.4, -37.1, -36.5, -35.1, -33.2, -31.9,\n",
    "       -30.9, -26.8, -19.1, -18.2,  -4. ,   0.4,   2.1,   2.9,   5.3,\n",
    "        25.8,  36.3,  36.4,  36.4,  35.9,  32.2,  35.9,  35.5,  35.5,\n",
    "        35.5,  32.4,  32.8,  23.6,  26.8,  26.8,  26.8,  23.1,  21.6,\n",
    "        11. ,   1.7,   1.7,  -0.2,  -0.2,  -0.5, -31.1, -32.1, -35.2,\n",
    "       -41.7, -38.1, -41.7, -41.7, -41.7, -42.9, -43.8, -43.8, -39.3,\n",
    "       -38.9, -38.9, -33.9, -25.6, -22.4,  -7.7,  -0.9,  -0.9,  -0.3,\n",
    "        -0.3,  -0.2,   0. ,  18.9,  20.2,  29.5,  30. ,  30. ,  32.8,\n",
    "        32.8,  32.8,  33.4,  31.1,  33.4,  32.7,  35. ,  32.9,  32.9,\n",
    "        30.5,  28.7,  22.9,   8.4,   3. ,   3. ,   0. ,   0. ,   0. ,\n",
    "         0. ])\n",
    "\n",
    "frames = np.array([494, 495, 496, 497, 498, 499, 500, 506, 507, 508, 509, 511, 512,\n",
    "       513, 514, 515, 516, 517, 518, 519, 520, 521, 522, 523, 524, 525,\n",
    "       526, 527, 528, 529, 530, 531, 532, 533, 534, 535, 536, 537, 538,\n",
    "       539, 540, 541, 542, 543, 544, 545, 546, 547, 548, 549, 550, 551,\n",
    "       552, 553, 554, 555, 556, 557, 558, 559, 560, 561, 562, 563, 564,\n",
    "       565, 566, 567, 568, 569, 570, 571, 572, 573, 574, 575, 576, 577,\n",
    "       578, 579, 580, 581, 582, 583, 584, 585, 586, 587, 588, 589, 590,\n",
    "       591, 592, 593, 594, 595, 596, 597, 598, 599, 600, 601, 602, 603,\n",
    "       604, 605, 606, 607, 608, 609, 610, 611, 612, 613, 614, 615, 616,\n",
    "       617, 618, 619, 620, 621, 622, 623, 624, 625, 626, 627, 628, 630,\n",
    "       631, 633, 634, 635, 637, 638])"
   ]
  },
  {
   "cell_type": "code",
   "execution_count": 4,
   "metadata": {},
   "outputs": [],
   "source": [
    "signal = pd.Series(values, index=frames)"
   ]
  },
  {
   "cell_type": "code",
   "execution_count": 7,
   "metadata": {},
   "outputs": [],
   "source": [
    "array = signal.values\n",
    "\n",
    "rms = sig.root_mean_square(array)\n",
    "\n",
    "peak_indices = sw.detect_peaks(array, window_length=10, min_height=rms)"
   ]
  },
  {
   "cell_type": "code",
   "execution_count": null,
   "metadata": {},
   "outputs": [],
   "source": [
    "peak_frames = frames[peak_indices]"
   ]
  },
  {
   "cell_type": "code",
   "execution_count": null,
   "metadata": {},
   "outputs": [],
   "source": [
    "plt.plot(signal)\n",
    "plt.vlines(x=peak_frames, ymin=0, ymax=signal.max(), color='r')\n",
    "plt.grid()"
   ]
  }
 ],
 "metadata": {
  "kernelspec": {
   "display_name": "Python 3",
   "language": "python",
   "name": "python3"
  },
  "language_info": {
   "codemirror_mode": {
    "name": "ipython",
    "version": 3
   },
   "file_extension": ".py",
   "mimetype": "text/x-python",
   "name": "python",
   "nbconvert_exporter": "python",
   "pygments_lexer": "ipython3",
   "version": "3.6.6"
  }
 },
 "nbformat": 4,
 "nbformat_minor": 2
}
