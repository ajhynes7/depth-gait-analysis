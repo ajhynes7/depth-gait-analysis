{
 "cells": [
  {
   "cell_type": "code",
   "execution_count": null,
   "metadata": {},
   "outputs": [],
   "source": [
    "import os\n",
    "\n",
    "import pandas as pd\n",
    "import matplotlib.pyplot as plt\n",
    "from scipy.stats import spearmanr, pearsonr\n",
    "\n",
    "import sys\n",
    "sys.path.append('..')\n",
    "\n",
    "import modules.stats as st\n",
    "import modules.plotting as pl\n",
    "import modules.pandas_funcs as pf"
   ]
  },
  {
   "cell_type": "code",
   "execution_count": null,
   "metadata": {},
   "outputs": [],
   "source": [
    "results_dir = os.path.join('..', 'data', 'results')\n",
    "match_dir = os.path.join('..', 'data', 'matching')\n",
    "\n",
    "\n",
    "df_k_raw = pd.read_csv(os.path.join(results_dir, 'kinect_gait_metrics.csv'),\n",
    "                       index_col=0)\n",
    "\n",
    "df_z_raw = pd.read_csv(os.path.join(results_dir, 'zeno_gait_metrics.csv'),\n",
    "                       index_col=0)\n",
    "\n",
    "df_match = pd.read_csv(os.path.join(match_dir, 'match_kinect_zeno.csv'))\n",
    "\n",
    "# Drop rows where file has no match\n",
    "df_match = df_match.dropna(axis=0)\n",
    "\n",
    "\n",
    "df_match_zeno = pd.merge(df_match, df_z_raw, left_on='Zeno', right_index=True)\n",
    "\n",
    "df_total = pd.merge(df_match_zeno, df_k_raw, left_on='Kinect',\n",
    "                    right_index=True, suffixes=('_z', '_k'))\n",
    "\n",
    "\n",
    "# Take columns from total DataFrame to get Kinect and Zeno data\n",
    "df_k = df_total.filter(like='_k')\n",
    "df_z = df_total.filter(like='_z')\n",
    "\n",
    "# Remove suffixes from column names\n",
    "df_k = df_k.rename(columns=lambda x: str(x)[:-2])\n",
    "df_z = df_z.rename(columns=lambda x: str(x)[:-2])\n",
    "\n",
    "# Add file names to individual DataFrames\n",
    "df_k['File'] = df_match.Kinect\n",
    "df_z['File'] = df_match.Zeno\n",
    "\n",
    "# Merge extra series into Kinect DataFrame\n",
    "df_k = pd.merge(df_k, df_k_raw.head_distance.to_frame(), left_on='File', right_index=True)"
   ]
  },
  {
   "cell_type": "markdown",
   "metadata": {},
   "source": [
    "## Visual Results"
   ]
  },
  {
   "cell_type": "code",
   "execution_count": null,
   "metadata": {},
   "outputs": [],
   "source": [
    "%matplotlib inline\n",
    "\n",
    "metric = 'stride_length'\n",
    "\n",
    "plt.plot(df_k[metric])\n",
    "plt.plot(df_z[metric])\n",
    "\n",
    "plt.xlabel('Trial ID')\n",
    "plt.ylabel(metric)\n",
    "\n",
    "plt.legend(['Kinect', 'Zeno'])\n",
    "plt.show()"
   ]
  },
  {
   "cell_type": "code",
   "execution_count": null,
   "metadata": {},
   "outputs": [],
   "source": [
    "abs(df_k.step_length - df_z.step_length).sort_values(ascending=False).head()"
   ]
  },
  {
   "cell_type": "code",
   "execution_count": null,
   "metadata": {},
   "outputs": [],
   "source": [
    "abs(df_k.step_length - df_z.step_length).mean()"
   ]
  },
  {
   "cell_type": "code",
   "execution_count": null,
   "metadata": {},
   "outputs": [],
   "source": [
    "x_label, y_label = 'Zeno Walkway', 'Kinect'\n",
    "metric = 'stride_length'\n",
    "    \n",
    "pl.compare_measurements(df_z[metric], df_k[metric], c='k', s=10)\n",
    "\n",
    "plt.xlabel(x_label)\n",
    "plt.ylabel(y_label)\n",
    "plt.show()"
   ]
  },
  {
   "cell_type": "code",
   "execution_count": null,
   "metadata": {},
   "outputs": [],
   "source": [
    "funcs = {'Pearson': lambda a, b: pearsonr(a, b)[0],\n",
    "        'Spearman': lambda a, b: spearmanr(a, b)[0],\n",
    "        'Abs rel error': lambda a, b: st.relative_error(a, b, absolute=True).mean(),\n",
    "        'Bias': lambda a, b: st.relative_difference(a, b).mean()}\n",
    "\n",
    "d = {name: pf.apply_to_columns(df_k, df_z, func) for name, func in funcs.items()}\n",
    "\n",
    "df_results = pd.DataFrame(d).T\n",
    "df_results"
   ]
  },
  {
   "cell_type": "code",
   "execution_count": null,
   "metadata": {},
   "outputs": [],
   "source": [
    "import modules.plotting as pl\n",
    "\n",
    "metric = 'step_length'\n",
    "\n",
    "means, diffs = st.BlandAltman.differences(df_k[metric], df_z[metric], percent=True)\n",
    "\n",
    "bias, lower_lim, upper_lim = st.BlandAltman.limits_of_agreement(diffs)\n",
    "\n",
    "pl.plot_bland_altman(means, diffs, bias, lower_lim, upper_lim, percent=True)"
   ]
  }
 ],
 "metadata": {
  "kernelspec": {
   "display_name": "Python 3",
   "language": "python",
   "name": "python3"
  },
  "language_info": {
   "codemirror_mode": {
    "name": "ipython",
    "version": 3
   },
   "file_extension": ".py",
   "mimetype": "text/x-python",
   "name": "python",
   "nbconvert_exporter": "python",
   "pygments_lexer": "ipython3",
   "version": "3.6.4"
  }
 },
 "nbformat": 4,
 "nbformat_minor": 2
}
