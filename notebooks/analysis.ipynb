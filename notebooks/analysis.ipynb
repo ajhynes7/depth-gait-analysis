{
 "cells": [
  {
   "cell_type": "code",
   "execution_count": 1,
   "metadata": {},
   "outputs": [],
   "source": [
    "import os\n",
    "import pandas as pd\n",
    "\n",
    "import matplotlib.pyplot as plt\n",
    "\n",
    "results_dir = os.path.join('..', 'data', 'results')\n",
    "match_dir = os.path.join('..', 'data', 'matching')\n",
    "\n",
    "\n",
    "df_k_raw = pd.read_csv(os.path.join(results_dir, 'kinect_gait_metrics.csv'),\n",
    "                       index_col=0)\n",
    "\n",
    "df_z_raw = pd.read_csv(os.path.join(results_dir, 'zeno_gait_metrics.csv'),\n",
    "                       index_col=0)\n",
    "\n",
    "df_match = pd.read_csv(os.path.join(match_dir, 'match_kinect_zeno.csv'))\n",
    "\n",
    "# Drop rows where file has no match\n",
    "df_match = df_match.dropna(axis=0)\n",
    "\n",
    "\n",
    "df_match_zeno = pd.merge(df_match, df_z_raw, left_on='Zeno', right_index=True)\n",
    "\n",
    "df_total = pd.merge(df_match_zeno, df_k_raw, left_on='Kinect',\n",
    "                    right_index=True, suffixes=('_z', '_k'))\n",
    "\n",
    "\n",
    "# Take columns from total DataFrame to get Kinect and Zeno data\n",
    "df_k = df_total.filter(like='_k')\n",
    "df_z = df_total.filter(like='_z')\n",
    "\n",
    "# Remove suffixes from column names\n",
    "df_k = df_k.rename(columns=lambda x: str(x)[:-2])\n",
    "df_z = df_z.rename(columns=lambda x: str(x)[:-2])\n",
    "\n",
    "# Add file names to individual DataFrames\n",
    "df_k['File'] = df_match.Kinect\n",
    "df_z['File'] = df_match.Zeno"
   ]
  },
  {
   "cell_type": "markdown",
   "metadata": {},
   "source": [
    "## Visual Results"
   ]
  },
  {
   "cell_type": "code",
   "execution_count": 21,
   "metadata": {},
   "outputs": [
    {
     "name": "stdout",
     "output_type": "stream",
     "text": [
      "Using matplotlib backend: MacOSX\n"
     ]
    }
   ],
   "source": [
    "%matplotlib auto\n",
    "plt.plot(df_k['step_length'])\n",
    "plt.plot(df_z['step_length'])\n",
    "\n",
    "plt.xlabel('Trial ID')\n",
    "plt.ylabel('Step length [cm]')\n",
    "\n",
    "plt.legend(['Kinect', 'Zeno'])\n",
    "plt.show()"
   ]
  },
  {
   "cell_type": "code",
   "execution_count": 30,
   "metadata": {},
   "outputs": [
    {
     "data": {
      "text/plain": [
       "23    11.838865\n",
       "21    11.039294\n",
       "39    10.835795\n",
       "51    10.451934\n",
       "25    10.364030\n",
       "Name: step_length, dtype: float64"
      ]
     },
     "execution_count": 30,
     "metadata": {},
     "output_type": "execute_result"
    }
   ],
   "source": [
    "abs(df_k.step_length - df_z.step_length).sort_values(ascending=False).head()"
   ]
  },
  {
   "cell_type": "code",
   "execution_count": 57,
   "metadata": {},
   "outputs": [
    {
     "data": {
      "text/plain": [
       "step_length                       53.6691\n",
       "stride_length                     103.702\n",
       "stride_width                      9.61399\n",
       "File             2014-12-16_P005_Post_004\n",
       "Name: 23, dtype: object"
      ]
     },
     "execution_count": 57,
     "metadata": {},
     "output_type": "execute_result"
    }
   ],
   "source": [
    "df_k.loc[23]"
   ]
  },
  {
   "cell_type": "code",
   "execution_count": 60,
   "metadata": {},
   "outputs": [
    {
     "data": {
      "text/plain": [
       "step_length                               65.508\n",
       "stride_length                            130.999\n",
       "stride_width                              -0.497\n",
       "File             B_2014-12-16_P005_Post_tc_dtacb\n",
       "Name: 23, dtype: object"
      ]
     },
     "execution_count": 60,
     "metadata": {},
     "output_type": "execute_result"
    }
   ],
   "source": [
    "df_z.loc[23]"
   ]
  },
  {
   "cell_type": "code",
   "execution_count": 58,
   "metadata": {},
   "outputs": [
    {
     "data": {
      "text/plain": [
       "absolute_step_length     55.943307\n",
       "step_length              53.669135\n",
       "stride_length           103.701613\n",
       "stride_time               0.413889\n",
       "stride_velocity         241.299129\n",
       "stride_width              9.613990\n",
       "Name: 2014-12-16_P005_Post_004, dtype: float64"
      ]
     },
     "execution_count": 58,
     "metadata": {},
     "output_type": "execute_result"
    }
   ],
   "source": [
    "df_k_raw.loc['2014-12-16_P005_Post_004']"
   ]
  },
  {
   "cell_type": "code",
   "execution_count": 3,
   "metadata": {},
   "outputs": [
    {
     "data": {
      "image/png": "[encoded data removed]",
      "text/plain": [
       "<matplotlib.figure.Figure at 0x10bc9be10>"
      ]
     },
     "metadata": {},
     "output_type": "display_data"
    }
   ],
   "source": [
    "import numpy as np\n",
    "\n",
    "def compare_measurements(x, y, **kwargs):\n",
    "\n",
    "    _, ax = plt.subplots()\n",
    "\n",
    "    ax.scatter(x, y, **kwargs)\n",
    "\n",
    "    lims = [\n",
    "        np.min([ax.get_xlim(), ax.get_ylim()]),\n",
    "        np.max([ax.get_xlim(), ax.get_ylim()]),\n",
    "    ]\n",
    "\n",
    "    # Plot both limits against each other\n",
    "    ax.plot(lims, lims, 'k-')\n",
    "\n",
    "    \n",
    "x_label, y_label = 'Zeno Walkway', 'Kinect'\n",
    "metric = 'Stride vel'\n",
    "    \n",
    "compare_measurements(df_z[metric], df_k[metric], c='k', s=10)\n",
    "plt.xlabel(x_label)\n",
    "plt.ylabel(y_label)\n",
    "plt.show()"
   ]
  },
  {
   "cell_type": "code",
   "execution_count": 4,
   "metadata": {},
   "outputs": [],
   "source": [
    "from scipy.stats import spearmanr, pearsonr\n"
   ]
  },
  {
   "cell_type": "code",
   "execution_count": 5,
   "metadata": {},
   "outputs": [],
   "source": [
    "\n",
    "def apply_to_columns(df_1, df_2, func):\n",
    "\n",
    "    df_numeric = df_1.select_dtypes(include='number')\n",
    "\n",
    "    results_dict = {k: {} for k in df_numeric}\n",
    "\n",
    "    for col in df_numeric:\n",
    "        \n",
    "        results_dict[col] = func(df_1[col], df_2[col])\n",
    "\n",
    "    return results_dict"
   ]
  },
  {
   "cell_type": "code",
   "execution_count": 6,
   "metadata": {},
   "outputs": [],
   "source": [
    "import sys\n",
    "sys.path.append('..')\n",
    "\n",
    "import modules.stats as st"
   ]
  },
  {
   "cell_type": "code",
   "execution_count": 7,
   "metadata": {},
   "outputs": [],
   "source": [
    "d = {}\n",
    "d['Pearson'] = apply_to_columns(df_z, df_k, lambda a, b: pearsonr(a, b)[0])\n",
    "d['Spearman'] = apply_to_columns(df_z, df_k, lambda a, b: spearmanr(a, b)[0])\n",
    "\n",
    "d['Abs rel error'] = apply_to_columns(df_z, df_k, lambda a, b: st.relative_error(a, b, absolute=True).mean())\n",
    "\n",
    "d['Bias'] = apply_to_columns(df_z, df_k, lambda a, b: st.relative_difference(a, b).mean())\n",
    "\n",
    "\n",
    "df_results = pd.DataFrame(d).T"
   ]
  },
  {
   "cell_type": "code",
   "execution_count": 8,
   "metadata": {},
   "outputs": [
    {
     "data": {
      "image/png": "[encoded data removed]",
      "text/plain": [
       "<matplotlib.figure.Figure at 0x1a0e0e8320>"
      ]
     },
     "metadata": {},
     "output_type": "display_data"
    }
   ],
   "source": [
    "import modules.plotting as pl\n",
    "\n",
    "metric = 'Stride vel'\n",
    "\n",
    "means, diffs = st.BlandAltman.differences(df_z[metric], df_k[metric], percent=True)\n",
    "\n",
    "bias, lower_lim, upper_lim = st.BlandAltman.limits_of_agreement(diffs)\n",
    "\n",
    "pl.plot_bland_altman(means, diffs, bias, lower_lim, upper_lim, percent=True)"
   ]
  },
  {
   "cell_type": "code",
   "execution_count": 9,
   "metadata": {},
   "outputs": [],
   "source": [
    "x_min = means.min()\n",
    "x_max = means.max()\n",
    "\n",
    "y_min = diffs.min()\n",
    "y_max = diffs.max()\n"
   ]
  }
 ],
 "metadata": {
  "kernelspec": {
   "display_name": "Python 3",
   "language": "python",
   "name": "python3"
  },
  "language_info": {
   "codemirror_mode": {
    "name": "ipython",
    "version": 3
   },
   "file_extension": ".py",
   "mimetype": "text/x-python",
   "name": "python",
   "nbconvert_exporter": "python",
   "pygments_lexer": "ipython3",
   "version": "3.6.4"
  }
 },
 "nbformat": 4,
 "nbformat_minor": 2
}
