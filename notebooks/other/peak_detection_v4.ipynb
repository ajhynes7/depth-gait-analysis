{
 "cells": [
  {
   "cell_type": "code",
   "execution_count": 1,
   "metadata": {},
   "outputs": [],
   "source": [
    "import numpy as np\n",
    "import pandas as pd\n",
    "import matplotlib.pyplot as plt\n",
    "\n",
    "import sys\n",
    "sys.path.append('..')\n",
    "\n",
    "import modules.signals as sig\n",
    "import modules.general as gen\n",
    "import modules.sliding_window as sw"
   ]
  },
  {
   "cell_type": "code",
   "execution_count": 2,
   "metadata": {},
   "outputs": [
    {
     "name": "stdout",
     "output_type": "stream",
     "text": [
      "Using matplotlib backend: MacOSX\n"
     ]
    }
   ],
   "source": [
    "%matplotlib auto"
   ]
  },
  {
   "cell_type": "code",
   "execution_count": 3,
   "metadata": {},
   "outputs": [],
   "source": [
    "values = np.array([ 0. ,  0.9, 39.1, 29.5, 16.1,  1.1,  1.2, 27. , 38.2, 53. , 50.8,\n",
    "       55.9, 58.4, 53.9, 46.7, 46.9, 42.8, 12.2,  0.2,  0.2,  3.8, 18.2,\n",
    "       42.5, 56.2, 62.2, 58.4, 52.6, 46.9, 46.1, 28.7,  0. , 12. , 43.1,\n",
    "       52.7, 54.5, 66.7, 52.6, 44.5, 45.5, 35.4, 30.6,  8.5,  4.5, 20.9,\n",
    "        1.4,  0.6,  0.8])\n",
    "\n",
    "frames = np.array([195, 196, 203, 204, 205, 206, 207, 208, 209, 210, 211, 212, 213,\n",
    "       214, 215, 216, 217, 218, 219, 220, 221, 222, 223, 224, 225, 226,\n",
    "       227, 228, 229, 231, 233, 234, 235, 236, 237, 238, 239, 241, 242,\n",
    "       243, 244, 245, 246, 248, 250, 252, 253])"
   ]
  },
  {
   "cell_type": "code",
   "execution_count": 4,
   "metadata": {},
   "outputs": [],
   "source": [
    "foot_dist = pd.Series(values, index=frames)"
   ]
  },
  {
   "cell_type": "code",
   "execution_count": 5,
   "metadata": {},
   "outputs": [
    {
     "data": {
      "text/plain": [
       "[<matplotlib.lines.Line2D at 0x1106a1080>]"
      ]
     },
     "execution_count": 5,
     "metadata": {},
     "output_type": "execute_result"
    }
   ],
   "source": [
    "plt.plot(foot_dist)"
   ]
  },
  {
   "cell_type": "code",
   "execution_count": 6,
   "metadata": {},
   "outputs": [],
   "source": [
    "signal = 1 - sig.normalize(foot_dist)"
   ]
  },
  {
   "cell_type": "code",
   "execution_count": 7,
   "metadata": {},
   "outputs": [],
   "source": [
    "plt.plot(signal)\n",
    "plt.grid()"
   ]
  },
  {
   "cell_type": "code",
   "execution_count": 8,
   "metadata": {},
   "outputs": [],
   "source": [
    "signal_expanded = pd.Series(index=range(frames.min(), frames.max()))"
   ]
  },
  {
   "cell_type": "code",
   "execution_count": 9,
   "metadata": {},
   "outputs": [],
   "source": [
    "signal_expanded.update(signal)"
   ]
  },
  {
   "cell_type": "code",
   "execution_count": 10,
   "metadata": {},
   "outputs": [],
   "source": [
    "rms = sig.root_mean_square(signal)\n",
    "peak_indices = sw.detect_peaks(signal_expanded.values, window_length=3, min_height=rms)"
   ]
  },
  {
   "cell_type": "code",
   "execution_count": 11,
   "metadata": {},
   "outputs": [
    {
     "data": {
      "text/plain": [
       "[0, 11, 24, 38, 51, 57]"
      ]
     },
     "execution_count": 11,
     "metadata": {},
     "output_type": "execute_result"
    }
   ],
   "source": [
    "peak_indices"
   ]
  },
  {
   "cell_type": "code",
   "execution_count": 12,
   "metadata": {},
   "outputs": [
    {
     "data": {
      "text/plain": [
       "array([195, 206, 219, 233, 246, 252])"
      ]
     },
     "execution_count": 12,
     "metadata": {},
     "output_type": "execute_result"
    }
   ],
   "source": [
    "peak_frames = signal_expanded.index.values[peak_indices]\n",
    "peak_frames"
   ]
  },
  {
   "cell_type": "code",
   "execution_count": null,
   "metadata": {},
   "outputs": [],
   "source": []
  }
 ],
 "metadata": {
  "kernelspec": {
   "display_name": "Python 3",
   "language": "python",
   "name": "python3"
  },
  "language_info": {
   "codemirror_mode": {
    "name": "ipython",
    "version": 3
   },
   "file_extension": ".py",
   "mimetype": "text/x-python",
   "name": "python",
   "nbconvert_exporter": "python",
   "pygments_lexer": "ipython3",
   "version": "3.6.6"
  }
 },
 "nbformat": 4,
 "nbformat_minor": 2
}
