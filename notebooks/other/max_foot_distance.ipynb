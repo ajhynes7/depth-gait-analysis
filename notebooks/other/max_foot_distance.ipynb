{
 "cells": [
  {
   "cell_type": "code",
   "execution_count": 1,
   "metadata": {},
   "outputs": [],
   "source": [
    "import os\n",
    "import glob\n",
    "import itertools\n",
    "\n",
    "import pandas as pd\n",
    "import numpy as np\n",
    "import matplotlib.pyplot as plt\n",
    "from scipy.spatial.distance import cdist\n",
    "\n",
    "import sys\n",
    "sys.path.append('..')\n",
    "\n",
    "import modules.images as im\n",
    "import modules.general as gen\n",
    "import modules.pose_estimation as pe"
   ]
  },
  {
   "cell_type": "code",
   "execution_count": 2,
   "metadata": {},
   "outputs": [],
   "source": [
    "lower_part_types = ['HEAD', 'HIP', 'UPPER_LEG', 'KNEE', 'LOWER_LEG', 'FOOT']\n",
    "\n",
    "load_dir = os.path.join('..', 'data', 'kinect', 'processed', 'hypothesis')\n",
    "\n",
    "# All files with .pkl extension\n",
    "file_paths = glob.glob(os.path.join(load_dir, '*.pkl'))\n",
    "file_names = [os.path.basename(x) for x in file_paths]\n",
    "\n",
    "trial_id = '2014-12-16_P005_Post_004'\n",
    "load_path = os.path.join(load_dir, trial_id) + '.pkl'\n",
    "\n",
    "df = pd.read_pickle(load_path)"
   ]
  },
  {
   "cell_type": "code",
   "execution_count": 3,
   "metadata": {},
   "outputs": [],
   "source": [
    "# Select frames with data\n",
    "lower_parts, part_labels = gen.strings_with_any_substrings(\n",
    "    df.columns, lower_part_types)\n",
    "\n",
    "df_lower = df[lower_parts].dropna(axis=0)\n",
    "\n",
    "population_series = df_lower.apply(\n",
    "    lambda row: pe.get_population(row, part_labels)[0], axis=1)\n",
    "\n",
    "label_series = df_lower.apply(\n",
    "    lambda row: pe.get_population(row, part_labels)[1], axis=1)"
   ]
  },
  {
   "cell_type": "code",
   "execution_count": null,
   "metadata": {},
   "outputs": [],
   "source": [
    "foot_label = len(lower_part_types) - 1\n",
    "\n",
    "func = lambda x: x[0][label_series.loc[x.Frame] == foot_label]\n",
    "\n",
    "# All foot positions\n",
    "foot_series = population_series.reset_index().apply(func, axis=1)\n",
    "foot_series.index = population_series.index"
   ]
  },
  {
   "cell_type": "code",
   "execution_count": null,
   "metadata": {},
   "outputs": [],
   "source": [
    "# Max foot-to-foot distance at each frame\n",
    "max_foot_distances = foot_series.apply(lambda x: cdist(x, x).max())"
   ]
  },
  {
   "cell_type": "code",
   "execution_count": null,
   "metadata": {},
   "outputs": [],
   "source": [
    "best_pos_dir = os.path.join('..', 'data', 'kinect', 'best pos')\n",
    "best_pos_path = os.path.join(best_pos_dir, trial_id) + '.pkl'\n",
    "\n",
    "df_head_feet = pd.read_pickle(best_pos_path)\n",
    "\n",
    "foot_dist = (df_head_feet.L_FOOT - df_head_feet.R_FOOT).apply(np.linalg.norm)"
   ]
  },
  {
   "cell_type": "code",
   "execution_count": null,
   "metadata": {},
   "outputs": [],
   "source": [
    "plt.plot(max_foot_distances)\n",
    "plt.plot(foot_dist)\n",
    "plt.grid()\n",
    "plt.show()"
   ]
  },
  {
   "cell_type": "code",
   "execution_count": null,
   "metadata": {},
   "outputs": [],
   "source": [
    "dists = [57.8, 56.57, 58.77, 60.8, 61.5, 57.75, 57.93]"
   ]
  },
  {
   "cell_type": "code",
   "execution_count": null,
   "metadata": {},
   "outputs": [],
   "source": []
  }
 ],
 "metadata": {
  "kernelspec": {
   "display_name": "Python 3",
   "language": "python",
   "name": "python3"
  },
  "language_info": {
   "codemirror_mode": {
    "name": "ipython",
    "version": 3
   },
   "file_extension": ".py",
   "mimetype": "text/x-python",
   "name": "python",
   "nbconvert_exporter": "python",
   "pygments_lexer": "ipython3",
   "version": "3.6.4"
  }
 },
 "nbformat": 4,
 "nbformat_minor": 2
}
