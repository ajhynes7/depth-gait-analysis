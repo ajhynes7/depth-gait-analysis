{
 "cells": [
  {
   "cell_type": "code",
   "execution_count": 1,
   "metadata": {},
   "outputs": [],
   "source": [
    "import glob\n",
    "import os\n",
    "\n",
    "import numpy as np\n",
    "from numpy.linalg import norm\n",
    "\n",
    "import sys\n",
    "sys.path.append('../../pose_estimation')\n",
    "\n",
    "import analysis.images as im"
   ]
  },
  {
   "cell_type": "code",
   "execution_count": 2,
   "metadata": {},
   "outputs": [],
   "source": [
    "x_res_old, y_res_old = 640, 480\n",
    "x_res, y_res = 565, 430\n",
    "\n",
    "field_of_view_x, field_of_view_y = 57, 43"
   ]
  },
  {
   "cell_type": "code",
   "execution_count": 3,
   "metadata": {},
   "outputs": [],
   "source": [
    "f_x = im.focal_length(x_res, field_of_view_x)\n",
    "f_y = im.focal_length(y_res, field_of_view_y)"
   ]
  },
  {
   "cell_type": "code",
   "execution_count": 4,
   "metadata": {},
   "outputs": [],
   "source": [
    "positions_real_old = np.array([[-62.0539, -59.8801, 308.669],\n",
    "                      [-104.664, -59.1071, 310.122],\n",
    "                      [-102.206, -58.3301, 310.448],\n",
    "                      [-100.58, -21.2233, 312.856]],\n",
    "                    )"
   ]
  },
  {
   "cell_type": "code",
   "execution_count": 5,
   "metadata": {},
   "outputs": [],
   "source": [
    "def correct_real_positions(positions_real_old, x_res_old, y_res_old, x_res, y_res, f_x, f_y):\n",
    "    \n",
    "    positions_real = np.full(positions_real_old.shape, np.nan)\n",
    "    \n",
    "    for i, pos_real_old in enumerate(positions_real_old):\n",
    "        \n",
    "        pos_image = im.real_to_image(pos_real_old, x_res_old, y_res_old, f_x, f_y)\n",
    "        positions_real[i] = im.image_to_real(pos_image, x_res, y_res, f_x, f_y)\n",
    "        \n",
    "    return positions_real\n",
    "    \n"
   ]
  },
  {
   "cell_type": "code",
   "execution_count": 6,
   "metadata": {},
   "outputs": [
    {
     "data": {
      "text/plain": [
       "array([[-39.8069629 , -74.01823402, 308.669     ],\n",
       "       [-82.31233971, -73.31178657, 310.122     ],\n",
       "       [-79.83084367, -72.54971853, 310.448     ],\n",
       "       [-78.03129004, -35.55321346, 312.856     ]])"
      ]
     },
     "execution_count": 6,
     "metadata": {},
     "output_type": "execute_result"
    }
   ],
   "source": [
    "correct_real_positions(positions_real_old, x_res_old, y_res_old, x_res, y_res, f_x, f_y)"
   ]
  },
  {
   "cell_type": "code",
   "execution_count": null,
   "metadata": {},
   "outputs": [],
   "source": []
  }
 ],
 "metadata": {
  "kernelspec": {
   "display_name": "Python [conda env:depth_gait_env]",
   "language": "python",
   "name": "conda-env-depth_gait_env-py"
  },
  "language_info": {
   "codemirror_mode": {
    "name": "ipython",
    "version": 3
   },
   "file_extension": ".py",
   "mimetype": "text/x-python",
   "name": "python",
   "nbconvert_exporter": "python",
   "pygments_lexer": "ipython3",
   "version": "3.7.0"
  }
 },
 "nbformat": 4,
 "nbformat_minor": 2
}
