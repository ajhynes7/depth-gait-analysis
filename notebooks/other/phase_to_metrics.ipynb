{
 "cells": [
  {
   "cell_type": "code",
   "execution_count": 1,
   "metadata": {},
   "outputs": [],
   "source": [
    "import os\n",
    "\n",
    "import numpy as np\n",
    "import pandas as pd\n",
    "\n",
    "import sys\n",
    "sys.path.append('..')\n",
    "\n",
    "import modules.numpy_funcs as nf\n",
    "import modules.phase_detection as pde\n",
    "import modules.pandas_funcs as pf\n",
    "from modules.gait_metrics import *"
   ]
  },
  {
   "cell_type": "code",
   "execution_count": 2,
   "metadata": {},
   "outputs": [],
   "source": [
    "file_l = 'df_phase_l_2014-12-22_P005_Pre_003.pkl'\n",
    "file_r = 'df_phase_r_2014-12-22_P005_Pre_003.pkl'\n",
    "\n",
    "load_dir = os.path.join('..', 'data', 'saved_variables')\n",
    "\n",
    "load_path_l = os.path.join(load_dir, file_l)\n",
    "load_path_r = os.path.join(load_dir, file_r)\n",
    "\n",
    "df_phase_l = pd.read_pickle(load_path_l)\n",
    "df_phase_r = pd.read_pickle(load_path_r)"
   ]
  },
  {
   "cell_type": "code",
   "execution_count": 3,
   "metadata": {},
   "outputs": [],
   "source": [
    "frames = df_phase_l.index.values"
   ]
  },
  {
   "cell_type": "code",
   "execution_count": 4,
   "metadata": {},
   "outputs": [],
   "source": [
    "is_stance_l = df_phase_l.phase.values == 'stance'\n",
    "is_stance_r = df_phase_r.phase.values == 'stance'"
   ]
  },
  {
   "cell_type": "code",
   "execution_count": 6,
   "metadata": {},
   "outputs": [],
   "source": [
    "stance_percent_l = nf.ratio_nonzero(is_stance_l) * 100 \n",
    "stance_percent_r = nf.ratio_nonzero(is_stance_r) * 100"
   ]
  },
  {
   "cell_type": "code",
   "execution_count": 7,
   "metadata": {},
   "outputs": [
    {
     "data": {
      "text/plain": [
       "62.0"
      ]
     },
     "execution_count": 7,
     "metadata": {},
     "output_type": "execute_result"
    }
   ],
   "source": [
    "stance_percent_l"
   ]
  },
  {
   "cell_type": "code",
   "execution_count": 80,
   "metadata": {},
   "outputs": [],
   "source": [
    "stance_double = np.logical_and(is_stance_filled_l, is_stance_filled_r)"
   ]
  },
  {
   "cell_type": "code",
   "execution_count": 81,
   "metadata": {},
   "outputs": [],
   "source": [
    "percentage_stance_double = nf.ratio_nonzero(double_stance) * 100"
   ]
  },
  {
   "cell_type": "code",
   "execution_count": 82,
   "metadata": {},
   "outputs": [
    {
     "data": {
      "text/plain": [
       "25.0"
      ]
     },
     "execution_count": 82,
     "metadata": {},
     "output_type": "execute_result"
    }
   ],
   "source": [
    "percentage_stance_double"
   ]
  },
  {
   "cell_type": "code",
   "execution_count": 83,
   "metadata": {},
   "outputs": [],
   "source": [
    "df_contact_l = pde.group_stance_frames(df_phase_l, '_L')\n",
    "df_contact_r = pde.group_stance_frames(df_phase_r, '_R')"
   ]
  },
  {
   "cell_type": "code",
   "execution_count": 84,
   "metadata": {},
   "outputs": [],
   "source": [
    "contact_dfs = [df_contact_l, df_contact_r]\n",
    "df_stacked = pd.concat(contact_dfs).sort_values('frame').reset_index()"
   ]
  },
  {
   "cell_type": "code",
   "execution_count": 85,
   "metadata": {},
   "outputs": [],
   "source": [
    "df_contact = pf.split_column(df_stacked, column='index', delim='_',\n",
    "                                 new_columns=['number', 'side'])"
   ]
  },
  {
   "cell_type": "code",
   "execution_count": 86,
   "metadata": {},
   "outputs": [],
   "source": [
    "df_gait = foot_contacts_to_gait(df_contact)"
   ]
  },
  {
   "cell_type": "code",
   "execution_count": 87,
   "metadata": {},
   "outputs": [],
   "source": [
    "df_gait = pf.split_and_merge(df_gait, merge_col='number', split_col='side', split_vals=('L', 'R'))"
   ]
  },
  {
   "cell_type": "code",
   "execution_count": 88,
   "metadata": {},
   "outputs": [
    {
     "data": {
      "text/html": [
       "<div>\n",
       "<style scoped>\n",
       "    .dataframe tbody tr th:only-of-type {\n",
       "        vertical-align: middle;\n",
       "    }\n",
       "\n",
       "    .dataframe tbody tr th {\n",
       "        vertical-align: top;\n",
       "    }\n",
       "\n",
       "    .dataframe thead th {\n",
       "        text-align: right;\n",
       "    }\n",
       "</style>\n",
       "<table border=\"1\" class=\"dataframe\">\n",
       "  <thead>\n",
       "    <tr style=\"text-align: right;\">\n",
       "      <th></th>\n",
       "      <th>absolute_step_length_L</th>\n",
       "      <th>step_length_L</th>\n",
       "      <th>step_time_L</th>\n",
       "      <th>stride_length_L</th>\n",
       "      <th>stride_time_L</th>\n",
       "      <th>stride_velocity_L</th>\n",
       "      <th>stride_width_L</th>\n",
       "      <th>absolute_step_length_R</th>\n",
       "      <th>step_length_R</th>\n",
       "      <th>step_time_R</th>\n",
       "      <th>stride_length_R</th>\n",
       "      <th>stride_time_R</th>\n",
       "      <th>stride_velocity_R</th>\n",
       "      <th>stride_width_R</th>\n",
       "    </tr>\n",
       "    <tr>\n",
       "      <th>number</th>\n",
       "      <th></th>\n",
       "      <th></th>\n",
       "      <th></th>\n",
       "      <th></th>\n",
       "      <th></th>\n",
       "      <th></th>\n",
       "      <th></th>\n",
       "      <th></th>\n",
       "      <th></th>\n",
       "      <th></th>\n",
       "      <th></th>\n",
       "      <th></th>\n",
       "      <th></th>\n",
       "      <th></th>\n",
       "    </tr>\n",
       "  </thead>\n",
       "  <tbody>\n",
       "    <tr>\n",
       "      <th>0</th>\n",
       "      <td>59.945668</td>\n",
       "      <td>59.635272</td>\n",
       "      <td>0.416667</td>\n",
       "      <td>119.310198</td>\n",
       "      <td>0.816667</td>\n",
       "      <td>146.09412</td>\n",
       "      <td>6.09241</td>\n",
       "      <td>59.985117</td>\n",
       "      <td>59.541725</td>\n",
       "      <td>0.4</td>\n",
       "      <td>120.839251</td>\n",
       "      <td>0.8</td>\n",
       "      <td>151.049063</td>\n",
       "      <td>7.279919</td>\n",
       "    </tr>\n",
       "  </tbody>\n",
       "</table>\n",
       "</div>"
      ],
      "text/plain": [
       "        absolute_step_length_L  step_length_L  step_time_L  stride_length_L  \\\n",
       "number                                                                        \n",
       "0                    59.945668      59.635272     0.416667       119.310198   \n",
       "\n",
       "        stride_time_L  stride_velocity_L  stride_width_L  \\\n",
       "number                                                     \n",
       "0            0.816667          146.09412         6.09241   \n",
       "\n",
       "        absolute_step_length_R  step_length_R  step_time_R  stride_length_R  \\\n",
       "number                                                                        \n",
       "0                    59.985117      59.541725          0.4       120.839251   \n",
       "\n",
       "        stride_time_R  stride_velocity_R  stride_width_R  \n",
       "number                                                    \n",
       "0                 0.8         151.049063        7.279919  "
      ]
     },
     "execution_count": 88,
     "metadata": {},
     "output_type": "execute_result"
    }
   ],
   "source": [
    "df_gait"
   ]
  },
  {
   "cell_type": "code",
   "execution_count": null,
   "metadata": {},
   "outputs": [],
   "source": []
  }
 ],
 "metadata": {
  "kernelspec": {
   "display_name": "Python 3",
   "language": "python",
   "name": "python3"
  },
  "language_info": {
   "codemirror_mode": {
    "name": "ipython",
    "version": 3
   },
   "file_extension": ".py",
   "mimetype": "text/x-python",
   "name": "python",
   "nbconvert_exporter": "python",
   "pygments_lexer": "ipython3",
   "version": "3.6.6"
  }
 },
 "nbformat": 4,
 "nbformat_minor": 2
}
