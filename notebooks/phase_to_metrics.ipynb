{
 "cells": [
  {
   "cell_type": "code",
   "execution_count": 1,
   "metadata": {},
   "outputs": [],
   "source": [
    "import os\n",
    "\n",
    "import numpy as np\n",
    "import pandas as pd\n",
    "\n",
    "import sys\n",
    "sys.path.append('..')\n",
    "\n",
    "import modules.numpy_funcs as nf"
   ]
  },
  {
   "cell_type": "code",
   "execution_count": 2,
   "metadata": {},
   "outputs": [],
   "source": [
    "file_l = 'df_phase_l_2014-12-22_P005_Pre_003.pkl'\n",
    "file_r = 'df_phase_r_2014-12-22_P005_Pre_003.pkl'\n",
    "\n",
    "load_dir = os.path.join('..', 'data', 'saved_variables')\n",
    "\n",
    "load_path_l = os.path.join(load_dir, file_l)\n",
    "load_path_r = os.path.join(load_dir, file_r)\n",
    "\n",
    "df_phase_l = pd.read_pickle(load_path_l)\n",
    "df_phase_r = pd.read_pickle(load_path_r)"
   ]
  },
  {
   "cell_type": "code",
   "execution_count": 3,
   "metadata": {},
   "outputs": [],
   "source": [
    "frames = df_phase_l.index.values"
   ]
  },
  {
   "cell_type": "code",
   "execution_count": 13,
   "metadata": {},
   "outputs": [],
   "source": [
    "stance_l = df_phase_l.phase == 'stance'\n",
    "stance_r = df_phase_r.phase == 'stance'"
   ]
  },
  {
   "cell_type": "code",
   "execution_count": 14,
   "metadata": {},
   "outputs": [],
   "source": [
    "is_stance_l = stance_l.values\n",
    "is_stance_r = stance_r.values"
   ]
  },
  {
   "cell_type": "code",
   "execution_count": 15,
   "metadata": {},
   "outputs": [],
   "source": [
    "_, is_stance_exp_l = nf.expand_arrays(frames, is_stance_l)\n",
    "_, is_stance_exp_r = nf.expand_arrays(frames, is_stance_r)"
   ]
  },
  {
   "cell_type": "code",
   "execution_count": 16,
   "metadata": {},
   "outputs": [],
   "source": [
    "is_stance_filled_l = nf.fill_with_previous(is_stance_exp_l)\n",
    "is_stance_filled_r = nf.fill_with_previous(is_stance_exp_r)"
   ]
  },
  {
   "cell_type": "code",
   "execution_count": 33,
   "metadata": {},
   "outputs": [],
   "source": [
    "stance_percent_l = nf.ratio_nonzero(is_stance_filled_l) * 100 \n",
    "stance_percent_r = nf.ratio_nonzero(is_stance_filled_r) * 100"
   ]
  },
  {
   "cell_type": "code",
   "execution_count": 34,
   "metadata": {},
   "outputs": [],
   "source": [
    "stance_double = np.logical_and(is_stance_filled_l, is_stance_filled_r)"
   ]
  },
  {
   "cell_type": "code",
   "execution_count": 35,
   "metadata": {},
   "outputs": [],
   "source": [
    "percentage_stance_double = nf.ratio_nonzero(double_stance) * 100"
   ]
  },
  {
   "cell_type": "code",
   "execution_count": 36,
   "metadata": {},
   "outputs": [
    {
     "data": {
      "text/plain": [
       "25.0"
      ]
     },
     "execution_count": 36,
     "metadata": {},
     "output_type": "execute_result"
    }
   ],
   "source": [
    "percentage_stance_double"
   ]
  },
  {
   "cell_type": "code",
   "execution_count": null,
   "metadata": {},
   "outputs": [],
   "source": []
  }
 ],
 "metadata": {
  "kernelspec": {
   "display_name": "Python 3",
   "language": "python",
   "name": "python3"
  },
  "language_info": {
   "codemirror_mode": {
    "name": "ipython",
    "version": 3
   },
   "file_extension": ".py",
   "mimetype": "text/x-python",
   "name": "python",
   "nbconvert_exporter": "python",
   "pygments_lexer": "ipython3",
   "version": "3.6.6"
  }
 },
 "nbformat": 4,
 "nbformat_minor": 2
}
