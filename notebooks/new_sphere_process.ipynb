{
 "cells": [
  {
   "cell_type": "code",
   "execution_count": 1,
   "metadata": {},
   "outputs": [],
   "source": [
    "import itertools\n",
    "\n",
    "import numpy as np\n",
    "from scipy.spatial.distance import cdist\n",
    "\n",
    "import sys\n",
    "sys.path.append('..')\n",
    "\n",
    "import analysis.math_funcs as mf\n",
    "import modules.iterable_funcs as itf\n",
    "import modules.pose_estimation as pe\n"
   ]
  },
  {
   "cell_type": "code",
   "execution_count": 2,
   "metadata": {},
   "outputs": [],
   "source": [
    "def score_func(a, b):\n",
    "    \"\"\"Score function for scoring links between body parts.\"\"\"\n",
    "    x = 1 / mf.norm_ratio(a, b)\n",
    "    return -(x - 1)**2 + 1\n",
    "\n",
    "radii = [i for i in range(0, 50, 5)]\n",
    "\n",
    "population = np.array([[-115.58048642,   60.89011957,  244.777     ],\n",
    "       [-116.9785391 ,   20.47026348,  250.67      ],\n",
    "       [-114.922309  ,   63.3364844 ,  243.795     ],\n",
    "       [-117.36944869,   30.3507099 ,  247.751     ],\n",
    "       [-117.52351807,   28.23920431,  243.436     ],\n",
    "       [-118.19426157,   12.50639743,  245.43      ],\n",
    "       [-121.35864205,   -0.97322703,  255.433     ],\n",
    "       [-117.90960175,   59.95409882,  242.64      ],\n",
    "       [-120.75570116,    1.88955716,  253.303     ],\n",
    "       [-120.12484905,    4.14457176,  251.536     ],\n",
    "       [-119.35087127,    5.81290497,  247.594     ],\n",
    "       [-114.63498171,   68.3179124 ,  241.164     ],\n",
    "       [-107.48723883,  -12.8211624 ,  230.018     ],\n",
    "       [-118.43413556,   14.0089565 ,  248.52      ],\n",
    "       [-106.99350063,  -14.68416389,  229.924     ],\n",
    "       [-118.24636692,   13.95480618,  248.716     ],\n",
    "       [-121.42820509,  -31.98467921,  256.824     ],\n",
    "       [-126.28805758,  -12.45890766,  275.076     ],\n",
    "       [-120.39244269,  -48.58608126,  259.256     ],\n",
    "       [-126.28805758,  -12.45890655,  275.076     ],\n",
    "       [-107.82113617,  -15.6490517 ,  229.868     ],\n",
    "       [-120.39244269,  -48.58608126,  259.256     ],\n",
    "       [-107.83374389,  -15.75142919,  229.866     ]])\n",
    "\n",
    "path_matrix = np.array([[ 2,  4,  5,  8, 16, 17],\n",
    "       [ 2,  4,  5,  8, 16, 18],\n",
    "       [ 2,  4,  5,  8, 16, 19],\n",
    "       [ 2,  4,  5,  8, 16, 20],\n",
    "       [ 2,  4,  5,  8, 16, 21],\n",
    "       [ 2,  4,  5,  8, 16, 22]])\n",
    "\n",
    "label_adj_list = {0: {1: 69.34934638727614},\n",
    " 1: {2: 21.99911000126585, 3: 38.764894273373315},\n",
    " 2: {3: 16.76578427210746},\n",
    " 3: {4: 24.624453515469536, 5: 47.98735770357412},\n",
    " 4: {5: 23.362904188104586},\n",
    " 5: {}}"
   ]
  },
  {
   "cell_type": "code",
   "execution_count": 25,
   "metadata": {},
   "outputs": [],
   "source": [
    "path_nums = np.unique(path_matrix)\n",
    "n_pop = len(path_nums)\n",
    "\n",
    "mapping = {k: v for k, v in zip(path_nums, range(n_pop))}\n",
    "\n",
    "# Population along the shortest paths\n",
    "pop_paths = population[np.unique(path_matrix), :]"
   ]
  },
  {
   "cell_type": "code",
   "execution_count": 63,
   "metadata": {},
   "outputs": [],
   "source": [
    "path_matrix_mapped = np.zeros(path_matrix.shape, dtype=int)\n",
    "\n",
    "n_rows, n_cols = path_matrix.shape\n",
    "\n",
    "for i in range(n_rows):\n",
    "    for j in range(n_cols):\n",
    "        \n",
    "        path_matrix_mapped[i, j] = mapping[path_matrix[i, j]]"
   ]
  },
  {
   "cell_type": "code",
   "execution_count": 64,
   "metadata": {},
   "outputs": [],
   "source": [
    "dist_matrix = cdist(pop_paths, pop_paths)\n",
    "score_matrix = pe.get_scores(dist_matrix, path_matrix_mapped, label_adj_list, score_func)"
   ]
  },
  {
   "cell_type": "code",
   "execution_count": 65,
   "metadata": {},
   "outputs": [],
   "source": [
    "def select_best_feet(dist_matrix, score_matrix, path_vectors, radii):\n",
    "\n",
    "    combos = [*itertools.combinations(range(n_paths), 2)]\n",
    "    n_combos = len(combos)\n",
    "\n",
    "    votes, combo_scores = np.zeros(n_combos), np.zeros(n_combos)\n",
    "\n",
    "    for r in radii:\n",
    "\n",
    "        mask = dist_matrix < r\n",
    "        scores_of_radius = mask * score_matrix\n",
    "\n",
    "        for i in range(n_combos):\n",
    "\n",
    "            a, b = combos[i]\n",
    "\n",
    "            path_1 = path_vectors[a, :]\n",
    "            path_2 = path_vectors[b, :]\n",
    "\n",
    "            path_joined = np.logical_or(path_1, path_2)\n",
    "\n",
    "            combo_scores[i] = np.sum(scores_of_radius[:, path_joined])\n",
    "\n",
    "        max_score = max(combo_scores)\n",
    "\n",
    "        # Winning combos for this radius\n",
    "        radius_winners = combo_scores == max_score\n",
    "\n",
    "        # Votes go to the winners\n",
    "        votes += radius_winners\n",
    "\n",
    "    winning_combo = np.argmax(votes)\n",
    "    foot_1, foot_2 = combos[winning_combo]\n",
    "\n",
    "    return foot_1, foot_2"
   ]
  },
  {
   "cell_type": "code",
   "execution_count": 66,
   "metadata": {},
   "outputs": [],
   "source": [
    "all_nums = [i for i in range(n_pop)]\n",
    "path_vectors = np.zeros((n_paths, n_pop))\n",
    "\n",
    "for i, path in enumerate(path_matrix_mapped):\n",
    "    path_vectors[i, :] = np.in1d(all_nums, path)"
   ]
  },
  {
   "cell_type": "code",
   "execution_count": 67,
   "metadata": {},
   "outputs": [
    {
     "data": {
      "text/plain": [
       "(3, 5)"
      ]
     },
     "execution_count": 67,
     "metadata": {},
     "output_type": "execute_result"
    }
   ],
   "source": [
    "select_best_feet(dist_matrix, score_matrix, path_vectors, radii)"
   ]
  },
  {
   "cell_type": "code",
   "execution_count": null,
   "metadata": {},
   "outputs": [],
   "source": []
  }
 ],
 "metadata": {
  "kernelspec": {
   "display_name": "Python [conda env:depth_gait_env]",
   "language": "python",
   "name": "conda-env-depth_gait_env-py"
  },
  "language_info": {
   "codemirror_mode": {
    "name": "ipython",
    "version": 3
   },
   "file_extension": ".py",
   "mimetype": "text/x-python",
   "name": "python",
   "nbconvert_exporter": "python",
   "pygments_lexer": "ipython3",
   "version": "3.6.6"
  }
 },
 "nbformat": 4,
 "nbformat_minor": 2
}
