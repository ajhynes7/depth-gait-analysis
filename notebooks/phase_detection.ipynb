{
 "cells": [
  {
   "cell_type": "code",
   "execution_count": null,
   "metadata": {},
   "outputs": [],
   "source": [
    "import os\n",
    "import glob\n",
    "\n",
    "import numpy as np\n",
    "import pandas as pd\n",
    "from toolz import compose\n",
    "import matplotlib.pyplot as plt\n",
    "from mpl_toolkits.mplot3d import Axes3D\n",
    "from sklearn.cluster import KMeans\n",
    "from scipy.stats import linregress\n",
    "\n",
    "\n",
    "import sys\n",
    "sys.path.append('..')\n",
    "\n",
    "import modules.plotting as pl\n",
    "import modules.signals as sig\n",
    "import modules.numpy_funcs as nf\n",
    "import modules.pandas_funcs as pf\n",
    "import modules.gait_metrics as gm\n",
    "import modules.assign_sides as asi\n",
    "import modules.sliding_window as sw\n",
    "import modules.iterable_funcs as itf\n",
    "import modules.linear_algebra as lin\n",
    "import modules.phase_detection as pde\n"
   ]
  },
  {
   "cell_type": "code",
   "execution_count": null,
   "metadata": {},
   "outputs": [],
   "source": [
    "%matplotlib auto"
   ]
  },
  {
   "cell_type": "code",
   "execution_count": null,
   "metadata": {},
   "outputs": [],
   "source": [
    "file_name = '2014-12-08_P004_Post_004'"
   ]
  },
  {
   "cell_type": "code",
   "execution_count": null,
   "metadata": {},
   "outputs": [],
   "source": [
    "best_pos_dir = os.path.join('..', 'data', 'kinect', 'best pos')\n",
    "hypo_dir = os.path.join('..', 'data', 'kinect', 'processed', 'hypothesis')\n",
    "\n",
    "hypo_paths = glob.glob(os.path.join(hypo_dir, '*.pkl'))\n",
    "best_pos_paths = glob.glob(os.path.join(best_pos_dir, '*.pkl'))\n",
    "\n",
    "hypo_paths = [x for x in hypo_paths if file_name in x]\n",
    "best_pos_paths = [x for x in best_pos_paths if file_name in x]\n",
    "\n",
    "df_hypo = pd.read_pickle(hypo_paths[0])\n",
    "df_best_pos = pd.read_pickle(best_pos_paths[0])"
   ]
  },
  {
   "cell_type": "markdown",
   "metadata": {},
   "source": [
    "## Split trial into separate passes"
   ]
  },
  {
   "cell_type": "code",
   "execution_count": null,
   "metadata": {},
   "outputs": [],
   "source": [
    "# Convert all position vectors to float type\n",
    "# so they can be easily input to linear algebra functions\n",
    "df_best_pos = df_best_pos.applymap(pd.to_numeric)\n",
    "\n",
    "# Cluster frames with k means to locate the 4 walking passes\n",
    "frames = df_best_pos.index.values.reshape(-1, 1)\n",
    "k_means = KMeans(n_clusters=4, random_state=0).fit(frames)\n",
    "\n",
    "# Sort labels so that the frames are in temporal order\n",
    "labels = itf.map_sort(k_means.labels_)\n",
    "\n",
    "# DataFrames for each walking pass in a trial\n",
    "pass_dfs = nf.group_by_label(df_best_pos, labels)"
   ]
  },
  {
   "cell_type": "code",
   "execution_count": null,
   "metadata": {},
   "outputs": [],
   "source": [
    "df_pass = list(pass_dfs)[0]"
   ]
  },
  {
   "cell_type": "code",
   "execution_count": null,
   "metadata": {},
   "outputs": [],
   "source": [
    "frames = df_pass.index.values"
   ]
  },
  {
   "cell_type": "code",
   "execution_count": null,
   "metadata": {},
   "outputs": [],
   "source": [
    "_, direction_pass = gm.direction_of_pass(df_pass)\n",
    "\n",
    "# Assign correct sides to feet\n",
    "df_assigned = asi.assign_sides_pass(df_pass, direction_pass)"
   ]
  },
  {
   "cell_type": "markdown",
   "metadata": {},
   "source": [
    "## Detect phases"
   ]
  },
  {
   "cell_type": "code",
   "execution_count": null,
   "metadata": {},
   "outputs": [],
   "source": [
    "signal_l = gm.foot_signal(df_assigned.L_FOOT, df_assigned.R_FOOT, direction_pass)\n",
    "\n",
    "frames_interest = pde.frames_of_interest(signal_l)\n"
   ]
  },
  {
   "cell_type": "code",
   "execution_count": null,
   "metadata": {},
   "outputs": [],
   "source": [
    "df_phase_l = pde.foot_phases(frames_interest, direction_pass, df_assigned.L_FOOT)\n",
    "df_phase_r = pde.foot_phases(frames_interest, direction_pass, df_assigned.R_FOOT)"
   ]
  },
  {
   "cell_type": "code",
   "execution_count": null,
   "metadata": {},
   "outputs": [],
   "source": [
    "df_phase_lr = df_phase_l.join(df_phase_r, lsuffix='_L', rsuffix='_R')"
   ]
  },
  {
   "cell_type": "code",
   "execution_count": null,
   "metadata": {},
   "outputs": [],
   "source": [
    "from numpy.linalg import norm\n",
    "from scipy.spatial.distance import cdist"
   ]
  },
  {
   "cell_type": "code",
   "execution_count": null,
   "metadata": {},
   "outputs": [],
   "source": [
    "def foo(df_stance, column, func):\n",
    "\n",
    "    series = df_stance.groupby('number')[column].apply(func)\n",
    "\n",
    "    result_list = [np.median(cdist(a, b)) for a, b in itf.pairwise(series)]\n",
    "\n",
    "    return np.array(result_list)"
   ]
  },
  {
   "cell_type": "code",
   "execution_count": null,
   "metadata": {},
   "outputs": [],
   "source": [
    "df_stance = df_phase_l[df_phase_l.phase=='stance']"
   ]
  },
  {
   "cell_type": "code",
   "execution_count": null,
   "metadata": {},
   "outputs": [],
   "source": [
    "stride_lengths = foo(df_stance, 'position', np.stack)"
   ]
  },
  {
   "cell_type": "code",
   "execution_count": null,
   "metadata": {},
   "outputs": [],
   "source": [
    "func = compose(nf.to_column, np.stack)\n",
    "stride_times = foo(df_stance.reset_index(), 'frame', func) / 30"
   ]
  },
  {
   "cell_type": "code",
   "execution_count": null,
   "metadata": {},
   "outputs": [],
   "source": [
    "stride_lengths"
   ]
  },
  {
   "cell_type": "code",
   "execution_count": null,
   "metadata": {},
   "outputs": [],
   "source": [
    "stride_times"
   ]
  },
  {
   "cell_type": "code",
   "execution_count": null,
   "metadata": {},
   "outputs": [],
   "source": [
    "stride_velocities = stride_lengths / stride_times"
   ]
  },
  {
   "cell_type": "code",
   "execution_count": null,
   "metadata": {},
   "outputs": [],
   "source": [
    "stride_velocities"
   ]
  },
  {
   "cell_type": "code",
   "execution_count": null,
   "metadata": {},
   "outputs": [],
   "source": [
    "df_stance_l = df_phase_l[df_phase_l.phase == 'stance']\n",
    "df_stance_r = df_phase_r[df_phase_r.phase == 'stance']"
   ]
  },
  {
   "cell_type": "code",
   "execution_count": null,
   "metadata": {},
   "outputs": [],
   "source": [
    "column_funcs = {'frame': list, 'position': np.stack}\n"
   ]
  },
  {
   "cell_type": "code",
   "execution_count": null,
   "metadata": {},
   "outputs": [],
   "source": [
    "df_grouped_l = pf.apply_to_grouped(df_stance_l.reset_index(), 'number', column_funcs)\n",
    "df_grouped_r = pf.apply_to_grouped(df_stance_r.reset_index(), 'number', column_funcs)"
   ]
  },
  {
   "cell_type": "code",
   "execution_count": null,
   "metadata": {},
   "outputs": [],
   "source": [
    "df_grouped_l['med_frame'] = df_grouped_l.frame.apply(np.median)\n",
    "df_grouped_r['med_frame'] = df_grouped_r.frame.apply(np.median)"
   ]
  },
  {
   "cell_type": "code",
   "execution_count": null,
   "metadata": {},
   "outputs": [],
   "source": [
    "df_grouped_l.index = df_grouped_l.index.astype('str') + '_L'\n",
    "df_grouped_r.index = df_grouped_r.index.astype('str') + '_R'"
   ]
  },
  {
   "cell_type": "code",
   "execution_count": null,
   "metadata": {},
   "outputs": [],
   "source": [
    "df = pd.concat([df_grouped_l, df_grouped_r]).sort_values('med_frame').reset_index()"
   ]
  },
  {
   "cell_type": "code",
   "execution_count": null,
   "metadata": {},
   "outputs": [],
   "source": [
    "df"
   ]
  },
  {
   "cell_type": "code",
   "execution_count": null,
   "metadata": {},
   "outputs": [],
   "source": []
  },
  {
   "cell_type": "code",
   "execution_count": null,
   "metadata": {},
   "outputs": [],
   "source": []
  },
  {
   "cell_type": "code",
   "execution_count": null,
   "metadata": {},
   "outputs": [],
   "source": []
  }
 ],
 "metadata": {
  "kernelspec": {
   "display_name": "Python 3",
   "language": "python",
   "name": "python3"
  },
  "language_info": {
   "codemirror_mode": {
    "name": "ipython",
    "version": 3
   },
   "file_extension": ".py",
   "mimetype": "text/x-python",
   "name": "python",
   "nbconvert_exporter": "python",
   "pygments_lexer": "ipython3",
   "version": "3.6.6"
  }
 },
 "nbformat": 4,
 "nbformat_minor": 2
}
