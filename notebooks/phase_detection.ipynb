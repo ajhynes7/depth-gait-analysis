{
 "cells": [
  {
   "cell_type": "code",
   "execution_count": 1,
   "metadata": {},
   "outputs": [],
   "source": [
    "import os\n",
    "import glob\n",
    "\n",
    "import numpy as np\n",
    "import pandas as pd\n",
    "import matplotlib.pyplot as plt\n",
    "from mpl_toolkits.mplot3d import Axes3D\n",
    "from sklearn.cluster import KMeans\n",
    "from scipy.stats import linregress\n",
    "\n",
    "import sys\n",
    "sys.path.append('..')\n",
    "\n",
    "import modules.plotting as pl\n",
    "import modules.general as gen\n",
    "import modules.signals as sig\n",
    "import modules.gait_metrics as gm\n",
    "import modules.assign_sides as asi\n",
    "import modules.sliding_window as sw\n",
    "import modules.linear_algebra as lin\n",
    "import modules.phase_detection as pde"
   ]
  },
  {
   "cell_type": "code",
   "execution_count": 2,
   "metadata": {},
   "outputs": [
    {
     "name": "stdout",
     "output_type": "stream",
     "text": [
      "Using matplotlib backend: MacOSX\n"
     ]
    }
   ],
   "source": [
    "%matplotlib auto"
   ]
  },
  {
   "cell_type": "code",
   "execution_count": 3,
   "metadata": {},
   "outputs": [],
   "source": [
    "file_name = '2014-12-08_P004_Post_004'"
   ]
  },
  {
   "cell_type": "code",
   "execution_count": 4,
   "metadata": {},
   "outputs": [],
   "source": [
    "best_pos_dir = os.path.join('..', 'data', 'kinect', 'best pos')\n",
    "hypo_dir = os.path.join('..', 'data', 'kinect', 'processed', 'hypothesis')\n",
    "\n",
    "hypo_paths = glob.glob(os.path.join(hypo_dir, '*.pkl'))\n",
    "best_pos_paths = glob.glob(os.path.join(best_pos_dir, '*.pkl'))\n",
    "\n",
    "hypo_paths = [x for x in hypo_paths if file_name in x]\n",
    "best_pos_paths = [x for x in best_pos_paths if file_name in x]\n",
    "\n",
    "df_hypo = pd.read_pickle(hypo_paths[0])\n",
    "df_head_feet = pd.read_pickle(best_pos_paths[0])"
   ]
  },
  {
   "cell_type": "markdown",
   "metadata": {},
   "source": [
    "## Split trial into separate passes"
   ]
  },
  {
   "cell_type": "code",
   "execution_count": 5,
   "metadata": {},
   "outputs": [],
   "source": [
    "# Convert all position vectors to float type\n",
    "# so they can be easily input to linear algebra functions\n",
    "df_head_feet = df_head_feet.applymap(pd.to_numeric)\n",
    "\n",
    "# Cluster frames with k means to locate the 4 walking passes\n",
    "frames = df_head_feet.index.values.reshape(-1, 1)\n",
    "k_means = KMeans(n_clusters=4, random_state=0).fit(frames)\n",
    "\n",
    "# Sort labels so that the frames are in temporal order\n",
    "labels = gen.map_sort(k_means.labels_)\n",
    "\n",
    "# DataFrames for each walking pass in a trial\n",
    "pass_dfs = gen.group_by_label(df_head_feet, labels)"
   ]
  },
  {
   "cell_type": "code",
   "execution_count": 6,
   "metadata": {},
   "outputs": [],
   "source": [
    "df_pass = list(pass_dfs)[0]"
   ]
  },
  {
   "cell_type": "code",
   "execution_count": 7,
   "metadata": {},
   "outputs": [],
   "source": [
    "frames = df_pass.index.values"
   ]
  },
  {
   "cell_type": "code",
   "execution_count": 8,
   "metadata": {},
   "outputs": [],
   "source": [
    "_, direction_pass = gm.direction_of_pass(df_pass)\n",
    "\n",
    "# Assign correct sides to feet\n",
    "df_assigned = asi.assign_sides_pass(df_pass, direction_pass)"
   ]
  },
  {
   "cell_type": "markdown",
   "metadata": {},
   "source": [
    "## Detect phases"
   ]
  },
  {
   "cell_type": "code",
   "execution_count": 9,
   "metadata": {},
   "outputs": [],
   "source": [
    "signal_l = gm.foot_signal(df_assigned.L_FOOT, df_assigned.R_FOOT, direction_pass)"
   ]
  },
  {
   "cell_type": "code",
   "execution_count": 10,
   "metadata": {},
   "outputs": [],
   "source": [
    "frames_interest = pde.frames_of_interest(signal_l)\n",
    "step_signal = pde.get_step_signal(df_assigned.L_FOOT, direction_pass)\n",
    "\n",
    "frame_phases = pde.detect_phases(step_signal, frames_interest)\n",
    "df_phase = pde.get_phase_dataframe(frame_phases)"
   ]
  },
  {
   "cell_type": "code",
   "execution_count": null,
   "metadata": {},
   "outputs": [],
   "source": []
  },
  {
   "cell_type": "code",
   "execution_count": null,
   "metadata": {},
   "outputs": [],
   "source": []
  }
 ],
 "metadata": {
  "kernelspec": {
   "display_name": "Python 3",
   "language": "python",
   "name": "python3"
  },
  "language_info": {
   "codemirror_mode": {
    "name": "ipython",
    "version": 3
   },
   "file_extension": ".py",
   "mimetype": "text/x-python",
   "name": "python",
   "nbconvert_exporter": "python",
   "pygments_lexer": "ipython3",
   "version": "3.6.6"
  }
 },
 "nbformat": 4,
 "nbformat_minor": 2
}
