{
 "cells": [
  {
   "cell_type": "code",
   "execution_count": 1,
   "metadata": {},
   "outputs": [],
   "source": [
    "import os\n",
    "import glob\n",
    "\n",
    "import numpy as np\n",
    "import pandas as pd\n",
    "import matplotlib.pyplot as plt\n",
    "from toolz import compose\n",
    "from numpy.linalg import norm\n",
    "from sklearn.cluster import KMeans\n",
    "from scipy.stats import linregress\n",
    "from mpl_toolkits.mplot3d import Axes3D\n",
    "\n",
    "\n",
    "import sys\n",
    "sys.path.append('..')\n",
    "\n",
    "import modules.plotting as pl\n",
    "import modules.signals as sig\n",
    "import modules.numpy_funcs as nf\n",
    "import modules.pandas_funcs as pf\n",
    "import modules.gait_metrics as gm\n",
    "import modules.assign_sides as asi\n",
    "import modules.sliding_window as sw\n",
    "import modules.iterable_funcs as itf\n",
    "import modules.linear_algebra as lin\n",
    "import modules.phase_detection as pde"
   ]
  },
  {
   "cell_type": "code",
   "execution_count": 2,
   "metadata": {},
   "outputs": [],
   "source": [
    "file_name = '2014-12-08_P004_Post_004'"
   ]
  },
  {
   "cell_type": "code",
   "execution_count": 3,
   "metadata": {},
   "outputs": [],
   "source": [
    "best_pos_dir = os.path.join('..', 'data', 'kinect', 'best pos')\n",
    "hypo_dir = os.path.join('..', 'data', 'kinect', 'processed', 'hypothesis')\n",
    "\n",
    "hypo_paths = glob.glob(os.path.join(hypo_dir, '*.pkl'))\n",
    "best_pos_paths = glob.glob(os.path.join(best_pos_dir, '*.pkl'))\n",
    "\n",
    "hypo_paths = [x for x in hypo_paths if file_name in x]\n",
    "best_pos_paths = [x for x in best_pos_paths if file_name in x]\n",
    "\n",
    "df_hypo = pd.read_pickle(hypo_paths[0])\n",
    "df_best_pos = pd.read_pickle(best_pos_paths[0])"
   ]
  },
  {
   "cell_type": "markdown",
   "metadata": {},
   "source": [
    "## Split trial into separate passes"
   ]
  },
  {
   "cell_type": "code",
   "execution_count": 4,
   "metadata": {},
   "outputs": [],
   "source": [
    "# Convert all position vectors to float type\n",
    "# so they can be easily input to linear algebra functions\n",
    "df_best_pos = df_best_pos.applymap(pd.to_numeric)\n",
    "\n",
    "# Cluster frames with k means to locate the 4 walking passes\n",
    "frames = df_best_pos.index.values.reshape(-1, 1)\n",
    "k_means = KMeans(n_clusters=4, random_state=0).fit(frames)\n",
    "\n",
    "# Sort labels so that the frames are in temporal order\n",
    "labels = itf.map_sort(k_means.labels_)\n",
    "\n",
    "# DataFrames for each walking pass in a trial\n",
    "pass_dfs = nf.group_by_label(df_best_pos, labels)"
   ]
  },
  {
   "cell_type": "code",
   "execution_count": 5,
   "metadata": {},
   "outputs": [],
   "source": [
    "df_pass = list(pass_dfs)[0]"
   ]
  },
  {
   "cell_type": "code",
   "execution_count": 6,
   "metadata": {},
   "outputs": [],
   "source": [
    "frames = df_pass.index.values"
   ]
  },
  {
   "cell_type": "code",
   "execution_count": 7,
   "metadata": {},
   "outputs": [],
   "source": [
    "_, direction_pass = gm.direction_of_pass(df_pass)\n",
    "\n",
    "# Assign correct sides to feet\n",
    "df_assigned = asi.assign_sides_pass(df_pass, direction_pass)"
   ]
  },
  {
   "cell_type": "markdown",
   "metadata": {},
   "source": [
    "## Detect phases"
   ]
  },
  {
   "cell_type": "code",
   "execution_count": 8,
   "metadata": {},
   "outputs": [],
   "source": [
    "signal_l = gm.foot_signal(df_assigned.L_FOOT, df_assigned.R_FOOT, direction_pass)\n",
    "\n",
    "frames_interest = pde.frames_of_interest(signal_l)\n"
   ]
  },
  {
   "cell_type": "code",
   "execution_count": 9,
   "metadata": {},
   "outputs": [],
   "source": [
    "df_phase_l = pde.foot_phases(frames_interest, direction_pass, df_assigned.L_FOOT)\n",
    "df_phase_r = pde.foot_phases(frames_interest, direction_pass, df_assigned.R_FOOT)"
   ]
  },
  {
   "cell_type": "markdown",
   "metadata": {},
   "source": [
    "## Calculate gait metrics"
   ]
  },
  {
   "cell_type": "code",
   "execution_count": 10,
   "metadata": {},
   "outputs": [],
   "source": [
    "df_grouped_l = pde.group_stance_frames(df_phase_l, '_L')\n",
    "df_grouped_r = pde.group_stance_frames(df_phase_r, '_R')\n"
   ]
  },
  {
   "cell_type": "code",
   "execution_count": 11,
   "metadata": {},
   "outputs": [],
   "source": [
    "df_concat = pd.concat([df_grouped_l, df_grouped_r]).sort_values('frame').reset_index()\n",
    "df_contact = pf.split_column(df_concat, column='index', delim='_', new_columns=['number', 'side'])"
   ]
  },
  {
   "cell_type": "code",
   "execution_count": 12,
   "metadata": {},
   "outputs": [],
   "source": [
    "df_gait = gm.foot_contacts_to_gait(df_contact)"
   ]
  },
  {
   "cell_type": "code",
   "execution_count": 13,
   "metadata": {},
   "outputs": [],
   "source": [
    "df_gait = pf.column_to_suffixes(df_gait, groupby_col='side', merge_col='number')"
   ]
  },
  {
   "cell_type": "code",
   "execution_count": 14,
   "metadata": {},
   "outputs": [
    {
     "data": {
      "text/html": [
       "<div>\n",
       "<style scoped>\n",
       "    .dataframe tbody tr th:only-of-type {\n",
       "        vertical-align: middle;\n",
       "    }\n",
       "\n",
       "    .dataframe tbody tr th {\n",
       "        vertical-align: top;\n",
       "    }\n",
       "\n",
       "    .dataframe thead th {\n",
       "        text-align: right;\n",
       "    }\n",
       "</style>\n",
       "<table border=\"1\" class=\"dataframe\">\n",
       "  <thead>\n",
       "    <tr style=\"text-align: right;\">\n",
       "      <th></th>\n",
       "      <th>absolute_step_length_L</th>\n",
       "      <th>absolute_step_length_R</th>\n",
       "      <th>step_length_L</th>\n",
       "      <th>step_length_R</th>\n",
       "      <th>step_time_L</th>\n",
       "      <th>step_time_R</th>\n",
       "      <th>stride_length_L</th>\n",
       "      <th>stride_length_R</th>\n",
       "      <th>stride_time_L</th>\n",
       "      <th>stride_time_R</th>\n",
       "      <th>stride_velocity_L</th>\n",
       "      <th>stride_velocity_R</th>\n",
       "      <th>stride_width_L</th>\n",
       "      <th>stride_width_R</th>\n",
       "    </tr>\n",
       "    <tr>\n",
       "      <th>number</th>\n",
       "      <th></th>\n",
       "      <th></th>\n",
       "      <th></th>\n",
       "      <th></th>\n",
       "      <th></th>\n",
       "      <th></th>\n",
       "      <th></th>\n",
       "      <th></th>\n",
       "      <th></th>\n",
       "      <th></th>\n",
       "      <th></th>\n",
       "      <th></th>\n",
       "      <th></th>\n",
       "      <th></th>\n",
       "    </tr>\n",
       "  </thead>\n",
       "  <tbody>\n",
       "    <tr>\n",
       "      <th>0</th>\n",
       "      <td>48.274148</td>\n",
       "      <td>40.126258</td>\n",
       "      <td>47.637915</td>\n",
       "      <td>39.081640</td>\n",
       "      <td>0.533333</td>\n",
       "      <td>0.400000</td>\n",
       "      <td>90.617329</td>\n",
       "      <td>86.491042</td>\n",
       "      <td>0.950000</td>\n",
       "      <td>0.933333</td>\n",
       "      <td>95.386662</td>\n",
       "      <td>92.668974</td>\n",
       "      <td>7.811684</td>\n",
       "      <td>9.096260</td>\n",
       "    </tr>\n",
       "    <tr>\n",
       "      <th>1</th>\n",
       "      <td>39.887085</td>\n",
       "      <td>36.417517</td>\n",
       "      <td>38.832927</td>\n",
       "      <td>34.682605</td>\n",
       "      <td>0.800000</td>\n",
       "      <td>0.583333</td>\n",
       "      <td>77.911480</td>\n",
       "      <td>72.992226</td>\n",
       "      <td>1.200000</td>\n",
       "      <td>1.383333</td>\n",
       "      <td>64.926233</td>\n",
       "      <td>52.765464</td>\n",
       "      <td>9.109515</td>\n",
       "      <td>11.106415</td>\n",
       "    </tr>\n",
       "    <tr>\n",
       "      <th>2</th>\n",
       "      <td>37.774028</td>\n",
       "      <td>NaN</td>\n",
       "      <td>35.316038</td>\n",
       "      <td>NaN</td>\n",
       "      <td>0.450000</td>\n",
       "      <td>NaN</td>\n",
       "      <td>69.177238</td>\n",
       "      <td>NaN</td>\n",
       "      <td>1.033333</td>\n",
       "      <td>NaN</td>\n",
       "      <td>66.945714</td>\n",
       "      <td>NaN</td>\n",
       "      <td>13.403532</td>\n",
       "      <td>NaN</td>\n",
       "    </tr>\n",
       "  </tbody>\n",
       "</table>\n",
       "</div>"
      ],
      "text/plain": [
       "        absolute_step_length_L  absolute_step_length_R  step_length_L  \\\n",
       "number                                                                  \n",
       "0                    48.274148               40.126258      47.637915   \n",
       "1                    39.887085               36.417517      38.832927   \n",
       "2                    37.774028                     NaN      35.316038   \n",
       "\n",
       "        step_length_R  step_time_L  step_time_R  stride_length_L  \\\n",
       "number                                                             \n",
       "0           39.081640     0.533333     0.400000        90.617329   \n",
       "1           34.682605     0.800000     0.583333        77.911480   \n",
       "2                 NaN     0.450000          NaN        69.177238   \n",
       "\n",
       "        stride_length_R  stride_time_L  stride_time_R  stride_velocity_L  \\\n",
       "number                                                                     \n",
       "0             86.491042       0.950000       0.933333          95.386662   \n",
       "1             72.992226       1.200000       1.383333          64.926233   \n",
       "2                   NaN       1.033333            NaN          66.945714   \n",
       "\n",
       "        stride_velocity_R  stride_width_L  stride_width_R  \n",
       "number                                                     \n",
       "0               92.668974        7.811684        9.096260  \n",
       "1               52.765464        9.109515       11.106415  \n",
       "2                     NaN       13.403532             NaN  "
      ]
     },
     "execution_count": 14,
     "metadata": {},
     "output_type": "execute_result"
    }
   ],
   "source": [
    "df_gait"
   ]
  },
  {
   "cell_type": "code",
   "execution_count": null,
   "metadata": {},
   "outputs": [],
   "source": []
  }
 ],
 "metadata": {
  "kernelspec": {
   "display_name": "Python 3",
   "language": "python",
   "name": "python3"
  },
  "language_info": {
   "codemirror_mode": {
    "name": "ipython",
    "version": 3
   },
   "file_extension": ".py",
   "mimetype": "text/x-python",
   "name": "python",
   "nbconvert_exporter": "python",
   "pygments_lexer": "ipython3",
   "version": "3.6.6"
  }
 },
 "nbformat": 4,
 "nbformat_minor": 2
}
