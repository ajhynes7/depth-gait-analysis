{
 "cells": [
  {
   "cell_type": "code",
   "execution_count": 2,
   "metadata": {},
   "outputs": [],
   "source": [
    "import os\n",
    "import glob\n",
    "\n",
    "import pandas as pd\n",
    "import numpy as np\n",
    "from sklearn.cluster import KMeans\n",
    "\n",
    "import modules.gait_metrics as gm\n",
    "import modules.pose_estimation as pe\n",
    "\n",
    "\n",
    "load_dir = os.path.join('data', 'kinect', 'best pos')\n",
    "save_dir = os.path.join('data', 'results')\n",
    "\n",
    "save_name = 'kinect_gait_metrics.csv'\n",
    "\n",
    "# All files with .pkl extension\n",
    "file_paths = glob.glob(os.path.join(load_dir, '*.pkl'))\n",
    "save_path = os.path.join(save_dir, save_name)\n",
    "\n",
    "df_metrics = pd.read_csv(save_path, index_col=0)\n",
    "\n",
    "\n",
    "kinect_id = '2014-12-16_P005_Post_004'\n",
    "\n",
    "matching_files = [f for f in file_paths if kinect_id in f]\n",
    "\n",
    "for file_path in matching_files:\n",
    "\n",
    "    df_head_feet = pd.read_pickle(file_path)\n",
    "    \n",
    "    # Convert all position vectors to float type \n",
    "    # so they can be easily input to linear algebra functions\n",
    "    df_head_feet = df_head_feet.applymap(pd.to_numeric)\n",
    "\n",
    "    # %% Peak detection\n",
    "\n",
    "    # Cluster frames with k means to locate the 4 walking passes\n",
    "    frames = df_head_feet.index.values.reshape(-1, 1)\n",
    "    k_means = KMeans(n_clusters=4, random_state=0).fit(frames)\n",
    "\n",
    "    foot_diff = df_head_feet.L_FOOT - df_head_feet.R_FOOT\n",
    "    foot_dist = foot_diff.apply(np.linalg.norm)\n",
    "\n"
   ]
  },
  {
   "cell_type": "code",
   "execution_count": 11,
   "metadata": {},
   "outputs": [],
   "source": [
    "frame_rate = 30"
   ]
  },
  {
   "cell_type": "code",
   "execution_count": 3,
   "metadata": {},
   "outputs": [],
   "source": [
    "import modules.general as gen\n",
    "\n",
    "frame_labels = k_means.labels_\n",
    "\n",
    "pass_dfs = gm.split_by_pass(df_head_feet, frame_labels)"
   ]
  },
  {
   "cell_type": "code",
   "execution_count": 4,
   "metadata": {},
   "outputs": [],
   "source": [
    "# Enforce consistent sides for the feet on all walking passes. \n",
    "# Also calculate the general direction of motion for each pass.\n",
    "pass_dfs, pass_directions = zip(*[pe.consistent_sides(df) for df in pass_dfs])"
   ]
  },
  {
   "cell_type": "code",
   "execution_count": 5,
   "metadata": {},
   "outputs": [],
   "source": [
    "# Estimate frames where foot contacts floor\n",
    "pass_dfs_contact = [gm.foot_contacts(a, b) for a, b in zip(pass_dfs, pass_directions)]"
   ]
  },
  {
   "cell_type": "code",
   "execution_count": 9,
   "metadata": {},
   "outputs": [],
   "source": [
    "df_contact_frames = pass_dfs_contact[0]"
   ]
  },
  {
   "cell_type": "code",
   "execution_count": 10,
   "metadata": {},
   "outputs": [],
   "source": [
    "# Foot positions at the contact frames\n",
    "df_contact_pos = gen.lookup_values(df_contact_frames, df_head_feet)"
   ]
  },
  {
   "cell_type": "code",
   "execution_count": 12,
   "metadata": {},
   "outputs": [],
   "source": [
    "df_stride_length = df_contact_pos.diff(periods=-1).applymap(np.linalg.norm)"
   ]
  },
  {
   "cell_type": "code",
   "execution_count": 13,
   "metadata": {},
   "outputs": [],
   "source": [
    "df_stride_time = abs(df_contact_frames.diff(periods=-1)) / 30"
   ]
  },
  {
   "cell_type": "code",
   "execution_count": 14,
   "metadata": {},
   "outputs": [],
   "source": [
    "df_stride_velocity = df_stride_length / df_stride_time"
   ]
  },
  {
   "cell_type": "code",
   "execution_count": 15,
   "metadata": {},
   "outputs": [],
   "source": [
    "series_contact = df_contact_frames.stack().sort_values()"
   ]
  },
  {
   "cell_type": "code",
   "execution_count": 16,
   "metadata": {},
   "outputs": [],
   "source": [
    "df_contact = series_contact.reset_index()\n",
    "df_contact.columns = ['Contact number', 'Part', 'Frame']"
   ]
  },
  {
   "cell_type": "code",
   "execution_count": 17,
   "metadata": {},
   "outputs": [
    {
     "data": {
      "text/html": [
       "<div>\n",
       "<style scoped>\n",
       "    .dataframe tbody tr th:only-of-type {\n",
       "        vertical-align: middle;\n",
       "    }\n",
       "\n",
       "    .dataframe tbody tr th {\n",
       "        vertical-align: top;\n",
       "    }\n",
       "\n",
       "    .dataframe thead th {\n",
       "        text-align: right;\n",
       "    }\n",
       "</style>\n",
       "<table border=\"1\" class=\"dataframe\">\n",
       "  <thead>\n",
       "    <tr style=\"text-align: right;\">\n",
       "      <th></th>\n",
       "      <th>Contact number</th>\n",
       "      <th>Part</th>\n",
       "      <th>Frame</th>\n",
       "    </tr>\n",
       "  </thead>\n",
       "  <tbody>\n",
       "    <tr>\n",
       "      <th>0</th>\n",
       "      <td>0</td>\n",
       "      <td>R_FOOT</td>\n",
       "      <td>234.0</td>\n",
       "    </tr>\n",
       "    <tr>\n",
       "      <th>1</th>\n",
       "      <td>0</td>\n",
       "      <td>L_FOOT</td>\n",
       "      <td>246.0</td>\n",
       "    </tr>\n",
       "    <tr>\n",
       "      <th>2</th>\n",
       "      <td>1</td>\n",
       "      <td>R_FOOT</td>\n",
       "      <td>262.0</td>\n",
       "    </tr>\n",
       "  </tbody>\n",
       "</table>\n",
       "</div>"
      ],
      "text/plain": [
       "   Contact number    Part  Frame\n",
       "0               0  R_FOOT  234.0\n",
       "1               0  L_FOOT  246.0\n",
       "2               1  R_FOOT  262.0"
      ]
     },
     "execution_count": 17,
     "metadata": {},
     "output_type": "execute_result"
    }
   ],
   "source": [
    "df_contact"
   ]
  },
  {
   "cell_type": "code",
   "execution_count": 18,
   "metadata": {},
   "outputs": [
    {
     "data": {
      "text/html": [
       "<div>\n",
       "<style scoped>\n",
       "    .dataframe tbody tr th:only-of-type {\n",
       "        vertical-align: middle;\n",
       "    }\n",
       "\n",
       "    .dataframe tbody tr th {\n",
       "        vertical-align: top;\n",
       "    }\n",
       "\n",
       "    .dataframe thead th {\n",
       "        text-align: right;\n",
       "    }\n",
       "</style>\n",
       "<table border=\"1\" class=\"dataframe\">\n",
       "  <thead>\n",
       "    <tr style=\"text-align: right;\">\n",
       "      <th></th>\n",
       "      <th>L_FOOT</th>\n",
       "      <th>R_FOOT</th>\n",
       "    </tr>\n",
       "  </thead>\n",
       "  <tbody>\n",
       "    <tr>\n",
       "      <th>0</th>\n",
       "      <td>[-18.4634, -63.777, 250.636]</td>\n",
       "      <td>[-79.2984, -59.659, 254.924]</td>\n",
       "    </tr>\n",
       "    <tr>\n",
       "      <th>1</th>\n",
       "      <td>NaN</td>\n",
       "      <td>[40.0823, -63.9547, 263.324]</td>\n",
       "    </tr>\n",
       "  </tbody>\n",
       "</table>\n",
       "</div>"
      ],
      "text/plain": [
       "                         L_FOOT                        R_FOOT\n",
       "0  [-18.4634, -63.777, 250.636]  [-79.2984, -59.659, 254.924]\n",
       "1                           NaN  [40.0823, -63.9547, 263.324]"
      ]
     },
     "execution_count": 18,
     "metadata": {},
     "output_type": "execute_result"
    }
   ],
   "source": [
    "df_contact_pos"
   ]
  },
  {
   "cell_type": "code",
   "execution_count": null,
   "metadata": {},
   "outputs": [],
   "source": []
  }
 ],
 "metadata": {
  "kernelspec": {
   "display_name": "Python 3",
   "language": "python",
   "name": "python3"
  },
  "language_info": {
   "codemirror_mode": {
    "name": "ipython",
    "version": 3
   },
   "file_extension": ".py",
   "mimetype": "text/x-python",
   "name": "python",
   "nbconvert_exporter": "python",
   "pygments_lexer": "ipython3",
   "version": "3.6.4"
  }
 },
 "nbformat": 4,
 "nbformat_minor": 2
}
