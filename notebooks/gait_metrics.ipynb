{
 "cells": [
  {
   "cell_type": "code",
   "execution_count": 2,
   "metadata": {},
   "outputs": [],
   "source": [
    "import os\n",
    "import glob\n",
    "\n",
    "import pandas as pd\n",
    "import numpy as np\n",
    "from sklearn.cluster import KMeans\n",
    "\n",
    "import modules.gait_metrics as gm\n",
    "import modules.pose_estimation as pe\n",
    "\n",
    "\n",
    "load_dir = os.path.join('data', 'kinect', 'best pos')\n",
    "save_dir = os.path.join('data', 'results')\n",
    "\n",
    "save_name = 'kinect_gait_metrics.csv'\n",
    "\n",
    "# All files with .pkl extension\n",
    "file_paths = glob.glob(os.path.join(load_dir, '*.pkl'))\n",
    "save_path = os.path.join(save_dir, save_name)\n",
    "\n",
    "df_metrics = pd.read_csv(save_path, index_col=0)\n",
    "\n",
    "\n",
    "kinect_id = '2014-12-16_P005_Post_004'\n",
    "\n",
    "matching_files = [f for f in file_paths if kinect_id in f]\n",
    "\n",
    "for file_path in matching_files:\n",
    "\n",
    "    df_head_feet = pd.read_pickle(file_path)\n",
    "    \n",
    "    # Convert all position vectors to float type \n",
    "    # so they can be easily input to linear algebra functions\n",
    "    df_head_feet = df_head_feet.applymap(pd.to_numeric)\n",
    "\n",
    "    # %% Peak detection\n",
    "\n",
    "    # Cluster frames with k means to locate the 4 walking passes\n",
    "    frames = df_head_feet.index.values.reshape(-1, 1)\n",
    "    k_means = KMeans(n_clusters=4, random_state=0).fit(frames)\n",
    "\n",
    "    foot_diff = df_head_feet.L_FOOT - df_head_feet.R_FOOT\n",
    "    foot_dist = foot_diff.apply(np.linalg.norm)\n",
    "\n"
   ]
  },
  {
   "cell_type": "code",
   "execution_count": 11,
   "metadata": {},
   "outputs": [],
   "source": [
    "frame_rate = 30"
   ]
  },
  {
   "cell_type": "code",
   "execution_count": 3,
   "metadata": {},
   "outputs": [],
   "source": [
    "import modules.general as gen\n",
    "\n",
    "frame_labels = k_means.labels_\n",
    "\n",
    "pass_dfs = gm.split_by_pass(df_head_feet, frame_labels)"
   ]
  },
  {
   "cell_type": "code",
   "execution_count": 4,
   "metadata": {},
   "outputs": [],
   "source": [
    "# Enforce consistent sides for the feet on all walking passes. \n",
    "# Also calculate the general direction of motion for each pass.\n",
    "pass_dfs, pass_directions = zip(*[pe.consistent_sides(df) for df in pass_dfs])"
   ]
  },
  {
   "cell_type": "code",
   "execution_count": 5,
   "metadata": {},
   "outputs": [],
   "source": [
    "# Estimate frames where foot contacts floor\n",
    "pass_dfs_contact = [gm.foot_contacts(a, b) for a, b in zip(pass_dfs, pass_directions)]"
   ]
  },
  {
   "cell_type": "code",
   "execution_count": 9,
   "metadata": {},
   "outputs": [],
   "source": [
    "df_contact_frames = pass_dfs_contact[0]"
   ]
  },
  {
   "cell_type": "code",
   "execution_count": 10,
   "metadata": {},
   "outputs": [],
   "source": [
    "# Foot positions at the contact frames\n",
    "df_contact_pos = gen.lookup_values(df_contact_frames, df_head_feet)"
   ]
  },
  {
   "cell_type": "code",
   "execution_count": 12,
   "metadata": {},
   "outputs": [],
   "source": [
    "df_stride_length = df_contact_pos.diff(periods=-1).applymap(np.linalg.norm)"
   ]
  },
  {
   "cell_type": "code",
   "execution_count": 13,
   "metadata": {},
   "outputs": [],
   "source": [
    "df_stride_time = abs(df_contact_frames.diff(periods=-1)) / 30"
   ]
  },
  {
   "cell_type": "code",
   "execution_count": 14,
   "metadata": {},
   "outputs": [],
   "source": [
    "df_stride_velocity = df_stride_length / df_stride_time"
   ]
  },
  {
   "cell_type": "code",
   "execution_count": 96,
   "metadata": {},
   "outputs": [],
   "source": [
    "series_contact = df_contact_frames.stack().sort_values().astype(int)"
   ]
  },
  {
   "cell_type": "code",
   "execution_count": 148,
   "metadata": {},
   "outputs": [],
   "source": [
    "df_contact = series_contact.reset_index()\n",
    "df_contact.columns = ['contact_number', 'part', 'frame']"
   ]
  },
  {
   "cell_type": "code",
   "execution_count": 149,
   "metadata": {},
   "outputs": [],
   "source": [
    "import modules.pandas_funcs as pf\n",
    "\n",
    "df_contact = pf.column_from_lookup(df_contact, df_head_feet,\n",
    "                                column='position', lookup_cols=('frame', 'part'))"
   ]
  },
  {
   "cell_type": "code",
   "execution_count": 150,
   "metadata": {},
   "outputs": [
    {
     "data": {
      "text/html": [
       "<div>\n",
       "<style scoped>\n",
       "    .dataframe tbody tr th:only-of-type {\n",
       "        vertical-align: middle;\n",
       "    }\n",
       "\n",
       "    .dataframe tbody tr th {\n",
       "        vertical-align: top;\n",
       "    }\n",
       "\n",
       "    .dataframe thead th {\n",
       "        text-align: right;\n",
       "    }\n",
       "</style>\n",
       "<table border=\"1\" class=\"dataframe\">\n",
       "  <thead>\n",
       "    <tr style=\"text-align: right;\">\n",
       "      <th></th>\n",
       "      <th>contact_number</th>\n",
       "      <th>part</th>\n",
       "      <th>frame</th>\n",
       "      <th>position</th>\n",
       "    </tr>\n",
       "  </thead>\n",
       "  <tbody>\n",
       "    <tr>\n",
       "      <th>0</th>\n",
       "      <td>0</td>\n",
       "      <td>R_FOOT</td>\n",
       "      <td>234</td>\n",
       "      <td>[-79.2984, -59.659, 254.924]</td>\n",
       "    </tr>\n",
       "    <tr>\n",
       "      <th>1</th>\n",
       "      <td>0</td>\n",
       "      <td>L_FOOT</td>\n",
       "      <td>246</td>\n",
       "      <td>[-18.4634, -63.777, 250.636]</td>\n",
       "    </tr>\n",
       "    <tr>\n",
       "      <th>2</th>\n",
       "      <td>1</td>\n",
       "      <td>R_FOOT</td>\n",
       "      <td>262</td>\n",
       "      <td>[40.0823, -63.9547, 263.324]</td>\n",
       "    </tr>\n",
       "  </tbody>\n",
       "</table>\n",
       "</div>"
      ],
      "text/plain": [
       "   contact_number    part  frame                      position\n",
       "0               0  R_FOOT    234  [-79.2984, -59.659, 254.924]\n",
       "1               0  L_FOOT    246  [-18.4634, -63.777, 250.636]\n",
       "2               1  R_FOOT    262  [40.0823, -63.9547, 263.324]"
      ]
     },
     "execution_count": 150,
     "metadata": {},
     "output_type": "execute_result"
    }
   ],
   "source": [
    "df_contact"
   ]
  },
  {
   "cell_type": "code",
   "execution_count": 152,
   "metadata": {},
   "outputs": [],
   "source": [
    "df_foot = df_contact[df_contact.part == 'R_FOOT']"
   ]
  },
  {
   "cell_type": "code",
   "execution_count": 153,
   "metadata": {},
   "outputs": [],
   "source": [
    "df_l, df_r = [x for _, x in df_contact.groupby('part')]"
   ]
  },
  {
   "cell_type": "code",
   "execution_count": 154,
   "metadata": {},
   "outputs": [
    {
     "data": {
      "text/html": [
       "<div>\n",
       "<style scoped>\n",
       "    .dataframe tbody tr th:only-of-type {\n",
       "        vertical-align: middle;\n",
       "    }\n",
       "\n",
       "    .dataframe tbody tr th {\n",
       "        vertical-align: top;\n",
       "    }\n",
       "\n",
       "    .dataframe thead th {\n",
       "        text-align: right;\n",
       "    }\n",
       "</style>\n",
       "<table border=\"1\" class=\"dataframe\">\n",
       "  <thead>\n",
       "    <tr style=\"text-align: right;\">\n",
       "      <th></th>\n",
       "      <th>contact_number</th>\n",
       "      <th>part</th>\n",
       "      <th>frame</th>\n",
       "      <th>position</th>\n",
       "    </tr>\n",
       "  </thead>\n",
       "  <tbody>\n",
       "    <tr>\n",
       "      <th>1</th>\n",
       "      <td>0</td>\n",
       "      <td>L_FOOT</td>\n",
       "      <td>246</td>\n",
       "      <td>[-18.4634, -63.777, 250.636]</td>\n",
       "    </tr>\n",
       "  </tbody>\n",
       "</table>\n",
       "</div>"
      ],
      "text/plain": [
       "   contact_number    part  frame                      position\n",
       "1               0  L_FOOT    246  [-18.4634, -63.777, 250.636]"
      ]
     },
     "execution_count": 154,
     "metadata": {},
     "output_type": "execute_result"
    }
   ],
   "source": [
    "df_l"
   ]
  },
  {
   "cell_type": "code",
   "execution_count": 156,
   "metadata": {},
   "outputs": [],
   "source": [
    "stride_length_r = df_r.position.diff(periods=-1).apply(np.linalg.norm).to_frame()\n",
    "stride_length_r.columns = ['stride_length']"
   ]
  },
  {
   "cell_type": "code",
   "execution_count": 157,
   "metadata": {},
   "outputs": [
    {
     "data": {
      "text/html": [
       "<div>\n",
       "<style scoped>\n",
       "    .dataframe tbody tr th:only-of-type {\n",
       "        vertical-align: middle;\n",
       "    }\n",
       "\n",
       "    .dataframe tbody tr th {\n",
       "        vertical-align: top;\n",
       "    }\n",
       "\n",
       "    .dataframe thead th {\n",
       "        text-align: right;\n",
       "    }\n",
       "</style>\n",
       "<table border=\"1\" class=\"dataframe\">\n",
       "  <thead>\n",
       "    <tr style=\"text-align: right;\">\n",
       "      <th></th>\n",
       "      <th>contact_number</th>\n",
       "      <th>part</th>\n",
       "      <th>frame</th>\n",
       "      <th>position</th>\n",
       "      <th>stride_length</th>\n",
       "    </tr>\n",
       "  </thead>\n",
       "  <tbody>\n",
       "    <tr>\n",
       "      <th>0</th>\n",
       "      <td>0</td>\n",
       "      <td>R_FOOT</td>\n",
       "      <td>234</td>\n",
       "      <td>[-79.2984, -59.659, 254.924]</td>\n",
       "      <td>119.752931</td>\n",
       "    </tr>\n",
       "    <tr>\n",
       "      <th>2</th>\n",
       "      <td>1</td>\n",
       "      <td>R_FOOT</td>\n",
       "      <td>262</td>\n",
       "      <td>[40.0823, -63.9547, 263.324]</td>\n",
       "      <td>NaN</td>\n",
       "    </tr>\n",
       "  </tbody>\n",
       "</table>\n",
       "</div>"
      ],
      "text/plain": [
       "   contact_number    part  frame                      position  stride_length\n",
       "0               0  R_FOOT    234  [-79.2984, -59.659, 254.924]     119.752931\n",
       "2               1  R_FOOT    262  [40.0823, -63.9547, 263.324]            NaN"
      ]
     },
     "execution_count": 157,
     "metadata": {},
     "output_type": "execute_result"
    }
   ],
   "source": [
    "df_contact.merge(stride_length_r, left_index=True, right_index=True)"
   ]
  },
  {
   "cell_type": "code",
   "execution_count": 168,
   "metadata": {},
   "outputs": [],
   "source": [
    "df_foot = df_contact.copy()\n",
    "\n",
    "df_foot.columns = df_foot.columns.str.lower()\n",
    "df_foot['side'] = df_foot.part.str[0]\n",
    "\n",
    "df_foot = df_foot.drop('part', axis=1)"
   ]
  },
  {
   "cell_type": "code",
   "execution_count": 169,
   "metadata": {},
   "outputs": [
    {
     "data": {
      "text/html": [
       "<div>\n",
       "<style scoped>\n",
       "    .dataframe tbody tr th:only-of-type {\n",
       "        vertical-align: middle;\n",
       "    }\n",
       "\n",
       "    .dataframe tbody tr th {\n",
       "        vertical-align: top;\n",
       "    }\n",
       "\n",
       "    .dataframe thead th {\n",
       "        text-align: right;\n",
       "    }\n",
       "</style>\n",
       "<table border=\"1\" class=\"dataframe\">\n",
       "  <thead>\n",
       "    <tr style=\"text-align: right;\">\n",
       "      <th></th>\n",
       "      <th>contact_number</th>\n",
       "      <th>frame</th>\n",
       "      <th>position</th>\n",
       "      <th>side</th>\n",
       "    </tr>\n",
       "  </thead>\n",
       "  <tbody>\n",
       "    <tr>\n",
       "      <th>0</th>\n",
       "      <td>0</td>\n",
       "      <td>234</td>\n",
       "      <td>[-79.2984, -59.659, 254.924]</td>\n",
       "      <td>R</td>\n",
       "    </tr>\n",
       "    <tr>\n",
       "      <th>1</th>\n",
       "      <td>0</td>\n",
       "      <td>246</td>\n",
       "      <td>[-18.4634, -63.777, 250.636]</td>\n",
       "      <td>L</td>\n",
       "    </tr>\n",
       "    <tr>\n",
       "      <th>2</th>\n",
       "      <td>1</td>\n",
       "      <td>262</td>\n",
       "      <td>[40.0823, -63.9547, 263.324]</td>\n",
       "      <td>R</td>\n",
       "    </tr>\n",
       "  </tbody>\n",
       "</table>\n",
       "</div>"
      ],
      "text/plain": [
       "   contact_number  frame                      position side\n",
       "0               0    234  [-79.2984, -59.659, 254.924]    R\n",
       "1               0    246  [-18.4634, -63.777, 250.636]    L\n",
       "2               1    262  [40.0823, -63.9547, 263.324]    R"
      ]
     },
     "execution_count": 169,
     "metadata": {},
     "output_type": "execute_result"
    }
   ],
   "source": [
    "df_foot"
   ]
  },
  {
   "cell_type": "code",
   "execution_count": 183,
   "metadata": {},
   "outputs": [],
   "source": [
    "a, b, c = [x for x in df_foot.itertuples(index=False, name='Foot')]"
   ]
  },
  {
   "cell_type": "code",
   "execution_count": 216,
   "metadata": {},
   "outputs": [],
   "source": [
    "from numpy.linalg import norm\n",
    "\n",
    "\n",
    "def is_stride(foot_a0, foot_b0, foot_a1):\n",
    "    \n",
    "    a_a_same_side = foot_a0.side == foot_a1.side\n",
    "    \n",
    "    a_a_consecutive_contacts = foot_a0.contact_number == foot_a1.contact_number - 1\n",
    "    \n",
    "    a_b_same_contacts = foot_a0.contact_number == foot_b0.contact_number\n",
    "    \n",
    "    # Verify that foot A and B are on different sides.\n",
    "    a_b_different_side = foot_a0.side != foot_b0.side\n",
    "    \n",
    "    tests = [a_a_same_side, a_a_consecutive_contacts, \n",
    "             a_b_same_contacts, a_b_different_side]\n",
    "    \n",
    "    return np.all(tests)\n",
    "\n",
    "\n",
    "def is_step(foot_a0, foot_b0, foot_a1):\n",
    "    \n",
    "    # Verify that the A feet compose a stride\n",
    "    a_is_stride = is_stride(foot_a0, foot_a1)\n",
    "    \n",
    "    # Verify that foot A and B are on different sides.\n",
    "    a_b_different = foot_a0.side != foot_b0.side\n",
    "    \n",
    "    return a_is_stride and a_b_different\n",
    "    \n",
    "\n",
    "def stride_length(foot_0, foot_1):\n",
    "    \n",
    "    assert is_stride(foot_0, foot_1)\n",
    "        \n",
    "    return norm(foot_0.position - foot_1.position)\n",
    "    \n",
    "\n",
    "def stride_time(foot_0, foot_1, frame_rate=30):\n",
    "    \n",
    "    assert is_stride(foot_0, foot_1)\n",
    "    \n",
    "    return (foot_1.frame - foot_0.frame) / frame_rate  \n",
    "\n",
    "\n",
    "def stride_velocity(foot_0, foot_1, frame_rate=30):\n",
    "    \n",
    "    return stride_length(foot_0, foot_1) / stride_time(foot_0, foot_1, frame_rate=frame_rate)\n",
    "\n",
    "\n",
    "def step_length(foot_a0, foot_b0, foot_a1):\n",
    "    \n",
    "    assert is_step(foot_a0, foot_b0, foot_a1)\n",
    "    \n",
    "    lin.proj_point_line(self.stance, foot_a0, foot_a1)"
   ]
  },
  {
   "cell_type": "code",
   "execution_count": 215,
   "metadata": {},
   "outputs": [
    {
     "data": {
      "text/plain": [
       "128.30671217888644"
      ]
     },
     "execution_count": 215,
     "metadata": {},
     "output_type": "execute_result"
    }
   ],
   "source": [
    "stride_velocity(a, c, frame_rate=30)"
   ]
  },
  {
   "cell_type": "code",
   "execution_count": 217,
   "metadata": {},
   "outputs": [
    {
     "data": {
      "text/plain": [
       "True"
      ]
     },
     "execution_count": 217,
     "metadata": {},
     "output_type": "execute_result"
    }
   ],
   "source": [
    "is_step(a, b, c)"
   ]
  },
  {
   "cell_type": "code",
   "execution_count": 218,
   "metadata": {},
   "outputs": [
    {
     "data": {
      "text/plain": [
       "Foot(contact_number=0, frame=234, position=array([-79.2984, -59.659 , 254.924 ]), side='R')"
      ]
     },
     "execution_count": 218,
     "metadata": {},
     "output_type": "execute_result"
    }
   ],
   "source": [
    "a"
   ]
  },
  {
   "cell_type": "code",
   "execution_count": 219,
   "metadata": {},
   "outputs": [
    {
     "data": {
      "text/plain": [
       "Foot(contact_number=0, frame=246, position=array([-18.4634, -63.777 , 250.636 ]), side='L')"
      ]
     },
     "execution_count": 219,
     "metadata": {},
     "output_type": "execute_result"
    }
   ],
   "source": [
    "b"
   ]
  },
  {
   "cell_type": "code",
   "execution_count": 220,
   "metadata": {},
   "outputs": [
    {
     "data": {
      "text/plain": [
       "Foot(contact_number=1, frame=262, position=array([ 40.0823, -63.9547, 263.324 ]), side='R')"
      ]
     },
     "execution_count": 220,
     "metadata": {},
     "output_type": "execute_result"
    }
   ],
   "source": [
    "c"
   ]
  },
  {
   "cell_type": "code",
   "execution_count": null,
   "metadata": {},
   "outputs": [],
   "source": []
  }
 ],
 "metadata": {
  "kernelspec": {
   "display_name": "Python 3",
   "language": "python",
   "name": "python3"
  },
  "language_info": {
   "codemirror_mode": {
    "name": "ipython",
    "version": 3
   },
   "file_extension": ".py",
   "mimetype": "text/x-python",
   "name": "python",
   "nbconvert_exporter": "python",
   "pygments_lexer": "ipython3",
   "version": "3.6.4"
  }
 },
 "nbformat": 4,
 "nbformat_minor": 2
}
