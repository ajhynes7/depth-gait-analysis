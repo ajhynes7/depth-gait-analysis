{
 "cells": [
  {
   "cell_type": "code",
   "execution_count": 1,
   "metadata": {},
   "outputs": [],
   "source": [
    "import os\n",
    "import glob\n",
    "\n",
    "import pandas as pd\n",
    "import numpy as np\n",
    "from sklearn.cluster import KMeans\n",
    "\n",
    "import sys\n",
    "sys.path.append('..')\n",
    "\n",
    "import modules.gait_metrics as gm\n",
    "import modules.pose_estimation as pe\n",
    "\n",
    "\n",
    "load_dir = os.path.join('..', 'data', 'kinect', 'best pos')\n",
    "save_dir = os.path.join('..', 'data', 'results')\n",
    "\n",
    "save_name = 'kinect_gait_metrics.csv'\n",
    "\n",
    "# All files with .pkl extension\n",
    "file_paths = glob.glob(os.path.join(load_dir, '*.pkl'))\n",
    "save_path = os.path.join(save_dir, save_name)\n",
    "\n",
    "df_metrics = pd.read_csv(save_path, index_col=0)\n",
    "\n",
    "\n",
    "kinect_id = '2014-12-16_P005_Post_004'\n",
    "\n",
    "matching_files = [f for f in file_paths if kinect_id in f]\n",
    "\n",
    "for file_path in matching_files:\n",
    "\n",
    "    df_head_feet = pd.read_pickle(file_path)\n",
    "    \n",
    "    # Convert all position vectors to float type \n",
    "    # so they can be easily input to linear algebra functions\n",
    "    df_head_feet = df_head_feet.applymap(pd.to_numeric)\n",
    "\n",
    "    # %% Peak detection\n",
    "\n",
    "    # Cluster frames with k means to locate the 4 walking passes\n",
    "    frames = df_head_feet.index.values.reshape(-1, 1)\n",
    "    k_means = KMeans(n_clusters=4, random_state=0).fit(frames)\n",
    "\n",
    "    foot_diff = df_head_feet.L_FOOT - df_head_feet.R_FOOT\n",
    "    foot_dist = foot_diff.apply(np.linalg.norm)\n",
    "\n"
   ]
  },
  {
   "cell_type": "code",
   "execution_count": 2,
   "metadata": {},
   "outputs": [],
   "source": [
    "frame_labels = k_means.labels_\n",
    "\n",
    "pass_dfs = gm.split_by_pass(df_head_feet, frame_labels)"
   ]
  },
  {
   "cell_type": "code",
   "execution_count": 3,
   "metadata": {},
   "outputs": [],
   "source": [
    "list_ = []\n",
    "\n",
    "for i, df_pass in enumerate(pass_dfs):\n",
    "    \n",
    "    df_gait = gm.walking_pass_metrics(df_pass)\n",
    "    \n",
    "    # Add column to record the walking pass\n",
    "    df_gait['pass'] = i\n",
    "\n",
    "    list_.append(df_gait)\n",
    "    \n",
    "df_gait_total = pd.concat(list_)\n",
    "\n",
    "# Reset the index because there are repeated index elements\n",
    "df_gait_total = df_gait_total.reset_index(drop=True)"
   ]
  },
  {
   "cell_type": "code",
   "execution_count": 4,
   "metadata": {},
   "outputs": [],
   "source": [
    "# Split DataFrame by side (right and left)\n",
    "df_l, df_r = [x for _, x in df_gait_total.groupby('side')]"
   ]
  },
  {
   "cell_type": "code",
   "execution_count": 7,
   "metadata": {},
   "outputs": [],
   "source": [
    "df = pd.merge(df_l, df_r, how='outer', left_on='pass', right_on='pass', suffixes=['_L', '_R'])"
   ]
  },
  {
   "cell_type": "code",
   "execution_count": 8,
   "metadata": {},
   "outputs": [
    {
     "data": {
      "text/html": [
       "<div>\n",
       "<style scoped>\n",
       "    .dataframe tbody tr th:only-of-type {\n",
       "        vertical-align: middle;\n",
       "    }\n",
       "\n",
       "    .dataframe tbody tr th {\n",
       "        vertical-align: top;\n",
       "    }\n",
       "\n",
       "    .dataframe thead th {\n",
       "        text-align: right;\n",
       "    }\n",
       "</style>\n",
       "<table border=\"1\" class=\"dataframe\">\n",
       "  <thead>\n",
       "    <tr style=\"text-align: right;\">\n",
       "      <th></th>\n",
       "      <th>side_L</th>\n",
       "      <th>step_length_L</th>\n",
       "      <th>step_time_L</th>\n",
       "      <th>stride_width_L</th>\n",
       "      <th>stride_length_L</th>\n",
       "      <th>stride_time_L</th>\n",
       "      <th>stride_velocity_L</th>\n",
       "      <th>pass</th>\n",
       "      <th>side_R</th>\n",
       "      <th>step_length_R</th>\n",
       "      <th>step_time_R</th>\n",
       "      <th>stride_width_R</th>\n",
       "      <th>stride_length_R</th>\n",
       "      <th>stride_time_R</th>\n",
       "      <th>stride_velocity_R</th>\n",
       "    </tr>\n",
       "  </thead>\n",
       "  <tbody>\n",
       "    <tr>\n",
       "      <th>0</th>\n",
       "      <td>L</td>\n",
       "      <td>51.396655</td>\n",
       "      <td>0.433333</td>\n",
       "      <td>12.042193</td>\n",
       "      <td>108.501030</td>\n",
       "      <td>0.966667</td>\n",
       "      <td>112.242445</td>\n",
       "      <td>1</td>\n",
       "      <td>R</td>\n",
       "      <td>57.433271</td>\n",
       "      <td>0.533333</td>\n",
       "      <td>10.360671</td>\n",
       "      <td>119.855167</td>\n",
       "      <td>1.000000</td>\n",
       "      <td>119.855167</td>\n",
       "    </tr>\n",
       "    <tr>\n",
       "      <th>1</th>\n",
       "      <td>L</td>\n",
       "      <td>53.601627</td>\n",
       "      <td>0.433333</td>\n",
       "      <td>6.535507</td>\n",
       "      <td>109.475407</td>\n",
       "      <td>0.833333</td>\n",
       "      <td>131.370488</td>\n",
       "      <td>3</td>\n",
       "      <td>R</td>\n",
       "      <td>55.789605</td>\n",
       "      <td>0.400000</td>\n",
       "      <td>7.218874</td>\n",
       "      <td>115.287294</td>\n",
       "      <td>0.966667</td>\n",
       "      <td>119.262718</td>\n",
       "    </tr>\n",
       "    <tr>\n",
       "      <th>2</th>\n",
       "      <td>NaN</td>\n",
       "      <td>NaN</td>\n",
       "      <td>NaN</td>\n",
       "      <td>NaN</td>\n",
       "      <td>NaN</td>\n",
       "      <td>NaN</td>\n",
       "      <td>NaN</td>\n",
       "      <td>0</td>\n",
       "      <td>R</td>\n",
       "      <td>61.887649</td>\n",
       "      <td>0.533333</td>\n",
       "      <td>8.541389</td>\n",
       "      <td>121.472407</td>\n",
       "      <td>0.933333</td>\n",
       "      <td>130.149008</td>\n",
       "    </tr>\n",
       "    <tr>\n",
       "      <th>3</th>\n",
       "      <td>NaN</td>\n",
       "      <td>NaN</td>\n",
       "      <td>NaN</td>\n",
       "      <td>NaN</td>\n",
       "      <td>NaN</td>\n",
       "      <td>NaN</td>\n",
       "      <td>NaN</td>\n",
       "      <td>2</td>\n",
       "      <td>R</td>\n",
       "      <td>68.164883</td>\n",
       "      <td>0.600000</td>\n",
       "      <td>6.095472</td>\n",
       "      <td>124.408967</td>\n",
       "      <td>1.000000</td>\n",
       "      <td>124.408967</td>\n",
       "    </tr>\n",
       "  </tbody>\n",
       "</table>\n",
       "</div>"
      ],
      "text/plain": [
       "  side_L  step_length_L  step_time_L  stride_width_L  stride_length_L  \\\n",
       "0      L      51.396655     0.433333       12.042193       108.501030   \n",
       "1      L      53.601627     0.433333        6.535507       109.475407   \n",
       "2    NaN            NaN          NaN             NaN              NaN   \n",
       "3    NaN            NaN          NaN             NaN              NaN   \n",
       "\n",
       "   stride_time_L  stride_velocity_L  pass side_R  step_length_R  step_time_R  \\\n",
       "0       0.966667         112.242445     1      R      57.433271     0.533333   \n",
       "1       0.833333         131.370488     3      R      55.789605     0.400000   \n",
       "2            NaN                NaN     0      R      61.887649     0.533333   \n",
       "3            NaN                NaN     2      R      68.164883     0.600000   \n",
       "\n",
       "   stride_width_R  stride_length_R  stride_time_R  stride_velocity_R  \n",
       "0       10.360671       119.855167       1.000000         119.855167  \n",
       "1        7.218874       115.287294       0.966667         119.262718  \n",
       "2        8.541389       121.472407       0.933333         130.149008  \n",
       "3        6.095472       124.408967       1.000000         124.408967  "
      ]
     },
     "execution_count": 8,
     "metadata": {},
     "output_type": "execute_result"
    }
   ],
   "source": [
    "df.drop(list(df.filter(like='number')), axis=1)"
   ]
  },
  {
   "cell_type": "code",
   "execution_count": 9,
   "metadata": {},
   "outputs": [],
   "source": [
    "strings_to_drop = ['side', 'pass', 'number']"
   ]
  },
  {
   "cell_type": "code",
   "execution_count": 10,
   "metadata": {},
   "outputs": [],
   "source": [
    "import modules.pandas_funcs as pf"
   ]
  },
  {
   "cell_type": "code",
   "execution_count": 15,
   "metadata": {},
   "outputs": [],
   "source": [
    "strings_to_drop = ['side', 'pass', 'number']\n",
    "\n",
    "df = pf.drop_any_like(df, strings_to_drop, axis=1)"
   ]
  },
  {
   "cell_type": "code",
   "execution_count": 29,
   "metadata": {},
   "outputs": [],
   "source": [
    "# Order column labels alphabetically\n",
    "df = df.sort_index(axis=1)"
   ]
  },
  {
   "cell_type": "code",
   "execution_count": 32,
   "metadata": {},
   "outputs": [
    {
     "data": {
      "text/plain": [
       "step_length_L         52.499141\n",
       "step_length_R         60.818852\n",
       "step_time_L            0.433333\n",
       "step_time_R            0.516667\n",
       "stride_length_L      108.988219\n",
       "stride_length_R      120.255959\n",
       "stride_time_L          0.900000\n",
       "stride_time_R          0.975000\n",
       "stride_velocity_L    121.806467\n",
       "stride_velocity_R    123.418965\n",
       "stride_width_L         9.288850\n",
       "stride_width_R         8.054102\n",
       "dtype: float64"
      ]
     },
     "execution_count": 32,
     "metadata": {},
     "output_type": "execute_result"
    }
   ],
   "source": [
    "df.mean()"
   ]
  },
  {
   "cell_type": "code",
   "execution_count": null,
   "metadata": {},
   "outputs": [],
   "source": []
  }
 ],
 "metadata": {
  "kernelspec": {
   "display_name": "Python 3",
   "language": "python",
   "name": "python3"
  },
  "language_info": {
   "codemirror_mode": {
    "name": "ipython",
    "version": 3
   },
   "file_extension": ".py",
   "mimetype": "text/x-python",
   "name": "python",
   "nbconvert_exporter": "python",
   "pygments_lexer": "ipython3",
   "version": "3.6.4"
  }
 },
 "nbformat": 4,
 "nbformat_minor": 2
}
