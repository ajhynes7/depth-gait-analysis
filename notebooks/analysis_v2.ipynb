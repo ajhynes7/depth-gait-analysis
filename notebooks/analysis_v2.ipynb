{
 "cells": [
  {
   "cell_type": "code",
   "execution_count": 1,
   "metadata": {},
   "outputs": [],
   "source": [
    "import os\n",
    "\n",
    "import numpy as np\n",
    "import pandas as pd\n",
    "import numpy.testing as npt\n",
    "import matplotlib.pyplot as plt\n",
    "from scipy.stats import spearmanr, pearsonr\n",
    "\n",
    "import sys\n",
    "sys.path.append('..')\n",
    "\n",
    "import modules.stats as st\n",
    "import modules.plotting as pl\n",
    "import modules.pandas_funcs as pf"
   ]
  },
  {
   "cell_type": "code",
   "execution_count": 2,
   "metadata": {},
   "outputs": [
    {
     "name": "stdout",
     "output_type": "stream",
     "text": [
      "Using matplotlib backend: MacOSX\n"
     ]
    }
   ],
   "source": [
    "% matplotlib auto"
   ]
  },
  {
   "cell_type": "code",
   "execution_count": 3,
   "metadata": {},
   "outputs": [],
   "source": [
    "results_dir = os.path.join('..', 'data', 'results')\n",
    "match_dir = os.path.join('..', 'data', 'matching')\n",
    "\n",
    "\n",
    "df_k_raw = pd.read_csv(os.path.join(results_dir, 'kinect_gait_metrics.csv'),\n",
    "                       index_col=0)\n",
    "\n",
    "df_z_raw = pd.read_csv(os.path.join(results_dir, 'zeno_gait_metrics.csv'),\n",
    "                       index_col=0)\n",
    "\n",
    "df_match = pd.read_csv(os.path.join(match_dir, 'match_kinect_zeno.csv'))\n",
    "\n",
    "# Drop rows where file has no match\n",
    "df_match = df_match.dropna(axis=0)\n",
    "\n",
    "\n",
    "df_match_zeno = pd.merge(df_match, df_z_raw, left_on='Zeno', right_index=True)\n",
    "\n",
    "df_total = pd.merge(df_match_zeno, df_k_raw, left_on='Kinect',\n",
    "                    right_index=True, suffixes=('_z', '_k'))\n",
    "\n",
    "\n",
    "# Take columns from total DataFrame to get Kinect and Zeno data\n",
    "df_k = df_total.filter(like='_k')\n",
    "df_z = df_total.filter(like='_z')\n",
    "\n",
    "# Remove suffixes from column names\n",
    "df_k = df_k.rename(columns=lambda x: str(x)[:-2])\n",
    "df_z = df_z.rename(columns=lambda x: str(x)[:-2])\n"
   ]
  },
  {
   "cell_type": "code",
   "execution_count": 4,
   "metadata": {},
   "outputs": [],
   "source": [
    "df_error = abs((df_k - df_z) / df_z) * 100"
   ]
  },
  {
   "cell_type": "code",
   "execution_count": 5,
   "metadata": {},
   "outputs": [
    {
     "data": {
      "text/plain": [
       "stance_percentage_L     8.757610\n",
       "stance_percentage_R    10.621991\n",
       "step_length_L           7.782810\n",
       "step_length_R          12.410485\n",
       "stride_length_L        11.113202\n",
       "stride_length_R         9.943766\n",
       "stride_time_L          19.519977\n",
       "stride_time_R          16.783494\n",
       "stride_velocity_L       7.234475\n",
       "stride_velocity_R       7.152990\n",
       "stride_width_L         39.025586\n",
       "stride_width_R         39.428879\n",
       "dtype: float64"
      ]
     },
     "execution_count": 5,
     "metadata": {},
     "output_type": "execute_result"
    }
   ],
   "source": [
    "df_error.median()"
   ]
  },
  {
   "cell_type": "code",
   "execution_count": 6,
   "metadata": {},
   "outputs": [
    {
     "data": {
      "text/plain": [
       "11.38293689740369"
      ]
     },
     "execution_count": 6,
     "metadata": {},
     "output_type": "execute_result"
    }
   ],
   "source": [
    "np.median(df_error.values)"
   ]
  },
  {
   "cell_type": "code",
   "execution_count": 7,
   "metadata": {},
   "outputs": [],
   "source": [
    "# abs_step_length_L = np.sqrt(df_z.step_length_L ** 2 + df_z.stride_width_L ** 2)\n",
    "# abs(abs_step_length_L - df_z.absolute_step_length_L).max()"
   ]
  },
  {
   "cell_type": "code",
   "execution_count": 8,
   "metadata": {},
   "outputs": [],
   "source": [
    "# abs_step_length_L = np.sqrt(df_k.step_length_L ** 2 + df_k.stride_width_L ** 2)\n",
    "# abs(abs_step_length_L - df_k.absolute_step_length_L).idxmax()"
   ]
  },
  {
   "cell_type": "code",
   "execution_count": 9,
   "metadata": {},
   "outputs": [],
   "source": [
    "max_median_index = df_error.median(axis=1).idxmax()"
   ]
  },
  {
   "cell_type": "code",
   "execution_count": 10,
   "metadata": {},
   "outputs": [],
   "source": [
    "metric = 'stride_length_R'"
   ]
  },
  {
   "cell_type": "code",
   "execution_count": 11,
   "metadata": {},
   "outputs": [],
   "source": [
    "plt.figure()\n",
    "df_error[metric].plot.bar()\n",
    "plt.show()"
   ]
  },
  {
   "cell_type": "code",
   "execution_count": 12,
   "metadata": {},
   "outputs": [],
   "source": [
    "max_index = df_error[metric].idxmax()"
   ]
  },
  {
   "cell_type": "code",
   "execution_count": 13,
   "metadata": {},
   "outputs": [
    {
     "data": {
      "text/html": [
       "<div>\n",
       "<style scoped>\n",
       "    .dataframe tbody tr th:only-of-type {\n",
       "        vertical-align: middle;\n",
       "    }\n",
       "\n",
       "    .dataframe tbody tr th {\n",
       "        vertical-align: top;\n",
       "    }\n",
       "\n",
       "    .dataframe thead th {\n",
       "        text-align: right;\n",
       "    }\n",
       "</style>\n",
       "<table border=\"1\" class=\"dataframe\">\n",
       "  <thead>\n",
       "    <tr style=\"text-align: right;\">\n",
       "      <th></th>\n",
       "      <th>Kinect</th>\n",
       "      <th>Zeno</th>\n",
       "    </tr>\n",
       "  </thead>\n",
       "  <tbody>\n",
       "    <tr>\n",
       "      <th>stance_percentage_L</th>\n",
       "      <td>69.609280</td>\n",
       "      <td>58.346</td>\n",
       "    </tr>\n",
       "    <tr>\n",
       "      <th>stance_percentage_R</th>\n",
       "      <td>66.881868</td>\n",
       "      <td>56.535</td>\n",
       "    </tr>\n",
       "    <tr>\n",
       "      <th>step_length_L</th>\n",
       "      <td>60.861535</td>\n",
       "      <td>59.106</td>\n",
       "    </tr>\n",
       "    <tr>\n",
       "      <th>step_length_R</th>\n",
       "      <td>57.693614</td>\n",
       "      <td>59.000</td>\n",
       "    </tr>\n",
       "    <tr>\n",
       "      <th>stride_length_L</th>\n",
       "      <td>119.310198</td>\n",
       "      <td>121.857</td>\n",
       "    </tr>\n",
       "    <tr>\n",
       "      <th>stride_length_R</th>\n",
       "      <td>116.838915</td>\n",
       "      <td>120.005</td>\n",
       "    </tr>\n",
       "    <tr>\n",
       "      <th>stride_time_L</th>\n",
       "      <td>0.850000</td>\n",
       "      <td>1.282</td>\n",
       "    </tr>\n",
       "    <tr>\n",
       "      <th>stride_time_R</th>\n",
       "      <td>0.875000</td>\n",
       "      <td>1.309</td>\n",
       "    </tr>\n",
       "    <tr>\n",
       "      <th>stride_velocity_L</th>\n",
       "      <td>138.094118</td>\n",
       "      <td>106.227</td>\n",
       "    </tr>\n",
       "    <tr>\n",
       "      <th>stride_velocity_R</th>\n",
       "      <td>138.425196</td>\n",
       "      <td>105.762</td>\n",
       "    </tr>\n",
       "    <tr>\n",
       "      <th>stride_width_L</th>\n",
       "      <td>5.312082</td>\n",
       "      <td>3.865</td>\n",
       "    </tr>\n",
       "    <tr>\n",
       "      <th>stride_width_R</th>\n",
       "      <td>6.626936</td>\n",
       "      <td>2.338</td>\n",
       "    </tr>\n",
       "  </tbody>\n",
       "</table>\n",
       "</div>"
      ],
      "text/plain": [
       "                         Kinect     Zeno\n",
       "stance_percentage_L   69.609280   58.346\n",
       "stance_percentage_R   66.881868   56.535\n",
       "step_length_L         60.861535   59.106\n",
       "step_length_R         57.693614   59.000\n",
       "stride_length_L      119.310198  121.857\n",
       "stride_length_R      116.838915  120.005\n",
       "stride_time_L          0.850000    1.282\n",
       "stride_time_R          0.875000    1.309\n",
       "stride_velocity_L    138.094118  106.227\n",
       "stride_velocity_R    138.425196  105.762\n",
       "stride_width_L         5.312082    3.865\n",
       "stride_width_R         6.626936    2.338"
      ]
     },
     "execution_count": 13,
     "metadata": {},
     "output_type": "execute_result"
    }
   ],
   "source": [
    "df_compare = pd.concat([df_k.loc[max_median_index], df_z.loc[max_median_index]], axis=1, sort=True)\n",
    "df_compare.columns = ['Kinect', 'Zeno']\n",
    "df_compare"
   ]
  },
  {
   "cell_type": "code",
   "execution_count": 14,
   "metadata": {},
   "outputs": [
    {
     "data": {
      "text/plain": [
       "Zeno      B_2014-12-22_P005_Pre_tw_C\n",
       "Kinect       2014-12-22_P005_Pre_003\n",
       "Name: 42, dtype: object"
      ]
     },
     "execution_count": 14,
     "metadata": {},
     "output_type": "execute_result"
    }
   ],
   "source": [
    "df_match.loc[max_median_index]"
   ]
  },
  {
   "cell_type": "code",
   "execution_count": null,
   "metadata": {},
   "outputs": [],
   "source": []
  }
 ],
 "metadata": {
  "kernelspec": {
   "display_name": "Python 3",
   "language": "python",
   "name": "python3"
  },
  "language_info": {
   "codemirror_mode": {
    "name": "ipython",
    "version": 3
   },
   "file_extension": ".py",
   "mimetype": "text/x-python",
   "name": "python",
   "nbconvert_exporter": "python",
   "pygments_lexer": "ipython3",
   "version": "3.6.6"
  }
 },
 "nbformat": 4,
 "nbformat_minor": 2
}
