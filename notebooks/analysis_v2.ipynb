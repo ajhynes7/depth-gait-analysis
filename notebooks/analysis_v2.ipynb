{
 "cells": [
  {
   "cell_type": "code",
   "execution_count": 1,
   "metadata": {},
   "outputs": [],
   "source": [
    "import os\n",
    "\n",
    "import numpy as np\n",
    "import pandas as pd\n",
    "import numpy.testing as npt\n",
    "import matplotlib.pyplot as plt\n",
    "from scipy.stats import spearmanr, pearsonr\n",
    "\n",
    "import sys\n",
    "sys.path.append('..')\n",
    "\n",
    "import modules.stats as st\n",
    "import modules.plotting as pl\n",
    "import modules.pandas_funcs as pf"
   ]
  },
  {
   "cell_type": "code",
   "execution_count": 2,
   "metadata": {},
   "outputs": [
    {
     "name": "stdout",
     "output_type": "stream",
     "text": [
      "Using matplotlib backend: MacOSX\n"
     ]
    }
   ],
   "source": [
    "% matplotlib auto"
   ]
  },
  {
   "cell_type": "code",
   "execution_count": 3,
   "metadata": {},
   "outputs": [],
   "source": [
    "results_dir = os.path.join('..', 'data', 'results')\n",
    "match_dir = os.path.join('..', 'data', 'matching')\n",
    "\n",
    "\n",
    "df_k_raw = pd.read_csv(os.path.join(results_dir, 'kinect_gait_metrics.csv'),\n",
    "                       index_col=0)\n",
    "\n",
    "df_z_raw = pd.read_csv(os.path.join(results_dir, 'zeno_gait_metrics.csv'),\n",
    "                       index_col=0)\n",
    "\n",
    "df_match = pd.read_csv(os.path.join(match_dir, 'match_kinect_zeno.csv'))\n",
    "\n",
    "# Drop rows where file has no match\n",
    "df_match = df_match.dropna(axis=0)\n",
    "\n",
    "\n",
    "df_match_zeno = pd.merge(df_match, df_z_raw, left_on='Zeno', right_index=True)\n",
    "\n",
    "df_total = pd.merge(df_match_zeno, df_k_raw, left_on='Kinect',\n",
    "                    right_index=True, suffixes=('_z', '_k'))\n",
    "\n",
    "\n",
    "# Take columns from total DataFrame to get Kinect and Zeno data\n",
    "df_k = df_total.filter(like='_k')\n",
    "df_z = df_total.filter(like='_z')\n",
    "\n",
    "# Remove suffixes from column names\n",
    "df_k = df_k.rename(columns=lambda x: str(x)[:-2])\n",
    "df_z = df_z.rename(columns=lambda x: str(x)[:-2])\n"
   ]
  },
  {
   "cell_type": "code",
   "execution_count": 4,
   "metadata": {},
   "outputs": [],
   "source": [
    "df_error = abs((df_k - df_z) / df_z) * 100"
   ]
  },
  {
   "cell_type": "code",
   "execution_count": 5,
   "metadata": {},
   "outputs": [
    {
     "data": {
      "text/plain": [
       "step_length_L         8.222381\n",
       "step_length_R        12.797947\n",
       "stride_length_L      11.052632\n",
       "stride_length_R       9.934793\n",
       "stride_time_L        19.966687\n",
       "stride_time_R        19.219244\n",
       "stride_velocity_L    10.707527\n",
       "stride_velocity_R     8.541332\n",
       "stride_width_L       39.961704\n",
       "stride_width_R       40.835050\n",
       "dtype: float64"
      ]
     },
     "execution_count": 5,
     "metadata": {},
     "output_type": "execute_result"
    }
   ],
   "source": [
    "df_error.median()"
   ]
  },
  {
   "cell_type": "code",
   "execution_count": 6,
   "metadata": {},
   "outputs": [
    {
     "data": {
      "text/plain": [
       "12.802880747697035"
      ]
     },
     "execution_count": 6,
     "metadata": {},
     "output_type": "execute_result"
    }
   ],
   "source": [
    "np.median(df_error.values)"
   ]
  },
  {
   "cell_type": "code",
   "execution_count": 7,
   "metadata": {},
   "outputs": [],
   "source": [
    "# abs_step_length_L = np.sqrt(df_z.step_length_L ** 2 + df_z.stride_width_L ** 2)\n",
    "# abs(abs_step_length_L - df_z.absolute_step_length_L).max()"
   ]
  },
  {
   "cell_type": "code",
   "execution_count": 8,
   "metadata": {},
   "outputs": [],
   "source": [
    "# abs_step_length_L = np.sqrt(df_k.step_length_L ** 2 + df_k.stride_width_L ** 2)\n",
    "# abs(abs_step_length_L - df_k.absolute_step_length_L).idxmax()"
   ]
  },
  {
   "cell_type": "code",
   "execution_count": 7,
   "metadata": {},
   "outputs": [],
   "source": [
    "max_median_index = df_error.median(axis=1).idxmax()"
   ]
  },
  {
   "cell_type": "code",
   "execution_count": 8,
   "metadata": {},
   "outputs": [],
   "source": [
    "metric = 'stride_length_R'"
   ]
  },
  {
   "cell_type": "code",
   "execution_count": 9,
   "metadata": {},
   "outputs": [],
   "source": [
    "plt.figure()\n",
    "df_error[metric].plot.bar()\n",
    "plt.show()"
   ]
  },
  {
   "cell_type": "code",
   "execution_count": 10,
   "metadata": {},
   "outputs": [],
   "source": [
    "max_index = df_error[metric].idxmax()"
   ]
  },
  {
   "cell_type": "code",
   "execution_count": 11,
   "metadata": {},
   "outputs": [
    {
     "data": {
      "text/html": [
       "<div>\n",
       "<style scoped>\n",
       "    .dataframe tbody tr th:only-of-type {\n",
       "        vertical-align: middle;\n",
       "    }\n",
       "\n",
       "    .dataframe tbody tr th {\n",
       "        vertical-align: top;\n",
       "    }\n",
       "\n",
       "    .dataframe thead th {\n",
       "        text-align: right;\n",
       "    }\n",
       "</style>\n",
       "<table border=\"1\" class=\"dataframe\">\n",
       "  <thead>\n",
       "    <tr style=\"text-align: right;\">\n",
       "      <th></th>\n",
       "      <th>Kinect</th>\n",
       "      <th>Zeno</th>\n",
       "    </tr>\n",
       "  </thead>\n",
       "  <tbody>\n",
       "    <tr>\n",
       "      <th>step_length_L</th>\n",
       "      <td>38.995410</td>\n",
       "      <td>45.897</td>\n",
       "    </tr>\n",
       "    <tr>\n",
       "      <th>step_length_R</th>\n",
       "      <td>42.948636</td>\n",
       "      <td>49.820</td>\n",
       "    </tr>\n",
       "    <tr>\n",
       "      <th>stride_length_L</th>\n",
       "      <td>80.575801</td>\n",
       "      <td>97.098</td>\n",
       "    </tr>\n",
       "    <tr>\n",
       "      <th>stride_length_R</th>\n",
       "      <td>83.504607</td>\n",
       "      <td>103.696</td>\n",
       "    </tr>\n",
       "    <tr>\n",
       "      <th>stride_time_L</th>\n",
       "      <td>1.583333</td>\n",
       "      <td>1.778</td>\n",
       "    </tr>\n",
       "    <tr>\n",
       "      <th>stride_time_R</th>\n",
       "      <td>1.566667</td>\n",
       "      <td>1.929</td>\n",
       "    </tr>\n",
       "    <tr>\n",
       "      <th>stride_velocity_L</th>\n",
       "      <td>51.239075</td>\n",
       "      <td>54.669</td>\n",
       "    </tr>\n",
       "    <tr>\n",
       "      <th>stride_velocity_R</th>\n",
       "      <td>52.320600</td>\n",
       "      <td>53.500</td>\n",
       "    </tr>\n",
       "    <tr>\n",
       "      <th>stride_width_L</th>\n",
       "      <td>11.953504</td>\n",
       "      <td>10.281</td>\n",
       "    </tr>\n",
       "    <tr>\n",
       "      <th>stride_width_R</th>\n",
       "      <td>12.943304</td>\n",
       "      <td>11.492</td>\n",
       "    </tr>\n",
       "  </tbody>\n",
       "</table>\n",
       "</div>"
      ],
      "text/plain": [
       "                      Kinect     Zeno\n",
       "step_length_L      38.995410   45.897\n",
       "step_length_R      42.948636   49.820\n",
       "stride_length_L    80.575801   97.098\n",
       "stride_length_R    83.504607  103.696\n",
       "stride_time_L       1.583333    1.778\n",
       "stride_time_R       1.566667    1.929\n",
       "stride_velocity_L  51.239075   54.669\n",
       "stride_velocity_R  52.320600   53.500\n",
       "stride_width_L     11.953504   10.281\n",
       "stride_width_R     12.943304   11.492"
      ]
     },
     "execution_count": 11,
     "metadata": {},
     "output_type": "execute_result"
    }
   ],
   "source": [
    "df_compare = pd.concat([df_k.loc[max_index], df_z.loc[max_index]], axis=1)\n",
    "df_compare.columns = ['Kinect', 'Zeno']\n",
    "df_compare"
   ]
  },
  {
   "cell_type": "code",
   "execution_count": 12,
   "metadata": {},
   "outputs": [
    {
     "data": {
      "text/plain": [
       "Zeno      A_2014-12-08_P007_Post_NC_DT3s\n",
       "Kinect          2014-12-08_P007_Post_002\n",
       "Name: 17, dtype: object"
      ]
     },
     "execution_count": 12,
     "metadata": {},
     "output_type": "execute_result"
    }
   ],
   "source": [
    "df_match.loc[max_index]"
   ]
  },
  {
   "cell_type": "code",
   "execution_count": null,
   "metadata": {},
   "outputs": [],
   "source": []
  }
 ],
 "metadata": {
  "kernelspec": {
   "display_name": "Python 3",
   "language": "python",
   "name": "python3"
  },
  "language_info": {
   "codemirror_mode": {
    "name": "ipython",
    "version": 3
   },
   "file_extension": ".py",
   "mimetype": "text/x-python",
   "name": "python",
   "nbconvert_exporter": "python",
   "pygments_lexer": "ipython3",
   "version": "3.6.6"
  }
 },
 "nbformat": 4,
 "nbformat_minor": 2
}
