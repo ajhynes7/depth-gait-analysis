{
 "cells": [
  {
   "cell_type": "code",
   "execution_count": 1,
   "metadata": {},
   "outputs": [],
   "source": [
    "import os\n",
    "\n",
    "import numpy as np\n",
    "import pandas as pd\n",
    "import numpy.testing as npt\n",
    "import matplotlib.pyplot as plt\n",
    "from scipy.stats import spearmanr, pearsonr\n",
    "\n",
    "import sys\n",
    "sys.path.append('..')\n",
    "\n",
    "import modules.stats as st\n",
    "import modules.plotting as pl\n",
    "import modules.pandas_funcs as pf"
   ]
  },
  {
   "cell_type": "code",
   "execution_count": 2,
   "metadata": {},
   "outputs": [],
   "source": [
    "results_dir = os.path.join('..', 'data', 'results')\n",
    "match_dir = os.path.join('..', 'data', 'matching')\n",
    "\n",
    "\n",
    "df_k_raw = pd.read_csv(os.path.join(results_dir, 'kinect_gait_metrics.csv'),\n",
    "                       index_col=0)\n",
    "\n",
    "df_z_raw = pd.read_csv(os.path.join(results_dir, 'zeno_gait_metrics.csv'),\n",
    "                       index_col=0)\n",
    "\n",
    "df_match = pd.read_csv(os.path.join(match_dir, 'match_kinect_zeno.csv'))\n",
    "\n",
    "# Drop rows where file has no match\n",
    "df_match = df_match.dropna(axis=0)\n",
    "\n",
    "\n",
    "df_match_zeno = pd.merge(df_match, df_z_raw, left_on='Zeno', right_index=True)\n",
    "\n",
    "df_total = pd.merge(df_match_zeno, df_k_raw, left_on='Kinect',\n",
    "                    right_index=True, suffixes=('_z', '_k'))\n",
    "\n",
    "\n",
    "# Take columns from total DataFrame to get Kinect and Zeno data\n",
    "df_k = df_total.filter(like='_k')\n",
    "df_z = df_total.filter(like='_z')\n",
    "\n",
    "# Remove suffixes from column names\n",
    "df_k = df_k.rename(columns=lambda x: str(x)[:-2])\n",
    "df_z = df_z.rename(columns=lambda x: str(x)[:-2])\n"
   ]
  },
  {
   "cell_type": "code",
   "execution_count": 3,
   "metadata": {},
   "outputs": [],
   "source": [
    "df_error = abs((df_k - df_z) / df_z) * 100"
   ]
  },
  {
   "cell_type": "code",
   "execution_count": 4,
   "metadata": {},
   "outputs": [],
   "source": [
    "# abs_step_length_L = np.sqrt(df_z.step_length_L ** 2 + df_z.stride_width_L ** 2)\n",
    "# abs(abs_step_length_L - df_z.absolute_step_length_L).max()"
   ]
  },
  {
   "cell_type": "code",
   "execution_count": 5,
   "metadata": {},
   "outputs": [],
   "source": [
    "# abs_step_length_L = np.sqrt(df_k.step_length_L ** 2 + df_k.stride_width_L ** 2)\n",
    "# abs(abs_step_length_L - df_k.absolute_step_length_L).idxmax()"
   ]
  },
  {
   "cell_type": "code",
   "execution_count": 6,
   "metadata": {},
   "outputs": [],
   "source": [
    "high_error_index = df_error.median(axis=1).idxmax()"
   ]
  },
  {
   "cell_type": "code",
   "execution_count": 7,
   "metadata": {},
   "outputs": [
    {
     "data": {
      "text/plain": [
       "Zeno      B_2014-12-16_P007_Post_tc_A\n",
       "Kinect       2014-12-16_P007_Post_007\n",
       "Name: 28, dtype: object"
      ]
     },
     "execution_count": 7,
     "metadata": {},
     "output_type": "execute_result"
    }
   ],
   "source": [
    "df_match.loc[high_error_index]"
   ]
  },
  {
   "cell_type": "code",
   "execution_count": 8,
   "metadata": {},
   "outputs": [
    {
     "data": {
      "text/html": [
       "<div>\n",
       "<style scoped>\n",
       "    .dataframe tbody tr th:only-of-type {\n",
       "        vertical-align: middle;\n",
       "    }\n",
       "\n",
       "    .dataframe tbody tr th {\n",
       "        vertical-align: top;\n",
       "    }\n",
       "\n",
       "    .dataframe thead th {\n",
       "        text-align: right;\n",
       "    }\n",
       "</style>\n",
       "<table border=\"1\" class=\"dataframe\">\n",
       "  <thead>\n",
       "    <tr style=\"text-align: right;\">\n",
       "      <th></th>\n",
       "      <th>Kinect</th>\n",
       "      <th>Zeno</th>\n",
       "    </tr>\n",
       "  </thead>\n",
       "  <tbody>\n",
       "    <tr>\n",
       "      <th>absolute_step_length_L</th>\n",
       "      <td>40.997630</td>\n",
       "      <td>49.494</td>\n",
       "    </tr>\n",
       "    <tr>\n",
       "      <th>absolute_step_length_R</th>\n",
       "      <td>45.467097</td>\n",
       "      <td>51.814</td>\n",
       "    </tr>\n",
       "    <tr>\n",
       "      <th>step_length_L</th>\n",
       "      <td>40.117590</td>\n",
       "      <td>48.764</td>\n",
       "    </tr>\n",
       "    <tr>\n",
       "      <th>step_length_R</th>\n",
       "      <td>44.356035</td>\n",
       "      <td>51.050</td>\n",
       "    </tr>\n",
       "    <tr>\n",
       "      <th>stride_length_L</th>\n",
       "      <td>78.105327</td>\n",
       "      <td>98.647</td>\n",
       "    </tr>\n",
       "    <tr>\n",
       "      <th>stride_length_R</th>\n",
       "      <td>91.311881</td>\n",
       "      <td>99.098</td>\n",
       "    </tr>\n",
       "    <tr>\n",
       "      <th>stride_time_L</th>\n",
       "      <td>1.091667</td>\n",
       "      <td>1.475</td>\n",
       "    </tr>\n",
       "    <tr>\n",
       "      <th>stride_time_R</th>\n",
       "      <td>1.166667</td>\n",
       "      <td>1.505</td>\n",
       "    </tr>\n",
       "    <tr>\n",
       "      <th>stride_velocity_L</th>\n",
       "      <td>70.023033</td>\n",
       "      <td>67.275</td>\n",
       "    </tr>\n",
       "    <tr>\n",
       "      <th>stride_velocity_R</th>\n",
       "      <td>78.732719</td>\n",
       "      <td>66.694</td>\n",
       "    </tr>\n",
       "    <tr>\n",
       "      <th>stride_width_L</th>\n",
       "      <td>5.827456</td>\n",
       "      <td>8.195</td>\n",
       "    </tr>\n",
       "    <tr>\n",
       "      <th>stride_width_R</th>\n",
       "      <td>11.498071</td>\n",
       "      <td>8.623</td>\n",
       "    </tr>\n",
       "  </tbody>\n",
       "</table>\n",
       "</div>"
      ],
      "text/plain": [
       "                           Kinect    Zeno\n",
       "absolute_step_length_L  40.997630  49.494\n",
       "absolute_step_length_R  45.467097  51.814\n",
       "step_length_L           40.117590  48.764\n",
       "step_length_R           44.356035  51.050\n",
       "stride_length_L         78.105327  98.647\n",
       "stride_length_R         91.311881  99.098\n",
       "stride_time_L            1.091667   1.475\n",
       "stride_time_R            1.166667   1.505\n",
       "stride_velocity_L       70.023033  67.275\n",
       "stride_velocity_R       78.732719  66.694\n",
       "stride_width_L           5.827456   8.195\n",
       "stride_width_R          11.498071   8.623"
      ]
     },
     "execution_count": 8,
     "metadata": {},
     "output_type": "execute_result"
    }
   ],
   "source": [
    "df_compare = pd.concat([df_k.loc[high_error_index], df_z.loc[high_error_index]], axis=1)\n",
    "df_compare.columns = ['Kinect', 'Zeno']\n",
    "df_compare"
   ]
  },
  {
   "cell_type": "code",
   "execution_count": null,
   "metadata": {},
   "outputs": [],
   "source": []
  }
 ],
 "metadata": {
  "kernelspec": {
   "display_name": "Python 3",
   "language": "python",
   "name": "python3"
  },
  "language_info": {
   "codemirror_mode": {
    "name": "ipython",
    "version": 3
   },
   "file_extension": ".py",
   "mimetype": "text/x-python",
   "name": "python",
   "nbconvert_exporter": "python",
   "pygments_lexer": "ipython3",
   "version": "3.6.6"
  }
 },
 "nbformat": 4,
 "nbformat_minor": 2
}
