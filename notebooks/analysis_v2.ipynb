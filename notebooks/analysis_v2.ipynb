{
 "cells": [
  {
   "cell_type": "code",
   "execution_count": 1,
   "metadata": {},
   "outputs": [],
   "source": [
    "import os\n",
    "\n",
    "import numpy as np\n",
    "import pandas as pd\n",
    "import numpy.testing as npt\n",
    "import matplotlib.pyplot as plt\n",
    "from scipy.stats import spearmanr, pearsonr\n",
    "\n",
    "import sys\n",
    "sys.path.append('..')\n",
    "\n",
    "import modules.stats as st\n",
    "import modules.plotting as pl\n",
    "import modules.pandas_funcs as pf"
   ]
  },
  {
   "cell_type": "code",
   "execution_count": 2,
   "metadata": {},
   "outputs": [],
   "source": [
    "results_dir = os.path.join('..', 'data', 'results')\n",
    "match_dir = os.path.join('..', 'data', 'matching')\n",
    "\n",
    "\n",
    "df_k_raw = pd.read_csv(os.path.join(results_dir, 'kinect_gait_metrics.csv'),\n",
    "                       index_col=0)\n",
    "\n",
    "df_z_raw = pd.read_csv(os.path.join(results_dir, 'zeno_gait_metrics.csv'),\n",
    "                       index_col=0)\n",
    "\n",
    "df_match = pd.read_csv(os.path.join(match_dir, 'match_kinect_zeno.csv'))\n",
    "\n",
    "# Drop rows where file has no match\n",
    "df_match = df_match.dropna(axis=0)\n",
    "\n",
    "\n",
    "df_match_zeno = pd.merge(df_match, df_z_raw, left_on='Zeno', right_index=True)\n",
    "\n",
    "df_total = pd.merge(df_match_zeno, df_k_raw, left_on='Kinect',\n",
    "                    right_index=True, suffixes=('_z', '_k'))\n",
    "\n",
    "\n",
    "# Take columns from total DataFrame to get Kinect and Zeno data\n",
    "df_k = df_total.filter(like='_k')\n",
    "df_z = df_total.filter(like='_z')\n",
    "\n",
    "# Remove suffixes from column names\n",
    "df_k = df_k.rename(columns=lambda x: str(x)[:-2])\n",
    "df_z = df_z.rename(columns=lambda x: str(x)[:-2])\n"
   ]
  },
  {
   "cell_type": "code",
   "execution_count": 3,
   "metadata": {},
   "outputs": [],
   "source": [
    "df_error = abs((df_k - df_z) / df_z) * 100"
   ]
  },
  {
   "cell_type": "code",
   "execution_count": 5,
   "metadata": {},
   "outputs": [],
   "source": [
    "# abs_step_length_L = np.sqrt(df_z.step_length_L ** 2 + df_z.stride_width_L ** 2)\n",
    "# abs(abs_step_length_L - df_z.absolute_step_length_L).max()"
   ]
  },
  {
   "cell_type": "code",
   "execution_count": 6,
   "metadata": {},
   "outputs": [],
   "source": [
    "# abs_step_length_L = np.sqrt(df_k.step_length_L ** 2 + df_k.stride_width_L ** 2)\n",
    "# abs(abs_step_length_L - df_k.absolute_step_length_L).idxmax()"
   ]
  },
  {
   "cell_type": "code",
   "execution_count": 18,
   "metadata": {},
   "outputs": [],
   "source": [
    "high_error_index = df_error.median(axis=1).idxmax()"
   ]
  },
  {
   "cell_type": "code",
   "execution_count": 19,
   "metadata": {},
   "outputs": [
    {
     "data": {
      "text/plain": [
       "Zeno      A_2014-12-08_P004_Post_NC_DT7s\n",
       "Kinect          2014-12-08_P004_Post_004\n",
       "Name: 2, dtype: object"
      ]
     },
     "execution_count": 19,
     "metadata": {},
     "output_type": "execute_result"
    }
   ],
   "source": [
    "df_match.loc[high_error_index]"
   ]
  },
  {
   "cell_type": "code",
   "execution_count": 31,
   "metadata": {},
   "outputs": [
    {
     "data": {
      "text/html": [
       "<div>\n",
       "<style scoped>\n",
       "    .dataframe tbody tr th:only-of-type {\n",
       "        vertical-align: middle;\n",
       "    }\n",
       "\n",
       "    .dataframe tbody tr th {\n",
       "        vertical-align: top;\n",
       "    }\n",
       "\n",
       "    .dataframe thead th {\n",
       "        text-align: right;\n",
       "    }\n",
       "</style>\n",
       "<table border=\"1\" class=\"dataframe\">\n",
       "  <thead>\n",
       "    <tr style=\"text-align: right;\">\n",
       "      <th></th>\n",
       "      <th>Kinect</th>\n",
       "      <th>Zeno</th>\n",
       "    </tr>\n",
       "  </thead>\n",
       "  <tbody>\n",
       "    <tr>\n",
       "      <th>absolute_step_length_L</th>\n",
       "      <td>37.941507</td>\n",
       "      <td>52.436</td>\n",
       "    </tr>\n",
       "    <tr>\n",
       "      <th>absolute_step_length_R</th>\n",
       "      <td>38.214862</td>\n",
       "      <td>47.824</td>\n",
       "    </tr>\n",
       "    <tr>\n",
       "      <th>step_length_L</th>\n",
       "      <td>36.447276</td>\n",
       "      <td>51.198</td>\n",
       "    </tr>\n",
       "    <tr>\n",
       "      <th>step_length_R</th>\n",
       "      <td>35.845579</td>\n",
       "      <td>46.374</td>\n",
       "    </tr>\n",
       "    <tr>\n",
       "      <th>stride_length_L</th>\n",
       "      <td>76.596152</td>\n",
       "      <td>96.804</td>\n",
       "    </tr>\n",
       "    <tr>\n",
       "      <th>stride_length_R</th>\n",
       "      <td>71.399591</td>\n",
       "      <td>97.096</td>\n",
       "    </tr>\n",
       "    <tr>\n",
       "      <th>stride_time_L</th>\n",
       "      <td>0.900000</td>\n",
       "      <td>1.078</td>\n",
       "    </tr>\n",
       "    <tr>\n",
       "      <th>stride_time_R</th>\n",
       "      <td>0.900000</td>\n",
       "      <td>1.083</td>\n",
       "    </tr>\n",
       "    <tr>\n",
       "      <th>stride_velocity_L</th>\n",
       "      <td>85.106835</td>\n",
       "      <td>90.935</td>\n",
       "    </tr>\n",
       "    <tr>\n",
       "      <th>stride_velocity_R</th>\n",
       "      <td>52.243603</td>\n",
       "      <td>90.845</td>\n",
       "    </tr>\n",
       "    <tr>\n",
       "      <th>stride_width_L</th>\n",
       "      <td>5.363646</td>\n",
       "      <td>11.042</td>\n",
       "    </tr>\n",
       "    <tr>\n",
       "      <th>stride_width_R</th>\n",
       "      <td>8.104597</td>\n",
       "      <td>11.372</td>\n",
       "    </tr>\n",
       "  </tbody>\n",
       "</table>\n",
       "</div>"
      ],
      "text/plain": [
       "                           Kinect    Zeno\n",
       "absolute_step_length_L  37.941507  52.436\n",
       "absolute_step_length_R  38.214862  47.824\n",
       "step_length_L           36.447276  51.198\n",
       "step_length_R           35.845579  46.374\n",
       "stride_length_L         76.596152  96.804\n",
       "stride_length_R         71.399591  97.096\n",
       "stride_time_L            0.900000   1.078\n",
       "stride_time_R            0.900000   1.083\n",
       "stride_velocity_L       85.106835  90.935\n",
       "stride_velocity_R       52.243603  90.845\n",
       "stride_width_L           5.363646  11.042\n",
       "stride_width_R           8.104597  11.372"
      ]
     },
     "execution_count": 31,
     "metadata": {},
     "output_type": "execute_result"
    }
   ],
   "source": [
    "df_compare = pd.concat([df_k.loc[high_error_index], df_z.loc[high_error_index]], axis=1)\n",
    "df_compare.columns = ['Kinect', 'Zeno']\n",
    "df_compare"
   ]
  },
  {
   "cell_type": "code",
   "execution_count": null,
   "metadata": {},
   "outputs": [],
   "source": []
  }
 ],
 "metadata": {
  "kernelspec": {
   "display_name": "Python 3",
   "language": "python",
   "name": "python3"
  },
  "language_info": {
   "codemirror_mode": {
    "name": "ipython",
    "version": 3
   },
   "file_extension": ".py",
   "mimetype": "text/x-python",
   "name": "python",
   "nbconvert_exporter": "python",
   "pygments_lexer": "ipython3",
   "version": "3.6.6"
  }
 },
 "nbformat": 4,
 "nbformat_minor": 2
}
