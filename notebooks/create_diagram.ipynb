{
 "cells": [
  {
   "cell_type": "code",
   "execution_count": 1,
   "metadata": {},
   "outputs": [],
   "source": [
    "import numpy as np\n",
    "from numpy.linalg import norm\n",
    "\n",
    "import matplotlib.pyplot as plt\n",
    "from mpl_toolkits.mplot3d import Axes3D\n",
    "\n",
    "import sys\n",
    "sys.path.append('..')\n",
    "\n",
    "import modules.linear_algebra as lin\n",
    "import modules.plotting as pl\n"
   ]
  },
  {
   "cell_type": "code",
   "execution_count": 2,
   "metadata": {},
   "outputs": [
    {
     "name": "stdout",
     "output_type": "stream",
     "text": [
      "Using matplotlib backend: MacOSX\n"
     ]
    }
   ],
   "source": [
    "%matplotlib auto"
   ]
  },
  {
   "cell_type": "code",
   "execution_count": 3,
   "metadata": {},
   "outputs": [],
   "source": [
    "foot_x = np.array([2, 10, 0])\n",
    "foot_y = np.array([0, -10, 0])\n",
    "\n",
    "head = np.array([1, 0, 10])\n",
    "\n",
    "forward = np.array([0, 1, 0])"
   ]
  },
  {
   "cell_type": "code",
   "execution_count": 4,
   "metadata": {},
   "outputs": [],
   "source": [
    "foot_mean = (foot_x + foot_y) / 2\n",
    "\n",
    "up = lin.unit(head - foot_mean)\n",
    "\n",
    "target = foot_x - foot_mean"
   ]
  },
  {
   "cell_type": "code",
   "execution_count": 5,
   "metadata": {},
   "outputs": [],
   "source": [
    "normal = np.cross(forward, up)"
   ]
  },
  {
   "cell_type": "code",
   "execution_count": 6,
   "metadata": {},
   "outputs": [],
   "source": [
    "value = np.dot(normal, target)"
   ]
  },
  {
   "cell_type": "code",
   "execution_count": 7,
   "metadata": {},
   "outputs": [],
   "source": [
    "points = np.stack([head, foot_x, foot_y, foot_mean])"
   ]
  },
  {
   "cell_type": "code",
   "execution_count": 48,
   "metadata": {},
   "outputs": [],
   "source": [
    "fig, ax = plt.subplots()\n",
    "ax = Axes3D(fig)\n",
    "\n",
    "\n",
    "\n",
    "plt.rc('text', usetex=True)\n",
    "plt.rc('font', family='serif')\n",
    "\n",
    "pl.scatter3(ax, points, depthshade=False, c='k')\n",
    "\n",
    "y_offset = -2\n",
    "z_offset = 1\n",
    "\n",
    "ax.text(head[0], head[1] + y_offset, head[2] + z_offset, '$\\mathbf{p}_{head}$', fontsize=16)\n",
    "ax.text(foot_x[0], foot_x[1] + y_offset, foot_x[2] + z_offset, '$\\mathbf{p}_{foot, x}$', fontsize=16)\n",
    "ax.text(foot_y[0], foot_y[1] + y_offset, foot_y[2] + z_offset, '$\\mathbf{p}_{foot, y}$', fontsize=16)\n",
    "\n",
    "\n",
    "pl.connect_points_3(ax, foot_mean, head, c='k', linestyle=':')\n",
    "pl.connect_points_3(ax, foot_x, foot_y, c='k', linestyle=':')\n",
    "\n",
    "forward_line, = pl.connect_points_3(ax, foot_mean, foot_mean + 7.5 * forward, linestyle='-')\n",
    "up_line, = pl.connect_points_3(ax, foot_mean, foot_mean + 3 * up, linestyle='-')\n",
    "target_line, = pl.connect_points_3(ax, foot_mean, foot_mean + 5 * lin.unit(target), linestyle='-')\n",
    "normal_line, = pl.connect_points_3(ax, foot_mean, foot_mean + 0.75 * normal, linestyle='-')\n",
    "\n",
    "\n",
    "lines = [forward_line, up_line, target_line, normal_line]\n",
    "\n",
    "labels = ['$\\mathbf{v}_{forward}$', \n",
    "          '$\\mathbf{v}_{up}$',\n",
    "          '$\\mathbf{v}_{target}$', \n",
    "          '$\\mathbf{v}_{normal}$',\n",
    "         ]\n",
    "\n",
    "ax.set_zlim([0, 8])\n",
    "\n",
    "plt.legend(lines, labels, fontsize=16)\n",
    "\n",
    "\n",
    "plt.axis('off')\n",
    "plt.show()"
   ]
  },
  {
   "cell_type": "code",
   "execution_count": 49,
   "metadata": {},
   "outputs": [],
   "source": [
    "fig.savefig('side_assignment.pdf', format='pdf', dpi=1200)"
   ]
  },
  {
   "cell_type": "code",
   "execution_count": null,
   "metadata": {},
   "outputs": [],
   "source": []
  }
 ],
 "metadata": {
  "kernelspec": {
   "display_name": "Python 3",
   "language": "python",
   "name": "python3"
  },
  "language_info": {
   "codemirror_mode": {
    "name": "ipython",
    "version": 3
   },
   "file_extension": ".py",
   "mimetype": "text/x-python",
   "name": "python",
   "nbconvert_exporter": "python",
   "pygments_lexer": "ipython3",
   "version": "3.6.6"
  }
 },
 "nbformat": 4,
 "nbformat_minor": 2
}
