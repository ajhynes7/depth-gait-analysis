{
 "cells": [
  {
   "cell_type": "markdown",
   "metadata": {},
   "source": [
    "## Check for atypical (negative) step length"
   ]
  },
  {
   "cell_type": "code",
   "execution_count": 1,
   "metadata": {},
   "outputs": [],
   "source": [
    "import glob\n",
    "import os\n",
    "\n",
    "import numpy as np\n",
    "import pandas as pd\n",
    "\n",
    "load_dir = os.path.join('..', '..', 'data', 'zeno', 'raw')\n",
    "\n",
    "labels = [\n",
    "    'Step Length (cm.)', 'Stride Length (cm.)', 'Stride Width (cm.)',\n",
    "    'Stride Velocity (cm./sec.)', 'Absolute Step Length (cm.)',\n",
    "    'Stride Time (sec.)', 'Stance %', 'Total D. Support %'\n",
    "]\n",
    "\n",
    "new_labels = [\n",
    "    'step_length', 'stride_length', 'stride_width', 'stride_velocity',\n",
    "    'absolute_step_length', 'stride_time', 'stance_percentage',\n",
    "    'double_stance_percentage'\n",
    "]\n",
    "\n",
    "label_dict = {k: v for k, v in zip(labels, new_labels)}\n",
    "\n",
    "# All files with .xlsx extension\n",
    "file_paths = sorted(glob.glob(os.path.join(load_dir, '*.xlsx')))\n",
    "\n",
    "# %% Read gait metrics from each Zeno file\n",
    "\n",
    "list_l, list_r = [], []"
   ]
  },
  {
   "cell_type": "code",
   "execution_count": 2,
   "metadata": {},
   "outputs": [],
   "source": [
    "has_neg_step = []\n",
    "\n",
    "for file_path in file_paths:\n",
    "\n",
    "    base_name = os.path.basename(file_path)  # File with extension\n",
    "    file_name = os.path.splitext(base_name)[0]  # File with no extension\n",
    "\n",
    "    df = pd.read_excel(file_path)\n",
    "\n",
    "    # Locate the gait metric labels in the Excel file\n",
    "    bool_array = df.applymap(\n",
    "        lambda x: 'Step Time' in x if isinstance(x, str) else False).values\n",
    "\n",
    "    row_gait, _ = np.argwhere(bool_array)[0]\n",
    "    df.columns = df.iloc[row_gait, :]\n",
    "\n",
    "    df_gait = df.iloc[row_gait + 1:]\n",
    "\n",
    "    df_gait.columns.values[0] = 'Type'\n",
    "    df_gait.columns.values[1] = 'Side'\n",
    "    df_gait = df_gait.set_index(['Type', 'Side'])\n",
    "    \n",
    "    df_step_length = df_gait.filter(like='Step Length', axis=1)\n",
    "    contains_neg = np.any(df_step_length < 0)\n",
    "\n",
    "    has_neg_step.append(contains_neg)\n",
    "    \n",
    "    if np.any(contains_neg):\n",
    "        \n",
    "        break"
   ]
  },
  {
   "cell_type": "code",
   "execution_count": 6,
   "metadata": {},
   "outputs": [
    {
     "data": {
      "text/plain": [
       "'B_2014-12-22_P005_Post_tw_C'"
      ]
     },
     "execution_count": 6,
     "metadata": {},
     "output_type": "execute_result"
    }
   ],
   "source": [
    "file_name"
   ]
  },
  {
   "cell_type": "code",
   "execution_count": null,
   "metadata": {},
   "outputs": [],
   "source": []
  }
 ],
 "metadata": {
  "kernelspec": {
   "display_name": "Python [conda env:depth_gait_env]",
   "language": "python",
   "name": "conda-env-depth_gait_env-py"
  },
  "language_info": {
   "codemirror_mode": {
    "name": "ipython",
    "version": 3
   },
   "file_extension": ".py",
   "mimetype": "text/x-python",
   "name": "python",
   "nbconvert_exporter": "python",
   "pygments_lexer": "ipython3",
   "version": "3.7.0"
  }
 },
 "nbformat": 4,
 "nbformat_minor": 2
}
