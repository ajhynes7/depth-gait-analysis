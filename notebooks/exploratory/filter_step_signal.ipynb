{
 "cells": [
  {
   "cell_type": "code",
   "execution_count": 1,
   "metadata": {},
   "outputs": [],
   "source": [
    "import numpy as np\n",
    "import matplotlib.pyplot as plt\n",
    "from scipy.ndimage.filters import median_filter\n",
    "from sklearn.cluster import KMeans\n",
    "\n",
    "import sys\n",
    "sys.path.append('../..')\n",
    "\n",
    "import analysis.plotting as pl\n",
    "\n",
    "import modules.numpy_funcs as nf\n",
    "import modules.sliding_window as sw\n",
    "import modules.point_processing as pp"
   ]
  },
  {
   "cell_type": "code",
   "execution_count": 2,
   "metadata": {},
   "outputs": [],
   "source": [
    "%matplotlib inline"
   ]
  },
  {
   "cell_type": "code",
   "execution_count": 3,
   "metadata": {},
   "outputs": [],
   "source": [
    "nan = np.nan\n",
    "\n",
    "step_signal = np.array([-95.56630829,          nan, -78.15425136, -78.81894798,\n",
    "       -71.63163687, -61.27495678, -66.12785874, -67.90757715,\n",
    "       -62.75731559, -63.80955308, -65.60490861, -69.10370756,\n",
    "       -69.13234081, -68.55199243, -70.15700107, -55.63385568,\n",
    "       -59.06828057, -64.62986496, -61.55759836, -64.46608376,\n",
    "       -61.50213288, -60.56376064, -58.24302396, -58.98413534,\n",
    "       -48.32609216, -43.42692644, -23.96247563, -12.64607504,\n",
    "        -6.13813389,  -2.18294417,  17.0495069 ,  43.2988278 ,\n",
    "        51.37419197,  62.84523709,  67.7787992 ,  64.54898657,\n",
    "        60.54191874,  60.4519584 ,  64.48190959,  60.49417039,\n",
    "        62.54351928,  58.35838403,  53.70820615,  59.9941541 ,\n",
    "        64.7581504 ,  63.95598798,  62.90839295,  68.77047273,\n",
    "        64.8614836 ,  66.10117607,  66.85145543,  71.95096187,\n",
    "        73.6744328 ,  80.97149068,  88.76933145, 105.27473352,\n",
    "       113.79454627, 117.26332369, 123.4508089 , 125.01451702,\n",
    "       150.14643891, 175.38411348, 177.86243284, 179.78997636,\n",
    "       178.92919995, 181.6991404 , 176.12126665, 174.821038  ,\n",
    "       151.72296028, 157.52657446, 163.95090529, 173.01162629,\n",
    "       171.3756342 , 174.17433144, 174.73031052, 179.26404485,\n",
    "       176.84927076,          nan,          nan,          nan,\n",
    "                nan,          nan,          nan,          nan,\n",
    "                nan,          nan,          nan,          nan,\n",
    "                nan,          nan,          nan,          nan,\n",
    "                nan,          nan,          nan,          nan,\n",
    "                nan,          nan,          nan,          nan,\n",
    "                nan,          nan,          nan,  51.91432109])\n",
    "\n",
    "# step_signal = np.array([-78.15425136, -71.63163687, -71.63163687, -95.56630829,\n",
    "#        -71.63163687, -67.90757715, -78.81894798, -66.12785874,\n",
    "#        -66.12785874, -66.12785874, -66.12785874, -66.12785874,\n",
    "#        -65.60490861, -64.62986496, -64.62986496, -64.62986496,\n",
    "#        -64.46608376, -61.55759836, -61.50213288, -60.56376064,\n",
    "#        -59.06828057, -59.06828057, -58.98413534, -58.24302396,\n",
    "#        -48.32609216, -43.42692644, -23.96247563, -12.64607504,\n",
    "#         -6.13813389,  -2.18294417,  17.0495069 ,  43.2988278 ,\n",
    "#         51.37419197,  60.4519584 ,  60.54191874,  60.54191874,\n",
    "#         62.54351928,  62.54351928,  62.54351928,  60.54191874,\n",
    "#         60.54191874,  60.54191874,  62.54351928,  62.90839295,\n",
    "#         62.90839295,  63.95598798,  64.7581504 ,  64.8614836 ,\n",
    "#         66.10117607,  66.85145543,  68.77047273,  71.95096187,\n",
    "#         73.6744328 ,  80.97149068,  88.76933145, 105.27473352,\n",
    "#        113.79454627, 117.26332369, 123.4508089 , 125.01451702,\n",
    "#        150.14643891, 175.38411348, 176.12126665, 176.12126665,\n",
    "#        176.12126665, 176.12126665, 176.12126665, 176.12126665,\n",
    "#        174.821038  , 174.17433144, 174.17433144, 174.17433144,\n",
    "#        174.17433144, 173.01162629, 173.01162629, 173.01162629,\n",
    "#        173.01162629, 171.3756342 , 174.17433144, 174.73031052,\n",
    "#                 nan,          nan,          nan,          nan,\n",
    "#                 nan,          nan,          nan,          nan,\n",
    "#                 nan,          nan,          nan,          nan,\n",
    "#                 nan,          nan,          nan,          nan,\n",
    "#                 nan,          nan,          nan,          nan,\n",
    "#                 nan,          nan,          nan,          nan])"
   ]
  },
  {
   "cell_type": "code",
   "execution_count": 4,
   "metadata": {},
   "outputs": [],
   "source": [
    "def clean_step_signal(step_signal):\n",
    "\n",
    "    signal_zero = np.where(np.isnan(step_signal), 0, step_signal)\n",
    "    \n",
    "    signal_filtered = median_filter(signal_zero, 3, mode='constant')\n",
    "    \n",
    "    return np.where(signal_filtered == 0, np.nan, step_signal)"
   ]
  },
  {
   "cell_type": "code",
   "execution_count": 5,
   "metadata": {},
   "outputs": [
    {
     "data": {
      "text/plain": [
       "<matplotlib.collections.PathCollection at 0x7f26bf9777b8>"
      ]
     },
     "execution_count": 5,
     "metadata": {},
     "output_type": "execute_result"
    },
    {
     "data": {
      "image/png": "[encoded data removed]",
      "text/plain": [
       "<Figure size 432x288 with 1 Axes>"
      ]
     },
     "metadata": {
      "needs_background": "light"
     },
     "output_type": "display_data"
    }
   ],
   "source": [
    "plt.scatter(range(len(step_signal)), step_signal)"
   ]
  },
  {
   "cell_type": "code",
   "execution_count": 6,
   "metadata": {},
   "outputs": [],
   "source": [
    "step_signal = clean_step_signal(step_signal)"
   ]
  },
  {
   "cell_type": "code",
   "execution_count": 7,
   "metadata": {},
   "outputs": [
    {
     "data": {
      "text/plain": [
       "<matplotlib.collections.PathCollection at 0x7f26bf911f98>"
      ]
     },
     "execution_count": 7,
     "metadata": {},
     "output_type": "execute_result"
    },
    {
     "data": {
      "image/png": "[encoded data removed]",
      "text/plain": [
       "<Figure size 432x288 with 1 Axes>"
      ]
     },
     "metadata": {
      "needs_background": "light"
     },
     "output_type": "display_data"
    }
   ],
   "source": [
    "plt.scatter(range(len(step_signal)), step_signal)"
   ]
  },
  {
   "cell_type": "code",
   "execution_count": 8,
   "metadata": {},
   "outputs": [
    {
     "name": "stderr",
     "output_type": "stream",
     "text": [
      "../../modules/sliding_window.py:153: RuntimeWarning: Degrees of freedom <= 0 for slice.\n",
      "  return [func(x) for x in generate_window(padded, n)]\n"
     ]
    }
   ],
   "source": [
    "pad_width = 5\n",
    "variances = sw.apply_to_padded(\n",
    "    step_signal, np.nanvar, pad_width, 'reflect', reflect_type='odd')\n",
    "\n",
    "points_to_cluster = nf.to_column(nf.remove_nan(np.array(variances)))\n",
    "k_means = KMeans(n_clusters=2, random_state=0).fit(points_to_cluster)\n",
    "\n",
    "# is_stance = k_means.labels_ == stance_label"
   ]
  },
  {
   "cell_type": "code",
   "execution_count": 9,
   "metadata": {},
   "outputs": [],
   "source": [
    "stance_label = np.argmin(k_means.cluster_centers_)\n",
    "\n",
    "signal_labels = pp.assign_to_closest(nf.to_column(variances), k_means.cluster_centers_)"
   ]
  },
  {
   "cell_type": "code",
   "execution_count": 10,
   "metadata": {},
   "outputs": [],
   "source": [
    "is_stance = np.logical_and(signal_labels == stance_label, ~np.isnan(variances))"
   ]
  },
  {
   "cell_type": "code",
   "execution_count": 11,
   "metadata": {},
   "outputs": [
    {
     "data": {
      "image/png": "[encoded data removed]",
      "text/plain": [
       "<Figure size 432x288 with 1 Axes>"
      ]
     },
     "metadata": {
      "needs_background": "light"
     },
     "output_type": "display_data"
    }
   ],
   "source": [
    "points = np.column_stack([range(len(step_signal)), step_signal])\n",
    "pl.scatter_labels(points, is_stance)"
   ]
  },
  {
   "cell_type": "code",
   "execution_count": null,
   "metadata": {},
   "outputs": [],
   "source": []
  },
  {
   "cell_type": "code",
   "execution_count": null,
   "metadata": {},
   "outputs": [],
   "source": []
  },
  {
   "cell_type": "code",
   "execution_count": null,
   "metadata": {},
   "outputs": [],
   "source": []
  },
  {
   "cell_type": "code",
   "execution_count": null,
   "metadata": {},
   "outputs": [],
   "source": []
  },
  {
   "cell_type": "code",
   "execution_count": null,
   "metadata": {},
   "outputs": [],
   "source": []
  }
 ],
 "metadata": {
  "kernelspec": {
   "display_name": "Python [conda env:depth_gait_env]",
   "language": "python",
   "name": "conda-env-depth_gait_env-py"
  },
  "language_info": {
   "codemirror_mode": {
    "name": "ipython",
    "version": 3
   },
   "file_extension": ".py",
   "mimetype": "text/x-python",
   "name": "python",
   "nbconvert_exporter": "python",
   "pygments_lexer": "ipython3",
   "version": "3.7.0"
  }
 },
 "nbformat": 4,
 "nbformat_minor": 2
}
