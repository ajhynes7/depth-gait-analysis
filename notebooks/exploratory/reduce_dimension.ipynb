{
 "cells": [
  {
   "cell_type": "code",
   "execution_count": 19,
   "metadata": {},
   "outputs": [],
   "source": [
    "import os\n",
    "import sys\n",
    "\n",
    "import matplotlib.pyplot as plt\n",
    "from mpl_toolkits.mplot3d import Axes3D\n",
    "\n",
    "sys.path.append(os.path.join('..', '..'))\n",
    "\n",
    "import analysis.plotting as pl\n",
    "import modules.linear_algebra as lin"
   ]
  },
  {
   "cell_type": "code",
   "execution_count": 40,
   "metadata": {},
   "outputs": [
    {
     "name": "stdout",
     "output_type": "stream",
     "text": [
      "Using matplotlib backend: Qt5Agg\n"
     ]
    }
   ],
   "source": [
    "%matplotlib auto"
   ]
  },
  {
   "cell_type": "code",
   "execution_count": 20,
   "metadata": {},
   "outputs": [],
   "source": [
    "\"\"\"Script to calculate gait metrics from Kinect data.\"\"\"\n",
    "\n",
    "import glob\n",
    "import os\n",
    "\n",
    "import numpy as np\n",
    "from numpy.linalg import norm\n",
    "import pandas as pd\n",
    "from sklearn.cluster import MeanShift\n",
    "\n",
    "import analysis.stats as st\n",
    "import modules.gait_metrics as gm\n",
    "import modules.numpy_funcs as nf\n",
    "\n",
    "load_dir = os.path.join('..', '..', 'data', 'kinect', 'best_pos')\n",
    "save_dir = os.path.join('..', '..', 'data', 'results')\n",
    "\n",
    "save_name = 'kinect_gait_metrics.csv'\n",
    "\n",
    "# All files with .pkl extension\n",
    "file_paths = sorted(glob.glob(os.path.join(load_dir, '*.pkl')))\n",
    "save_path = os.path.join(save_dir, save_name)\n",
    "\n",
    "df_metrics = pd.read_csv(save_path, index_col=0)\n",
    "\n",
    "for file_path in file_paths[:1]:\n",
    "\n",
    "    df_head_feet = pd.read_pickle(file_path)\n",
    "    frames = df_head_feet.index\n",
    "\n",
    "    # Convert all points to floats to allow for future calculations (e.g. np.isnan)\n",
    "    df_head_feet = df_head_feet.applymap(lambda point: point.astype(np.float))\n",
    "\n",
    "    # Remove outliers\n",
    "    dist_to_foot_l = (df_head_feet.HEAD - df_head_feet.L_FOOT).apply(norm)\n",
    "    dist_to_foot_r = (df_head_feet.HEAD - df_head_feet.R_FOOT).apply(norm)\n",
    "\n",
    "    to_filter = st.relative_error(\n",
    "        dist_to_foot_l, dist_to_foot_r, absolute=True)\n",
    "    filtered = st.mad_outliers(to_filter, 2)\n",
    "\n",
    "    good_frames = np.unique(frames[~np.isnan(filtered)])\n",
    "    keep_frame = np.in1d(frames, good_frames)\n",
    "\n",
    "    df_head_feet = df_head_feet[keep_frame]\n",
    "    frames = df_head_feet.index\n",
    "\n",
    "    # Cluster frames with mean shift to locate the walking passes\n",
    "    mean_shift = MeanShift(bandwidth=60).fit(nf.to_column(frames))\n",
    "    labels = mean_shift.labels_\n",
    "    \n",
    "    # Sort labels so that the frames are in temporal order\n",
    "    labels = nf.map_to_whole(labels)\n",
    "\n",
    "    # DataFrames for each walking pass in a trial\n",
    "    pass_dfs = nf.group_by_label(df_head_feet, labels)"
   ]
  },
  {
   "cell_type": "code",
   "execution_count": 21,
   "metadata": {},
   "outputs": [],
   "source": [
    "df_pass = next(pass_dfs)"
   ]
  },
  {
   "cell_type": "code",
   "execution_count": 22,
   "metadata": {},
   "outputs": [],
   "source": [
    "head_points = np.stack(df_pass.HEAD)\n",
    "foot_points_1 = np.stack(df_pass.L_FOOT)\n",
    "foot_points_2 = np.stack(df_pass.R_FOOT)"
   ]
  },
  {
   "cell_type": "code",
   "execution_count": 23,
   "metadata": {},
   "outputs": [],
   "source": [
    "mean_foot_points = (foot_points_1 + foot_points_2) / 2"
   ]
  },
  {
   "cell_type": "code",
   "execution_count": 24,
   "metadata": {},
   "outputs": [],
   "source": [
    "normal = lin.unit(np.median(head_points - mean_foot_points, axis=0))\n",
    "\n",
    "# Line of best fit for head positions\n",
    "line_point, direction_pass = lin.best_fit_line(head_points)"
   ]
  },
  {
   "cell_type": "code",
   "execution_count": 26,
   "metadata": {},
   "outputs": [],
   "source": [
    "df_projected = df_head_feet.applymap(lambda x: lin.project_point_plane(x, line_point, normal))"
   ]
  },
  {
   "cell_type": "code",
   "execution_count": 32,
   "metadata": {},
   "outputs": [],
   "source": [
    "foot_points = np.vstack([foot_points_1, foot_points_2])"
   ]
  },
  {
   "cell_type": "code",
   "execution_count": 42,
   "metadata": {},
   "outputs": [
    {
     "ename": "AttributeError",
     "evalue": "module 'analysis.plotting' has no attribute 'plot_plane'",
     "output_type": "error",
     "traceback": [
      "\u001b[0;31m---------------------------------------------------------------------------\u001b[0m",
      "\u001b[0;31mAttributeError\u001b[0m                            Traceback (most recent call last)",
      "\u001b[0;32m<ipython-input-42-1075dcd4277f>\u001b[0m in \u001b[0;36m<module>\u001b[0;34m\u001b[0m\n\u001b[1;32m     10\u001b[0m \u001b[0my_range\u001b[0m \u001b[0;34m=\u001b[0m \u001b[0mnp\u001b[0m\u001b[0;34m.\u001b[0m\u001b[0marange\u001b[0m\u001b[0;34m(\u001b[0m\u001b[0my_min\u001b[0m\u001b[0;34m,\u001b[0m \u001b[0my_max\u001b[0m\u001b[0;34m)\u001b[0m\u001b[0;34m\u001b[0m\u001b[0m\n\u001b[1;32m     11\u001b[0m \u001b[0;34m\u001b[0m\u001b[0m\n\u001b[0;32m---> 12\u001b[0;31m \u001b[0mpl\u001b[0m\u001b[0;34m.\u001b[0m\u001b[0mplot_plane\u001b[0m\u001b[0;34m(\u001b[0m\u001b[0max\u001b[0m\u001b[0;34m,\u001b[0m \u001b[0mpoint\u001b[0m\u001b[0;34m,\u001b[0m \u001b[0mnormal\u001b[0m\u001b[0;34m,\u001b[0m \u001b[0mx_range\u001b[0m\u001b[0;34m=\u001b[0m\u001b[0mx_range\u001b[0m\u001b[0;34m,\u001b[0m \u001b[0my_range\u001b[0m\u001b[0;34m=\u001b[0m\u001b[0my_range\u001b[0m\u001b[0;34m,\u001b[0m \u001b[0malpha\u001b[0m\u001b[0;34m=\u001b[0m\u001b[0;36m0.2\u001b[0m\u001b[0;34m)\u001b[0m\u001b[0;34m\u001b[0m\u001b[0m\n\u001b[0m",
      "\u001b[0;31mAttributeError\u001b[0m: module 'analysis.plotting' has no attribute 'plot_plane'"
     ]
    }
   ],
   "source": [
    "fig, ax = plt.subplots()\n",
    "ax = Axes3D(fig)\n",
    "\n",
    "pl.scatter3(ax, foot_points, color='k', depthshade=False)\n",
    "\n",
    "# Calculate axis limits\n",
    "x_min, x_max = ax.get_xlim3d()\n",
    "x_range = np.arange(x_min, x_max)\n",
    "y_min, y_max = ax.get_ylim3d()\n",
    "y_range = np.arange(y_min, y_max)\n",
    "\n",
    "pl.plot_plane(ax, point, normal, x_range=x_range, y_range=y_range, alpha=0.2)"
   ]
  },
  {
   "cell_type": "code",
   "execution_count": null,
   "metadata": {},
   "outputs": [],
   "source": []
  },
  {
   "cell_type": "code",
   "execution_count": null,
   "metadata": {},
   "outputs": [],
   "source": []
  }
 ],
 "metadata": {
  "kernelspec": {
   "display_name": "Python [conda env:depth_gait_env]",
   "language": "python",
   "name": "conda-env-depth_gait_env-py"
  },
  "language_info": {
   "codemirror_mode": {
    "name": "ipython",
    "version": 3
   },
   "file_extension": ".py",
   "mimetype": "text/x-python",
   "name": "python",
   "nbconvert_exporter": "python",
   "pygments_lexer": "ipython3",
   "version": "3.7.0"
  }
 },
 "nbformat": 4,
 "nbformat_minor": 2
}
