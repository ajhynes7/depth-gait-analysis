{
 "cells": [
  {
   "cell_type": "code",
   "execution_count": 1,
   "metadata": {},
   "outputs": [],
   "source": [
    "import os\n",
    "import sys\n",
    "\n",
    "import matplotlib.pyplot as plt\n",
    "from mpl_toolkits.mplot3d import Axes3D\n",
    "\n",
    "sys.path.append(os.path.join('..', '..'))\n",
    "\n",
    "from numpy.linalg import norm\n",
    "\n",
    "import analysis.plotting as pl\n",
    "import modules.linear_algebra as lin\n",
    "import modules.point_processing as pp"
   ]
  },
  {
   "cell_type": "code",
   "execution_count": 2,
   "metadata": {},
   "outputs": [],
   "source": [
    "%matplotlib inline"
   ]
  },
  {
   "cell_type": "code",
   "execution_count": 3,
   "metadata": {},
   "outputs": [],
   "source": [
    "\"\"\"Script to calculate gait metrics from Kinect data.\"\"\"\n",
    "\n",
    "import glob\n",
    "import os\n",
    "\n",
    "import numpy as np\n",
    "from numpy.linalg import norm\n",
    "import pandas as pd\n",
    "from sklearn.cluster import MeanShift\n",
    "\n",
    "import analysis.stats as st\n",
    "import modules.gait_metrics as gm\n",
    "import modules.numpy_funcs as nf\n",
    "\n",
    "load_dir = os.path.join('..', '..', 'data', 'kinect', 'best_pos')\n",
    "save_dir = os.path.join('..', '..', 'data', 'results')\n",
    "\n",
    "save_name = 'kinect_gait_metrics.csv'\n",
    "\n",
    "# All files with .pkl extension\n",
    "file_paths = sorted(glob.glob(os.path.join(load_dir, '*.pkl')))\n",
    "save_path = os.path.join(save_dir, save_name)\n",
    "\n",
    "df_metrics = pd.read_csv(save_path, index_col=0)\n",
    "\n",
    "for file_path in file_paths[:1]:\n",
    "\n",
    "    df_head_feet = pd.read_pickle(file_path)\n",
    "    frames = df_head_feet.index\n",
    "\n",
    "    # Convert all points to floats to allow for future calculations (e.g. np.isnan)\n",
    "    df_head_feet = df_head_feet.applymap(lambda point: point.astype(np.float))\n",
    "\n",
    "    # Remove outliers\n",
    "    dist_to_foot_l = (df_head_feet.HEAD - df_head_feet.L_FOOT).apply(norm)\n",
    "    dist_to_foot_r = (df_head_feet.HEAD - df_head_feet.R_FOOT).apply(norm)\n",
    "\n",
    "    to_filter = st.relative_error(\n",
    "        dist_to_foot_l, dist_to_foot_r, absolute=True)\n",
    "    filtered = st.mad_outliers(to_filter, 2)\n",
    "\n",
    "    good_frames = np.unique(frames[~np.isnan(filtered)])\n",
    "    keep_frame = np.in1d(frames, good_frames)\n",
    "\n",
    "    df_head_feet = df_head_feet[keep_frame]\n",
    "    frames = df_head_feet.index\n",
    "\n",
    "    # Cluster frames with mean shift to locate the walking passes\n",
    "    mean_shift = MeanShift(bandwidth=60).fit(nf.to_column(frames))\n",
    "    labels = mean_shift.labels_\n",
    "    \n",
    "    # Sort labels so that the frames are in temporal order\n",
    "    labels = nf.map_to_whole(labels)\n",
    "\n",
    "    # DataFrames for each walking pass in a trial\n",
    "    pass_dfs = list(nf.group_by_label(df_head_feet, labels))"
   ]
  },
  {
   "cell_type": "code",
   "execution_count": 4,
   "metadata": {},
   "outputs": [],
   "source": [
    "df_pass = pass_dfs[0]"
   ]
  },
  {
   "cell_type": "code",
   "execution_count": 5,
   "metadata": {},
   "outputs": [],
   "source": [
    "df_2d = df_pass.applymap(lambda point: np.array([point[2], point[0]]))"
   ]
  },
  {
   "cell_type": "code",
   "execution_count": 6,
   "metadata": {},
   "outputs": [],
   "source": [
    "head_points = np.stack(df_2d.HEAD)\n",
    "foot_points_1 = np.stack(df_2d.L_FOOT)\n",
    "foot_points_2 = np.stack(df_2d.R_FOOT)\n",
    "\n"
   ]
  },
  {
   "cell_type": "code",
   "execution_count": 7,
   "metadata": {},
   "outputs": [],
   "source": [
    "def estimate_direction(mean_foot_points):\n",
    "        \n",
    "    vectors = np.diff(mean_foot_points, axis=0)\n",
    "    median_vector = np.median(vectors, axis=0)\n",
    "\n",
    "    return lin.unit(median_vector)\n"
   ]
  },
  {
   "cell_type": "code",
   "execution_count": 8,
   "metadata": {},
   "outputs": [
    {
     "data": {
      "text/plain": [
       "[<matplotlib.lines.Line2D at 0x7f13610cb978>]"
      ]
     },
     "execution_count": 8,
     "metadata": {},
     "output_type": "execute_result"
    },
    {
     "data": {
      "image/png": "[encoded data removed]",
      "text/plain": [
       "<Figure size 432x288 with 1 Axes>"
      ]
     },
     "metadata": {
      "needs_background": "light"
     },
     "output_type": "display_data"
    }
   ],
   "source": [
    "foot_dist = np.apply_along_axis(norm, 1, foot_points_1 - foot_points_2)\n",
    "plt.plot(foot_dist)"
   ]
  },
  {
   "cell_type": "code",
   "execution_count": 9,
   "metadata": {},
   "outputs": [
    {
     "data": {
      "image/png": "[encoded data removed]",
      "text/plain": [
       "<Figure size 432x288 with 1 Axes>"
      ]
     },
     "metadata": {
      "needs_background": "light"
     },
     "output_type": "display_data"
    }
   ],
   "source": [
    "foot_points_a, foot_points_b = pp.track_two_objects(foot_points_1, foot_points_2)\n",
    "\n",
    "mean_foot_points = (foot_points_1 + foot_points_2) / 2\n",
    "direction_pass = estimate_direction(mean_foot_points)\n",
    "line_point = np.median(mean_foot_points, axis=0)\n",
    "\n",
    "plt.figure()\n",
    "\n",
    "coeff = 100\n",
    "\n",
    "# pl.scatter2(head_points, c='k')\n",
    "pl.scatter2(foot_points_b[20:40, :], c='b')\n",
    "# pl.scatter2(foot_points_b[:10, :], c='r')\n",
    "\n",
    "pl.connect_points(line_point - coeff * direction_pass, \n",
    "                  line_point + coeff * direction_pass)\n",
    "plt.show()"
   ]
  },
  {
   "cell_type": "code",
   "execution_count": null,
   "metadata": {},
   "outputs": [],
   "source": []
  }
 ],
 "metadata": {
  "kernelspec": {
   "display_name": "Python [conda env:depth_gait_env]",
   "language": "python",
   "name": "conda-env-depth_gait_env-py"
  },
  "language_info": {
   "codemirror_mode": {
    "name": "ipython",
    "version": 3
   },
   "file_extension": ".py",
   "mimetype": "text/x-python",
   "name": "python",
   "nbconvert_exporter": "python",
   "pygments_lexer": "ipython3",
   "version": "3.7.0"
  }
 },
 "nbformat": 4,
 "nbformat_minor": 2
}
