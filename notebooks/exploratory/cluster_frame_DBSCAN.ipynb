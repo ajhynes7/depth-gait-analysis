{
 "cells": [
  {
   "cell_type": "code",
   "execution_count": 1,
   "metadata": {},
   "outputs": [],
   "source": [
    "import os\n",
    "\n",
    "os.chdir('../..')"
   ]
  },
  {
   "cell_type": "code",
   "execution_count": 2,
   "metadata": {},
   "outputs": [],
   "source": [
    "import matplotlib.pyplot as plt"
   ]
  },
  {
   "cell_type": "code",
   "execution_count": 3,
   "metadata": {},
   "outputs": [
    {
     "name": "stdout",
     "output_type": "stream",
     "text": [
      "Using matplotlib backend: Qt5Agg\n"
     ]
    }
   ],
   "source": [
    "%matplotlib auto"
   ]
  },
  {
   "cell_type": "code",
   "execution_count": 4,
   "metadata": {},
   "outputs": [],
   "source": [
    "import analysis.plotting as pl\n",
    "from sklearn.metrics import accuracy_score"
   ]
  },
  {
   "cell_type": "code",
   "execution_count": 5,
   "metadata": {},
   "outputs": [],
   "source": [
    "trial = 51"
   ]
  },
  {
   "cell_type": "code",
   "execution_count": 6,
   "metadata": {},
   "outputs": [],
   "source": [
    "\"\"\"Script to calculate gait parameters from Kinect data.\"\"\"\n",
    "\n",
    "import os\n",
    "\n",
    "import numpy as np\n",
    "import pandas as pd\n",
    "from sklearn.cluster import DBSCAN\n",
    "\n",
    "import modules.gait_parameters as gp\n",
    "import modules.numpy_funcs as nf\n",
    "\n",
    "\n",
    "load_dir = os.path.join('data', 'kinect', 'best_pos')\n",
    "save_dir = os.path.join('data', 'kinect', 'gait_params')\n",
    "match_dir = os.path.join('data', 'matching')\n",
    "\n",
    "df_match = pd.read_csv(os.path.join(match_dir, 'match_kinect_zeno.csv'))\n",
    "\n",
    "\n",
    "load_total_dir = os.path.join('results', 'dataframes')\n",
    "df_total_k = pd.read_pickle(os.path.join(load_total_dir, 'df_total_k.pkl'))\n",
    "df_total_z = pd.read_pickle(os.path.join(load_total_dir, 'df_total_z.pkl'))\n",
    "\n",
    "pass_counts_z = df_total_z.groupby(['trial_id']).nunique()['pass']\n",
    "pass_counts_k = pd.Series(index=pass_counts_z.index)\n",
    "\n",
    "\n",
    "for match_row in df_match.itertuples():\n",
    "    \n",
    "    trial_id, file_name = match_row.trial_id, match_row.kinect\n",
    "\n",
    "    file_path = os.path.join(load_dir, file_name + '.pkl')\n",
    "\n",
    "    df_head_feet = pd.read_pickle(file_path)\n",
    "    frames = df_head_feet.index\n",
    "\n",
    "    # Convert points to floats to allow future calculations (e.g. np.isnan)\n",
    "    df_head_feet = df_head_feet.applymap(lambda point: point.astype(np.float))\n",
    "\n",
    "    # Cluster frames with mean shift to locate the walking passes\n",
    "    clustering = DBSCAN(eps=5).fit(nf.to_column(frames))\n",
    "    labels = clustering.labels_\n",
    "    \n",
    "    pass_counts_k.loc[trial_id] = sum(np.unique(labels) >= 0)\n",
    "    \n",
    "    if trial_id == trial:\n",
    "        break"
   ]
  },
  {
   "cell_type": "code",
   "execution_count": 7,
   "metadata": {},
   "outputs": [],
   "source": [
    "# points = np.column_stack((frames, np.ones(len(frames))))\n",
    "# pl.scatter_labels(points, labels)"
   ]
  },
  {
   "cell_type": "code",
   "execution_count": 8,
   "metadata": {},
   "outputs": [],
   "source": [
    "df_match = df_match.set_index('trial_id')"
   ]
  },
  {
   "cell_type": "code",
   "execution_count": 9,
   "metadata": {},
   "outputs": [],
   "source": [
    "head_points = np.stack(df_head_feet.HEAD)"
   ]
  },
  {
   "cell_type": "code",
   "execution_count": 10,
   "metadata": {},
   "outputs": [
    {
     "data": {
      "text/plain": [
       "[<matplotlib.lines.Line2D at 0x7f07e3594748>]"
      ]
     },
     "execution_count": 10,
     "metadata": {},
     "output_type": "execute_result"
    }
   ],
   "source": [
    "plt.plot(head_points[:, 0])"
   ]
  },
  {
   "cell_type": "code",
   "execution_count": 11,
   "metadata": {},
   "outputs": [],
   "source": [
    "# pass_counts_k[pass_counts_k != pass_counts_z]"
   ]
  },
  {
   "cell_type": "code",
   "execution_count": 12,
   "metadata": {},
   "outputs": [],
   "source": [
    "# pass_counts_z[pass_counts_k != pass_counts_z]"
   ]
  },
  {
   "cell_type": "code",
   "execution_count": 13,
   "metadata": {},
   "outputs": [
    {
     "data": {
      "text/plain": [
       "4.0"
      ]
     },
     "execution_count": 13,
     "metadata": {},
     "output_type": "execute_result"
    }
   ],
   "source": [
    "pass_counts_k.loc[trial]"
   ]
  },
  {
   "cell_type": "code",
   "execution_count": 14,
   "metadata": {},
   "outputs": [
    {
     "data": {
      "text/plain": [
       "6"
      ]
     },
     "execution_count": 14,
     "metadata": {},
     "output_type": "execute_result"
    }
   ],
   "source": [
    "pass_counts_z.loc[trial]"
   ]
  },
  {
   "cell_type": "code",
   "execution_count": 16,
   "metadata": {},
   "outputs": [
    {
     "data": {
      "text/plain": [
       "zeno      B_2014-12-22_P007_Pre_tw_D\n",
       "kinect       2014-12-22_P007_Pre_003\n",
       "Name: 51, dtype: object"
      ]
     },
     "execution_count": 16,
     "metadata": {},
     "output_type": "execute_result"
    }
   ],
   "source": [
    "df_match.loc[trial]"
   ]
  },
  {
   "cell_type": "code",
   "execution_count": null,
   "metadata": {},
   "outputs": [],
   "source": []
  },
  {
   "cell_type": "code",
   "execution_count": null,
   "metadata": {},
   "outputs": [],
   "source": []
  },
  {
   "cell_type": "code",
   "execution_count": null,
   "metadata": {},
   "outputs": [],
   "source": []
  },
  {
   "cell_type": "code",
   "execution_count": null,
   "metadata": {},
   "outputs": [],
   "source": []
  },
  {
   "cell_type": "code",
   "execution_count": null,
   "metadata": {},
   "outputs": [],
   "source": []
  }
 ],
 "metadata": {
  "kernelspec": {
   "display_name": "Python [conda env:depth_gait_env]",
   "language": "python",
   "name": "conda-env-depth_gait_env-py"
  },
  "language_info": {
   "codemirror_mode": {
    "name": "ipython",
    "version": 3
   },
   "file_extension": ".py",
   "mimetype": "text/x-python",
   "name": "python",
   "nbconvert_exporter": "python",
   "pygments_lexer": "ipython3",
   "version": "3.7.0"
  }
 },
 "nbformat": 4,
 "nbformat_minor": 2
}
