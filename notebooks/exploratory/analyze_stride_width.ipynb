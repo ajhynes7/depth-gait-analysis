{
 "cells": [
  {
   "cell_type": "code",
   "execution_count": 1,
   "metadata": {},
   "outputs": [],
   "source": [
    "import os\n",
    "\n",
    "os.chdir('../..')"
   ]
  },
  {
   "cell_type": "markdown",
   "metadata": {},
   "source": [
    "## Calculate stride width using step length"
   ]
  },
  {
   "cell_type": "markdown",
   "metadata": {},
   "source": [
    "### Compare to negative values in Zeno sheet"
   ]
  },
  {
   "cell_type": "code",
   "execution_count": 2,
   "metadata": {},
   "outputs": [],
   "source": [
    "import os\n",
    "\n",
    "import numpy as np\n",
    "import matplotlib.pyplot as plt\n",
    "import pandas as pd\n",
    "\n",
    "load_dir = os.path.join('results', 'dataframes')\n",
    "save_dir = os.path.join('results', 'figures')\n",
    "\n",
    "df_total_k = pd.read_pickle(os.path.join(load_dir, 'df_total_k.pkl'))\n",
    "df_total_z = pd.read_pickle(os.path.join(load_dir, 'df_total_z.pkl'))\n",
    "\n",
    "# Columns that represent gait parameters\n",
    "gait_params = df_total_k.select_dtypes(float).columns\n",
    "\n",
    "df_trials_k = df_total_k.groupby('trial_id').median()[gait_params]\n",
    "df_trials_z = df_total_z.groupby('trial_id').median()[gait_params]\n",
    "\n",
    "df_sides_k = df_total_k.groupby(['trial_id', 'side']).median()[gait_params]\n",
    "df_sides_z = df_total_z.groupby(['trial_id', 'side']).median()[gait_params]\n"
   ]
  },
  {
   "cell_type": "code",
   "execution_count": 3,
   "metadata": {},
   "outputs": [],
   "source": [
    "# df_total_z[df_total_z.stride_width < 0]"
   ]
  },
  {
   "cell_type": "code",
   "execution_count": 4,
   "metadata": {},
   "outputs": [],
   "source": [
    "# df_total_z['stride_width_calc'] = np.sqrt(df_total_z.absolute_step_length ** 2 - df_total_z.step_length**2)"
   ]
  },
  {
   "cell_type": "code",
   "execution_count": 5,
   "metadata": {},
   "outputs": [],
   "source": [
    "# np.isclose(df_total_z.stride_width_calc.dropna(), np.abs(df_total_z.stride_width.dropna()), atol=0.5).sum()"
   ]
  },
  {
   "cell_type": "code",
   "execution_count": 14,
   "metadata": {},
   "outputs": [
    {
     "data": {
      "text/plain": [
       "Index(['stride', 'absolute_step_length', 'step_length', 'stride_length',\n",
       "       'stride_width', 'stride_velocity', 'stride_time', 'stance_percentage',\n",
       "       'stance_percentage_double', 'stride_width_calc'],\n",
       "      dtype='object')"
      ]
     },
     "execution_count": 14,
     "metadata": {},
     "output_type": "execute_result"
    }
   ],
   "source": [
    "df_total_z.groupby(['trial_id', 'pass']).median().columns"
   ]
  },
  {
   "cell_type": "code",
   "execution_count": 13,
   "metadata": {},
   "outputs": [
    {
     "data": {
      "text/plain": [
       "Index(['absolute_step_length', 'stance_percentage', 'stance_percentage_double',\n",
       "       'step_length', 'stride', 'stride_length', 'stride_time',\n",
       "       'stride_velocity', 'stride_width'],\n",
       "      dtype='object')"
      ]
     },
     "execution_count": 13,
     "metadata": {},
     "output_type": "execute_result"
    }
   ],
   "source": [
    "df_total_k.groupby(['trial_id', 'pass']).median().columns"
   ]
  },
  {
   "cell_type": "code",
   "execution_count": 7,
   "metadata": {},
   "outputs": [],
   "source": [
    "# Number of walking passes in each trial\n",
    "pass_counts_k = df_total_k.groupby(['trial_id']).nunique()['pass']\n",
    "pass_counts_z = df_total_z.groupby(['trial_id']).nunique()['pass']"
   ]
  },
  {
   "cell_type": "code",
   "execution_count": null,
   "metadata": {},
   "outputs": [],
   "source": []
  }
 ],
 "metadata": {
  "kernelspec": {
   "display_name": "Python [conda env:depth_gait_env]",
   "language": "python",
   "name": "conda-env-depth_gait_env-py"
  },
  "language_info": {
   "codemirror_mode": {
    "name": "ipython",
    "version": 3
   },
   "file_extension": ".py",
   "mimetype": "text/x-python",
   "name": "python",
   "nbconvert_exporter": "python",
   "pygments_lexer": "ipython3",
   "version": "3.7.0"
  }
 },
 "nbformat": 4,
 "nbformat_minor": 2
}
