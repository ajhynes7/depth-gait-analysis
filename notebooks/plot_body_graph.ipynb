{
 "cells": [
  {
   "cell_type": "code",
   "execution_count": 1,
   "metadata": {},
   "outputs": [],
   "source": [
    "import numpy as np\n",
    "import matplotlib.pyplot as plt\n",
    "\n",
    "import sys\n",
    "sys.path.append('..')\n",
    "\n",
    "import modules.plotting as pl\n",
    "import modules.iterable_funcs as itf"
   ]
  },
  {
   "cell_type": "code",
   "execution_count": 2,
   "metadata": {},
   "outputs": [
    {
     "name": "stdout",
     "output_type": "stream",
     "text": [
      "Using matplotlib backend: MacOSX\n"
     ]
    }
   ],
   "source": [
    "%matplotlib auto"
   ]
  },
  {
   "cell_type": "code",
   "execution_count": 3,
   "metadata": {},
   "outputs": [],
   "source": [
    "def generate_points(n_points_per_set):\n",
    "    \n",
    "    n_sets = len(n_points_per_set)\n",
    "\n",
    "    for i, n_points in enumerate(n_points_per_set):\n",
    "\n",
    "        y_vals = (n_sets - i) * np.ones(n_sets)\n",
    "        x_vals = np.linspace(0, 1, n_points + 1, endpoint=False)[1:]\n",
    "\n",
    "        points = np.stack([(x, y) for x, y in zip(x_vals, y_vals)])\n",
    "        \n",
    "        yield points"
   ]
  },
  {
   "cell_type": "code",
   "execution_count": 4,
   "metadata": {},
   "outputs": [],
   "source": [
    "n_points_per_set = [2, 3, 5, 2, 4, 5]\n",
    "\n",
    "point_sets = [*generate_points(n_points_per_set)]"
   ]
  },
  {
   "cell_type": "code",
   "execution_count": 5,
   "metadata": {},
   "outputs": [
    {
     "data": {
      "text/plain": [
       "(0.1274920776248453, 0.8725079223751547, 0.7048694898075463, 6.26217042652258)"
      ]
     },
     "execution_count": 5,
     "metadata": {},
     "output_type": "execute_result"
    }
   ],
   "source": [
    "for points_a, points_b in itf.pairwise(point_sets):\n",
    "    \n",
    "    points = np.vstack([points_a, points_b])\n",
    "    \n",
    "    pl.scatter2(points, c='k', s=50)\n",
    "    pl.connect_two_sets(points_a, points_b, c='k')\n",
    "\n",
    "plt.axis('off')\n"
   ]
  },
  {
   "cell_type": "code",
   "execution_count": null,
   "metadata": {},
   "outputs": [],
   "source": []
  }
 ],
 "metadata": {
  "kernelspec": {
   "display_name": "Python 3",
   "language": "python",
   "name": "python3"
  },
  "language_info": {
   "codemirror_mode": {
    "name": "ipython",
    "version": 3
   },
   "file_extension": ".py",
   "mimetype": "text/x-python",
   "name": "python",
   "nbconvert_exporter": "python",
   "pygments_lexer": "ipython3",
   "version": "3.6.6"
  }
 },
 "nbformat": 4,
 "nbformat_minor": 2
}
