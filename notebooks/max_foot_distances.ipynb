{
 "cells": [
  {
   "cell_type": "code",
   "execution_count": 9,
   "metadata": {},
   "outputs": [],
   "source": [
    "import os\n",
    "import glob\n",
    "import itertools\n",
    "\n",
    "import pandas as pd\n",
    "import numpy as np\n",
    "import matplotlib.pyplot as plt\n",
    "from scipy.spatial.distance import cdist\n",
    "\n",
    "import sys\n",
    "sys.path.append('..')\n",
    "\n",
    "import modules.images as im\n",
    "import modules.general as gen\n",
    "import modules.pose_estimation as pe\n",
    "\n",
    "lower_part_types = ['HEAD', 'HIP', 'UPPER_LEG', 'KNEE', 'LOWER_LEG', 'FOOT']"
   ]
  },
  {
   "cell_type": "code",
   "execution_count": 10,
   "metadata": {},
   "outputs": [],
   "source": [
    "load_dir = os.path.join('..', 'data', 'kinect', 'processed', 'hypothesis')\n",
    "\n",
    "\n",
    "# All files with .pkl extension\n",
    "file_paths = glob.glob(os.path.join(load_dir, '*.pkl'))\n",
    "\n",
    "file_names = [os.path.basename(x) for x in file_paths]"
   ]
  },
  {
   "cell_type": "code",
   "execution_count": 11,
   "metadata": {},
   "outputs": [],
   "source": [
    "trial_id = '2014-12-16_P005_Post_004'\n",
    "\n",
    "load_path = os.path.join(load_dir, trial_id) + '.pkl'\n",
    "\n",
    "df = pd.read_pickle(load_path)"
   ]
  },
  {
   "cell_type": "code",
   "execution_count": 12,
   "metadata": {},
   "outputs": [],
   "source": [
    "# Select frames with data\n",
    "lower_parts, part_labels = gen.strings_with_any_substrings(\n",
    "    df.columns, lower_part_types)\n",
    "\n",
    "df_lower = df[lower_parts].dropna(axis=0)\n",
    "\n",
    "population_series = df_lower.apply(\n",
    "    lambda row: pe.get_population(row, part_labels)[0], axis=1)\n",
    "\n",
    "label_series = df_lower.apply(\n",
    "    lambda row: pe.get_population(row, part_labels)[1], axis=1)"
   ]
  },
  {
   "cell_type": "code",
   "execution_count": 13,
   "metadata": {},
   "outputs": [],
   "source": [
    "foot_label = len(lower_part_types) - 1\n",
    "\n",
    "func = lambda x: x[0][label_series.loc[x.Frame] == foot_label]\n",
    "\n",
    "# All foot positions\n",
    "foot_series = population_series.reset_index().apply(func, axis=1)"
   ]
  },
  {
   "cell_type": "code",
   "execution_count": 14,
   "metadata": {},
   "outputs": [],
   "source": [
    "# Max foot-to-foot distance at each frame\n",
    "max_foot_distances = foot_series.apply(lambda x: cdist(x, x).max())"
   ]
  },
  {
   "cell_type": "code",
   "execution_count": 15,
   "metadata": {},
   "outputs": [
    {
     "name": "stdout",
     "output_type": "stream",
     "text": [
      "Using matplotlib backend: MacOSX\n"
     ]
    }
   ],
   "source": [
    "%matplotlib auto\n",
    "plt.plot(max_foot_distances)\n",
    "plt.grid()"
   ]
  },
  {
   "cell_type": "code",
   "execution_count": null,
   "metadata": {},
   "outputs": [],
   "source": []
  }
 ],
 "metadata": {
  "kernelspec": {
   "display_name": "Python 3",
   "language": "python",
   "name": "python3"
  },
  "language_info": {
   "codemirror_mode": {
    "name": "ipython",
    "version": 3
   },
   "file_extension": ".py",
   "mimetype": "text/x-python",
   "name": "python",
   "nbconvert_exporter": "python",
   "pygments_lexer": "ipython3",
   "version": "3.6.4"
  }
 },
 "nbformat": 4,
 "nbformat_minor": 2
}
