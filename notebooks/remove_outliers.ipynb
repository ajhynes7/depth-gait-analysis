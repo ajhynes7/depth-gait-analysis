{
 "cells": [
  {
   "cell_type": "code",
   "execution_count": 1,
   "metadata": {},
   "outputs": [],
   "source": [
    "import glob\n",
    "import os\n",
    "\n",
    "import matplotlib.pyplot as plt\n",
    "import numpy as np\n",
    "import pandas as pd\n",
    "from sklearn.cluster import MeanShift\n",
    "\n",
    "import sys\n",
    "sys.path.append('..')\n",
    "\n",
    "import analysis.stats as st\n",
    "import modules.gait_metrics as gm\n",
    "import modules.numpy_funcs as nf\n",
    "\n",
    "load_dir = os.path.join('..', 'data', 'kinect', 'best_pos')\n",
    "save_dir = os.path.join('..', 'data', 'results')\n",
    "\n",
    "save_name = 'kinect_gait_metrics.csv'\n",
    "\n",
    "# All files with .pkl extension\n",
    "file_paths = glob.glob(os.path.join(load_dir, '*.pkl'))\n",
    "save_path = os.path.join(save_dir, save_name)\n",
    "\n",
    "df_metrics = pd.read_csv(save_path, index_col=0)"
   ]
  },
  {
   "cell_type": "code",
   "execution_count": 2,
   "metadata": {},
   "outputs": [],
   "source": [
    "%matplotlib inline"
   ]
  },
  {
   "cell_type": "code",
   "execution_count": 3,
   "metadata": {},
   "outputs": [],
   "source": [
    "for file_path in file_paths:\n",
    "    \n",
    "    if '2014-12-08_P006_Post_003' in file_path:\n",
    "\n",
    "        df_head_feet = pd.read_pickle(file_path)"
   ]
  },
  {
   "cell_type": "code",
   "execution_count": 4,
   "metadata": {},
   "outputs": [
    {
     "data": {
      "text/plain": [
       "<matplotlib.collections.PathCollection at 0x7f219ef710b8>"
      ]
     },
     "execution_count": 4,
     "metadata": {},
     "output_type": "execute_result"
    },
    {
     "data": {
      "image/png": "[encoded data removed]",
      "text/plain": [
       "<Figure size 432x288 with 1 Axes>"
      ]
     },
     "metadata": {
      "needs_background": "light"
     },
     "output_type": "display_data"
    }
   ],
   "source": [
    "frames = df_head_feet.index\n",
    "plt.scatter(frames, [1 for _ in frames])"
   ]
  },
  {
   "cell_type": "code",
   "execution_count": 15,
   "metadata": {},
   "outputs": [],
   "source": [
    "dist_to_foot_l = (df_head_feet.HEAD - df_head_feet.L_FOOT).apply(np.linalg.norm)\n",
    "dist_to_foot_r = (df_head_feet.HEAD - df_head_feet.R_FOOT).apply(np.linalg.norm)\n",
    "dist_to_feet = pd.concat([dist_to_foot_l, dist_to_foot_r])\n",
    "\n",
    "dist_filtered = st.mad_outliers(dist_to_feet, 2)\n",
    "\n",
    "frames_stacked = np.concatenate((frames, frames))\n",
    "good_frames = np.unique(frames_stacked[~np.isnan(dist_filtered)])\n"
   ]
  },
  {
   "cell_type": "code",
   "execution_count": 16,
   "metadata": {},
   "outputs": [],
   "source": [
    "df_head_feet = df_head_feet.loc[good_frames]"
   ]
  },
  {
   "cell_type": "code",
   "execution_count": 17,
   "metadata": {},
   "outputs": [
    {
     "data": {
      "text/plain": [
       "<matplotlib.collections.PathCollection at 0x7f219ee812b0>"
      ]
     },
     "execution_count": 17,
     "metadata": {},
     "output_type": "execute_result"
    },
    {
     "data": {
      "image/png": "[encoded data removed]",
      "text/plain": [
       "<Figure size 432x288 with 1 Axes>"
      ]
     },
     "metadata": {
      "needs_background": "light"
     },
     "output_type": "display_data"
    }
   ],
   "source": [
    "frames = df_head_feet.index\n",
    "plt.scatter(frames, [1 for _ in frames])"
   ]
  },
  {
   "cell_type": "code",
   "execution_count": null,
   "metadata": {},
   "outputs": [],
   "source": []
  }
 ],
 "metadata": {
  "kernelspec": {
   "display_name": "Python [conda env:depth_gait_env]",
   "language": "python",
   "name": "conda-env-depth_gait_env-py"
  },
  "language_info": {
   "codemirror_mode": {
    "name": "ipython",
    "version": 3
   },
   "file_extension": ".py",
   "mimetype": "text/x-python",
   "name": "python",
   "nbconvert_exporter": "python",
   "pygments_lexer": "ipython3",
   "version": "3.6.6"
  }
 },
 "nbformat": 4,
 "nbformat_minor": 2
}
