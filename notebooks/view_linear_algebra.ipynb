{
 "cells": [
  {
   "cell_type": "code",
   "execution_count": 1,
   "metadata": {},
   "outputs": [],
   "source": [
    "import numpy as np\n",
    "import matplotlib.pyplot as plt\n",
    "from mpl_toolkits.mplot3d import Axes3D\n",
    "\n",
    "import sys\n",
    "sys.path.append('..')\n",
    "\n",
    "import modules.plotting as pl\n",
    "import modules.linear_algebra as lin\n",
    "\n"
   ]
  },
  {
   "cell_type": "code",
   "execution_count": 10,
   "metadata": {},
   "outputs": [
    {
     "name": "stdout",
     "output_type": "stream",
     "text": [
      "Using matplotlib backend: MacOSX\n"
     ]
    }
   ],
   "source": [
    "%matplotlib auto"
   ]
  },
  {
   "cell_type": "code",
   "execution_count": 44,
   "metadata": {},
   "outputs": [],
   "source": [
    "points = np.array([[0, 0, 0], \n",
    "                   [1, 0, 0], \n",
    "                   [5, 4, 2], \n",
    "                   [1, 1, 0],\n",
    "                   [8, 4, 3],\n",
    "                   [-1, 2, 3],\n",
    "                   [-5, -3, -5],\n",
    "                  ])\n",
    "\n"
   ]
  },
  {
   "cell_type": "code",
   "execution_count": 45,
   "metadata": {},
   "outputs": [],
   "source": [
    "fig, ax = plt.subplots()\n",
    "ax = Axes3D(fig)\n",
    "\n",
    "point, normal = lin.best_fit_plane(points)\n",
    "\n",
    "# Scatter points\n",
    "pl.scatter3(ax, points, color='k', depthshade=False)\n",
    "\n",
    "# Calculate axis limits\n",
    "x_min, x_max = ax.get_xlim3d()\n",
    "x_range = np.arange(x_min, x_max)\n",
    "y_min, y_max = ax.get_ylim3d()\n",
    "y_range = np.arange(y_min, y_max)\n",
    "\n",
    "pl.plot_plane(ax, point, normal, x_range=x_range, y_range=y_range, alpha=0.2)"
   ]
  },
  {
   "cell_type": "code",
   "execution_count": null,
   "metadata": {},
   "outputs": [],
   "source": []
  }
 ],
 "metadata": {
  "kernelspec": {
   "display_name": "Python 3",
   "language": "python",
   "name": "python3"
  },
  "language_info": {
   "codemirror_mode": {
    "name": "ipython",
    "version": 3
   },
   "file_extension": ".py",
   "mimetype": "text/x-python",
   "name": "python",
   "nbconvert_exporter": "python",
   "pygments_lexer": "ipython3",
   "version": "3.6.4"
  }
 },
 "nbformat": 4,
 "nbformat_minor": 2
}
