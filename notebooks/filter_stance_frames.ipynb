{
 "cells": [
  {
   "cell_type": "code",
   "execution_count": 1,
   "metadata": {},
   "outputs": [],
   "source": [
    "import numpy as np\n",
    "from numpy import nan\n",
    "\n",
    "import sys\n",
    "sys.path.append('..')\n",
    "\n",
    "import modules.iterable_funcs as itf\n",
    "import modules.numpy_funcs as nf\n",
    "import modules.plotting as pl"
   ]
  },
  {
   "cell_type": "code",
   "execution_count": 2,
   "metadata": {},
   "outputs": [],
   "source": [
    "is_stance = np.array([ True,  True,  True,  True,  True,  True,  True,  True,  True,\n",
    "        True, False, False, False, False, False, False,  True,  True,\n",
    "        True,  True,  True,  True,  True,  True,  True,  True,  True,\n",
    "        True,  True,  True,  True,  True,  True,  True, False, False,\n",
    "       False, False, False, False, False, False,  True,  True,  True,\n",
    "        True,  True,  True,  True,  True,  True,  True,  True,  True,\n",
    "        True,  True])\n",
    "        \n",
    "step_signal = np.array([-9.44006992e+01, -8.56001260e+01, -6.98723447e+01,             nan,\n",
    "                   nan,             nan,             nan, -1.04291182e+02,\n",
    "       -1.00593017e+02,             nan, -7.63737579e+01, -6.29513348e+01,\n",
    "       -5.62826789e+01, -4.74733371e+01, -3.86191656e+01, -1.16238870e+01,\n",
    "       -9.51404361e+00, -6.49306467e-01, -2.29632328e+00, -9.78480557e-01,\n",
    "       -1.26485605e+00,  3.97314524e+00, -2.32995938e+00, -2.16950529e+01,\n",
    "       -8.25919381e-02,  1.34101185e+00,  3.69546555e+00,  1.30207650e-01,\n",
    "        2.25231661e+00,  1.01567716e+00,  1.01703496e+00,  3.77152638e+00,\n",
    "        1.13718993e+01,  1.43211913e+01,  2.10775775e+01,  3.05733658e+01,\n",
    "        4.19956765e+01,  6.20116132e+01,  7.37750172e+01,  9.72761489e+01,\n",
    "        1.11447276e+02,  1.16472218e+02,  1.21443569e+02,  1.19297487e+02,\n",
    "        1.18583443e+02,             nan,  1.20734471e+02,  9.97384120e+01,\n",
    "        1.11958166e+02,  1.19443789e+02,  1.27069233e+02,  1.20917129e+02,\n",
    "        1.19756097e+02,  1.22018687e+02,  1.22760048e+02,  1.19591224e+02])"
   ]
  },
  {
   "cell_type": "code",
   "execution_count": 3,
   "metadata": {},
   "outputs": [],
   "source": [
    "indices = [i for i, _ in enumerate(step_signal)]\n",
    "points = np.column_stack((indices, step_signal))"
   ]
  },
  {
   "cell_type": "code",
   "execution_count": 4,
   "metadata": {},
   "outputs": [
    {
     "data": {
      "image/png": "[encoded data removed]",
      "text/plain": [
       "<matplotlib.figure.Figure at 0x1116e5dd8>"
      ]
     },
     "metadata": {},
     "output_type": "display_data"
    }
   ],
   "source": [
    "pl.scatter_labels(points, ~is_stance)"
   ]
  },
  {
   "cell_type": "code",
   "execution_count": 5,
   "metadata": {},
   "outputs": [],
   "source": [
    "bool_array = is_stance\n",
    "\n",
    "group_labels = np.fromiter(itf.label_repeated_elements(bool_array), 'int')\n",
    "real_signal = ~np.isnan(step_signal)"
   ]
  },
  {
   "cell_type": "code",
   "execution_count": 6,
   "metadata": {},
   "outputs": [],
   "source": [
    "is_stance = nf.filter_boolean_groups(is_stance & real_signal, group_labels, min_length=10)"
   ]
  },
  {
   "cell_type": "code",
   "execution_count": 7,
   "metadata": {},
   "outputs": [
    {
     "data": {
      "image/png": "[encoded data removed]",
      "text/plain": [
       "<matplotlib.figure.Figure at 0x114515080>"
      ]
     },
     "metadata": {},
     "output_type": "display_data"
    }
   ],
   "source": [
    "pl.scatter_labels(points, ~is_stance)"
   ]
  },
  {
   "cell_type": "code",
   "execution_count": null,
   "metadata": {},
   "outputs": [],
   "source": []
  }
 ],
 "metadata": {
  "kernelspec": {
   "display_name": "Python 3",
   "language": "python",
   "name": "python3"
  },
  "language_info": {
   "codemirror_mode": {
    "name": "ipython",
    "version": 3
   },
   "file_extension": ".py",
   "mimetype": "text/x-python",
   "name": "python",
   "nbconvert_exporter": "python",
   "pygments_lexer": "ipython3",
   "version": "3.6.6"
  }
 },
 "nbformat": 4,
 "nbformat_minor": 2
}
