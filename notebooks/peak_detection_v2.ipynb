{
 "cells": [
  {
   "cell_type": "code",
   "execution_count": 14,
   "metadata": {},
   "outputs": [],
   "source": [
    "import numpy as np\n",
    "import pandas as pd\n",
    "import matplotlib.pyplot as plt\n",
    "\n",
    "from scipy.signal import find_peaks_cwt\n",
    "\n",
    "import modules.signals as sig\n",
    "import modules.math_funcs as mf"
   ]
  },
  {
   "cell_type": "code",
   "execution_count": 15,
   "metadata": {},
   "outputs": [
    {
     "name": "stdout",
     "output_type": "stream",
     "text": [
      "Using matplotlib backend: MacOSX\n"
     ]
    }
   ],
   "source": [
    "%matplotlib auto"
   ]
  },
  {
   "cell_type": "code",
   "execution_count": 16,
   "metadata": {},
   "outputs": [],
   "source": [
    "values = np.array([ 0.00000000e+00, -4.15132642e-03, -4.15132642e-03,  1.05485114e-03,\n",
    "        1.05485114e-03, -1.24053128e-02, -1.33842348e-01, -2.59345003e+01,\n",
    "       -3.90243827e+01, -4.64292184e+01, -5.42886191e+01, -5.56515821e+01,\n",
    "       -5.56515821e+01, -5.15867464e+01, -3.76751928e+01, -2.17272499e+01,\n",
    "       -2.16595600e-01,  3.39344459e-01,  4.64643138e+00,  2.43325530e+01,\n",
    "        4.90869030e+01,  5.22749730e+01,  5.50186173e+01,  5.50186173e+01,\n",
    "        5.13625127e+01,  3.89935049e+01,  3.76735021e+01,  3.01887048e+01,\n",
    "       -1.10777240e-01, -1.75773209e-01, -2.98220155e+01, -4.61483999e+01,\n",
    "       -5.35661434e+01, -5.51446328e+01, -5.51446328e+01, -4.83794869e+01,\n",
    "       -4.51948089e+01, -4.36520964e+01, -2.86348474e+01, -4.45549771e+00,\n",
    "       -2.73146126e-01, -2.17023076e-01,  1.12560933e+01,  4.30547094e+01,\n",
    "        4.42644956e+01,  4.42644956e+01,  4.45588213e+01,  4.13649570e+01,\n",
    "        3.78674215e+01,  0.00000000e+00])"
   ]
  },
  {
   "cell_type": "code",
   "execution_count": 17,
   "metadata": {},
   "outputs": [],
   "source": [
    "frames = np.array([474, 476, 477, 478, 479, 480, 481, 482, 483, 484, 485, 486, 487,\n",
    "       488, 490, 491, 492, 493, 494, 495, 496, 497, 498, 499, 500, 501,\n",
    "       502, 503, 505, 506, 507, 508, 509, 510, 511, 512, 513, 514, 515,\n",
    "       516, 517, 518, 519, 520, 521, 522, 523, 524, 525, 527])"
   ]
  },
  {
   "cell_type": "code",
   "execution_count": 18,
   "metadata": {},
   "outputs": [],
   "source": [
    "signal = pd.Series(values, index=frames)\n",
    "\n",
    "signal = -signal\n",
    "\n",
    "signal_upper = signal[signal>0]"
   ]
  },
  {
   "cell_type": "code",
   "execution_count": 19,
   "metadata": {},
   "outputs": [
    {
     "data": {
      "text/plain": [
       "<matplotlib.collections.PathCollection at 0x1c0e96e828>"
      ]
     },
     "execution_count": 19,
     "metadata": {},
     "output_type": "execute_result"
    }
   ],
   "source": [
    "plt.scatter(signal.index, signal)"
   ]
  },
  {
   "cell_type": "code",
   "execution_count": null,
   "metadata": {},
   "outputs": [],
   "source": []
  },
  {
   "cell_type": "code",
   "execution_count": 20,
   "metadata": {},
   "outputs": [],
   "source": [
    "widths = np.arange(1, 10)\n",
    "peak_indices = find_peaks_cwt(signal_upper, widths)"
   ]
  },
  {
   "cell_type": "code",
   "execution_count": 21,
   "metadata": {},
   "outputs": [],
   "source": [
    "peak_frames = signal.index[peak_indices]"
   ]
  },
  {
   "cell_type": "code",
   "execution_count": 22,
   "metadata": {},
   "outputs": [
    {
     "data": {
      "text/plain": [
       "Int64Index([483, 497], dtype='int64')"
      ]
     },
     "execution_count": 22,
     "metadata": {},
     "output_type": "execute_result"
    }
   ],
   "source": [
    "peak_frames"
   ]
  },
  {
   "cell_type": "code",
   "execution_count": 24,
   "metadata": {},
   "outputs": [
    {
     "data": {
      "text/plain": [
       "<matplotlib.collections.PathCollection at 0x1c0e99d160>"
      ]
     },
     "execution_count": 24,
     "metadata": {},
     "output_type": "execute_result"
    }
   ],
   "source": [
    "plt.scatter(signal_upper.index, signal_upper)"
   ]
  },
  {
   "cell_type": "code",
   "execution_count": 25,
   "metadata": {},
   "outputs": [
    {
     "data": {
      "text/plain": [
       "array([486, 510])"
      ]
     },
     "execution_count": 25,
     "metadata": {},
     "output_type": "execute_result"
    }
   ],
   "source": [
    "norm_values = mf.normalize_array(signal_upper.values)\n",
    "\n",
    "peak_frames, _ = sig.mean_shift_peaks(signal_upper, masses=norm_values, kernel='gaussian', radius=5)\n",
    "peak_frames"
   ]
  },
  {
   "cell_type": "code",
   "execution_count": 26,
   "metadata": {},
   "outputs": [
    {
     "data": {
      "text/plain": [
       "[<matplotlib.lines.Line2D at 0x1c0e99d4e0>]"
      ]
     },
     "execution_count": 26,
     "metadata": {},
     "output_type": "execute_result"
    }
   ],
   "source": [
    "plt.plot(signal)"
   ]
  },
  {
   "cell_type": "code",
   "execution_count": null,
   "metadata": {},
   "outputs": [],
   "source": []
  }
 ],
 "metadata": {
  "kernelspec": {
   "display_name": "Python 3",
   "language": "python",
   "name": "python3"
  },
  "language_info": {
   "codemirror_mode": {
    "name": "ipython",
    "version": 3
   },
   "file_extension": ".py",
   "mimetype": "text/x-python",
   "name": "python",
   "nbconvert_exporter": "python",
   "pygments_lexer": "ipython3",
   "version": "3.6.4"
  }
 },
 "nbformat": 4,
 "nbformat_minor": 2
}
