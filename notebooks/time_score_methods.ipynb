{
 "cells": [
  {
   "cell_type": "code",
   "execution_count": 1,
   "metadata": {},
   "outputs": [],
   "source": [
    "import numpy as np"
   ]
  },
  {
   "cell_type": "code",
   "execution_count": 2,
   "metadata": {},
   "outputs": [],
   "source": [
    "score_matrix = np.array([[1, 2, 3, 4, 5],\n",
    "                      [2, 3, 5, 4, 6],\n",
    "                      [0, 0, 1, 4, 2],\n",
    "                      [0, 0, 0, 0, 1],\n",
    "                      [0, 0, 0, 0, 0]])"
   ]
  },
  {
   "cell_type": "code",
   "execution_count": 3,
   "metadata": {},
   "outputs": [],
   "source": [
    "inside_spheres = np.array([1, 1, 1, 0, 1]).reshape(-1, 1)"
   ]
  },
  {
   "cell_type": "code",
   "execution_count": 4,
   "metadata": {},
   "outputs": [],
   "source": [
    "import time\n",
    "\n",
    "t = time.time()\n",
    "\n",
    "elapsed = t - time.time()"
   ]
  },
  {
   "cell_type": "code",
   "execution_count": 5,
   "metadata": {},
   "outputs": [
    {
     "data": {
      "text/plain": [
       "0.04563474655151367"
      ]
     },
     "execution_count": 5,
     "metadata": {},
     "output_type": "execute_result"
    }
   ],
   "source": [
    "inside_spheres = np.array([1, 1, 1, 0, 1]).astype(bool)\n",
    "\n",
    "t = time.time()\n",
    "\n",
    "for i in range(1000):\n",
    "    \n",
    "    x = inside_spheres.reshape(-1, 1)\n",
    "    score_included = x @ x.T\n",
    "    score_1 = np.sum(score_matrix * score_included)\n",
    "    score_2 = np.sum(score_matrix[score_included])\n",
    "\n",
    "    temp = score_matrix[inside_spheres, :]\n",
    "    score_3 = np.sum(temp[:, inside_spheres])\n",
    "\n",
    "elapsed = time.time() - t\n",
    "\n",
    "\n",
    "# assert score_1 == score_2 == score_3\n",
    "\n",
    "elapsed"
   ]
  },
  {
   "cell_type": "code",
   "execution_count": null,
   "metadata": {},
   "outputs": [],
   "source": []
  }
 ],
 "metadata": {
  "kernelspec": {
   "display_name": "Python [conda env:depth_gait_env]",
   "language": "python",
   "name": "conda-env-depth_gait_env-py"
  },
  "language_info": {
   "codemirror_mode": {
    "name": "ipython",
    "version": 3
   },
   "file_extension": ".py",
   "mimetype": "text/x-python",
   "name": "python",
   "nbconvert_exporter": "python",
   "pygments_lexer": "ipython3",
   "version": "3.6.6"
  }
 },
 "nbformat": 4,
 "nbformat_minor": 2
}
