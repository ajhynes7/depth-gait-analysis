{
 "cells": [
  {
   "cell_type": "markdown",
   "metadata": {},
   "source": [
    "## Create figures from the code"
   ]
  },
  {
   "cell_type": "code",
   "execution_count": 1,
   "metadata": {},
   "outputs": [],
   "source": [
    "import glob\n",
    "import os\n",
    "\n",
    "import numpy as np\n",
    "import pandas as pd\n",
    "import matplotlib.pyplot as plt\n",
    "from sklearn.cluster import MeanShift\n",
    "\n",
    "import sys\n",
    "sys.path.append('..')\n",
    "\n",
    "from modules.gait_metrics import *\n",
    "import modules.numpy_funcs as nf\n",
    "import modules.plotting as pl\n"
   ]
  },
  {
   "cell_type": "code",
   "execution_count": 2,
   "metadata": {},
   "outputs": [
    {
     "name": "stdout",
     "output_type": "stream",
     "text": [
      "Using matplotlib backend: TkAgg\n"
     ]
    }
   ],
   "source": [
    "%matplotlib auto"
   ]
  },
  {
   "cell_type": "code",
   "execution_count": 3,
   "metadata": {},
   "outputs": [],
   "source": [
    "file_name = '2014-12-08_P004_Post_000'"
   ]
  },
  {
   "cell_type": "code",
   "execution_count": 11,
   "metadata": {},
   "outputs": [],
   "source": [
    "best_pos_dir = os.path.join('..', 'data', 'kinect', 'best pos')\n",
    "hypo_dir = os.path.join('..', 'data', 'kinect', 'processed', 'hypothesis')\n",
    "\n",
    "hypo_paths = glob.glob(os.path.join(hypo_dir, '*.pkl'))\n",
    "best_pos_paths = glob.glob(os.path.join(best_pos_dir, '*.pkl'))\n",
    "\n",
    "hypo_paths = [x for x in hypo_paths if file_name in x]\n",
    "best_pos_paths = [x for x in best_pos_paths if file_name in x]\n",
    "\n",
    "df_hypo = pd.read_pickle(hypo_paths[0])\n",
    "df_best_pos = pd.read_pickle(best_pos_paths[0])"
   ]
  },
  {
   "cell_type": "code",
   "execution_count": 12,
   "metadata": {},
   "outputs": [],
   "source": [
    "df_head_feet = df_best_pos"
   ]
  },
  {
   "cell_type": "code",
   "execution_count": 28,
   "metadata": {},
   "outputs": [],
   "source": [
    "# Convert all position vectors to float type\n",
    "# so they can be easily input to linear algebra functions\n",
    "df_head_feet = df_head_feet.applymap(pd.to_numeric)\n",
    "\n",
    "# Cluster frames with mean shift to locate the walking passes\n",
    "frames = df_head_feet.index\n",
    "mean_shift = MeanShift(bandwidth=60).fit(nf.to_column(frames))\n",
    "labels = mean_shift.labels_\n",
    "\n",
    "# Sort labels so that the frames are in temporal order\n",
    "labels = nf.map_sort(labels)\n",
    "\n",
    "# DataFrames for each walking pass in a trial\n",
    "pass_dfs = list(nf.group_by_label(df_head_feet, labels))"
   ]
  },
  {
   "cell_type": "code",
   "execution_count": 32,
   "metadata": {},
   "outputs": [],
   "source": [
    "plt.figure()\n",
    "\n",
    "points = np.column_stack([frames, np.ones(len(frames))])\n",
    "pl.scatter_labels(points, labels)\n",
    "\n",
    "plt.show()"
   ]
  },
  {
   "cell_type": "code",
   "execution_count": 30,
   "metadata": {},
   "outputs": [],
   "source": [
    "df_pass = pass_dfs[0]"
   ]
  },
  {
   "cell_type": "markdown",
   "metadata": {},
   "source": [
    "## Foot Distance"
   ]
  },
  {
   "cell_type": "code",
   "execution_count": 15,
   "metadata": {},
   "outputs": [],
   "source": [
    "foot_dist = (df_pass.L_FOOT - df_pass.R_FOOT).apply(norm)\n",
    "\n",
    "plt.figure()\n",
    "\n",
    "pl.scatter_series(foot_dist, c='k', s=15)\n",
    "plt.plot(foot_dist, c='k', linewidth=0.7)\n",
    "\n",
    "plt.xlabel('Frame')\n",
    "plt.ylabel('Foot Distance [cm]')\n",
    "\n",
    "plt.show()"
   ]
  },
  {
   "cell_type": "code",
   "execution_count": 16,
   "metadata": {},
   "outputs": [],
   "source": [
    "_, direction_pass = direction_of_pass(df_pass)\n",
    "\n",
    "# Assign correct sides to feet\n",
    "df_pass = asi.assign_sides_pass(df_pass, direction_pass)\n",
    "\n",
    "# Ensure there are no missing frames in the walking pass\n",
    "df_pass = pf.make_index_consecutive(df_pass)\n",
    "df_pass = df_pass.applymap(lambda x: x if isinstance(x, np.ndarray)\n",
    "                           else np.full(3, np.nan))"
   ]
  },
  {
   "cell_type": "code",
   "execution_count": 17,
   "metadata": {},
   "outputs": [],
   "source": [
    "foot_series = df_pass.R_FOOT\n",
    "frames_pass = df_pass.index.values"
   ]
  },
  {
   "cell_type": "code",
   "execution_count": 18,
   "metadata": {},
   "outputs": [],
   "source": [
    "foot_points = np.stack(foot_series)\n",
    "\n",
    "step_signal = lin.line_coordinate_system(np.zeros(3), direction_pass,\n",
    "                                         foot_points)\n",
    "\n",
    "is_stance = pde.detect_phases(step_signal)"
   ]
  },
  {
   "cell_type": "markdown",
   "metadata": {},
   "source": [
    "## Step Signal"
   ]
  },
  {
   "cell_type": "code",
   "execution_count": 20,
   "metadata": {},
   "outputs": [],
   "source": [
    "plt.figure()\n",
    "\n",
    "points = np.column_stack((frames_pass, step_signal))\n",
    "pl.scatter_labels(points, ~is_stance)\n",
    "plt.xlabel('Frame')\n",
    "plt.ylabel('Y', rotation=0)\n",
    "plt.legend(['stance', 'swing'])\n",
    "\n",
    "plt.show()"
   ]
  },
  {
   "cell_type": "code",
   "execution_count": null,
   "metadata": {},
   "outputs": [],
   "source": []
  }
 ],
 "metadata": {
  "kernelspec": {
   "display_name": "Python 3",
   "language": "python",
   "name": "python3"
  },
  "language_info": {
   "codemirror_mode": {
    "name": "ipython",
    "version": 3
   },
   "file_extension": ".py",
   "mimetype": "text/x-python",
   "name": "python",
   "nbconvert_exporter": "python",
   "pygments_lexer": "ipython3",
   "version": "3.6.6"
  }
 },
 "nbformat": 4,
 "nbformat_minor": 2
}
