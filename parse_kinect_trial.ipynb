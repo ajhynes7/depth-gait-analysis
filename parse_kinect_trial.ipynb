{
 "cells": [
  {
   "cell_type": "code",
   "execution_count": 202,
   "metadata": {},
   "outputs": [],
   "source": [
    "import pandas as pd\n",
    "import numpy as np\n",
    "\n",
    "df = pd.read_csv('../../MEGA/Data/Kinect trials/2014-12-22_P007_Pre_004.txt', skiprows=range(22),\\\n",
    "                header=None, names = [i for i in range(-2, 60)], sep='\\t', engine='python')\n",
    "\n",
    "# Change some column names\n",
    "df.rename(columns={-2: 'Frame', -1: 'Part'}, inplace=True)"
   ]
  },
  {
   "cell_type": "code",
   "execution_count": 203,
   "metadata": {},
   "outputs": [],
   "source": [
    "df_HEAD = df[df['Part'] == 'HEAD']"
   ]
  },
  {
   "cell_type": "code",
   "execution_count": 204,
   "metadata": {},
   "outputs": [],
   "source": [
    "# Replace any strings with nan in the Frame column\n",
    "df['Frame'] = df['Frame'].replace(r'[^0-9]', np.nan, regex=True)"
   ]
  },
  {
   "cell_type": "code",
   "execution_count": 205,
   "metadata": {},
   "outputs": [],
   "source": [
    "# Convert the strings in the frame column to numbers\n",
    "df['Frame'] = pd.to_numeric(df['Frame'])"
   ]
  },
  {
   "cell_type": "code",
   "execution_count": 206,
   "metadata": {},
   "outputs": [],
   "source": [
    "n_frames= max(df['Frame'])"
   ]
  },
  {
   "cell_type": "code",
   "execution_count": 207,
   "metadata": {},
   "outputs": [],
   "source": [
    "frame_624 = df[df['Frame'] == 624]"
   ]
  },
  {
   "cell_type": "code",
   "execution_count": 208,
   "metadata": {},
   "outputs": [],
   "source": [
    "x = frame_624.as_matrix()"
   ]
  },
  {
   "cell_type": "code",
   "execution_count": 209,
   "metadata": {},
   "outputs": [],
   "source": [
    "# Part names\n",
    "parts = df.groupby('Part').groups.keys()"
   ]
  },
  {
   "cell_type": "code",
   "execution_count": 210,
   "metadata": {},
   "outputs": [],
   "source": [
    "\n",
    "# Dataframe for current image frame\n",
    "frame_df = frame_624\n"
   ]
  },
  {
   "cell_type": "code",
   "execution_count": 211,
   "metadata": {},
   "outputs": [],
   "source": [
    "max_num_coords = 60\n",
    "part = 'R_HAND'\n",
    "\n",
    "def read_positions(frame_df, part, max_num_coords):\n",
    "    \n",
    "    row = frame_df[frame_df['Part'] == part]\n",
    "    row_coordinates = row.loc[:, range(max_num_coords)].as_matrix()\n",
    "\n",
    "    n_coordinates = np.sum(~np.isnan(row_coordinates))\n",
    "    n_points = int(n_coordinates / 3)\n",
    "    \n",
    "    points = np.full([n_points, 3], np.nan)\n",
    "\n",
    "    for idx, i in enumerate(range(0, n_coordinates, 3)):\n",
    "        points[idx, :] = row_coordinates[0, i:i+3]\n",
    "        \n",
    "    return points    \n",
    "        \n",
    "population_dict = {part: read_positions(frame_df, part, max_num_coords) for part in parts}"
   ]
  },
  {
   "cell_type": "code",
   "execution_count": 212,
   "metadata": {},
   "outputs": [],
   "source": [
    "part_types = ['HEAD', 'HIP', 'UPPER_LEG', 'KNEE', 'LOWER_LEG', 'FOOT']"
   ]
  },
  {
   "cell_type": "code",
   "execution_count": 213,
   "metadata": {},
   "outputs": [
    {
     "name": "stdout",
     "output_type": "stream",
     "text": [
      "[0, 0]\n",
      "[0, 0, 1, 1, 1, 1, 1, 1]\n",
      "[0, 0, 1, 1, 1, 1, 1, 1, 1, 1, 1]\n",
      "[0, 0, 1, 1, 1, 1, 1, 1, 1, 1, 1, 2, 2, 2, 2, 2, 2, 2, 2]\n",
      "[0, 0, 1, 1, 1, 1, 1, 1, 1, 1, 1, 2, 2, 2, 2, 2, 2, 2, 2, 2, 2, 2, 2, 2, 2, 2]\n",
      "[0, 0, 1, 1, 1, 1, 1, 1, 1, 1, 1, 2, 2, 2, 2, 2, 2, 2, 2, 2, 2, 2, 2, 2, 2, 2, 3, 3, 3, 3, 3, 3, 3, 3, 3, 3]\n",
      "[0, 0, 1, 1, 1, 1, 1, 1, 1, 1, 1, 2, 2, 2, 2, 2, 2, 2, 2, 2, 2, 2, 2, 2, 2, 2, 3, 3, 3, 3, 3, 3, 3, 3, 3, 3, 3, 3, 3, 3, 3, 3, 3]\n",
      "[0, 0, 1, 1, 1, 1, 1, 1, 1, 1, 1, 2, 2, 2, 2, 2, 2, 2, 2, 2, 2, 2, 2, 2, 2, 2, 3, 3, 3, 3, 3, 3, 3, 3, 3, 3, 3, 3, 3, 3, 3, 3, 3, 4, 4, 4, 4]\n",
      "[0, 0, 1, 1, 1, 1, 1, 1, 1, 1, 1, 2, 2, 2, 2, 2, 2, 2, 2, 2, 2, 2, 2, 2, 2, 2, 3, 3, 3, 3, 3, 3, 3, 3, 3, 3, 3, 3, 3, 3, 3, 3, 3, 4, 4, 4, 4, 4, 4, 4, 4]\n",
      "[0, 0, 1, 1, 1, 1, 1, 1, 1, 1, 1, 2, 2, 2, 2, 2, 2, 2, 2, 2, 2, 2, 2, 2, 2, 2, 3, 3, 3, 3, 3, 3, 3, 3, 3, 3, 3, 3, 3, 3, 3, 3, 3, 4, 4, 4, 4, 4, 4, 4, 4, 5, 5, 5]\n",
      "[0, 0, 1, 1, 1, 1, 1, 1, 1, 1, 1, 2, 2, 2, 2, 2, 2, 2, 2, 2, 2, 2, 2, 2, 2, 2, 3, 3, 3, 3, 3, 3, 3, 3, 3, 3, 3, 3, 3, 3, 3, 3, 3, 4, 4, 4, 4, 4, 4, 4, 4, 5, 5, 5, 5, 5, 5]\n"
     ]
    }
   ],
   "source": [
    "\n",
    "def get_population(population_dict, part_types):\n",
    "\n",
    "    population_list, labels = [], []\n",
    "\n",
    "    for i, part_type in enumerate(part_types):\n",
    "        for full_part_name in population_dict:\n",
    "\n",
    "            if part_type in full_part_name:\n",
    "                points = population_dict[full_part_name]\n",
    "                n_points, _ = points.shape\n",
    "\n",
    "                population_list.append(points)\n",
    "                labels.extend([i for _ in range(n_points)])\n",
    "                print(labels)\n",
    "\n",
    "    # Convert list to numpy matrix            \n",
    "    population = np.concatenate(population_list)\n",
    "\n",
    "    assert(population.shape[0] == len(labels))\n",
    "    \n",
    "    return population, labels\n",
    "\n",
    "population, labels = get_population(population_dict, part_types)"
   ]
  },
  {
   "cell_type": "code",
   "execution_count": 214,
   "metadata": {},
   "outputs": [],
   "source": [
    "from scipy.spatial.distance import cdist\n",
    "\n",
    "dist_matrix = cdist(population, population)"
   ]
  },
  {
   "cell_type": "code",
   "execution_count": 215,
   "metadata": {},
   "outputs": [],
   "source": [
    "n_nodes = len(labels)\n"
   ]
  },
  {
   "cell_type": "code",
   "execution_count": 216,
   "metadata": {},
   "outputs": [],
   "source": [
    "\n",
    "lengths = [63.9626,   19.3718,   12.8402,   22.0421,   20.5768]\n",
    "\n",
    "edges = np.matrix('0 1;  \\\n",
    "                   1 2;  \\\n",
    "                   1 3;  \\\n",
    "                   2 3;  \\\n",
    "                   3 4;  \\\n",
    "                   3 5;  \\\n",
    "                   4 5')\n"
   ]
  },
  {
   "cell_type": "code",
   "execution_count": 217,
   "metadata": {},
   "outputs": [],
   "source": [
    "\n",
    "def lengths_lookup(edges):\n",
    "\n",
    "    last_part = edges.max()\n",
    "\n",
    "    expected_lengths = {i: {} for i in range(last_part+1)}\n",
    "\n",
    "    n_rows = len(edges)\n",
    "\n",
    "    for i in range(n_rows):\n",
    "            u, v = edges[i, 0], edges[i, 1]\n",
    "\n",
    "            expected_lengths[u][v] = sum(lengths[u:v])\n",
    "    \n",
    "    return expected_lengths\n",
    "\n",
    "    \n",
    "expected_lengths = lengths_lookup(edges)"
   ]
  },
  {
   "cell_type": "code",
   "execution_count": 225,
   "metadata": {},
   "outputs": [],
   "source": [
    "def adj_list_to_matrix(G):\n",
    "    \n",
    "    n_nodes = len(G)\n",
    "    M = np.full((n_nodes, n_nodes), np.nan)\n",
    "    \n",
    "    for u in G:\n",
    "        for v in G[u]:\n",
    "            M[u, v] = G[u][v]\n",
    "        \n",
    "    return M\n",
    "\n",
    "\n",
    "def adj_matrix_to_list(M):\n",
    "    \n",
    "    n_nodes = len(M)\n",
    "    G = {i: {} for i in range(n_nodes)}\n",
    "    \n",
    "    for u in range(n_nodes):\n",
    "        for v in range(n_nodes):\n",
    "            G[u][v] = M[u, v]\n",
    "    \n",
    "    return G"
   ]
  },
  {
   "cell_type": "code",
   "execution_count": 226,
   "metadata": {},
   "outputs": [],
   "source": [
    "\n",
    "def distances_to_adj_matrix(dist_matrix, labels, expected_lengths, cost_func):\n",
    "\n",
    "    n_points = len(dist_matrix)\n",
    "    \n",
    "    M = np.full((n_nodes, n_nodes), np.nan)\n",
    "\n",
    "    for i in range(n_points):\n",
    "        label_A = labels[i]\n",
    "\n",
    "        for j in range(n_points):\n",
    "            label_B = labels[j]\n",
    "\n",
    "            if label_B in expected_lengths[label_A]:\n",
    "                expected_length = expected_lengths[label_A][label_B]\n",
    "                measured_length = dist_matrix[i, j]\n",
    "\n",
    "                M[i, j] = cost_func(expected_length, measured_length)\n",
    "           \n",
    "    return M\n",
    "            \n",
    "def norm_ratio(a, b):\n",
    "    if a <= b:\n",
    "        return a / b\n",
    "    else:\n",
    "        return b / a\n",
    "    \n",
    "cost_func = lambda a, b: (a - b)**2\n",
    "    \n",
    "M = distances_to_adj_matrix(dist_matrix, labels, expected_lengths, cost_func)\n",
    "\n",
    "ratio_matrix = distances_to_adj_matrix(dist_matrix, labels, expected_lengths, norm_ratio)"
   ]
  },
  {
   "cell_type": "code",
   "execution_count": null,
   "metadata": {},
   "outputs": [],
   "source": []
  },
  {
   "cell_type": "code",
   "execution_count": null,
   "metadata": {},
   "outputs": [],
   "source": []
  },
  {
   "cell_type": "code",
   "execution_count": null,
   "metadata": {},
   "outputs": [],
   "source": []
  }
 ],
 "metadata": {
  "kernelspec": {
   "display_name": "Python [anaconda]",
   "language": "python",
   "name": "Python [anaconda]"
  },
  "language_info": {
   "codemirror_mode": {
    "name": "ipython",
    "version": 3
   },
   "file_extension": ".py",
   "mimetype": "text/x-python",
   "name": "python",
   "nbconvert_exporter": "python",
   "pygments_lexer": "ipython3",
   "version": "3.5.4"
  }
 },
 "nbformat": 4,
 "nbformat_minor": 2
}
