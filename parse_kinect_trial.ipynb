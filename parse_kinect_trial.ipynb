{
 "cells": [
  {
   "cell_type": "code",
   "execution_count": 6,
   "metadata": {},
   "outputs": [],
   "source": [
    "import pandas as pd\n",
    "import numpy as np\n",
    "\n",
    "df = pd.read_csv('../../MEGA/Data/Kinect trials/2014-12-22_P007_Pre_004.txt', skiprows=range(22),\\\n",
    "                header=None, names = [i for i in range(-2, 60)], sep='\\t', engine='python')\n",
    "\n",
    "# Change some column names\n",
    "df.rename(columns={-2: 'Frame', -1: 'Part'}, inplace=True)"
   ]
  },
  {
   "cell_type": "code",
   "execution_count": 7,
   "metadata": {},
   "outputs": [],
   "source": [
    "df_HEAD = df[df['Part'] == 'HEAD']"
   ]
  },
  {
   "cell_type": "code",
   "execution_count": 8,
   "metadata": {},
   "outputs": [],
   "source": [
    "# Replace any strings with nan in the Frame column\n",
    "df['Frame'] = df['Frame'].replace(r'[^0-9]', np.nan, regex=True)"
   ]
  },
  {
   "cell_type": "code",
   "execution_count": 9,
   "metadata": {},
   "outputs": [],
   "source": [
    "# Convert the strings in the frame column to numbers\n",
    "df['Frame'] = pd.to_numeric(df['Frame'])"
   ]
  },
  {
   "cell_type": "code",
   "execution_count": 10,
   "metadata": {},
   "outputs": [],
   "source": [
    "n_frames= max(df['Frame'])"
   ]
  },
  {
   "cell_type": "code",
   "execution_count": 11,
   "metadata": {},
   "outputs": [],
   "source": [
    "frame_624 = df[df['Frame'] == 624]"
   ]
  },
  {
   "cell_type": "code",
   "execution_count": 12,
   "metadata": {},
   "outputs": [],
   "source": [
    "x = frame_624.as_matrix()"
   ]
  },
  {
   "cell_type": "code",
   "execution_count": 38,
   "metadata": {},
   "outputs": [],
   "source": [
    "# Part names\n",
    "parts = df.groupby('Part').groups.keys()"
   ]
  },
  {
   "cell_type": "code",
   "execution_count": 87,
   "metadata": {},
   "outputs": [],
   "source": [
    "n_parts = len(parts)\n",
    "\n",
    "# Dataframe for current image frame\n",
    "frame_df = frame_624\n"
   ]
  },
  {
   "cell_type": "code",
   "execution_count": 176,
   "metadata": {},
   "outputs": [],
   "source": [
    "max_num_coords = 60\n",
    "part = 'R_HAND'\n",
    "\n",
    "def read_positions(frame_df, part, max_num_coords):\n",
    "    \n",
    "    row = frame_df[frame_df['Part'] == part]\n",
    "    row_coordinates = row.loc[:, range(max_num_coords)].as_matrix()\n",
    "\n",
    "    n_coordinates = np.sum(~np.isnan(row_coordinates))\n",
    "    n_points = int(n_coordinates / 3)\n",
    "    \n",
    "    points = np.full([n_points, 3], np.nan)\n",
    "\n",
    "    for idx, i in enumerate(range(0, n_coordinates, 3)):\n",
    "        points[idx, :] = row_coordinates[0, i:i+3]\n",
    "        \n",
    "    return points    \n",
    "        \n",
    "population_dict = {part: read_positions(frame_df, part, max_num_coords) for part in parts}"
   ]
  },
  {
   "cell_type": "code",
   "execution_count": 190,
   "metadata": {},
   "outputs": [],
   "source": [
    "part_types = ['HEAD', 'HIP', 'UPPER_LEG', 'KNEE', 'LOWER_LEG', 'FOOT']"
   ]
  },
  {
   "cell_type": "code",
   "execution_count": 249,
   "metadata": {},
   "outputs": [],
   "source": [
    "\n",
    "def get_population(population_dict, part_types):\n",
    "\n",
    "    population_list, labels = [], []\n",
    "\n",
    "    for part_type in part_types:\n",
    "        for full_part_name in population_dict:\n",
    "\n",
    "            if part_type in full_part_name:\n",
    "                points = population_dict[full_part_name]\n",
    "                n_points, _ = points.shape\n",
    "\n",
    "                population_list.append(points)\n",
    "                labels.extend([part_type for i in range(n_points)])\n",
    "\n",
    "    # Convert list to numpy matrix            \n",
    "    population = np.concatenate(population_list)\n",
    "\n",
    "    assert(population.shape[0] == len(labels))\n",
    "    \n",
    "    return population, labels\n",
    "\n",
    "population, labels = get_population(population_dict, part_types)"
   ]
  }
 ],
 "metadata": {
  "kernelspec": {
   "display_name": "Python [anaconda]",
   "language": "python",
   "name": "Python [anaconda]"
  },
  "language_info": {
   "codemirror_mode": {
    "name": "ipython",
    "version": 3
   },
   "file_extension": ".py",
   "mimetype": "text/x-python",
   "name": "python",
   "nbconvert_exporter": "python",
   "pygments_lexer": "ipython3",
   "version": "3.5.4"
  }
 },
 "nbformat": 4,
 "nbformat_minor": 2
}
